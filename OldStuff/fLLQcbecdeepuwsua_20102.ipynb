{
 "cells": [
  {
   "cell_type": "code",
   "execution_count": 3,
   "metadata": {},
   "outputs": [],
   "source": [
    "from veering import taut_polytope\n",
    "from veering import taut\n",
    "from veering import taut_homology\n",
    "from veering import taut_carried\n",
    "from veering import fundamental_domain\n",
    "from veering import taut_polynomial\n",
    "from veering import transverse_taut\n",
    "from sage.plot.contour_plot import ContourPlot\n",
    "import time\n",
    "import itertools\n",
    "\n",
    "sig = 'fLLQcbecdeepuwsua_20102'\n",
    "tri, angle = taut.isosig_to_tri_angle(sig) # Some functions take the triangulation and the angle structure in separately"
   ]
  },
  {
   "cell_type": "markdown",
   "metadata": {},
   "source": [
    "First we want to find the corners in $H_2(M, \\partial M)$ which define the face of the Thurston norm ball specified by the given veering triangulation."
   ]
  },
  {
   "cell_type": "code",
   "execution_count": 2,
   "metadata": {},
   "outputs": [
    {
     "data": {
      "text/plain": [
       "[[0, -1/2], [-1/2, 1]]"
      ]
     },
     "execution_count": 2,
     "metadata": {},
     "output_type": "execute_result"
    }
   ],
   "source": [
    "boundaries = taut_polytope.cone_in_homology(sig) # These are rays spanning the cone of carried classes\n",
    "rays = taut_polytope.taut_rays(sig) # These are rays spanning the cone of carried surfaces\n",
    "P = taut_polytope.projection_to_homology(sig)\n",
    "\n",
    "tnorm = [0]*len(boundaries);\n",
    "for ray in rays:\n",
    "    for i in range(len(boundaries)):\n",
    "        if P*vector(ray) == boundaries[i]:\n",
    "            for j in range(len(ray)):\n",
    "                tnorm[i] = tnorm[i] + ray[j]\n",
    "    if 0 not in tnorm:\n",
    "        for k in range(len(tnorm)):\n",
    "            tnorm[k] = tnorm[k]/2\n",
    "        break\n",
    "        \n",
    "corners = []\n",
    "for i in range(len(boundaries)):\n",
    "    corners.append([0]*len(boundaries[i]))\n",
    "    \n",
    "for i in range(len(corners)):\n",
    "    for j in range(len(corners[i])):\n",
    "        corners[i][j] = boundaries[i][j]/tnorm[i]\n",
    "        \n",
    "corners"
   ]
  },
  {
   "cell_type": "code",
   "execution_count": 3,
   "metadata": {},
   "outputs": [
    {
     "data": {
      "image/png": "[encoded data removed]",
      "text/plain": [
       "Graphics object consisting of 9 graphics primitives"
      ]
     },
     "execution_count": 3,
     "metadata": {},
     "output_type": "execute_result"
    }
   ],
   "source": [
    "cone = Cone(corners) # cone is now the fibered cone in H_2(M, dM) corresponding to this veering triangulation.\n",
    "cone_plot = cone.plot(mode='box', xmin = -5, xmax = 2, ymin = -5, ymax = 5)\n",
    "cone_plot"
   ]
  },
  {
   "cell_type": "markdown",
   "metadata": {},
   "source": [
    "Next we define a function which can take in any point in the fibered cone in homology and output it's Thurston norm. Probably a better way to find the Thurston norm would be to find a class's representative in terms of branch equations and just take half the number of triangles. I just need to understand better the matrix P in the above cell; that is, how to take a class in homology and go back to the branch equations."
   ]
  },
  {
   "cell_type": "code",
   "execution_count": 4,
   "metadata": {},
   "outputs": [],
   "source": [
    "def Thurston_norm_fLLQcbecdeepuwsua_nums(point):\n",
    "    \n",
    "    if not cone.interior_contains(point):\n",
    "        raise ValueError('Your point is not in the fibered cone specified by the given veering triangulation')\n",
    "    \n",
    "    if len(point) != len(boundaries[0]):\n",
    "        raise ValueError('Your point must be of dimension', len(boundaries[0]))          \n",
    "\n",
    "    y1 = (point[1]/point[0])*x\n",
    "    y2 = ((corners[1][1]-corners[0][1])/(corners[1][0]-corners[0][0]))*(x-corners[0][0])+corners[0][1]\n",
    "        \n",
    "    sol = solve(y1 == y2, x)[0].rhs()\n",
    "    \n",
    "    return point[0]/sol"
   ]
  },
  {
   "cell_type": "code",
   "execution_count": 5,
   "metadata": {},
   "outputs": [
    {
     "data": {
      "text/plain": [
       "10"
      ]
     },
     "execution_count": 5,
     "metadata": {},
     "output_type": "execute_result"
    }
   ],
   "source": [
    "Thurston_norm_fLLQcbecdeepuwsua_nums((-2,1))"
   ]
  },
  {
   "cell_type": "markdown",
   "metadata": {},
   "source": [
    "The following cell will give the formula for the Thurston norm of a generic class. You just need to make sure that it is only intepreted in the cone."
   ]
  },
  {
   "cell_type": "code",
   "execution_count": 6,
   "metadata": {},
   "outputs": [
    {
     "data": {
      "text/plain": [
       "-6*a - 2*b"
      ]
     },
     "execution_count": 6,
     "metadata": {},
     "output_type": "execute_result"
    }
   ],
   "source": [
    "y1 = (var('b')/var('a'))*x\n",
    "y2 = ((corners[1][1]-corners[0][1])/(corners[1][0]-corners[0][0]))*(x-corners[0][0])+corners[0][1]\n",
    "\n",
    "general_tnorm = var('a')/solve(y1 == y2, x)[0].rhs()\n",
    "general_tnorm"
   ]
  },
  {
   "cell_type": "markdown",
   "metadata": {},
   "source": [
    "Now we work on calculating the number of boundary components for a given class."
   ]
  },
  {
   "cell_type": "code",
   "execution_count": 7,
   "metadata": {},
   "outputs": [
    {
     "name": "stdout",
     "output_type": "stream",
     "text": [
      "(2*b, b)\n",
      "(-2*b, -b)\n",
      "(2*b, b)\n",
      "(-2*b, -b)\n",
      "(0, 0)\n",
      "(0, 0)\n"
     ]
    }
   ],
   "source": [
    "# Don't use this.\n",
    "\n",
    "surface_b_pos = (var('b'), 0, 0, 0, 0, 0, -var('a'), 0, 0, 0)\n",
    "surface_b_neg = (0, 0, 0, 0, 0, 0, -var('a'), 0, -var('b'), 0)\n",
    "surface_b_zero = (1, 0, 0, 0, 0, 0, -var('a'), 0, 1, 0, 0)\n",
    "\n",
    "faces_in_hom = taut_homology.faces_in_homology(tri, angle, [])\n",
    "\n",
    "boundary1_b_pos = taut_carried.boundary_cycles_from_surface(tri, angle, surface_b_pos)[0]\n",
    "boundary2_b_pos = taut_carried.boundary_cycles_from_surface(tri, angle, surface_b_pos)[1]\n",
    "boundary1_b_neg = taut_carried.boundary_cycles_from_surface(tri, angle, surface_b_neg)[0]\n",
    "boundary2_b_neg = taut_carried.boundary_cycles_from_surface(tri, angle, surface_b_neg)[1]\n",
    "boundary1_b_zero = taut_carried.boundary_cycles_from_surface(tri, angle, surface_b_zero)[0]\n",
    "boundary2_b_zero = taut_carried.boundary_cycles_from_surface(tri, angle, surface_b_zero)[1]\n",
    "\n",
    "class1_b_pos = vector((0,0))\n",
    "for i in range(len(boundary1_b_pos)):\n",
    "    new = vector(boundary1_b_pos[i]*vector(faces_in_hom[i]))\n",
    "    class1_b_pos = class1_b_pos + new\n",
    "class2_b_pos = vector((0,0))\n",
    "for i in range(len(boundary2_b_pos)):\n",
    "    new = vector(boundary2_b_pos[i]*vector(faces_in_hom[i]))\n",
    "    class2_b_pos = class2_b_pos + new\n",
    "        \n",
    "class1_b_neg = vector((0,0))\n",
    "for i in range(len(boundary1_b_neg)):\n",
    "    new = vector(boundary1_b_neg[i]*vector(faces_in_hom[i]))\n",
    "    class1_b_neg = class1_b_neg + new\n",
    "class2_b_neg = vector((0,0))\n",
    "for i in range(len(boundary2_b_neg)):\n",
    "    new = vector(boundary2_b_neg[i]*vector(faces_in_hom[i]))\n",
    "    class2_b_neg = class2_b_neg + new\n",
    "        \n",
    "class1_b_zero = vector((0,0))\n",
    "for i in range(len(boundary1_b_zero)):\n",
    "    new = vector(boundary1_b_zero[i]*vector(faces_in_hom[i]))\n",
    "    class1_b_zero = class1_b_zero + new\n",
    "class2_b_zero = vector((0,0))\n",
    "for i in range(len(boundary2_b_zero)):\n",
    "    new = vector(boundary2_b_zero[i]*vector(faces_in_hom[i]))\n",
    "    class2_b_zero = class2_b_zero + new\n",
    "    \n",
    "print(class1_b_pos)\n",
    "print(class2_b_pos)\n",
    "print(class1_b_neg)\n",
    "print(class2_b_neg)\n",
    "print(class1_b_zero)\n",
    "print(class2_b_zero)"
   ]
  },
  {
   "cell_type": "markdown",
   "metadata": {},
   "source": [
    "Let's try another method for finding the boundaries."
   ]
  },
  {
   "cell_type": "code",
   "execution_count": 8,
   "metadata": {},
   "outputs": [],
   "source": [
    "surf1 = rays[0] # These are the rays corresponding to the two extreme rays of the cone.\n",
    "surf2 = rays[1]\n",
    "\n",
    "boundary11, boundary12 = taut_carried.boundary_cycles_from_surface(tri, angle, surf1) # first and second boundaries on the first surface\n",
    "boundary21, boundary22 = taut_carried.boundary_cycles_from_surface(tri, angle, surf2) # first and second boundaries on the second surface\n",
    "\n",
    "faces_in_hom = taut_homology.faces_in_homology(tri, angle, [])\n",
    "\n",
    "class11 = vector((0,0))\n",
    "for i in range(len(boundary11)):\n",
    "    new = vector(boundary11[i]*vector(faces_in_hom[i]))\n",
    "    class11 = class11 + new\n",
    "    \n",
    "class12 = vector((0,0))\n",
    "for i in range(len(boundary12)):\n",
    "    new = vector(boundary12[i]*vector(faces_in_hom[i]))\n",
    "    class12 = class12 + new\n",
    "    \n",
    "class21 = vector((0,0))\n",
    "for i in range(len(boundary21)):\n",
    "    new = vector(boundary21[i]*vector(faces_in_hom[i]))\n",
    "    class21 = class21 + new\n",
    "    \n",
    "class22 = vector((0,0))\n",
    "for i in range(len(boundary22)):\n",
    "    new = vector(boundary22[i]*vector(faces_in_hom[i]))\n",
    "    class22 = class22 + new"
   ]
  },
  {
   "cell_type": "code",
   "execution_count": 9,
   "metadata": {},
   "outputs": [
    {
     "name": "stdout",
     "output_type": "stream",
     "text": [
      "(-1, 0) (1, 0) (2, 1) (-2, -1)\n"
     ]
    }
   ],
   "source": [
    "print(class11, class12, class21, class22)"
   ]
  },
  {
   "cell_type": "code",
   "execution_count": 10,
   "metadata": {},
   "outputs": [],
   "source": [
    "# This simply calculates the boundary of a class by writing that class as a linear combination of the two extreme\n",
    "# vectors of the cone and using linearity of the boundary map.\n",
    "def boundary(point):\n",
    "    return ((-point[1]-2*point[0])*class11 - point[0]*class21, (-point[1]-2*point[0])*class12 - point[0]*class22)"
   ]
  },
  {
   "cell_type": "code",
   "execution_count": 11,
   "metadata": {},
   "outputs": [
    {
     "data": {
      "text/plain": [
       "((b, -a), (-b, a))"
      ]
     },
     "execution_count": 11,
     "metadata": {},
     "output_type": "execute_result"
    }
   ],
   "source": [
    "boundary((var('a'),var('b')))"
   ]
  },
  {
   "cell_type": "code",
   "execution_count": 12,
   "metadata": {},
   "outputs": [],
   "source": [
    "# Now we have Tnorm(a,b) = 2g + b - 2\n",
    "# so -6a-2b = 2g + gcd(b,-a) + gcd(-b,a) - 2 ==> g = -3a - b - gcd(a,b) + 1\n",
    "def genus(point):\n",
    "    return -3*point[0]-point[1]-gcd(point[0],point[1])+1"
   ]
  },
  {
   "cell_type": "markdown",
   "metadata": {},
   "source": [
    "In the case when (a,b) is primitive, then gcd(a,b)=1 so that the genus is simply -3a-b-1, so we can realize all large genuses for example on the rays (-1,-i) which has genus 2+i."
   ]
  },
  {
   "cell_type": "code",
   "execution_count": 13,
   "metadata": {},
   "outputs": [],
   "source": [
    "def boundary_slopes(point):\n",
    "    first_bound, second_bound = boundary(point)\n",
    "    return (first_bound[1]/first_bound[0], second_bound[1]/second_bound[0])"
   ]
  },
  {
   "cell_type": "code",
   "execution_count": 14,
   "metadata": {},
   "outputs": [
    {
     "data": {
      "text/plain": [
       "(1, 1)"
      ]
     },
     "execution_count": 14,
     "metadata": {},
     "output_type": "execute_result"
    }
   ],
   "source": [
    "boundary_slopes((-var('a'),var('a')))"
   ]
  },
  {
   "cell_type": "code",
   "execution_count": 15,
   "metadata": {},
   "outputs": [
    {
     "data": {
      "text/plain": [
       "a^6*b^2 - a^5*b^2 - a^4*b + a^3*b - a^2*b - a + 1"
      ]
     },
     "execution_count": 15,
     "metadata": {},
     "output_type": "execute_result"
    }
   ],
   "source": [
    "poly = taut_polynomial.taut_polynomial(tri, angle)\n",
    "poly"
   ]
  },
  {
   "cell_type": "code",
   "execution_count": 16,
   "metadata": {},
   "outputs": [],
   "source": [
    "def dila(point):\n",
    "    sols = solve(x^(6*point[0]+2*point[1])-x^(5*point[0]+2*point[1])-x^(4*point[0]+point[1])+x^(3*point[0]+point[1])-x^(2*point[0]+point[1])-x^(point[0])+1 == 0, x, to_poly_solve=True)\n",
    "    sols2 = []\n",
    "    for i in range(len(sols)):\n",
    "        sols2.append(sols[i].rhs())\n",
    "        \n",
    "    for j in range(len(sols2)):\n",
    "        sols2[j] = abs(sols2[j])\n",
    "    \n",
    "    return max(sols2)"
   ]
  },
  {
   "cell_type": "code",
   "execution_count": 17,
   "metadata": {},
   "outputs": [],
   "source": [
    "def norm_dila_log(point):\n",
    "    return Thurston_norm_fLLQcbecdeepuwsua_nums(point)*math.log(dila(point))\n",
    "\n",
    "def norm_dila_exp(point):\n",
    "    return dila(point)^Thurston_norm_fLLQcbecdeepuwsua_nums(point)"
   ]
  },
  {
   "cell_type": "code",
   "execution_count": 18,
   "metadata": {},
   "outputs": [
    {
     "name": "stdout",
     "output_type": "stream",
     "text": [
      "2.5318972768\n",
      "2.5318972768\n",
      "2.5318972768\n",
      "2.5318972768\n",
      "2.5318972768\n",
      "2.5318972768\n",
      "2.5318972768\n",
      "2.5318972768\n",
      "2.5318972768\n"
     ]
    }
   ],
   "source": [
    "# Good sign that all these are the same since they are on the same ray.\n",
    "for i in range(1,10):\n",
    "    print(round(norm_dila_log((-i,i)), 10))"
   ]
  },
  {
   "cell_type": "code",
   "execution_count": 19,
   "metadata": {},
   "outputs": [
    {
     "name": "stdout",
     "output_type": "stream",
     "text": [
      "2.8334042010314127\n",
      "2.742443589677062\n",
      "2.712158981140295\n",
      "2.6971154744404147\n",
      "2.6881468525005734\n",
      "2.682189694017363\n",
      "2.6779491104758657\n",
      "2.6747770126352473\n",
      "2.672316968254196\n"
     ]
    }
   ],
   "source": [
    "for i in range(1,10):\n",
    "    print(norm_dila_log((-i,-1)))"
   ]
  },
  {
   "cell_type": "code",
   "execution_count": 20,
   "metadata": {},
   "outputs": [
    {
     "data": {
      "image/png": "[encoded data removed]",
      "text/plain": [
       "Graphics object consisting of 10 graphics primitives"
      ]
     },
     "metadata": {},
     "output_type": "display_data"
    }
   ],
   "source": [
    "x,y = var('x,y')\n",
    "levset = implicit_plot(exp(6*x+2*y)-exp(5*x+2*y)-exp(4*x+y)+exp(3*x+y)-exp(2*x+y)-exp(x)+1 == 0, (-5,2), (-5,5), cmap=['green'])\n",
    "P = levset + cone_plot\n",
    "P.show()"
   ]
  },
  {
   "cell_type": "markdown",
   "metadata": {},
   "source": [
    "The above shows the level curve where the normalized dilatation is equal to the Thurston norm. So finding the point on this curve with the smallest Thurston norm is equivalent to finding the ray with minimal normalized dilatation. We do that with a Lagrange multipliers problem below."
   ]
  },
  {
   "cell_type": "code",
   "execution_count": 21,
   "metadata": {},
   "outputs": [
    {
     "name": "stderr",
     "output_type": "stream",
     "text": [
      "/private/var/tmp/sage-9.6-current/local/var/lib/sage/venv-python3.10.3/lib/python3.10/site-packages/scipy/optimize/cobyla.py:34: DeprecationWarning: using len on a symbolic expression is deprecated; use method number_of_operands instead\n",
      "See https://trac.sagemath.org/29738 for details.\n",
      "  return func(*args, **kwargs)\n"
     ]
    },
    {
     "data": {
      "text/plain": [
       "(-0.6329978968361154, 0.6330450539292704)"
      ]
     },
     "execution_count": 21,
     "metadata": {},
     "output_type": "execute_result"
    }
   ],
   "source": [
    "f = lambda p: -6*p[0]-2*p[1]\n",
    "c = lambda p: exp(6*p[0]+2*p[1])-exp(5*p[0]+2*p[1])-exp(4*p[0]+p[1])+exp(3*p[0]+p[1])-exp(2*p[0]+p[1])-exp(p[0])+1\n",
    "d = lambda p: -exp(6*p[0]+2*p[1])+exp(5*p[0]+2*p[1])+exp(4*p[0]+p[1])-exp(3*p[0]+p[1])+exp(2*p[0]+p[1])+exp(p[0])-1\n",
    "\n",
    "#test = minimize_constrained(f,[c,d],2*cone.rays()[0]+2*cone.rays()[1])\n",
    "test = minimize_constrained(f,[c,d],[-2,-3])\n",
    "test"
   ]
  },
  {
   "cell_type": "code",
   "execution_count": 22,
   "metadata": {},
   "outputs": [
    {
     "data": {
      "text/plain": [
       "(-0.6330053383235367, 0.6330673778788892)"
      ]
     },
     "execution_count": 22,
     "metadata": {},
     "output_type": "execute_result"
    }
   ],
   "source": [
    "x,y,L = var('x,y,L')\n",
    "f(x,y) = -6*x-2*y\n",
    "g(x,y) = exp(6*x+2*y)-exp(5*x+2*y)-exp(4*x+y)+exp(3*x+y)-exp(2*x+y)-exp(x)+1\n",
    "h(x,y) = -exp(6*x+2*y)+exp(5*x+2*y)+exp(4*x+y)-exp(3*x+y)+exp(2*x+y)+exp(x)-1\n",
    "\n",
    "test=minimize_constrained(f(x,y), [g(x,y),h(x,y)], [-2,2])\n",
    "test"
   ]
  },
  {
   "cell_type": "markdown",
   "metadata": {},
   "source": [
    "I used mathematica so solve the Lagrange multipliers problem above because sage can't do it for some reason...\n",
    "The ray minimizing the normalized dilatation is (-1,1) which has normalized dilatation 2.53... as seen below.\n",
    "Hironaka's example has 1.92... so it's not good enough."
   ]
  },
  {
   "cell_type": "code",
   "execution_count": 23,
   "metadata": {},
   "outputs": [
    {
     "data": {
      "text/plain": [
       "2.5318972768037895"
      ]
     },
     "execution_count": 23,
     "metadata": {},
     "output_type": "execute_result"
    }
   ],
   "source": [
    "norm_dila_log((-1,1))"
   ]
  },
  {
   "cell_type": "code",
   "execution_count": 24,
   "metadata": {},
   "outputs": [
    {
     "data": {
      "text/plain": [
       "N(-102188569810608, 102198585102817)\n",
       "in 2-d lattice N"
      ]
     },
     "execution_count": 24,
     "metadata": {},
     "output_type": "execute_result"
    }
   ],
   "source": [
    "Cone([(test[0],test[1])]).Hilbert_basis()"
   ]
  },
  {
   "cell_type": "code",
   "execution_count": 25,
   "metadata": {},
   "outputs": [
    {
     "ename": "TypeError",
     "evalue": "ECL says: C-STACK overflow at size 8388608. Stack can probably be resized.\nProceed with caution.",
     "output_type": "error",
     "traceback": [
      "\u001b[0;31m---------------------------------------------------------------------------\u001b[0m",
      "\u001b[0;31mRuntimeError\u001b[0m                              Traceback (most recent call last)",
      "\u001b[0;32m/private/var/tmp/sage-9.6-current/local/var/lib/sage/venv-python3.10.3/lib/python3.10/site-packages/sage/interfaces/interface.py\u001b[0m in \u001b[0;36m__init__\u001b[0;34m(self, parent, value, is_name, name)\u001b[0m\n\u001b[1;32m    731\u001b[0m             \u001b[0;32mtry\u001b[0m\u001b[0;34m:\u001b[0m\u001b[0;34m\u001b[0m\u001b[0;34m\u001b[0m\u001b[0m\n\u001b[0;32m--> 732\u001b[0;31m                 \u001b[0mself\u001b[0m\u001b[0;34m.\u001b[0m\u001b[0m_name\u001b[0m \u001b[0;34m=\u001b[0m \u001b[0mparent\u001b[0m\u001b[0;34m.\u001b[0m\u001b[0m_create\u001b[0m\u001b[0;34m(\u001b[0m\u001b[0mvalue\u001b[0m\u001b[0;34m,\u001b[0m \u001b[0mname\u001b[0m\u001b[0;34m=\u001b[0m\u001b[0mname\u001b[0m\u001b[0;34m)\u001b[0m\u001b[0;34m\u001b[0m\u001b[0;34m\u001b[0m\u001b[0m\n\u001b[0m\u001b[1;32m    733\u001b[0m             \u001b[0;32mexcept\u001b[0m \u001b[0;34m(\u001b[0m\u001b[0mTypeError\u001b[0m\u001b[0;34m,\u001b[0m \u001b[0mRuntimeError\u001b[0m\u001b[0;34m,\u001b[0m \u001b[0mValueError\u001b[0m\u001b[0;34m)\u001b[0m \u001b[0;32mas\u001b[0m \u001b[0mx\u001b[0m\u001b[0;34m:\u001b[0m\u001b[0;34m\u001b[0m\u001b[0;34m\u001b[0m\u001b[0m\n",
      "\u001b[0;32m/private/var/tmp/sage-9.6-current/local/var/lib/sage/venv-python3.10.3/lib/python3.10/site-packages/sage/interfaces/maxima_lib.py\u001b[0m in \u001b[0;36m_create\u001b[0;34m(self, value, name)\u001b[0m\n\u001b[1;32m    607\u001b[0m             \u001b[0;32melse\u001b[0m\u001b[0;34m:\u001b[0m\u001b[0;34m\u001b[0m\u001b[0;34m\u001b[0m\u001b[0m\n\u001b[0;32m--> 608\u001b[0;31m                 \u001b[0mself\u001b[0m\u001b[0;34m.\u001b[0m\u001b[0mset\u001b[0m\u001b[0;34m(\u001b[0m\u001b[0mname\u001b[0m\u001b[0;34m,\u001b[0m \u001b[0mvalue\u001b[0m\u001b[0;34m)\u001b[0m\u001b[0;34m\u001b[0m\u001b[0;34m\u001b[0m\u001b[0m\n\u001b[0m\u001b[1;32m    609\u001b[0m         \u001b[0;32mexcept\u001b[0m \u001b[0mRuntimeError\u001b[0m \u001b[0;32mas\u001b[0m \u001b[0merror\u001b[0m\u001b[0;34m:\u001b[0m\u001b[0;34m\u001b[0m\u001b[0;34m\u001b[0m\u001b[0m\n",
      "\u001b[0;32m/private/var/tmp/sage-9.6-current/local/var/lib/sage/venv-python3.10.3/lib/python3.10/site-packages/sage/interfaces/maxima_lib.py\u001b[0m in \u001b[0;36mset\u001b[0;34m(self, var, value)\u001b[0m\n\u001b[1;32m    515\u001b[0m         \u001b[0mcmd\u001b[0m \u001b[0;34m=\u001b[0m \u001b[0;34m'%s : %s$'\u001b[0m\u001b[0;34m%\u001b[0m\u001b[0;34m(\u001b[0m\u001b[0mvar\u001b[0m\u001b[0;34m,\u001b[0m \u001b[0mvalue\u001b[0m\u001b[0;34m.\u001b[0m\u001b[0mrstrip\u001b[0m\u001b[0;34m(\u001b[0m\u001b[0;34m';'\u001b[0m\u001b[0;34m)\u001b[0m\u001b[0;34m)\u001b[0m\u001b[0;34m\u001b[0m\u001b[0;34m\u001b[0m\u001b[0m\n\u001b[0;32m--> 516\u001b[0;31m         \u001b[0mself\u001b[0m\u001b[0;34m.\u001b[0m\u001b[0meval\u001b[0m\u001b[0;34m(\u001b[0m\u001b[0mcmd\u001b[0m\u001b[0;34m)\u001b[0m\u001b[0;34m\u001b[0m\u001b[0;34m\u001b[0m\u001b[0m\n\u001b[0m\u001b[1;32m    517\u001b[0m \u001b[0;34m\u001b[0m\u001b[0m\n",
      "\u001b[0;32m/private/var/tmp/sage-9.6-current/local/var/lib/sage/venv-python3.10.3/lib/python3.10/site-packages/sage/interfaces/maxima_lib.py\u001b[0m in \u001b[0;36m_eval_line\u001b[0;34m(self, line, locals, reformat, **kwds)\u001b[0m\n\u001b[1;32m    461\u001b[0m                 \u001b[0;32mif\u001b[0m \u001b[0mstatement\u001b[0m\u001b[0;34m:\u001b[0m\u001b[0;34m\u001b[0m\u001b[0;34m\u001b[0m\u001b[0m\n\u001b[0;32m--> 462\u001b[0;31m                     \u001b[0mmaxima_eval\u001b[0m\u001b[0;34m(\u001b[0m\u001b[0;34m\"#$%s$\"\u001b[0m \u001b[0;34m%\u001b[0m \u001b[0mstatement\u001b[0m\u001b[0;34m)\u001b[0m\u001b[0;34m\u001b[0m\u001b[0;34m\u001b[0m\u001b[0m\n\u001b[0m\u001b[1;32m    463\u001b[0m         \u001b[0;32mif\u001b[0m \u001b[0;32mnot\u001b[0m \u001b[0mreformat\u001b[0m\u001b[0;34m:\u001b[0m\u001b[0;34m\u001b[0m\u001b[0;34m\u001b[0m\u001b[0m\n",
      "\u001b[0;32m/private/var/tmp/sage-9.6-current/local/var/lib/sage/venv-python3.10.3/lib/python3.10/site-packages/sage/libs/ecl.pyx\u001b[0m in \u001b[0;36msage.libs.ecl.EclObject.__call__ (build/cythonized/sage/libs/ecl.c:8508)\u001b[0;34m()\u001b[0m\n\u001b[1;32m    837\u001b[0m         \u001b[0mlispargs\u001b[0m \u001b[0;34m=\u001b[0m \u001b[0mEclObject\u001b[0m\u001b[0;34m(\u001b[0m\u001b[0mlist\u001b[0m\u001b[0;34m(\u001b[0m\u001b[0margs\u001b[0m\u001b[0;34m)\u001b[0m\u001b[0;34m)\u001b[0m\u001b[0;34m\u001b[0m\u001b[0;34m\u001b[0m\u001b[0m\n\u001b[0;32m--> 838\u001b[0;31m         \u001b[0;32mreturn\u001b[0m \u001b[0mecl_wrap\u001b[0m\u001b[0;34m(\u001b[0m\u001b[0mecl_safe_apply\u001b[0m\u001b[0;34m(\u001b[0m\u001b[0mself\u001b[0m\u001b[0;34m.\u001b[0m\u001b[0mobj\u001b[0m\u001b[0;34m,\u001b[0m\u001b[0;34m(\u001b[0m\u001b[0;34m<\u001b[0m\u001b[0mEclObject\u001b[0m\u001b[0;34m>\u001b[0m\u001b[0mlispargs\u001b[0m\u001b[0;34m)\u001b[0m\u001b[0;34m.\u001b[0m\u001b[0mobj\u001b[0m\u001b[0;34m)\u001b[0m\u001b[0;34m)\u001b[0m\u001b[0;34m\u001b[0m\u001b[0;34m\u001b[0m\u001b[0m\n\u001b[0m\u001b[1;32m    839\u001b[0m \u001b[0;34m\u001b[0m\u001b[0m\n",
      "\u001b[0;32m/private/var/tmp/sage-9.6-current/local/var/lib/sage/venv-python3.10.3/lib/python3.10/site-packages/sage/libs/ecl.pyx\u001b[0m in \u001b[0;36msage.libs.ecl.ecl_safe_apply (build/cythonized/sage/libs/ecl.c:6050)\u001b[0;34m()\u001b[0m\n\u001b[1;32m    358\u001b[0m         \u001b[0;32melse\u001b[0m\u001b[0;34m:\u001b[0m\u001b[0;34m\u001b[0m\u001b[0;34m\u001b[0m\u001b[0m\n\u001b[0;32m--> 359\u001b[0;31m             \u001b[0;32mraise\u001b[0m \u001b[0mRuntimeError\u001b[0m\u001b[0;34m(\u001b[0m\u001b[0;34m\"ECL says: {}\"\u001b[0m\u001b[0;34m.\u001b[0m\u001b[0mformat\u001b[0m\u001b[0;34m(\u001b[0m\u001b[0mmessage\u001b[0m\u001b[0;34m)\u001b[0m\u001b[0;34m)\u001b[0m\u001b[0;34m\u001b[0m\u001b[0;34m\u001b[0m\u001b[0m\n\u001b[0m\u001b[1;32m    360\u001b[0m     \u001b[0;32melse\u001b[0m\u001b[0;34m:\u001b[0m\u001b[0;34m\u001b[0m\u001b[0;34m\u001b[0m\u001b[0m\n",
      "\u001b[0;31mRuntimeError\u001b[0m: ECL says: C-STACK overflow at size 8388608. Stack can probably be resized.\nProceed with caution.",
      "\nDuring handling of the above exception, another exception occurred:\n",
      "\u001b[0;31mTypeError\u001b[0m                                 Traceback (most recent call last)",
      "\u001b[0;32m/var/folders/d6/3chw8fvj2_lgppc79rk52_6w0000gn/T/ipykernel_41308/2107849025.py\u001b[0m in \u001b[0;36m<module>\u001b[0;34m\u001b[0m\n\u001b[0;32m----> 1\u001b[0;31m \u001b[0mnorm_dila_log\u001b[0m\u001b[0;34m(\u001b[0m\u001b[0;34m(\u001b[0m\u001b[0mCone\u001b[0m\u001b[0;34m(\u001b[0m\u001b[0;34m[\u001b[0m\u001b[0;34m(\u001b[0m\u001b[0mtest\u001b[0m\u001b[0;34m[\u001b[0m\u001b[0mInteger\u001b[0m\u001b[0;34m(\u001b[0m\u001b[0;36m0\u001b[0m\u001b[0;34m)\u001b[0m\u001b[0;34m]\u001b[0m\u001b[0;34m,\u001b[0m\u001b[0mtest\u001b[0m\u001b[0;34m[\u001b[0m\u001b[0mInteger\u001b[0m\u001b[0;34m(\u001b[0m\u001b[0;36m1\u001b[0m\u001b[0;34m)\u001b[0m\u001b[0;34m]\u001b[0m\u001b[0;34m)\u001b[0m\u001b[0;34m]\u001b[0m\u001b[0;34m)\u001b[0m\u001b[0;34m.\u001b[0m\u001b[0mHilbert_basis\u001b[0m\u001b[0;34m(\u001b[0m\u001b[0;34m)\u001b[0m\u001b[0;34m[\u001b[0m\u001b[0mInteger\u001b[0m\u001b[0;34m(\u001b[0m\u001b[0;36m0\u001b[0m\u001b[0;34m)\u001b[0m\u001b[0;34m]\u001b[0m\u001b[0;34m[\u001b[0m\u001b[0mInteger\u001b[0m\u001b[0;34m(\u001b[0m\u001b[0;36m0\u001b[0m\u001b[0;34m)\u001b[0m\u001b[0;34m]\u001b[0m\u001b[0;34m,\u001b[0m\u001b[0mCone\u001b[0m\u001b[0;34m(\u001b[0m\u001b[0;34m[\u001b[0m\u001b[0;34m(\u001b[0m\u001b[0mtest\u001b[0m\u001b[0;34m[\u001b[0m\u001b[0mInteger\u001b[0m\u001b[0;34m(\u001b[0m\u001b[0;36m0\u001b[0m\u001b[0;34m)\u001b[0m\u001b[0;34m]\u001b[0m\u001b[0;34m,\u001b[0m\u001b[0mtest\u001b[0m\u001b[0;34m[\u001b[0m\u001b[0mInteger\u001b[0m\u001b[0;34m(\u001b[0m\u001b[0;36m1\u001b[0m\u001b[0;34m)\u001b[0m\u001b[0;34m]\u001b[0m\u001b[0;34m)\u001b[0m\u001b[0;34m]\u001b[0m\u001b[0;34m)\u001b[0m\u001b[0;34m.\u001b[0m\u001b[0mHilbert_basis\u001b[0m\u001b[0;34m(\u001b[0m\u001b[0;34m)\u001b[0m\u001b[0;34m[\u001b[0m\u001b[0mInteger\u001b[0m\u001b[0;34m(\u001b[0m\u001b[0;36m0\u001b[0m\u001b[0;34m)\u001b[0m\u001b[0;34m]\u001b[0m\u001b[0;34m[\u001b[0m\u001b[0mInteger\u001b[0m\u001b[0;34m(\u001b[0m\u001b[0;36m1\u001b[0m\u001b[0;34m)\u001b[0m\u001b[0;34m]\u001b[0m\u001b[0;34m)\u001b[0m\u001b[0;34m)\u001b[0m\u001b[0;34m\u001b[0m\u001b[0;34m\u001b[0m\u001b[0m\n\u001b[0m",
      "\u001b[0;32m/var/folders/d6/3chw8fvj2_lgppc79rk52_6w0000gn/T/ipykernel_41308/1254996596.py\u001b[0m in \u001b[0;36mnorm_dila_log\u001b[0;34m(point)\u001b[0m\n\u001b[1;32m      1\u001b[0m \u001b[0;32mdef\u001b[0m \u001b[0mnorm_dila_log\u001b[0m\u001b[0;34m(\u001b[0m\u001b[0mpoint\u001b[0m\u001b[0;34m)\u001b[0m\u001b[0;34m:\u001b[0m\u001b[0;34m\u001b[0m\u001b[0;34m\u001b[0m\u001b[0m\n\u001b[0;32m----> 2\u001b[0;31m     \u001b[0;32mreturn\u001b[0m \u001b[0mThurston_norm_fLLQcbecdeepuwsua_nums\u001b[0m\u001b[0;34m(\u001b[0m\u001b[0mpoint\u001b[0m\u001b[0;34m)\u001b[0m\u001b[0;34m*\u001b[0m\u001b[0mmath\u001b[0m\u001b[0;34m.\u001b[0m\u001b[0mlog\u001b[0m\u001b[0;34m(\u001b[0m\u001b[0mdila\u001b[0m\u001b[0;34m(\u001b[0m\u001b[0mpoint\u001b[0m\u001b[0;34m)\u001b[0m\u001b[0;34m)\u001b[0m\u001b[0;34m\u001b[0m\u001b[0;34m\u001b[0m\u001b[0m\n\u001b[0m\u001b[1;32m      3\u001b[0m \u001b[0;34m\u001b[0m\u001b[0m\n\u001b[1;32m      4\u001b[0m \u001b[0;32mdef\u001b[0m \u001b[0mnorm_dila_exp\u001b[0m\u001b[0;34m(\u001b[0m\u001b[0mpoint\u001b[0m\u001b[0;34m)\u001b[0m\u001b[0;34m:\u001b[0m\u001b[0;34m\u001b[0m\u001b[0;34m\u001b[0m\u001b[0m\n\u001b[1;32m      5\u001b[0m     \u001b[0;32mreturn\u001b[0m \u001b[0mdila\u001b[0m\u001b[0;34m(\u001b[0m\u001b[0mpoint\u001b[0m\u001b[0;34m)\u001b[0m\u001b[0;34m**\u001b[0m\u001b[0mThurston_norm_fLLQcbecdeepuwsua_nums\u001b[0m\u001b[0;34m(\u001b[0m\u001b[0mpoint\u001b[0m\u001b[0;34m)\u001b[0m\u001b[0;34m\u001b[0m\u001b[0;34m\u001b[0m\u001b[0m\n",
      "\u001b[0;32m/var/folders/d6/3chw8fvj2_lgppc79rk52_6w0000gn/T/ipykernel_41308/1932151075.py\u001b[0m in \u001b[0;36mdila\u001b[0;34m(point)\u001b[0m\n\u001b[1;32m      1\u001b[0m \u001b[0;32mdef\u001b[0m \u001b[0mdila\u001b[0m\u001b[0;34m(\u001b[0m\u001b[0mpoint\u001b[0m\u001b[0;34m)\u001b[0m\u001b[0;34m:\u001b[0m\u001b[0;34m\u001b[0m\u001b[0;34m\u001b[0m\u001b[0m\n\u001b[0;32m----> 2\u001b[0;31m     \u001b[0msols\u001b[0m \u001b[0;34m=\u001b[0m \u001b[0msolve\u001b[0m\u001b[0;34m(\u001b[0m\u001b[0mx\u001b[0m\u001b[0;34m**\u001b[0m\u001b[0;34m(\u001b[0m\u001b[0mInteger\u001b[0m\u001b[0;34m(\u001b[0m\u001b[0;36m6\u001b[0m\u001b[0;34m)\u001b[0m\u001b[0;34m*\u001b[0m\u001b[0mpoint\u001b[0m\u001b[0;34m[\u001b[0m\u001b[0mInteger\u001b[0m\u001b[0;34m(\u001b[0m\u001b[0;36m0\u001b[0m\u001b[0;34m)\u001b[0m\u001b[0;34m]\u001b[0m\u001b[0;34m+\u001b[0m\u001b[0mInteger\u001b[0m\u001b[0;34m(\u001b[0m\u001b[0;36m2\u001b[0m\u001b[0;34m)\u001b[0m\u001b[0;34m*\u001b[0m\u001b[0mpoint\u001b[0m\u001b[0;34m[\u001b[0m\u001b[0mInteger\u001b[0m\u001b[0;34m(\u001b[0m\u001b[0;36m1\u001b[0m\u001b[0;34m)\u001b[0m\u001b[0;34m]\u001b[0m\u001b[0;34m)\u001b[0m\u001b[0;34m-\u001b[0m\u001b[0mx\u001b[0m\u001b[0;34m**\u001b[0m\u001b[0;34m(\u001b[0m\u001b[0mInteger\u001b[0m\u001b[0;34m(\u001b[0m\u001b[0;36m5\u001b[0m\u001b[0;34m)\u001b[0m\u001b[0;34m*\u001b[0m\u001b[0mpoint\u001b[0m\u001b[0;34m[\u001b[0m\u001b[0mInteger\u001b[0m\u001b[0;34m(\u001b[0m\u001b[0;36m0\u001b[0m\u001b[0;34m)\u001b[0m\u001b[0;34m]\u001b[0m\u001b[0;34m+\u001b[0m\u001b[0mInteger\u001b[0m\u001b[0;34m(\u001b[0m\u001b[0;36m2\u001b[0m\u001b[0;34m)\u001b[0m\u001b[0;34m*\u001b[0m\u001b[0mpoint\u001b[0m\u001b[0;34m[\u001b[0m\u001b[0mInteger\u001b[0m\u001b[0;34m(\u001b[0m\u001b[0;36m1\u001b[0m\u001b[0;34m)\u001b[0m\u001b[0;34m]\u001b[0m\u001b[0;34m)\u001b[0m\u001b[0;34m-\u001b[0m\u001b[0mx\u001b[0m\u001b[0;34m**\u001b[0m\u001b[0;34m(\u001b[0m\u001b[0mInteger\u001b[0m\u001b[0;34m(\u001b[0m\u001b[0;36m4\u001b[0m\u001b[0;34m)\u001b[0m\u001b[0;34m*\u001b[0m\u001b[0mpoint\u001b[0m\u001b[0;34m[\u001b[0m\u001b[0mInteger\u001b[0m\u001b[0;34m(\u001b[0m\u001b[0;36m0\u001b[0m\u001b[0;34m)\u001b[0m\u001b[0;34m]\u001b[0m\u001b[0;34m+\u001b[0m\u001b[0mpoint\u001b[0m\u001b[0;34m[\u001b[0m\u001b[0mInteger\u001b[0m\u001b[0;34m(\u001b[0m\u001b[0;36m1\u001b[0m\u001b[0;34m)\u001b[0m\u001b[0;34m]\u001b[0m\u001b[0;34m)\u001b[0m\u001b[0;34m+\u001b[0m\u001b[0mx\u001b[0m\u001b[0;34m**\u001b[0m\u001b[0;34m(\u001b[0m\u001b[0mInteger\u001b[0m\u001b[0;34m(\u001b[0m\u001b[0;36m3\u001b[0m\u001b[0;34m)\u001b[0m\u001b[0;34m*\u001b[0m\u001b[0mpoint\u001b[0m\u001b[0;34m[\u001b[0m\u001b[0mInteger\u001b[0m\u001b[0;34m(\u001b[0m\u001b[0;36m0\u001b[0m\u001b[0;34m)\u001b[0m\u001b[0;34m]\u001b[0m\u001b[0;34m+\u001b[0m\u001b[0mpoint\u001b[0m\u001b[0;34m[\u001b[0m\u001b[0mInteger\u001b[0m\u001b[0;34m(\u001b[0m\u001b[0;36m1\u001b[0m\u001b[0;34m)\u001b[0m\u001b[0;34m]\u001b[0m\u001b[0;34m)\u001b[0m\u001b[0;34m-\u001b[0m\u001b[0mx\u001b[0m\u001b[0;34m**\u001b[0m\u001b[0;34m(\u001b[0m\u001b[0mInteger\u001b[0m\u001b[0;34m(\u001b[0m\u001b[0;36m2\u001b[0m\u001b[0;34m)\u001b[0m\u001b[0;34m*\u001b[0m\u001b[0mpoint\u001b[0m\u001b[0;34m[\u001b[0m\u001b[0mInteger\u001b[0m\u001b[0;34m(\u001b[0m\u001b[0;36m0\u001b[0m\u001b[0;34m)\u001b[0m\u001b[0;34m]\u001b[0m\u001b[0;34m+\u001b[0m\u001b[0mpoint\u001b[0m\u001b[0;34m[\u001b[0m\u001b[0mInteger\u001b[0m\u001b[0;34m(\u001b[0m\u001b[0;36m1\u001b[0m\u001b[0;34m)\u001b[0m\u001b[0;34m]\u001b[0m\u001b[0;34m)\u001b[0m\u001b[0;34m-\u001b[0m\u001b[0mx\u001b[0m\u001b[0;34m**\u001b[0m\u001b[0;34m(\u001b[0m\u001b[0mpoint\u001b[0m\u001b[0;34m[\u001b[0m\u001b[0mInteger\u001b[0m\u001b[0;34m(\u001b[0m\u001b[0;36m0\u001b[0m\u001b[0;34m)\u001b[0m\u001b[0;34m]\u001b[0m\u001b[0;34m)\u001b[0m\u001b[0;34m+\u001b[0m\u001b[0mInteger\u001b[0m\u001b[0;34m(\u001b[0m\u001b[0;36m1\u001b[0m\u001b[0;34m)\u001b[0m \u001b[0;34m==\u001b[0m \u001b[0mInteger\u001b[0m\u001b[0;34m(\u001b[0m\u001b[0;36m0\u001b[0m\u001b[0;34m)\u001b[0m\u001b[0;34m,\u001b[0m \u001b[0mx\u001b[0m\u001b[0;34m,\u001b[0m \u001b[0mto_poly_solve\u001b[0m\u001b[0;34m=\u001b[0m\u001b[0;32mTrue\u001b[0m\u001b[0;34m)\u001b[0m\u001b[0;34m\u001b[0m\u001b[0;34m\u001b[0m\u001b[0m\n\u001b[0m\u001b[1;32m      3\u001b[0m     \u001b[0msols2\u001b[0m \u001b[0;34m=\u001b[0m \u001b[0;34m[\u001b[0m\u001b[0;34m]\u001b[0m\u001b[0;34m\u001b[0m\u001b[0;34m\u001b[0m\u001b[0m\n\u001b[1;32m      4\u001b[0m     \u001b[0;32mfor\u001b[0m \u001b[0mi\u001b[0m \u001b[0;32min\u001b[0m \u001b[0mrange\u001b[0m\u001b[0;34m(\u001b[0m\u001b[0mlen\u001b[0m\u001b[0;34m(\u001b[0m\u001b[0msols\u001b[0m\u001b[0;34m)\u001b[0m\u001b[0;34m)\u001b[0m\u001b[0;34m:\u001b[0m\u001b[0;34m\u001b[0m\u001b[0;34m\u001b[0m\u001b[0m\n\u001b[1;32m      5\u001b[0m         \u001b[0msols2\u001b[0m\u001b[0;34m.\u001b[0m\u001b[0mappend\u001b[0m\u001b[0;34m(\u001b[0m\u001b[0msols\u001b[0m\u001b[0;34m[\u001b[0m\u001b[0mi\u001b[0m\u001b[0;34m]\u001b[0m\u001b[0;34m.\u001b[0m\u001b[0mrhs\u001b[0m\u001b[0;34m(\u001b[0m\u001b[0;34m)\u001b[0m\u001b[0;34m)\u001b[0m\u001b[0;34m\u001b[0m\u001b[0;34m\u001b[0m\u001b[0m\n",
      "\u001b[0;32m/private/var/tmp/sage-9.6-current/local/var/lib/sage/venv-python3.10.3/lib/python3.10/site-packages/sage/symbolic/relation.py\u001b[0m in \u001b[0;36msolve\u001b[0;34m(f, *args, **kwds)\u001b[0m\n\u001b[1;32m   1067\u001b[0m \u001b[0;34m\u001b[0m\u001b[0m\n\u001b[1;32m   1068\u001b[0m     \u001b[0;32mif\u001b[0m \u001b[0misinstance\u001b[0m\u001b[0;34m(\u001b[0m\u001b[0mf\u001b[0m\u001b[0;34m,\u001b[0m \u001b[0mExpression\u001b[0m\u001b[0;34m)\u001b[0m\u001b[0;34m:\u001b[0m \u001b[0;31m# f is a single expression\u001b[0m\u001b[0;34m\u001b[0m\u001b[0;34m\u001b[0m\u001b[0m\n\u001b[0;32m-> 1069\u001b[0;31m         \u001b[0;32mreturn\u001b[0m \u001b[0m_solve_expression\u001b[0m\u001b[0;34m(\u001b[0m\u001b[0mf\u001b[0m\u001b[0;34m,\u001b[0m \u001b[0mx\u001b[0m\u001b[0;34m,\u001b[0m \u001b[0mexplicit_solutions\u001b[0m\u001b[0;34m,\u001b[0m \u001b[0mmultiplicities\u001b[0m\u001b[0;34m,\u001b[0m \u001b[0mto_poly_solve\u001b[0m\u001b[0;34m,\u001b[0m \u001b[0msolution_dict\u001b[0m\u001b[0;34m,\u001b[0m \u001b[0malgorithm\u001b[0m\u001b[0;34m,\u001b[0m \u001b[0mdomain\u001b[0m\u001b[0;34m)\u001b[0m\u001b[0;34m\u001b[0m\u001b[0;34m\u001b[0m\u001b[0m\n\u001b[0m\u001b[1;32m   1070\u001b[0m \u001b[0;34m\u001b[0m\u001b[0m\n\u001b[1;32m   1071\u001b[0m     \u001b[0;32mif\u001b[0m \u001b[0;32mnot\u001b[0m \u001b[0misinstance\u001b[0m\u001b[0;34m(\u001b[0m\u001b[0mf\u001b[0m\u001b[0;34m,\u001b[0m \u001b[0;34m(\u001b[0m\u001b[0mlist\u001b[0m\u001b[0;34m,\u001b[0m \u001b[0mtuple\u001b[0m\u001b[0;34m)\u001b[0m\u001b[0;34m)\u001b[0m\u001b[0;34m:\u001b[0m\u001b[0;34m\u001b[0m\u001b[0;34m\u001b[0m\u001b[0m\n",
      "\u001b[0;32m/private/var/tmp/sage-9.6-current/local/var/lib/sage/venv-python3.10.3/lib/python3.10/site-packages/sage/symbolic/relation.py\u001b[0m in \u001b[0;36m_solve_expression\u001b[0;34m(f, x, explicit_solutions, multiplicities, to_poly_solve, solution_dict, algorithm, domain)\u001b[0m\n\u001b[1;32m   1332\u001b[0m     \u001b[0;32mtry\u001b[0m\u001b[0;34m:\u001b[0m\u001b[0;34m\u001b[0m\u001b[0;34m\u001b[0m\u001b[0m\n\u001b[1;32m   1333\u001b[0m         \u001b[0;32mif\u001b[0m \u001b[0mto_poly_solve\u001b[0m \u001b[0;34m!=\u001b[0m \u001b[0;34m'force'\u001b[0m\u001b[0;34m:\u001b[0m\u001b[0;34m\u001b[0m\u001b[0;34m\u001b[0m\u001b[0m\n\u001b[0;32m-> 1334\u001b[0;31m             \u001b[0ms\u001b[0m \u001b[0;34m=\u001b[0m \u001b[0mm\u001b[0m\u001b[0;34m.\u001b[0m\u001b[0msolve\u001b[0m\u001b[0;34m(\u001b[0m\u001b[0mx\u001b[0m\u001b[0;34m)\u001b[0m\u001b[0;34m.\u001b[0m\u001b[0mstr\u001b[0m\u001b[0;34m(\u001b[0m\u001b[0;34m)\u001b[0m\u001b[0;34m\u001b[0m\u001b[0;34m\u001b[0m\u001b[0m\n\u001b[0m\u001b[1;32m   1335\u001b[0m         \u001b[0;32melse\u001b[0m\u001b[0;34m:\u001b[0m \u001b[0;31m# omit Maxima's solve command\u001b[0m\u001b[0;34m\u001b[0m\u001b[0;34m\u001b[0m\u001b[0m\n\u001b[1;32m   1336\u001b[0m             \u001b[0ms\u001b[0m \u001b[0;34m=\u001b[0m \u001b[0mstr\u001b[0m\u001b[0;34m(\u001b[0m\u001b[0;34m[\u001b[0m\u001b[0;34m]\u001b[0m\u001b[0;34m)\u001b[0m\u001b[0;34m\u001b[0m\u001b[0;34m\u001b[0m\u001b[0m\n",
      "\u001b[0;32m/private/var/tmp/sage-9.6-current/local/var/lib/sage/venv-python3.10.3/lib/python3.10/site-packages/sage/interfaces/interface.py\u001b[0m in \u001b[0;36m__call__\u001b[0;34m(self, *args, **kwds)\u001b[0m\n\u001b[1;32m    691\u001b[0m \u001b[0;34m\u001b[0m\u001b[0m\n\u001b[1;32m    692\u001b[0m     \u001b[0;32mdef\u001b[0m \u001b[0m__call__\u001b[0m\u001b[0;34m(\u001b[0m\u001b[0mself\u001b[0m\u001b[0;34m,\u001b[0m \u001b[0;34m*\u001b[0m\u001b[0margs\u001b[0m\u001b[0;34m,\u001b[0m \u001b[0;34m**\u001b[0m\u001b[0mkwds\u001b[0m\u001b[0;34m)\u001b[0m\u001b[0;34m:\u001b[0m\u001b[0;34m\u001b[0m\u001b[0;34m\u001b[0m\u001b[0m\n\u001b[0;32m--> 693\u001b[0;31m         \u001b[0;32mreturn\u001b[0m \u001b[0mself\u001b[0m\u001b[0;34m.\u001b[0m\u001b[0m_obj\u001b[0m\u001b[0;34m.\u001b[0m\u001b[0mparent\u001b[0m\u001b[0;34m(\u001b[0m\u001b[0;34m)\u001b[0m\u001b[0;34m.\u001b[0m\u001b[0mfunction_call\u001b[0m\u001b[0;34m(\u001b[0m\u001b[0mself\u001b[0m\u001b[0;34m.\u001b[0m\u001b[0m_name\u001b[0m\u001b[0;34m,\u001b[0m \u001b[0;34m[\u001b[0m\u001b[0mself\u001b[0m\u001b[0;34m.\u001b[0m\u001b[0m_obj\u001b[0m\u001b[0;34m]\u001b[0m \u001b[0;34m+\u001b[0m \u001b[0mlist\u001b[0m\u001b[0;34m(\u001b[0m\u001b[0margs\u001b[0m\u001b[0;34m)\u001b[0m\u001b[0;34m,\u001b[0m \u001b[0mkwds\u001b[0m\u001b[0;34m)\u001b[0m\u001b[0;34m\u001b[0m\u001b[0;34m\u001b[0m\u001b[0m\n\u001b[0m\u001b[1;32m    694\u001b[0m \u001b[0;34m\u001b[0m\u001b[0m\n\u001b[1;32m    695\u001b[0m     \u001b[0;32mdef\u001b[0m \u001b[0mhelp\u001b[0m\u001b[0;34m(\u001b[0m\u001b[0mself\u001b[0m\u001b[0;34m)\u001b[0m\u001b[0;34m:\u001b[0m\u001b[0;34m\u001b[0m\u001b[0;34m\u001b[0m\u001b[0m\n",
      "\u001b[0;32m/private/var/tmp/sage-9.6-current/local/var/lib/sage/venv-python3.10.3/lib/python3.10/site-packages/sage/interfaces/interface.py\u001b[0m in \u001b[0;36mfunction_call\u001b[0;34m(self, function, args, kwds)\u001b[0m\n\u001b[1;32m    611\u001b[0m                                        \u001b[0;34m[\u001b[0m\u001b[0ms\u001b[0m\u001b[0;34m.\u001b[0m\u001b[0mname\u001b[0m\u001b[0;34m(\u001b[0m\u001b[0;34m)\u001b[0m \u001b[0;32mfor\u001b[0m \u001b[0ms\u001b[0m \u001b[0;32min\u001b[0m \u001b[0margs\u001b[0m\u001b[0;34m]\u001b[0m\u001b[0;34m,\u001b[0m\u001b[0;34m\u001b[0m\u001b[0;34m\u001b[0m\u001b[0m\n\u001b[1;32m    612\u001b[0m                                        ['%s=%s'%(key,value.name()) for key, value in kwds.items()])\n\u001b[0;32m--> 613\u001b[0;31m         \u001b[0;32mreturn\u001b[0m \u001b[0mself\u001b[0m\u001b[0;34m.\u001b[0m\u001b[0mnew\u001b[0m\u001b[0;34m(\u001b[0m\u001b[0ms\u001b[0m\u001b[0;34m)\u001b[0m\u001b[0;34m\u001b[0m\u001b[0;34m\u001b[0m\u001b[0m\n\u001b[0m\u001b[1;32m    614\u001b[0m \u001b[0;34m\u001b[0m\u001b[0m\n\u001b[1;32m    615\u001b[0m     \u001b[0;32mdef\u001b[0m \u001b[0m_function_call_string\u001b[0m\u001b[0;34m(\u001b[0m\u001b[0mself\u001b[0m\u001b[0;34m,\u001b[0m \u001b[0mfunction\u001b[0m\u001b[0;34m,\u001b[0m \u001b[0margs\u001b[0m\u001b[0;34m,\u001b[0m \u001b[0mkwds\u001b[0m\u001b[0;34m)\u001b[0m\u001b[0;34m:\u001b[0m\u001b[0;34m\u001b[0m\u001b[0;34m\u001b[0m\u001b[0m\n",
      "\u001b[0;32m/private/var/tmp/sage-9.6-current/local/var/lib/sage/venv-python3.10.3/lib/python3.10/site-packages/sage/interfaces/interface.py\u001b[0m in \u001b[0;36mnew\u001b[0;34m(self, code)\u001b[0m\n\u001b[1;32m    380\u001b[0m \u001b[0;34m\u001b[0m\u001b[0m\n\u001b[1;32m    381\u001b[0m     \u001b[0;32mdef\u001b[0m \u001b[0mnew\u001b[0m\u001b[0;34m(\u001b[0m\u001b[0mself\u001b[0m\u001b[0;34m,\u001b[0m \u001b[0mcode\u001b[0m\u001b[0;34m)\u001b[0m\u001b[0;34m:\u001b[0m\u001b[0;34m\u001b[0m\u001b[0;34m\u001b[0m\u001b[0m\n\u001b[0;32m--> 382\u001b[0;31m         \u001b[0;32mreturn\u001b[0m \u001b[0mself\u001b[0m\u001b[0;34m(\u001b[0m\u001b[0mcode\u001b[0m\u001b[0;34m)\u001b[0m\u001b[0;34m\u001b[0m\u001b[0;34m\u001b[0m\u001b[0m\n\u001b[0m\u001b[1;32m    383\u001b[0m \u001b[0;34m\u001b[0m\u001b[0m\n\u001b[1;32m    384\u001b[0m     \u001b[0;31m###################################################################\u001b[0m\u001b[0;34m\u001b[0m\u001b[0;34m\u001b[0m\u001b[0m\n",
      "\u001b[0;32m/private/var/tmp/sage-9.6-current/local/var/lib/sage/venv-python3.10.3/lib/python3.10/site-packages/sage/interfaces/interface.py\u001b[0m in \u001b[0;36m__call__\u001b[0;34m(self, x, name)\u001b[0m\n\u001b[1;32m    293\u001b[0m \u001b[0;34m\u001b[0m\u001b[0m\n\u001b[1;32m    294\u001b[0m         \u001b[0;32mif\u001b[0m \u001b[0misinstance\u001b[0m\u001b[0;34m(\u001b[0m\u001b[0mx\u001b[0m\u001b[0;34m,\u001b[0m \u001b[0mstr\u001b[0m\u001b[0;34m)\u001b[0m\u001b[0;34m:\u001b[0m\u001b[0;34m\u001b[0m\u001b[0;34m\u001b[0m\u001b[0m\n\u001b[0;32m--> 295\u001b[0;31m             \u001b[0;32mreturn\u001b[0m \u001b[0mcls\u001b[0m\u001b[0;34m(\u001b[0m\u001b[0mself\u001b[0m\u001b[0;34m,\u001b[0m \u001b[0mx\u001b[0m\u001b[0;34m,\u001b[0m \u001b[0mname\u001b[0m\u001b[0;34m=\u001b[0m\u001b[0mname\u001b[0m\u001b[0;34m)\u001b[0m\u001b[0;34m\u001b[0m\u001b[0;34m\u001b[0m\u001b[0m\n\u001b[0m\u001b[1;32m    296\u001b[0m         \u001b[0;32mtry\u001b[0m\u001b[0;34m:\u001b[0m\u001b[0;34m\u001b[0m\u001b[0;34m\u001b[0m\u001b[0m\n\u001b[1;32m    297\u001b[0m             \u001b[0;31m# Special methods do not and should not have an option to\u001b[0m\u001b[0;34m\u001b[0m\u001b[0;34m\u001b[0m\u001b[0m\n",
      "\u001b[0;32m/private/var/tmp/sage-9.6-current/local/var/lib/sage/venv-python3.10.3/lib/python3.10/site-packages/sage/interfaces/interface.py\u001b[0m in \u001b[0;36m__init__\u001b[0;34m(self, parent, value, is_name, name)\u001b[0m\n\u001b[1;32m    732\u001b[0m                 \u001b[0mself\u001b[0m\u001b[0;34m.\u001b[0m\u001b[0m_name\u001b[0m \u001b[0;34m=\u001b[0m \u001b[0mparent\u001b[0m\u001b[0;34m.\u001b[0m\u001b[0m_create\u001b[0m\u001b[0;34m(\u001b[0m\u001b[0mvalue\u001b[0m\u001b[0;34m,\u001b[0m \u001b[0mname\u001b[0m\u001b[0;34m=\u001b[0m\u001b[0mname\u001b[0m\u001b[0;34m)\u001b[0m\u001b[0;34m\u001b[0m\u001b[0;34m\u001b[0m\u001b[0m\n\u001b[1;32m    733\u001b[0m             \u001b[0;32mexcept\u001b[0m \u001b[0;34m(\u001b[0m\u001b[0mTypeError\u001b[0m\u001b[0;34m,\u001b[0m \u001b[0mRuntimeError\u001b[0m\u001b[0;34m,\u001b[0m \u001b[0mValueError\u001b[0m\u001b[0;34m)\u001b[0m \u001b[0;32mas\u001b[0m \u001b[0mx\u001b[0m\u001b[0;34m:\u001b[0m\u001b[0;34m\u001b[0m\u001b[0;34m\u001b[0m\u001b[0m\n\u001b[0;32m--> 734\u001b[0;31m                 \u001b[0;32mraise\u001b[0m \u001b[0mTypeError\u001b[0m\u001b[0;34m(\u001b[0m\u001b[0mx\u001b[0m\u001b[0;34m)\u001b[0m\u001b[0;34m\u001b[0m\u001b[0;34m\u001b[0m\u001b[0m\n\u001b[0m\u001b[1;32m    735\u001b[0m \u001b[0;34m\u001b[0m\u001b[0m\n\u001b[1;32m    736\u001b[0m     \u001b[0;32mdef\u001b[0m \u001b[0m_latex_\u001b[0m\u001b[0;34m(\u001b[0m\u001b[0mself\u001b[0m\u001b[0;34m)\u001b[0m\u001b[0;34m:\u001b[0m\u001b[0;34m\u001b[0m\u001b[0;34m\u001b[0m\u001b[0m\n",
      "\u001b[0;31mTypeError\u001b[0m: ECL says: C-STACK overflow at size 8388608. Stack can probably be resized.\nProceed with caution."
     ]
    }
   ],
   "source": [
    "norm_dila_log((Cone([(test[0],test[1])]).Hilbert_basis()[0][0],Cone([(test[0],test[1])]).Hilbert_basis()[0][1]))"
   ]
  },
  {
   "cell_type": "code",
   "execution_count": 26,
   "metadata": {},
   "outputs": [
    {
     "name": "stdout",
     "output_type": "stream",
     "text": [
      "-0.0003151893615722656\n"
     ]
    }
   ],
   "source": [
    "start = time.time()\n",
    "rat = Rational(test[1]/test[0])\n",
    "\n",
    "end = time.time()\n",
    "print(start-end)"
   ]
  },
  {
   "cell_type": "markdown",
   "metadata": {},
   "source": [
    "So the minimal normalized dilatation isn't quite small enough, but it would still be interesting to see if we can find examples of all large genus converging to the minimizer in this case. Can find all odds based on the below. Not sure about evens, might have to look harder."
   ]
  },
  {
   "cell_type": "markdown",
   "metadata": {},
   "source": [
    "Let's try to understand the basis for first homology which is used here. The theory is outlined in Section 4.2 of Anna Parlak's paper and here we will see how it is implemented.\n",
    "\n",
    "First, let's just look at the details for this triangulation so we can see how the edges and faces are numbered and how they are glued:"
   ]
  },
  {
   "cell_type": "code",
   "execution_count": 27,
   "metadata": {},
   "outputs": [
    {
     "name": "stdout",
     "output_type": "stream",
     "text": [
      "Size of the skeleton:\n",
      "  Tetrahedra: 5\n",
      "  Triangles: 10\n",
      "  Edges: 5\n",
      "  Vertices: 2\n",
      "\n",
      "Tetrahedron gluing:\n",
      "  Tet  |  glued to:      (012)      (013)      (023)      (123)\n",
      "  -----+-------------------------------------------------------\n",
      "    0  |               3 (102)    1 (201)    2 (203)    1 (023)\n",
      "    1  |               0 (130)    4 (132)    0 (123)    4 (023)\n",
      "    2  |               2 (130)    2 (201)    0 (203)    3 (132)\n",
      "    3  |               0 (102)    4 (103)    4 (102)    2 (132)\n",
      "    4  |               3 (203)    3 (103)    1 (123)    1 (031)\n",
      "\n",
      "Vertices:\n",
      "  Tet  |  vertex:    0   1   2   3\n",
      "  -----+--------------------------\n",
      "    0  |             0   1   0   0\n",
      "    1  |             1   0   0   0\n",
      "    2  |             0   0   0   0\n",
      "    3  |             1   0   0   0\n",
      "    4  |             0   1   0   0\n",
      "\n",
      "Edges:\n",
      "  Tet  |  edge:   01  02  03  12  13  23\n",
      "  -----+--------------------------------\n",
      "    0  |           0   1   2   0   3   4\n",
      "    1  |           3   0   3   2   4   4\n",
      "    2  |           1   1   4   4   1   2\n",
      "    3  |           0   0   3   1   4   2\n",
      "    4  |           0   2   4   3   3   4\n",
      "\n",
      "Triangles:\n",
      "  Tet  |  face:  012 013 023 123\n",
      "  -----+------------------------\n",
      "    0  |           0   1   2   3\n",
      "    1  |           1   4   3   5\n",
      "    2  |           6   6   2   7\n",
      "    3  |           0   8   9   7\n",
      "    4  |           9   8   5   4\n",
      "\n",
      "\n"
     ]
    }
   ],
   "source": [
    "print(tri.detail())"
   ]
  },
  {
   "cell_type": "markdown",
   "metadata": {},
   "source": [
    "Now using this information, we can construct the dual graph. The labeling of the vertices in the dual graph corresponds to the labeling of the tetrahedra in the triangulation; the labeling of the edges in the dual graph corresponds to the labeling of the faces in the triangulation; and the orientation of the edges in the dual graph is induced by the \"upwards\" coorientation on the faces in the triangulation.\n",
    "\n",
    "![title](DualGraph.jpeg)"
   ]
  },
  {
   "cell_type": "markdown",
   "metadata": {},
   "source": [
    "In the above we highlighted in purple the spanning tree which can be seen with the following command (the first list contains the tree faces, the second contains the non-tree faces, and the third is not relevant):"
   ]
  },
  {
   "cell_type": "code",
   "execution_count": 28,
   "metadata": {},
   "outputs": [
    {
     "data": {
      "text/plain": [
       "([0, 5, 7, 8], [1, 2, 3, 4, 6, 9], [0, 3, 2, 1, 2])"
      ]
     },
     "execution_count": 28,
     "metadata": {},
     "output_type": "execute_result"
    }
   ],
   "source": [
    "fundamental_domain.spanning_dual_tree(tri)"
   ]
  },
  {
   "cell_type": "markdown",
   "metadata": {},
   "source": [
    "Also from the details of the triangulation, we should be able to construct the branch equations matrix (this is a little confusing and I need to think more about how to do it by hand, by the computer can do it for us allegedly). See Eq. $3.2$ in Parlak. (I'm also not sure why, but it seems to show up as the transpose of the dimensions I would expect...)"
   ]
  },
  {
   "cell_type": "code",
   "execution_count": 29,
   "metadata": {},
   "outputs": [
    {
     "data": {
      "text/plain": [
       "[ 0  1  0  1  0  0  0  0 -1 -1]\n",
       "[ 1  0  1  0  0  0 -2  1  0  0]\n",
       "[ 0  1 -1  0  0  1  0 -1  0  1]\n",
       "[ 0  1  0  1  0  0  0  0 -1 -1]\n",
       "[ 0  0  1  1 -1 -2  1  1  1  0]"
      ]
     },
     "execution_count": 29,
     "metadata": {},
     "output_type": "execute_result"
    }
   ],
   "source": [
    "Matrix(taut_homology.edge_equation_matrix_taut(tri, angle))"
   ]
  },
  {
   "cell_type": "markdown",
   "metadata": {},
   "source": [
    "And we can nix the columns (shouldn't it be rows?) that correspond to tree faces:"
   ]
  },
  {
   "cell_type": "code",
   "execution_count": 30,
   "metadata": {},
   "outputs": [
    {
     "data": {
      "text/plain": [
       "[ 1  0  1  0  0 -1]\n",
       "[ 0  1  0  0 -2  0]\n",
       "[ 1 -1  0  0  0  1]\n",
       "[ 1  0  1  0  0 -1]\n",
       "[ 0  1  1 -1  1  0]"
      ]
     },
     "execution_count": 30,
     "metadata": {},
     "output_type": "execute_result"
    }
   ],
   "source": [
    "Matrix(taut_homology.edge_equation_matrix_taut_reduced(tri, angle, []))"
   ]
  },
  {
   "cell_type": "markdown",
   "metadata": {},
   "source": [
    "As in Parlak, we put the above matrix into Smith Normal Form:"
   ]
  },
  {
   "cell_type": "code",
   "execution_count": 31,
   "metadata": {},
   "outputs": [
    {
     "data": {
      "text/plain": [
       "(\n",
       "[1 0 0 0 0]  [ 0  0  0  1  0  0]                  \n",
       "[0 1 0 0 0]  [ 0  1  0  0  0  0]  [ 0  0  0  0  1]\n",
       "[0 0 1 0 0]  [ 0  0  1  0  0  0]  [ 0  1 -1  1  0]\n",
       "[0 0 0 1 0]  [ 0  0  2  2  0  1]  [-1  0 -1  1  0]\n",
       "[0 0 0 0 0]  [ 0 -2 -2 -5 -1 -2]  [ 1  0  1  0 -1]\n",
       "[0 0 0 0 0], [ 1  0 -2 -2  0 -1], [-1  0  0  0  0]\n",
       ")"
      ]
     },
     "execution_count": 31,
     "metadata": {},
     "output_type": "execute_result"
    }
   ],
   "source": [
    "S, U, V = taut_homology.faces_in_smith(tri, angle, [])\n",
    "S, U, V"
   ]
  },
  {
   "cell_type": "markdown",
   "metadata": {},
   "source": [
    "The matrix $U$ above transforms the standard basis $\\{e_i\\}_{i=1}^6$ of $\\mathbb{Z}^{F_\\mathcal{Y}}$ to a new basis:"
   ]
  },
  {
   "cell_type": "code",
   "execution_count": 32,
   "metadata": {},
   "outputs": [
    {
     "name": "stdout",
     "output_type": "stream",
     "text": [
      "(0, 0, 0, 0, 0, 1)\n",
      "(0, 1, 0, 0, -2, 0)\n",
      "(0, 0, 1, 2, -2, -2)\n",
      "(1, 0, 0, 2, -5, -2)\n",
      "(0, 0, 0, 0, -1, 0)\n",
      "(0, 0, 0, 1, -2, -1)\n"
     ]
    }
   ],
   "source": [
    "print(Matrix(U)*vector((1,0,0,0,0,0)))\n",
    "print(Matrix(U)*vector((0,1,0,0,0,0)))\n",
    "print(Matrix(U)*vector((0,0,1,0,0,0)))\n",
    "print(Matrix(U)*vector((0,0,0,1,0,0)))\n",
    "print(Matrix(U)*vector((0,0,0,0,1,0)))\n",
    "print(Matrix(U)*vector((0,0,0,0,0,1)))"
   ]
  },
  {
   "cell_type": "markdown",
   "metadata": {},
   "source": [
    "As $\\text{rank}(H_1(M, \\mathbb{Z})) = 2$, the last two entries of each vector above give a generating set for $H_1(M;\\mathbb{Z})$. That is, $\\{(0,1), (-2,0), (-2,-2), (-5,-2), (-1,0), (-2,-1)\\}$ generate the first homology. This is exactly what we get if we do the following (including $(0,0)$ entries for the tree faces):"
   ]
  },
  {
   "cell_type": "code",
   "execution_count": 33,
   "metadata": {},
   "outputs": [
    {
     "data": {
      "text/plain": [
       "[(0, 0),\n",
       " (0, 1),\n",
       " (-2, 0),\n",
       " (-2, -2),\n",
       " (-5, -2),\n",
       " (0, 0),\n",
       " (-1, 0),\n",
       " (0, 0),\n",
       " (0, 0),\n",
       " (-2, -1)]"
      ]
     },
     "execution_count": 33,
     "metadata": {},
     "output_type": "execute_result"
    }
   ],
   "source": [
    "taut_homology.faces_in_homology(tri, angle, [])"
   ]
  },
  {
   "cell_type": "markdown",
   "metadata": {},
   "source": [
    "In terms of loops in the manifold: the following outputs a list of cycles in the dual graph (again labeled by dual graph edges which correspond to labelings of triangulation faces) where the $i^\\text{th}$ entry of the list is the unique cycle in the dual graph formed by including the $i^\\text{th}$ non-tree face into the spanning tree of the dual graph."
   ]
  },
  {
   "cell_type": "code",
   "execution_count": 34,
   "metadata": {},
   "outputs": [
    {
     "data": {
      "text/plain": [
       "[[1, 5, 8, 0], [2, 7, 0], [3, 5, 8, 0], [4, 5], [6], [9, 8]]"
      ]
     },
     "execution_count": 34,
     "metadata": {},
     "output_type": "execute_result"
    }
   ],
   "source": [
    "fundamental_domain.non_tree_face_loops(tri)"
   ]
  },
  {
   "cell_type": "markdown",
   "metadata": {},
   "source": [
    "The above loops generate $\\pi_1(M)$ and hence their images in homology generate $H_1(M; \\mathbb{Z})$. The elements above show exactly the image of these loops in homology. In particular, if we want a basis (not just a generating set), we can obtain that by looking at the last two columns of the matrix $U$ which are $(0,0,0,0,-1,0)$ and $(0,0,0,1,-2,-1)$.\n",
    "\n",
    "This says that as a basis for $H_1(M; \\mathbb{Z})$, we are choosing for the first element, the negative of the cycle corresponding to the $5$th non-tree face and for the second element, the fourth non-tree face minus 2 times the fifth minus the sixth.\n",
    "\n",
    "Looking at these elements in homology, we see (just doing the addition by hand) that we get that basis $-(-1,0) = (1,0)$ and $(-5,-2) - 2(-1,0) - (-2,-1) = (-1,-1)$ and $\\{(1,0), (-1,-1)\\}$ is a basis for $\\mathbb{Z}^2$.\n",
    "\n",
    "Of course we can look at the previous code block to interpret these elements as loops in the manifold."
   ]
  },
  {
   "cell_type": "markdown",
   "metadata": {},
   "source": [
    "Now given a surface (specified as solutions to the branch equations), we can find the loops in the dual graph (specified in terms of which edges they go through and how many times) which are homotopic to the boundary components of the surface.\n",
    "\n",
    "The first list gives the loop(s) in the dual graph homotopic to the boundary component(s) of the surface which lie on the first boundary torus of $M$ and the second list gives the loop(s) in the dual graph homotopic to the boundary component(s) of the surface which lie on the second boundary torus of $M$."
   ]
  },
  {
   "cell_type": "code",
   "execution_count": 55,
   "metadata": {},
   "outputs": [
    {
     "data": {
      "text/plain": [
       "[[1, 1, 0, 0, -1, 0, 0, 0, 2, 3], [-1, -1, 0, 0, 1, 0, 0, 0, -2, -3]]"
      ]
     },
     "execution_count": 55,
     "metadata": {},
     "output_type": "execute_result"
    }
   ],
   "source": [
    "taut_carried.boundary_cycles_from_surface(tri, angle, taut_polytope.taut_rays(sig)[0])"
   ]
  },
  {
   "cell_type": "code",
   "execution_count": 84,
   "metadata": {},
   "outputs": [],
   "source": [
    "def add_inverse_edges(graph):\n",
    "    for edge in graph.edges():\n",
    "        if not graph.has_edge(edge[1], edge[0]) and edge[0] != edge[1]:\n",
    "            graph.add_edge(edge[1], edge[0], label = ['-' + str(edge[2][0])])\n",
    "        elif graph.has_edge(edge[1], edge[0]) and edge[0] != edge[1]:\n",
    "            for i in graph.edge_iterator([edge[1]]):\n",
    "                if (i[0],i[1]) == (edge[1], edge[0]):\n",
    "                    graph.set_edge_label(edge[1], edge[0], [i[2][0], '-' + str(edge[2][0])])"
   ]
  },
  {
   "cell_type": "code",
   "execution_count": 356,
   "metadata": {},
   "outputs": [
    {
     "data": {
      "text/plain": [
       "[(0, 1, [3, '-1']), (0, 2, ['-2']), (0, 3, [0]), (1, 0, [1, '-3']), (1, 4, [4, '-5']), (2, 0, [2]), (2, 2, [6]), (2, 3, ['-7']), (3, 0, ['-0']), (3, 2, [7]), (3, 4, [9, '-8']), (4, 1, [5, '-4']), (4, 3, [8, '-9'])]"
      ]
     },
     "execution_count": 356,
     "metadata": {},
     "output_type": "execute_result"
    }
   ],
   "source": [
    "add_inverse_edges(dualGraph)\n",
    "dualGraph.edges()"
   ]
  },
  {
   "cell_type": "code",
   "execution_count": 358,
   "metadata": {},
   "outputs": [
    {
     "data": {
      "text/plain": [
       "[[2, 2],\n",
       " [0, 1, 0],\n",
       " [0, 2, 0],\n",
       " [0, 3, 0],\n",
       " [1, 4, 1],\n",
       " [2, 3, 2],\n",
       " [3, 4, 3],\n",
       " [0, 2, 3, 0],\n",
       " [0, 3, 2, 0],\n",
       " [0, 1, 4, 3, 0],\n",
       " [0, 3, 4, 1, 0],\n",
       " [0, 1, 4, 3, 2, 0],\n",
       " [0, 2, 3, 4, 1, 0]]"
      ]
     },
     "execution_count": 358,
     "metadata": {},
     "output_type": "execute_result"
    }
   ],
   "source": [
    "dualGraph.all_simple_cycles()"
   ]
  },
  {
   "cell_type": "code",
   "execution_count": 95,
   "metadata": {},
   "outputs": [],
   "source": [
    "def get_all_simple_cycles_by_edge_labels(graph):\n",
    "    cycles_by_vertex = graph.all_simple_cycles()\n",
    "    edges = graph.edges(labels = False)\n",
    "    all_cycles = []\n",
    "    for cycle in cycles_by_vertex:\n",
    "        face_labeled_cycle = []\n",
    "        #if len(cycle > 2):\n",
    "        for i in range(len(cycle)-1):\n",
    "            edge_index = list(edges).index((cycle[i], cycle[i+1]))\n",
    "            face_labeled_cycle.append(graph.edges()[edge_index][2])\n",
    "        all_cycles.append(face_labeled_cycle)\n",
    "        #else:\n",
    "        #    edge_index = list(edges).index\n",
    "        #    all_cycles.append()\n",
    "        \n",
    "    return all_cycles"
   ]
  },
  {
   "cell_type": "code",
   "execution_count": 100,
   "metadata": {},
   "outputs": [
    {
     "ename": "NameError",
     "evalue": "name 'dualGraph' is not defined",
     "output_type": "error",
     "traceback": [
      "\u001b[0;31m---------------------------------------------------------------------------\u001b[0m",
      "\u001b[0;31mNameError\u001b[0m                                 Traceback (most recent call last)",
      "\u001b[0;32m/var/folders/d6/3chw8fvj2_lgppc79rk52_6w0000gn/T/ipykernel_69261/199782817.py\u001b[0m in \u001b[0;36m<module>\u001b[0;34m\u001b[0m\n\u001b[0;32m----> 1\u001b[0;31m \u001b[0mget_all_simple_cycles_by_edge_labels\u001b[0m\u001b[0;34m(\u001b[0m\u001b[0mdualGraph\u001b[0m\u001b[0;34m)\u001b[0m\u001b[0;34m\u001b[0m\u001b[0;34m\u001b[0m\u001b[0m\n\u001b[0m",
      "\u001b[0;31mNameError\u001b[0m: name 'dualGraph' is not defined"
     ]
    }
   ],
   "source": [
    "get_all_simple_cycles_by_edge_labels(dualGraph)"
   ]
  },
  {
   "cell_type": "code",
   "execution_count": 96,
   "metadata": {},
   "outputs": [],
   "source": [
    "def get_all_undirected_simple_cycles_by_edge_labels(graph):\n",
    "    graph = add_inverse_edges(graph)\n",
    "    new = []\n",
    "    prelim_cycles = get_all_simple_cycles_by_edge_labels(graph)\n",
    "    for i in range(len(prelim_cycles)):\n",
    "        current = list(itertools.product(*all_simple_cycles_by_edge_labels(graph)[i]))\n",
    "        for item in current:\n",
    "            new.append(item)\n",
    "            \n",
    "    return new"
   ]
  },
  {
   "cell_type": "code",
   "execution_count": 99,
   "metadata": {},
   "outputs": [
    {
     "ename": "AttributeError",
     "evalue": "'NoneType' object has no attribute 'all_simple_cycles'",
     "output_type": "error",
     "traceback": [
      "\u001b[0;31m---------------------------------------------------------------------------\u001b[0m",
      "\u001b[0;31mAttributeError\u001b[0m                            Traceback (most recent call last)",
      "\u001b[0;32m/var/folders/d6/3chw8fvj2_lgppc79rk52_6w0000gn/T/ipykernel_69261/3776918185.py\u001b[0m in \u001b[0;36m<module>\u001b[0;34m\u001b[0m\n\u001b[1;32m      1\u001b[0m \u001b[0mG\u001b[0m \u001b[0;34m=\u001b[0m \u001b[0mget_directed_dual_graph\u001b[0m\u001b[0;34m(\u001b[0m\u001b[0msig\u001b[0m\u001b[0;34m)\u001b[0m\u001b[0;34m\u001b[0m\u001b[0;34m\u001b[0m\u001b[0m\n\u001b[1;32m      2\u001b[0m \u001b[0madd_inverse_edges\u001b[0m\u001b[0;34m(\u001b[0m\u001b[0mG\u001b[0m\u001b[0;34m)\u001b[0m\u001b[0;34m\u001b[0m\u001b[0;34m\u001b[0m\u001b[0m\n\u001b[0;32m----> 3\u001b[0;31m \u001b[0mget_all_undirected_simple_cycles_by_edge_labels\u001b[0m\u001b[0;34m(\u001b[0m\u001b[0mG\u001b[0m\u001b[0;34m)\u001b[0m\u001b[0;34m\u001b[0m\u001b[0;34m\u001b[0m\u001b[0m\n\u001b[0m",
      "\u001b[0;32m/var/folders/d6/3chw8fvj2_lgppc79rk52_6w0000gn/T/ipykernel_69261/3097423378.py\u001b[0m in \u001b[0;36mget_all_undirected_simple_cycles_by_edge_labels\u001b[0;34m(graph)\u001b[0m\n\u001b[1;32m      2\u001b[0m     \u001b[0mgraph\u001b[0m \u001b[0;34m=\u001b[0m \u001b[0madd_inverse_edges\u001b[0m\u001b[0;34m(\u001b[0m\u001b[0mgraph\u001b[0m\u001b[0;34m)\u001b[0m\u001b[0;34m\u001b[0m\u001b[0;34m\u001b[0m\u001b[0m\n\u001b[1;32m      3\u001b[0m     \u001b[0mnew\u001b[0m \u001b[0;34m=\u001b[0m \u001b[0;34m[\u001b[0m\u001b[0;34m]\u001b[0m\u001b[0;34m\u001b[0m\u001b[0;34m\u001b[0m\u001b[0m\n\u001b[0;32m----> 4\u001b[0;31m     \u001b[0mprelim_cycles\u001b[0m \u001b[0;34m=\u001b[0m \u001b[0mget_all_simple_cycles_by_edge_labels\u001b[0m\u001b[0;34m(\u001b[0m\u001b[0mgraph\u001b[0m\u001b[0;34m)\u001b[0m\u001b[0;34m\u001b[0m\u001b[0;34m\u001b[0m\u001b[0m\n\u001b[0m\u001b[1;32m      5\u001b[0m     \u001b[0;32mfor\u001b[0m \u001b[0mi\u001b[0m \u001b[0;32min\u001b[0m \u001b[0mrange\u001b[0m\u001b[0;34m(\u001b[0m\u001b[0mlen\u001b[0m\u001b[0;34m(\u001b[0m\u001b[0mprelim_cycles\u001b[0m\u001b[0;34m)\u001b[0m\u001b[0;34m)\u001b[0m\u001b[0;34m:\u001b[0m\u001b[0;34m\u001b[0m\u001b[0;34m\u001b[0m\u001b[0m\n\u001b[1;32m      6\u001b[0m         \u001b[0mcurrent\u001b[0m \u001b[0;34m=\u001b[0m \u001b[0mlist\u001b[0m\u001b[0;34m(\u001b[0m\u001b[0mitertools\u001b[0m\u001b[0;34m.\u001b[0m\u001b[0mproduct\u001b[0m\u001b[0;34m(\u001b[0m\u001b[0;34m*\u001b[0m\u001b[0mall_simple_cycles_by_edge_labels\u001b[0m\u001b[0;34m(\u001b[0m\u001b[0mgraph\u001b[0m\u001b[0;34m)\u001b[0m\u001b[0;34m[\u001b[0m\u001b[0mi\u001b[0m\u001b[0;34m]\u001b[0m\u001b[0;34m)\u001b[0m\u001b[0;34m)\u001b[0m\u001b[0;34m\u001b[0m\u001b[0;34m\u001b[0m\u001b[0m\n",
      "\u001b[0;32m/var/folders/d6/3chw8fvj2_lgppc79rk52_6w0000gn/T/ipykernel_69261/750019717.py\u001b[0m in \u001b[0;36mget_all_simple_cycles_by_edge_labels\u001b[0;34m(graph)\u001b[0m\n\u001b[1;32m      1\u001b[0m \u001b[0;32mdef\u001b[0m \u001b[0mget_all_simple_cycles_by_edge_labels\u001b[0m\u001b[0;34m(\u001b[0m\u001b[0mgraph\u001b[0m\u001b[0;34m)\u001b[0m\u001b[0;34m:\u001b[0m\u001b[0;34m\u001b[0m\u001b[0;34m\u001b[0m\u001b[0m\n\u001b[0;32m----> 2\u001b[0;31m     \u001b[0mcycles_by_vertex\u001b[0m \u001b[0;34m=\u001b[0m \u001b[0mgraph\u001b[0m\u001b[0;34m.\u001b[0m\u001b[0mall_simple_cycles\u001b[0m\u001b[0;34m(\u001b[0m\u001b[0;34m)\u001b[0m\u001b[0;34m\u001b[0m\u001b[0;34m\u001b[0m\u001b[0m\n\u001b[0m\u001b[1;32m      3\u001b[0m     \u001b[0medges\u001b[0m \u001b[0;34m=\u001b[0m \u001b[0mgraph\u001b[0m\u001b[0;34m.\u001b[0m\u001b[0medges\u001b[0m\u001b[0;34m(\u001b[0m\u001b[0mlabels\u001b[0m \u001b[0;34m=\u001b[0m \u001b[0;32mFalse\u001b[0m\u001b[0;34m)\u001b[0m\u001b[0;34m\u001b[0m\u001b[0;34m\u001b[0m\u001b[0m\n\u001b[1;32m      4\u001b[0m     \u001b[0mall_cycles\u001b[0m \u001b[0;34m=\u001b[0m \u001b[0;34m[\u001b[0m\u001b[0;34m]\u001b[0m\u001b[0;34m\u001b[0m\u001b[0;34m\u001b[0m\u001b[0m\n\u001b[1;32m      5\u001b[0m     \u001b[0;32mfor\u001b[0m \u001b[0mcycle\u001b[0m \u001b[0;32min\u001b[0m \u001b[0mcycles_by_vertex\u001b[0m\u001b[0;34m:\u001b[0m\u001b[0;34m\u001b[0m\u001b[0;34m\u001b[0m\u001b[0m\n",
      "\u001b[0;31mAttributeError\u001b[0m: 'NoneType' object has no attribute 'all_simple_cycles'"
     ]
    }
   ],
   "source": [
    "G = get_directed_dual_graph(sig)\n",
    "add_inverse_edges(G)\n",
    "get_all_undirected_simple_cycles_by_edge_labels(G)"
   ]
  },
  {
   "cell_type": "code",
   "execution_count": 362,
   "metadata": {},
   "outputs": [
    {
     "data": {
      "text/plain": [
       "[(6,),\n",
       " (3, 1),\n",
       " (3, '-3'),\n",
       " ('-1', 1),\n",
       " ('-1', '-3'),\n",
       " ('-2', 2),\n",
       " (0, '-0'),\n",
       " (4, 5),\n",
       " (4, '-4'),\n",
       " ('-5', 5),\n",
       " ('-5', '-4'),\n",
       " ('-7', 7),\n",
       " (9, 8),\n",
       " (9, '-9'),\n",
       " ('-8', 8),\n",
       " ('-8', '-9'),\n",
       " ('-2', '-7', '-0'),\n",
       " (0, 7, 2),\n",
       " (3, 4, 8, '-0'),\n",
       " (3, 4, '-9', '-0'),\n",
       " (3, '-5', 8, '-0'),\n",
       " (3, '-5', '-9', '-0'),\n",
       " ('-1', 4, 8, '-0'),\n",
       " ('-1', 4, '-9', '-0'),\n",
       " ('-1', '-5', 8, '-0'),\n",
       " ('-1', '-5', '-9', '-0'),\n",
       " (0, 9, 5, 1),\n",
       " (0, 9, 5, '-3'),\n",
       " (0, 9, '-4', 1),\n",
       " (0, 9, '-4', '-3'),\n",
       " (0, '-8', 5, 1),\n",
       " (0, '-8', 5, '-3'),\n",
       " (0, '-8', '-4', 1),\n",
       " (0, '-8', '-4', '-3'),\n",
       " (3, 4, 8, 7, 2),\n",
       " (3, 4, '-9', 7, 2),\n",
       " (3, '-5', 8, 7, 2),\n",
       " (3, '-5', '-9', 7, 2),\n",
       " ('-1', 4, 8, 7, 2),\n",
       " ('-1', 4, '-9', 7, 2),\n",
       " ('-1', '-5', 8, 7, 2),\n",
       " ('-1', '-5', '-9', 7, 2),\n",
       " ('-2', '-7', 9, 5, 1),\n",
       " ('-2', '-7', 9, 5, '-3'),\n",
       " ('-2', '-7', 9, '-4', 1),\n",
       " ('-2', '-7', 9, '-4', '-3'),\n",
       " ('-2', '-7', '-8', 5, 1),\n",
       " ('-2', '-7', '-8', 5, '-3'),\n",
       " ('-2', '-7', '-8', '-4', 1),\n",
       " ('-2', '-7', '-8', '-4', '-3')]"
      ]
     },
     "execution_count": 362,
     "metadata": {},
     "output_type": "execute_result"
    }
   ],
   "source": [
    "new = []\n",
    "prelim_cycles = all_simple_cycles_by_edge_labels(dualGraph)\n",
    "for i in range(len(prelim_cycles)):\n",
    "    current = list(itertools.product(*all_simple_cycles_by_edge_labels(dualGraph)[i]))\n",
    "    for item in current:\n",
    "        new.append(item)\n",
    "            \n",
    "new"
   ]
  },
  {
   "cell_type": "code",
   "execution_count": 157,
   "metadata": {},
   "outputs": [],
   "source": [
    "def get_edge_in_dual_graph_from_face_label(label):\n",
    "    for edge in dualGraph.edges():\n",
    "        if edge[2] == label:\n",
    "            return edge"
   ]
  },
  {
   "cell_type": "code",
   "execution_count": 63,
   "metadata": {},
   "outputs": [],
   "source": [
    "def get_directed_dual_graph(sig):\n",
    "    tri, angle = taut.isosig_to_tri_angle(sig)\n",
    "    G = DiGraph(loops = True, multiedges = True)\n",
    "    top_bottom = transverse_taut.top_bottom_embeddings_of_faces(tri, angle)\n",
    "    for face in tri.triangles():\n",
    "        if face.embedding(0) in top_bottom[1]:\n",
    "            G.add_edge(int(str(face.embedding(1))[0]), int(str(face.embedding(0))[0]), [face.index()])\n",
    "        else:\n",
    "            G.add_edge(int(str(face.embedding(0))[0]), int(str(face.embedding(1))[0]), [face.index()])\n",
    "    return G"
   ]
  },
  {
   "cell_type": "code",
   "execution_count": 69,
   "metadata": {},
   "outputs": [
    {
     "data": {
      "image/png": "[encoded data removed]",
      "text/plain": [
       "Looped multi-digraph on 5 vertices"
      ]
     },
     "execution_count": 69,
     "metadata": {},
     "output_type": "execute_result"
    }
   ],
   "source": [
    "G = get_directed_dual_graph(sig)\n",
    "G"
   ]
  },
  {
   "cell_type": "code",
   "execution_count": 70,
   "metadata": {},
   "outputs": [
    {
     "data": {
      "text/plain": [
       "[(0, 1, [3]), (0, 3, [0]), (1, 0, [1]), (1, 4, [4]), (2, 0, [2]), (2, 2, [6]), (3, 2, [7]), (3, 4, [9]), (4, 1, [5]), (4, 3, [8])]"
      ]
     },
     "execution_count": 70,
     "metadata": {},
     "output_type": "execute_result"
    }
   ],
   "source": [
    "G.edges()"
   ]
  },
  {
   "cell_type": "code",
   "execution_count": 4,
   "metadata": {},
   "outputs": [],
   "source": [
    "P = taut_polytope.projection_to_homology(sig)"
   ]
  },
  {
   "cell_type": "code",
   "execution_count": 5,
   "metadata": {},
   "outputs": [
    {
     "data": {
      "text/plain": [
       "[ 0  0  0  0  0  0 -1  0  0  0]\n",
       "[ 1  1  0  0  0  1  0  0 -1  0]"
      ]
     },
     "execution_count": 5,
     "metadata": {},
     "output_type": "execute_result"
    }
   ],
   "source": [
    "P"
   ]
  },
  {
   "cell_type": "code",
   "execution_count": null,
   "metadata": {},
   "outputs": [],
   "source": []
  }
 ],
 "metadata": {
  "kernelspec": {
   "display_name": "SageMath 9.6",
   "language": "sage",
   "name": "sagemath-9.6"
  },
  "language_info": {
   "codemirror_mode": {
    "name": "ipython",
    "version": 3
   },
   "file_extension": ".py",
   "mimetype": "text/x-python",
   "name": "python",
   "nbconvert_exporter": "python",
   "pygments_lexer": "ipython3",
   "version": "3.10.3"
  }
 },
 "nbformat": 4,
 "nbformat_minor": 5
}
