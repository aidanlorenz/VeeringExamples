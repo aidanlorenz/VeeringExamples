{
 "cells": [
  {
   "cell_type": "code",
   "execution_count": 3,
   "metadata": {},
   "outputs": [],
   "source": [
    "from veering import taut_polytope\n",
    "from veering import taut\n",
    "from veering import taut_homology\n",
    "from veering import taut_carried\n",
    "from veering import fundamental_domain\n",
    "from veering import taut_polynomial\n",
    "from veering import transverse_taut\n",
    "from sage.plot.contour_plot import ContourPlot\n",
    "from itertools import combinations\n",
    "from itertools import permutations\n",
    "from veering import carried_surface\n",
    "import time\n",
    "\n",
    "m = mathematica\n",
    "\n",
    "# This version organizes everything into standalone functions, so nothing needs to be defined at the top."
   ]
  },
  {
   "cell_type": "markdown",
   "metadata": {},
   "source": [
    "The following functions work generally (not just for 2D examples) - I think."
   ]
  },
  {
   "cell_type": "code",
   "execution_count": 2,
   "metadata": {},
   "outputs": [],
   "source": [
    "def get_extreme_surfs(sig):\n",
    "    # This function gets the branch equation form of the surfaces which span the fibered cone.\n",
    "    \n",
    "    extreme_rays = taut_polytope.cone_in_homology(sig) # rays (in homology) spanning the fibered cone.\n",
    "    rays = taut_polytope.taut_rays(sig) # These are rays spanning the cone of carried surfaces (not sure exactly what these are tbh...)\n",
    "    P = taut_polytope.projection_to_homology(sig) # This is the matrix to multiply by to get branched surface tuple to a second homology class.\n",
    "    extreme_surfs = []\n",
    "    for ray in rays: # this for loop stores the surfaces (in terms of their branch equations) that define the boundary of the cone\n",
    "        if P*ray in extreme_rays:\n",
    "            temp = 0\n",
    "            for surf in extreme_surfs:\n",
    "                if P*surf != P*ray:\n",
    "                    temp = temp + 1\n",
    "            if temp == len(extreme_surfs):\n",
    "                extreme_surfs.append(ray)\n",
    "            \n",
    "    if [tuple(extreme_rays[0]), tuple(extreme_rays[1])] != [tuple(P*extreme_surfs[0]), tuple(P*extreme_surfs[1])]:\n",
    "        extreme_surfs.reverse()\n",
    "            \n",
    "    return extreme_surfs"
   ]
  },
  {
   "cell_type": "code",
   "execution_count": 3,
   "metadata": {},
   "outputs": [],
   "source": [
    "def get_corners_of_fibered_face(sig):\n",
    "    # This function gets the corners of the fibered face determined by the given veering triangulation.\n",
    "    \n",
    "    extreme_rays = taut_polytope.cone_in_homology(sig) # These are rays spanning the cone of carried classes\n",
    "    extreme_surfs = get_extreme_surfs(sig)\n",
    "    sums = [] # we add up the number of triangles in the boundary surfaces\n",
    "    for surf in extreme_surfs:\n",
    "        count = 0\n",
    "        for i in range(len(surf)):\n",
    "            count = count + surf[i]\n",
    "        sums.append(count)\n",
    "\n",
    "    tnorms = [term/2 for term in sums] # their Thurston norms are half the number of boundary components\n",
    "        \n",
    "    corners = []\n",
    "    for i in range(len(extreme_rays)):\n",
    "        corners.append([0]*len(extreme_rays[i]))\n",
    "    \n",
    "    for i in range(len(corners)): # the corners of the fibered face are the boundaries divided by the Thurston norm.\n",
    "        for j in range(len(corners[i])):\n",
    "            corners[i][j] = extreme_rays[i][j]/tnorms[i]\n",
    "        \n",
    "    return corners"
   ]
  },
  {
   "cell_type": "code",
   "execution_count": 4,
   "metadata": {},
   "outputs": [],
   "source": [
    "def get_fibered_cone(sig):\n",
    "    return Cone(get_corners_of_fibered_face(sig))\n",
    "\n",
    "def get_fibered_cone_plot(sig):\n",
    "    return get_fibered_cone(sig).plot(mode='box', xmin = -5, xmax = 5, ymin = -5, ymax = 5, ray_thickness=2, point_size=10)\n",
    "\n",
    "#get_fibered_cone_plot('fLLQcbecdeepuwsua_20102') # This is to look at an example"
   ]
  },
  {
   "cell_type": "code",
   "execution_count": 5,
   "metadata": {},
   "outputs": [],
   "source": [
    "def get_directed_dual_graph(sig):\n",
    "    tri, angle = taut.isosig_to_tri_angle(sig)\n",
    "    G = DiGraph(loops = True, multiedges = True)\n",
    "    top_bottom = transverse_taut.top_bottom_embeddings_of_faces(tri, angle)\n",
    "    for face in tri.triangles():\n",
    "        if face.embedding(0) in top_bottom[1]:\n",
    "            G.add_edge(int(str(face.embedding(1))[0]), int(str(face.embedding(0))[0]), face.index())\n",
    "        else:\n",
    "            G.add_edge(int(str(face.embedding(0))[0]), int(str(face.embedding(1))[0]), face.index())\n",
    "    return G\n",
    "\n",
    "#get_directed_dual_graph('fLLQcbecdeepuwsua_20102') # This is to look at an example"
   ]
  },
  {
   "cell_type": "code",
   "execution_count": 6,
   "metadata": {},
   "outputs": [],
   "source": [
    "def get_edge_in_graph_from_face_label(graph, label):\n",
    "    for edge in graph.edges():\n",
    "        if edge[2] == label:\n",
    "            return edge"
   ]
  },
  {
   "cell_type": "markdown",
   "metadata": {},
   "source": [
    "The following functions work only in the 2D case."
   ]
  },
  {
   "cell_type": "code",
   "execution_count": 125,
   "metadata": {},
   "outputs": [],
   "source": [
    "def get_surf_from_point_in_homology(sig, point):\n",
    "    extreme_surfs = get_extreme_surfs(sig)\n",
    "    P = taut_polytope.projection_to_homology(sig) # This is the matrix to multiply by to get branched surface tuple to a second homology class.\n",
    "    \n",
    "    eq1 = (var('r')*P*extreme_surfs[0] + var('s')*P*extreme_surfs[1])[0] == point[0]\n",
    "    eq2 = (var('r')*P*extreme_surfs[0] + var('s')*P*extreme_surfs[1])[1] == point[1]\n",
    "    lin_comb = solve([eq1,eq2],r,s) # find the linear combination of the boundary vectors which give our point.\n",
    "    \n",
    "    return lin_comb[0][0].rhs()*extreme_surfs[0] + lin_comb[0][1].rhs()*extreme_surfs[1] "
   ]
  },
  {
   "cell_type": "code",
   "execution_count": 126,
   "metadata": {},
   "outputs": [
    {
     "data": {
      "text/plain": [
       "(1/2*a - 1/2*b, a - b, 1/2*a + 1/2*b, 0, 1/2*a + 1/2*b, 1/2*a - 1/2*b, a + b, 0)"
      ]
     },
     "execution_count": 126,
     "metadata": {},
     "output_type": "execute_result"
    }
   ],
   "source": [
    "#get_surf_from_point_in_homology('fLLQcbecdeepuwsua_20102', (var('a'), var('b')))"
   ]
  },
  {
   "cell_type": "code",
   "execution_count": 9,
   "metadata": {},
   "outputs": [],
   "source": [
    "def get_genus_nums(sig, point):\n",
    "    tri, angle = taut.isosig_to_tri_angle(sig)\n",
    "    surface = get_surf_from_point_in_homology(sig, point)\n",
    "    return carried_surface.genus_punctures(tri, angle, surface)[0]\n",
    "\n",
    "def get_num_punctures_nums(sig, point):\n",
    "    tri, angle = taut.isosig_to_tri_angle(sig)\n",
    "    surface = get_surf_from_point_in_homology(sig, point)\n",
    "    return carried_surface.genus_punctures(tri, angle, surface)[1]"
   ]
  },
  {
   "cell_type": "code",
   "execution_count": 11,
   "metadata": {},
   "outputs": [
    {
     "data": {
      "text/plain": [
       "4"
      ]
     },
     "execution_count": 11,
     "metadata": {},
     "output_type": "execute_result"
    }
   ],
   "source": [
    "def Thurston_norm_nums(sig, point):\n",
    "    extreme_rays = taut_polytope.cone_in_homology(sig) # These are rays spanning the cone of carried classes\n",
    "    \n",
    "    if not get_fibered_cone(sig).interior_contains(point):\n",
    "        raise ValueError('Your point is not in the fibered cone specified by the given veering triangulation')\n",
    "    \n",
    "    if len(point) != len(extreme_rays[0]):\n",
    "        raise ValueError('Your point must be of dimension', len(extreme_rays[0])) \n",
    "\n",
    "    surf = get_surf_from_point_in_homology(sig, point)\n",
    "    prenorm = 0\n",
    "    for tri in surf:\n",
    "        prenorm = prenorm + tri\n",
    "        \n",
    "    return prenorm/2\n",
    "\n",
    "#Thurston_norm_nums('fLLQcbecdeepuwsua_20102',(-1,1))"
   ]
  },
  {
   "cell_type": "code",
   "execution_count": 124,
   "metadata": {},
   "outputs": [
    {
     "data": {
      "text/plain": [
       "2*a - 2*b"
      ]
     },
     "execution_count": 124,
     "metadata": {},
     "output_type": "execute_result"
    }
   ],
   "source": [
    "def Thurston_norm_vars(sig, point): # This version just doesn't check if the input is in the cone.\n",
    "    extreme_rays = taut_polytope.cone_in_homology(sig) # These are rays spanning the cone of carried classes\n",
    "    \n",
    "    if len(point) != len(extreme_rays[0]):\n",
    "        raise ValueError('Your point must be of dimension', len(extreme_rays[0])) \n",
    "        \n",
    "    surf = get_surf_from_point_in_homology(sig, point)\n",
    "    prenorm = 0\n",
    "    for tri in surf:\n",
    "        prenorm = prenorm + tri\n",
    "        \n",
    "    return prenorm/2\n",
    "\n",
    "#Thurston_norm_vars('fLLQcbeddeehhbghh_01110',(var('a'), var('b')))"
   ]
  },
  {
   "cell_type": "code",
   "execution_count": 13,
   "metadata": {},
   "outputs": [
    {
     "data": {
      "text/plain": [
       "[[(0, 0)], [(0, 0)]]"
      ]
     },
     "execution_count": 13,
     "metadata": {},
     "output_type": "execute_result"
    }
   ],
   "source": [
    "def get_boundary_classes_of_extreme_surfs_in_first_hom(sig):\n",
    "    tri, angle = taut.isosig_to_tri_angle(sig) # Some functions take the triangulation and the angle structure in separately\n",
    "    extreme_surfs = get_extreme_surfs(sig)\n",
    "\n",
    "    boundaries_from_surf1 = taut_carried.boundary_cycles_from_surface(tri, angle, extreme_surfs[0])\n",
    "    boundaries_from_surf2 = taut_carried.boundary_cycles_from_surface(tri, angle, extreme_surfs[1])\n",
    "\n",
    "    faces_in_hom = taut_homology.faces_in_homology(tri, angle, [])\n",
    "\n",
    "    boundary_classes_from_surf1 = [vector((0,0))]*len(boundaries_from_surf1)\n",
    "    boundary_classes_from_surf2 = [vector((0,0))]*len(boundaries_from_surf2)# This will store the classes of the classes \n",
    "\n",
    "    for i in range(len(boundaries_from_surf1)):\n",
    "        for j in range(len(boundaries_from_surf1[i])):\n",
    "            new = vector(boundaries_from_surf1[i][j]*vector(faces_in_hom[j]))\n",
    "            boundary_classes_from_surf1[i] = boundary_classes_from_surf1[i] + new\n",
    "        \n",
    "    for i in range(len(boundaries_from_surf2)):\n",
    "        for j in range(len(boundaries_from_surf2[i])):\n",
    "            new = vector(boundaries_from_surf2[i][j]*vector(faces_in_hom[j]))\n",
    "            boundary_classes_from_surf2[i] = boundary_classes_from_surf2[i] + new\n",
    "            \n",
    "    return [boundary_classes_from_surf1, boundary_classes_from_surf2]\n",
    "\n",
    "#get_boundary_classes_of_extreme_surfs_in_first_hom('hLLMMkaedfdgggjxaxjxqh_2002110')"
   ]
  },
  {
   "cell_type": "code",
   "execution_count": 14,
   "metadata": {},
   "outputs": [
    {
     "data": {
      "text/plain": [
       "[(b, -a), (-b, a)]"
      ]
     },
     "execution_count": 14,
     "metadata": {},
     "output_type": "execute_result"
    }
   ],
   "source": [
    "def get_boundary_in_first_hom(sig, point): # doesn't work properly\n",
    "    extreme_surfs = get_extreme_surfs(sig)\n",
    "    P = taut_polytope.projection_to_homology(sig)\n",
    "    boundary_classes_from_extreme_surf1, boundary_classes_from_extreme_surf2 = get_boundary_classes_of_extreme_surfs_in_first_hom(sig)\n",
    "    tri, angle = taut.isosig_to_tri_angle(sig)\n",
    "    num_boundaries = len(tri.vertices())\n",
    "    \n",
    "    eq1 = (var('r')*P*extreme_surfs[0] + var('s')*P*extreme_surfs[1])[0] == point[0]\n",
    "    eq2 = (var('r')*P*extreme_surfs[0] + var('s')*P*extreme_surfs[1])[1] == point[1]\n",
    "    lin_comb = solve([eq1,eq2],r,s) # find the linear combination of the boundary vectors which give our point.\n",
    "\n",
    "    all_boundary_classes = []\n",
    "    for i in range(num_boundaries):\n",
    "        all_boundary_classes.append(lin_comb[0][0].rhs()*boundary_classes_from_extreme_surf1[i] + lin_comb[0][1].rhs()*boundary_classes_from_extreme_surf2[i])\n",
    "\n",
    "    return all_boundary_classes\n",
    "\n",
    "#get_boundary_in_first_hom('fLLQcbecdeepuwsua_20102',(var('a'),var('b')))\n",
    "    "
   ]
  },
  {
   "cell_type": "code",
   "execution_count": 15,
   "metadata": {},
   "outputs": [],
   "source": [
    "#def get_genus(sig, point): # doesn't work properly\n",
    "#    boundary_components = get_boundary_in_first_hom(sig, point)\n",
    "#    num_boundaries = 0\n",
    "#    for i in range(len(boundary_components)):\n",
    "#        num_boundaries = num_boundaries + gcd(boundary_components[i][0], boundary_components[i][1])\n",
    "#    \n",
    "#    return (Thurston_norm_vars(sig, point)+2-num_boundaries)/2\n",
    "#\n",
    "#get_genus('fLLQcbecdeepuwsua_20102',(var('a'), var('b')))"
   ]
  },
  {
   "cell_type": "code",
   "execution_count": 16,
   "metadata": {},
   "outputs": [],
   "source": [
    "def get_spec(sig, point):\n",
    "    # returns the specialization of the taut polynomial at a point in second homology.\n",
    "    \n",
    "    tri, angle = taut.isosig_to_tri_angle(sig)\n",
    "    poly = taut_polynomial.taut_polynomial(tri, angle)\n",
    "    unspec_monos = poly.monomials()\n",
    "    monos = [] # the monomials in the specialization\n",
    "    for i in range(poly.number_of_terms()):\n",
    "        monos.append(unspec_monos[i].lc()*x^(poly.exponents()[i][0]*point[0] + poly.exponents()[i][1]*point[1]))\n",
    "        \n",
    "    spec = 0\n",
    "    for i in range(len(monos)):\n",
    "        spec = spec + monos[i]*poly.monomial_coefficient(poly.monomials()[i])\n",
    "        \n",
    "    return spec"
   ]
  },
  {
   "cell_type": "code",
   "execution_count": 17,
   "metadata": {},
   "outputs": [
    {
     "data": {
      "text/plain": [
       "abs(1/2*sqrt(2) + 1/2*sqrt(2*sqrt(2) - 1) + 1/2)"
      ]
     },
     "execution_count": 17,
     "metadata": {},
     "output_type": "execute_result"
    }
   ],
   "source": [
    "def get_dila(sig, point):\n",
    "    spec = get_spec(sig, point)    \n",
    "    sols = solve(spec == 0, x, to_poly_solve=True)\n",
    "    \n",
    "    sols2 = []\n",
    "    for i in range(len(sols)):\n",
    "        sols2.append(sols[i].rhs())\n",
    "       \n",
    "    for j in range(len(sols2)):\n",
    "        sols2[j] = abs(sols2[j])\n",
    "    \n",
    "    return max(sols2)\n",
    "\n",
    "#get_dila('fLLQcbecdeepuwsua_20102', (-1,1))"
   ]
  },
  {
   "cell_type": "code",
   "execution_count": 18,
   "metadata": {},
   "outputs": [
    {
     "data": {
      "text/plain": [
       "2.5318972768037895"
      ]
     },
     "execution_count": 18,
     "metadata": {},
     "output_type": "execute_result"
    }
   ],
   "source": [
    "def get_norm_dila_log(sig, point):\n",
    "    return Thurston_norm_nums(sig, point)*math.log(get_dila(sig, point))\n",
    "\n",
    "def get_norm_dila_exp(sig, point):\n",
    "    return get_dila(sig, point)^Thurston_norm_nums(sig, point)\n",
    "\n",
    "#get_norm_dila_log('fLLQcbecdeepuwsua_20102', (-1,1))"
   ]
  },
  {
   "cell_type": "code",
   "execution_count": 19,
   "metadata": {},
   "outputs": [
    {
     "data": {
      "text/plain": [
       "-2*e^(-1) + e^(-2) - 2*e^(-3) + e^(-4) + 1"
      ]
     },
     "execution_count": 19,
     "metadata": {},
     "output_type": "execute_result"
    }
   ],
   "source": [
    "def get_spec_at_e(sig, point):\n",
    "    tri, angle = taut.isosig_to_tri_angle(sig)\n",
    "    poly = taut_polynomial.taut_polynomial(tri, angle)\n",
    "    unspec_monos = poly.monomials()\n",
    "    monos = [] # the monomials in the specialization\n",
    "    for i in range(poly.number_of_terms()):\n",
    "        monos.append(unspec_monos[i].lc()*exp(poly.exponents()[i][0]*point[0] + poly.exponents()[i][1]*point[1]))\n",
    "        \n",
    "    spec_at_e = 0\n",
    "    for i in range(len(monos)):\n",
    "        spec_at_e = spec_at_e + monos[i]*poly.monomial_coefficient(poly.monomials()[i])\n",
    "    \n",
    "    return spec_at_e\n",
    "\n",
    "#get_spec_at_e('fLLQcbecdeepuwsua_20102', (-1,1))"
   ]
  },
  {
   "cell_type": "code",
   "execution_count": 20,
   "metadata": {},
   "outputs": [
    {
     "data": {
      "image/png": "[encoded data removed]",
      "text/plain": [
       "Graphics object consisting of 10 graphics primitives"
      ]
     },
     "execution_count": 20,
     "metadata": {},
     "output_type": "execute_result"
    }
   ],
   "source": [
    "def get_cone_and_levset_plot(sig):\n",
    "    x,y = var('x,y')\n",
    "    levset = implicit_plot(get_spec_at_e(sig, (x,y)) == 0, (-5,5), (-5,5), cmap=['green'])\n",
    "    Plot = levset + get_fibered_cone_plot(sig)\n",
    "    return Plot\n",
    "\n",
    "#get_cone_and_levset_plot('fLLQcbecdeepuwsua_20102')"
   ]
  },
  {
   "cell_type": "code",
   "execution_count": 21,
   "metadata": {},
   "outputs": [
    {
     "data": {
      "image/png": "[encoded data removed]",
      "text/plain": [
       "Graphics object consisting of 1 graphics primitive"
      ]
     },
     "execution_count": 21,
     "metadata": {},
     "output_type": "execute_result"
    }
   ],
   "source": [
    "def get_levset_plot(sig):\n",
    "    x,y = var('x,y')\n",
    "    levset = implicit_plot(get_spec_at_e(sig, (x,y)) == 0, (-5,5), (-5,5), cmap=['green'])\n",
    "    Plot = levset\n",
    "    return Plot\n",
    "\n",
    "get_levset_plot('fLLQcbecdeepuwsua_20102')\n",
    "\n",
    "#taut_polynomial.taut_polynomial('hLLAAkcededfggiikajwxn_0112201')"
   ]
  },
  {
   "cell_type": "code",
   "execution_count": 22,
   "metadata": {},
   "outputs": [],
   "source": [
    "#def get_min_norm_dila_direction(sig): # This doesn't really work.\n",
    "#    x,y = var('x,y')\n",
    "#    p = get_spec_at_e(sig, (x,y))\n",
    "#    f = Thurston_norm_vars(sig, (x,y))\n",
    "#    L = var('L')\n",
    "#    sols = solve([diff(f,x) == L*diff(p,x), diff(f,y) == L*diff(p,y), p==0], x, y, L, algorithm='sympy')\n",
    "#    print(sols)\n",
    "#    for sol in sols:\n",
    "#        if get_fibered_cone(sig).interior_contains((sol.get(x), sol.get(y))):\n",
    "#            return (sol.get(x), sol.get(y))"
   ]
  },
  {
   "cell_type": "code",
   "execution_count": 23,
   "metadata": {},
   "outputs": [
    {
     "data": {
      "image/png": "[encoded data removed]",
      "text/plain": [
       "Graphics object consisting of 10 graphics primitives"
      ]
     },
     "execution_count": 23,
     "metadata": {},
     "output_type": "execute_result"
    }
   ],
   "source": [
    "#get_cone_and_levset_plot('eLMkbcddddedde_2100')"
   ]
  },
  {
   "cell_type": "code",
   "execution_count": 24,
   "metadata": {},
   "outputs": [
    {
     "data": {
      "image/png": "[encoded data removed]",
      "text/plain": [
       "Graphics object consisting of 10 graphics primitives"
      ]
     },
     "execution_count": 24,
     "metadata": {},
     "output_type": "execute_result"
    }
   ],
   "source": [
    "#get_cone_and_levset_plot('fLLQcbeddeehhbghh_01110')"
   ]
  },
  {
   "cell_type": "code",
   "execution_count": 25,
   "metadata": {},
   "outputs": [
    {
     "data": {
      "image/png": "[encoded data removed]",
      "text/plain": [
       "Graphics object consisting of 10 graphics primitives"
      ]
     },
     "execution_count": 25,
     "metadata": {},
     "output_type": "execute_result"
    }
   ],
   "source": [
    "#get_cone_and_levset_plot('gLLAQcdecfffhsermws_122201')"
   ]
  },
  {
   "cell_type": "code",
   "execution_count": 26,
   "metadata": {},
   "outputs": [
    {
     "data": {
      "image/png": "[encoded data removed]",
      "text/plain": [
       "Graphics object consisting of 10 graphics primitives"
      ]
     },
     "execution_count": 26,
     "metadata": {},
     "output_type": "execute_result"
    }
   ],
   "source": [
    "#get_cone_and_levset_plot('gLLPQccdfeffhggaagb_201022')"
   ]
  },
  {
   "cell_type": "code",
   "execution_count": 27,
   "metadata": {},
   "outputs": [
    {
     "data": {
      "image/png": "[encoded data removed]",
      "text/plain": [
       "Graphics object consisting of 20 graphics primitives"
      ]
     },
     "metadata": {},
     "output_type": "display_data"
    }
   ],
   "source": [
    "#first = get_cone_and_levset_plot('hLLLQkbeegefgghhhahabg_1200111')\n",
    "#second = get_cone_and_levset_plot('hLLLQkbeegefgghhhahabg_0111022')\n",
    "\n",
    "#combo = first + second\n",
    "#combo.show()"
   ]
  },
  {
   "cell_type": "code",
   "execution_count": 28,
   "metadata": {},
   "outputs": [],
   "source": [
    "def get_minimal_direction(sig):\n",
    "    # Should probably try to figure out how to write this without having the mathematica code run three times...\n",
    "    \n",
    "    x,y = var('x,y')\n",
    "    f = str(Thurston_norm_vars(sig, (x,y)))\n",
    "    g = str(get_spec_at_e(sig, (x,y)))\n",
    "    newg = g.replace(\"e\", \"E\")\n",
    "\n",
    "    #start = time.time()\n",
    "    for i in range(len(m('NSolve[{Grad[' + f + ', {x,y}] == L*Grad[' + newg + ', {x,y}], ' + newg + ' == 0}, {x,y,L}, Reals]'))):\n",
    "        x1 = m('x/.NSolve[{Grad[' + f + ', {x,y}] == L*Grad[' + newg + ', {x,y}], ' + newg + ' == 0}, {x,y,L}, Reals][[' + str(i+1) + ']]')\n",
    "        y1 = m('y/.NSolve[{Grad[' + f + ', {x,y}] == L*Grad[' + newg + ', {x,y}], ' + newg + ' == 0}, {x,y,L}, Reals][[' + str(i+1) + ']]')\n",
    "        if get_fibered_cone(sig).interior_contains((x1,y1)):\n",
    "            return (x1, y1)\n",
    "    #end = time.time()\n",
    "    #print(end - start)\n",
    "    \n",
    "#get_minimal_direction('fLLQcbecdeepuwsua_20102')"
   ]
  },
  {
   "cell_type": "code",
   "execution_count": 75,
   "metadata": {},
   "outputs": [],
   "source": [
    "def get_dila_mathematica(sig, point):\n",
    "    poly = str(get_spec(sig, point))\n",
    "    poly = poly.replace(\"sqrt(x)\", \"Sqrt[x]\")\n",
    "    roots = m('NSolve[' + poly + ' == 0, x]')\n",
    "    root_nums = []\n",
    "    for i in range(len(roots)):\n",
    "        root_nums.append(m('x/.NSolve[' + poly + ' == 0, x][[' + str(i+1) + ']]'))\n",
    "        \n",
    "    root_nums = [abs(root.sage()) for root in root_nums]\n",
    "    return max(root_nums)"
   ]
  },
  {
   "cell_type": "code",
   "execution_count": 50,
   "metadata": {},
   "outputs": [],
   "source": [
    "def get_norm_dila_log_mathematica(sig, point):\n",
    "    return Thurston_norm_nums(sig, point)*math.log(get_dila_mathematica(sig, point))"
   ]
  },
  {
   "cell_type": "code",
   "execution_count": 73,
   "metadata": {},
   "outputs": [],
   "source": [
    "def get_min_norm_dila_log_mathematica_approx(sig):\n",
    "    x1, y1 = get_minimal_direction(sig)\n",
    "    point = (round(x1, 1), round(y1, 1))\n",
    "    return get_norm_dila_log_mathematica(sig, point)"
   ]
  },
  {
   "cell_type": "code",
   "execution_count": 66,
   "metadata": {},
   "outputs": [],
   "source": [
    "def get_min_norm_dila_log_approx(sig):\n",
    "    # This one is much slower than the mathematica version.\n",
    "    \n",
    "    x1, y1 = get_minimal_direction(sig)\n",
    "    point = (round(x1, 1), round(y1, 1))\n",
    "    return get_norm_dila_log(sig, point)"
   ]
  },
  {
   "cell_type": "code",
   "execution_count": 64,
   "metadata": {},
   "outputs": [
    {
     "name": "stdout",
     "output_type": "stream",
     "text": [
      "eLMkbcddddedde_2100 (0.9624236501192069, 0) 1.9248473002384134\n",
      "fLLQcbecdeepuwsua_20102 (-0.6329743192009475, 0.6329743192009475) 2.5318972768026375\n",
      "fLLQcbeddeehhbghh_01110 (0.9624236501192069, 0) 1.9248473002384134\n",
      "gLLAQcdecfffhsermws_122201 (0.7473304654042903, -0.4195853731440559) 3.1730863869668617\n",
      "gLLPQccdfeffhggaagb_201022 (1.3169578969248168, 0) 2.6339157938496873\n",
      "gLLPQcdfefefuoaaauo_022110 (-0.5224246698222716, -0.420164001021145) 2.7144187868406435\n",
      "hLLLQkacgfefggjkjjfjko_2002121 (-0.5700957170102703, -0.6591922088162503) 3.6878905795173242\n",
      "hLLLQkbeegefgghhhahabg_1200111 (1.566799236972411, 0) 3.133598473944807\n",
      "hLLLQkbeegefgghhhahabg_0111022 (1.265948638401895, -0.6329743192009475) 3.802970586576618\n",
      "hLLLQkcegfeegghhhahabg_2010222 (0, 1.566799236972411) 3.133598473944807\n",
      "hLLPMkccdfeggghggaahah_2010221 (0, 1.566799236972411) 3.133598473944807\n",
      "hvLPQkcdegffggbbgaaahg_1020211 (-0.819094435969666, -1.228641653954499) 3.276377743794386\n",
      "iLLALQcbcdefghhhtsfxjoxqt_20102120 (1.4218378262454479, 2.0335456546972357) 3.653811127700625\n"
     ]
    }
   ],
   "source": [
    "'''# something doesn't work for'hLALMkbcbefggghhwsemws_2112201'\n",
    "# The 8 tetrahedron example (the last one) takes a long time (a couple mins).\n",
    "sigs = ['eLMkbcddddedde_2100', 'fLLQcbecdeepuwsua_20102', 'fLLQcbeddeehhbghh_01110', 'gLLAQcdecfffhsermws_122201', 'gLLPQccdfeffhggaagb_201022', 'gLLPQcdfefefuoaaauo_022110', 'hLLLQkacgfefggjkjjfjko_2002121', 'hLLLQkbeegefgghhhahabg_1200111', 'hLLLQkbeegefgghhhahabg_0111022', 'hLLLQkcegfeegghhhahabg_2010222', 'hLLPMkccdfeggghggaahah_2010221', 'hvLPQkcdegffggbbgaaahg_1020211', 'iLLALQcbcdefghhhtsfxjoxqt_20102120']\n",
    "for sig in sigs:\n",
    "    print(sig, get_minimal_direction(sig), get_min_norm_dila_log_mathematica_approx(sig))'''"
   ]
  },
  {
   "cell_type": "code",
   "execution_count": 76,
   "metadata": {},
   "outputs": [
    {
     "name": "stdout",
     "output_type": "stream",
     "text": [
      "iLLALQcbcdeghhghtsjajelvu_20102121 (-0.5423881282913164, 0.9769811160689049) 4.1301837358086715\n",
      "108.65987730026245\n"
     ]
    }
   ],
   "source": [
    "'''sig = 'iLLALQcbcdeghhghtsjajelvu_20102121'\n",
    "\n",
    "start = time.time()\n",
    "print(sig, get_minimal_direction(sig), get_min_norm_dila_log_mathematica_approx(sig))\n",
    "end = time.time()\n",
    "print(end-start)'''"
   ]
  },
  {
   "cell_type": "code",
   "execution_count": 77,
   "metadata": {},
   "outputs": [
    {
     "name": "stdout",
     "output_type": "stream",
     "text": [
      "iLLALQccedefghhhiikarbwbk_10221011 (0.359977719233015, -0.8637420692900316) 4.178587619485253\n",
      "116.58831262588501\n"
     ]
    }
   ],
   "source": [
    "'''sig = 'iLLALQccedefghhhiikarbwbk_10221011'\n",
    "\n",
    "start = time.time()\n",
    "print(sig, get_minimal_direction(sig), get_min_norm_dila_log_mathematica_approx(sig))\n",
    "end = time.time()\n",
    "print(end-start)'''"
   ]
  },
  {
   "cell_type": "code",
   "execution_count": 79,
   "metadata": {},
   "outputs": [
    {
     "name": "stdout",
     "output_type": "stream",
     "text": [
      "iLLAMMccedefgghhiikaevfpj_10221012 (-0.5397299800660715, 1.999787344214103) 4.007191831135889\n",
      "81.92908978462219\n"
     ]
    }
   ],
   "source": [
    "'''sig = 'iLLAMMccedefgghhiikaevfpj_10221012'\n",
    "\n",
    "start = time.time()\n",
    "print(sig, get_minimal_direction(sig), get_min_norm_dila_log_mathematica_approx(sig))\n",
    "end = time.time()\n",
    "print(end-start)'''"
   ]
  },
  {
   "cell_type": "code",
   "execution_count": 80,
   "metadata": {},
   "outputs": [
    {
     "name": "stdout",
     "output_type": "stream",
     "text": [
      "iLLAzQcbcdefhghhtsjajqjqt_20102120 (-0.6117078284517878, 2.0335456546972357) 3.6538111269871427\n",
      "97.11644124984741\n"
     ]
    }
   ],
   "source": [
    "'''sig = 'iLLAzQcbcdefhghhtsjajqjqt_20102120'\n",
    "\n",
    "start = time.time()\n",
    "print(sig, get_minimal_direction(sig), get_min_norm_dila_log_mathematica_approx(sig))\n",
    "end = time.time()\n",
    "print(end-start)'''"
   ]
  },
  {
   "cell_type": "code",
   "execution_count": 82,
   "metadata": {},
   "outputs": [
    {
     "name": "stdout",
     "output_type": "stream",
     "text": [
      "gLLPQbefefefhhhhhha_011102 (0, 1.3169578969248168) 2.6339157938496873\n",
      "2.931986093521118\n"
     ]
    }
   ],
   "source": [
    "'''sig = 'gLLPQbefefefhhhhhha_011102'\n",
    "\n",
    "start = time.time()\n",
    "print(sig, get_minimal_direction(sig), get_min_norm_dila_log_mathematica_approx(sig))\n",
    "end = time.time()\n",
    "print(end-start)'''"
   ]
  },
  {
   "cell_type": "code",
   "execution_count": 83,
   "metadata": {},
   "outputs": [
    {
     "name": "stdout",
     "output_type": "stream",
     "text": [
      "gLPLQbdcfeffhbbaabg_120011 (1.3169578969248168, 0) 2.6339157938496873\n",
      "2.556971788406372\n"
     ]
    }
   ],
   "source": [
    "'''sig = 'gLPLQbdcfeffhbbaabg_120011'\n",
    "\n",
    "start = time.time()\n",
    "print(sig, get_minimal_direction(sig), get_min_norm_dila_log_mathematica_approx(sig))\n",
    "end = time.time()\n",
    "print(end-start)'''"
   ]
  },
  {
   "cell_type": "code",
   "execution_count": 88,
   "metadata": {},
   "outputs": [
    {
     "name": "stdout",
     "output_type": "stream",
     "text": [
      "hLLAMkcedefgggiikaevfg_1022101 (-0.8314429455293105, 2.4943288365879317) 3.3298345021230893\n",
      "15.516092777252197\n"
     ]
    }
   ],
   "source": [
    "'''sig = 'hLLAMkcedefgggiikaevfg_1022101'\n",
    "\n",
    "start = time.time()\n",
    "print(sig, get_minimal_direction(sig), get_min_norm_dila_log_mathematica_approx(sig))\n",
    "end = time.time()\n",
    "print(end-start)'''"
   ]
  },
  {
   "cell_type": "code",
   "execution_count": 89,
   "metadata": {},
   "outputs": [
    {
     "name": "stdout",
     "output_type": "stream",
     "text": [
      "iLAwMPcbcbdfghhhxxnxrpirf_01101122 (1.068136627426251, -0.24650265208791405) 4.12896742442156\n",
      "116.52364492416382\n"
     ]
    }
   ],
   "source": [
    "'''sig = 'iLAwMPcbcbdfghhhxxnxrpirf_01101122'\n",
    "\n",
    "start = time.time()\n",
    "print(sig, get_minimal_direction(sig), get_min_norm_dila_log_mathematica_approx(sig))\n",
    "end = time.time()\n",
    "print(end-start)'''"
   ]
  },
  {
   "cell_type": "code",
   "execution_count": 91,
   "metadata": {},
   "outputs": [],
   "source": [
    "# DON'T KNOW WHY THIS ONE DOESN'T WORK\n",
    "\n",
    "#sig = 'iLLAMMccdecffghhhsermstqs_12220120'\n",
    "\n",
    "#start = time.time()\n",
    "#print(sig, get_minimal_direction(sig), get_min_norm_dila_log_mathematica_approx(sig))\n",
    "#end = time.time()\n",
    "#print(end-start)"
   ]
  },
  {
   "cell_type": "code",
   "execution_count": 92,
   "metadata": {},
   "outputs": [
    {
     "name": "stdout",
     "output_type": "stream",
     "text": [
      "iLLAMMccedefgghhiikaevfpj_10221012 (-0.5397299800660715, 1.999787344214103) 4.007191831135889\n",
      "86.1435399055481\n"
     ]
    }
   ],
   "source": [
    "'''sig = 'iLLAMMccedefgghhiikaevfpj_10221012'\n",
    "\n",
    "start = time.time()\n",
    "print(sig, get_minimal_direction(sig), get_min_norm_dila_log_mathematica_approx(sig))\n",
    "end = time.time()\n",
    "print(end-start)'''"
   ]
  },
  {
   "cell_type": "code",
   "execution_count": 93,
   "metadata": {},
   "outputs": [
    {
     "name": "stdout",
     "output_type": "stream",
     "text": [
      "iLLAzQcbcdefhghhtsjajqjqt_20102120 (-0.6117078284517878, 2.0335456546972357) 3.6538111269871427\n",
      "95.50479483604431\n"
     ]
    }
   ],
   "source": [
    "'''sig = 'iLLAzQcbcdefhghhtsjajqjqt_20102120'\n",
    "\n",
    "start = time.time()\n",
    "print(sig, get_minimal_direction(sig), get_min_norm_dila_log_mathematica_approx(sig))\n",
    "end = time.time()\n",
    "print(end-start)'''"
   ]
  },
  {
   "cell_type": "code",
   "execution_count": 94,
   "metadata": {},
   "outputs": [
    {
     "name": "stdout",
     "output_type": "stream",
     "text": [
      "iLLAzQccedegghhhiinahomtu_01122000 (-2.415736011510805, -1.0021230939414352) 4.009220862887897\n",
      "122.25129389762878\n"
     ]
    }
   ],
   "source": [
    "'''sig = 'iLLAzQccedegghhhiinahomtu_01122000'\n",
    "\n",
    "start = time.time()\n",
    "print(sig, get_minimal_direction(sig), get_min_norm_dila_log_mathematica_approx(sig))\n",
    "end = time.time()\n",
    "print(end-start)'''"
   ]
  },
  {
   "cell_type": "code",
   "execution_count": 95,
   "metadata": {},
   "outputs": [
    {
     "name": "stdout",
     "output_type": "stream",
     "text": [
      "iLLLAQcccgeghghhlntiaqgqa_12001112 (1.13992634388833, 1.7858048383648508) 3.6208892186110684\n",
      "136.03736281394958\n"
     ]
    }
   ],
   "source": [
    "'''sig = 'iLLLAQcccgeghghhlntiaqgqa_12001112'\n",
    "\n",
    "start = time.time()\n",
    "print(sig, get_minimal_direction(sig), get_min_norm_dila_log_mathematica_approx(sig))\n",
    "end = time.time()\n",
    "print(end-start)'''"
   ]
  },
  {
   "cell_type": "code",
   "execution_count": 96,
   "metadata": {},
   "outputs": [
    {
     "name": "stdout",
     "output_type": "stream",
     "text": [
      "iLLLMQcbefghfhghhhexlgkrk_01110220 (-0.5074485851780107, 0) 4.059588681423291\n",
      "132.6486279964447\n"
     ]
    }
   ],
   "source": [
    "'''sig = 'iLLLMQcbefghfhghhhexlgkrk_01110220'\n",
    "\n",
    "start = time.time()\n",
    "print(sig, get_minimal_direction(sig), get_min_norm_dila_log_mathematica_approx(sig))\n",
    "end = time.time()\n",
    "print(end-start)'''"
   ]
  },
  {
   "cell_type": "code",
   "execution_count": 98,
   "metadata": {},
   "outputs": [],
   "source": [
    "# DON'T KNOW WHY THIS ONE DOESN'T WORK\n",
    "#sig = 'iLLLQPcbeegefhhhhhhahahha_01110221'\n",
    "\n",
    "#start = time.time()\n",
    "#print(sig, get_minimal_direction(sig), get_min_norm_dila_log_mathematica_approx(sig))\n",
    "#end = time.time()\n",
    "#print(end-start)"
   ]
  },
  {
   "cell_type": "code",
   "execution_count": 99,
   "metadata": {},
   "outputs": [
    {
     "name": "stdout",
     "output_type": "stream",
     "text": [
      "iLLLQPcbeegefhhhhhhahahha_12001112 (0, 1.762747174039086) 3.5254943480781726\n",
      "76.79661297798157\n"
     ]
    }
   ],
   "source": [
    "'''sig = 'iLLLQPcbeegefhhhhhhahahha_12001112'\n",
    "\n",
    "start = time.time()\n",
    "print(sig, get_minimal_direction(sig), get_min_norm_dila_log_mathematica_approx(sig))\n",
    "end = time.time()\n",
    "print(end-start)'''"
   ]
  },
  {
   "cell_type": "code",
   "execution_count": 100,
   "metadata": {},
   "outputs": [
    {
     "name": "stdout",
     "output_type": "stream",
     "text": [
      "iLLLQPcceegfghhhiimaimimi_10221212 (0.9624236501192069, 0.) 3.84969460047682\n",
      "82.1824083328247\n"
     ]
    }
   ],
   "source": [
    "'''sig = 'iLLLQPcceegfghhhiimaimimi_10221212'\n",
    "\n",
    "start = time.time()\n",
    "print(sig, get_minimal_direction(sig), get_min_norm_dila_log_mathematica_approx(sig))\n",
    "end = time.time()\n",
    "print(end-start)'''"
   ]
  },
  {
   "cell_type": "code",
   "execution_count": 101,
   "metadata": {},
   "outputs": [
    {
     "name": "stdout",
     "output_type": "stream",
     "text": [
      "iLLLQPccefgeghhhhdupmmadl_20102100 (1.9248473002384139, 0.9624236501192069) 3.853142470476399\n",
      "89.49657797813416\n"
     ]
    }
   ],
   "source": [
    "'''sig = 'iLLLQPccefgeghhhhdupmmadl_20102100'\n",
    "\n",
    "start = time.time()\n",
    "print(sig, get_minimal_direction(sig), get_min_norm_dila_log_mathematica_approx(sig))\n",
    "end = time.time()\n",
    "print(end-start)'''"
   ]
  },
  {
   "cell_type": "code",
   "execution_count": 102,
   "metadata": {},
   "outputs": [
    {
     "name": "stdout",
     "output_type": "stream",
     "text": [
      "iLLLQPccegfeehhhhhhahahha_20102221 (0, 1.762747174039086) 3.5254943480781726\n",
      "96.28414916992188\n"
     ]
    }
   ],
   "source": [
    "'''sig = 'iLLLQPccegfeehhhhhhahahha_20102221'\n",
    "\n",
    "start = time.time()\n",
    "print(sig, get_minimal_direction(sig), get_min_norm_dila_log_mathematica_approx(sig))\n",
    "end = time.time()\n",
    "print(end-start)'''"
   ]
  },
  {
   "cell_type": "code",
   "execution_count": 103,
   "metadata": {},
   "outputs": [
    {
     "name": "stdout",
     "output_type": "stream",
     "text": [
      "iLLPMPcccdfeghhhhggaahhgb_20102211 (0, 1.762747174039086) 3.5254943480781726\n",
      "92.41481614112854\n"
     ]
    }
   ],
   "source": [
    "'''sig = 'iLLPMPcccdfeghhhhggaahhgb_20102211'\n",
    "\n",
    "start = time.time()\n",
    "print(sig, get_minimal_direction(sig), get_min_norm_dila_log_mathematica_approx(sig))\n",
    "end = time.time()\n",
    "print(end-start)'''"
   ]
  },
  {
   "cell_type": "code",
   "execution_count": 104,
   "metadata": {},
   "outputs": [
    {
     "name": "stdout",
     "output_type": "stream",
     "text": [
      "iLLPwQcccdfehghhhggaahhbg_20102211 (1.2187557268720124, 0.6093778634360062) 3.656267180500225\n",
      "92.2199113368988\n"
     ]
    }
   ],
   "source": [
    "'''sig = 'iLLPwQcccdfehghhhggaahhbg_20102211'\n",
    "\n",
    "start = time.time()\n",
    "print(sig, get_minimal_direction(sig), get_min_norm_dila_log_mathematica_approx(sig))\n",
    "end = time.time()\n",
    "print(end-start)'''"
   ]
  },
  {
   "cell_type": "code",
   "execution_count": 105,
   "metadata": {},
   "outputs": [
    {
     "name": "stdout",
     "output_type": "stream",
     "text": [
      "iLLvQQcbeghfhhgghhaaabgbg_12001111 (1.762747174039086, 0) 3.5254943480781726\n",
      "108.69259190559387\n"
     ]
    }
   ],
   "source": [
    "'''sig = 'iLLvQQcbeghfhhgghhaaabgbg_12001111'\n",
    "\n",
    "start = time.time()\n",
    "print(sig, get_minimal_direction(sig), get_min_norm_dila_log_mathematica_approx(sig))\n",
    "end = time.time()\n",
    "print(end-start)'''"
   ]
  },
  {
   "cell_type": "code",
   "execution_count": 106,
   "metadata": {},
   "outputs": [
    {
     "name": "stdout",
     "output_type": "stream",
     "text": [
      "iLLwQPcbeefgehhhxxxaaxxxa_10221110 (0, 1.762747174039086) 3.5254943480781726\n",
      "81.5627031326294\n"
     ]
    }
   ],
   "source": [
    "'''sig = 'iLLwQPcbeefgehhhxxxaaxxxa_10221110'\n",
    "\n",
    "start = time.time()\n",
    "print(sig, get_minimal_direction(sig), get_min_norm_dila_log_mathematica_approx(sig))\n",
    "end = time.time()\n",
    "print(end-start)'''"
   ]
  },
  {
   "cell_type": "code",
   "execution_count": 107,
   "metadata": {},
   "outputs": [
    {
     "name": "stdout",
     "output_type": "stream",
     "text": [
      "iLLzPQccdcghfhghhsrwsbwwg_12220110 (-0.7410191780716097, 1.193948933590281) 4.498163935125074\n",
      "106.2988109588623\n"
     ]
    }
   ],
   "source": [
    "'''sig = 'iLLzPQccdcghfhghhsrwsbwwg_12220110'\n",
    "\n",
    "start = time.time()\n",
    "print(sig, get_minimal_direction(sig), get_min_norm_dila_log_mathematica_approx(sig))\n",
    "end = time.time()\n",
    "print(end-start)'''"
   ]
  },
  {
   "cell_type": "code",
   "execution_count": 108,
   "metadata": {},
   "outputs": [
    {
     "name": "stdout",
     "output_type": "stream",
     "text": [
      "iLLzPQccdegfhhghhsahfssoj_10001212 (0.8314429455293105, 0.8314429455293105) 3.325771782167344\n",
      "85.18193984031677\n"
     ]
    }
   ],
   "source": [
    "'''sig = 'iLLzPQccdegfhhghhsahfssoj_10001212'\n",
    "\n",
    "start = time.time()\n",
    "print(sig, get_minimal_direction(sig), get_min_norm_dila_log_mathematica_approx(sig))\n",
    "end = time.time()\n",
    "print(end-start)'''"
   ]
  },
  {
   "cell_type": "code",
   "execution_count": 109,
   "metadata": {},
   "outputs": [
    {
     "name": "stdout",
     "output_type": "stream",
     "text": [
      "iLvLQQcbehfghgghhhhahbbgg_21112200 (0.9178186079574091, 1.3767279119361138) 4.5916497549124236\n",
      "113.83012795448303\n"
     ]
    }
   ],
   "source": [
    "'''sig = 'iLvLQQcbehfghgghhhhahbbgg_21112200'\n",
    "\n",
    "start = time.time()\n",
    "print(sig, get_minimal_direction(sig), get_min_norm_dila_log_mathematica_approx(sig))\n",
    "end = time.time()\n",
    "print(end-start)'''"
   ]
  },
  {
   "cell_type": "code",
   "execution_count": 110,
   "metadata": {},
   "outputs": [
    {
     "name": "stdout",
     "output_type": "stream",
     "text": [
      "iLvLQQcceehgfghhpaaauvvbb_10221110 (1.638188871939332, -0.409547217984833) 3.276377743794386\n",
      "112.62945318222046\n"
     ]
    }
   ],
   "source": [
    "'''sig = 'iLvLQQcceehgfghhpaaauvvbb_10221110'\n",
    "\n",
    "start = time.time()\n",
    "print(sig, get_minimal_direction(sig), get_min_norm_dila_log_mathematica_approx(sig))\n",
    "end = time.time()\n",
    "print(end-start)'''"
   ]
  },
  {
   "cell_type": "code",
   "execution_count": 116,
   "metadata": {},
   "outputs": [],
   "source": [
    "# DON'T KNOW WHY THIS ONE DOESN'T WORK\n",
    "#sig = 'ivLAAQcecefghhghfbbaaafbb_12222010'\n",
    "\n",
    "#start = time.time()\n",
    "#print(sig, get_minimal_direction(sig), get_min_norm_dila_log_mathematica_approx(sig))\n",
    "#end = time.time()\n",
    "#print(end-start)"
   ]
  },
  {
   "cell_type": "code",
   "execution_count": 112,
   "metadata": {},
   "outputs": [
    {
     "name": "stdout",
     "output_type": "stream",
     "text": [
      "ivLLQQccdhghgfhggrqlipigb_12020011 (1.4218378262454479, 2.2319678240391077) 3.653811127700625\n",
      "101.58177924156189\n"
     ]
    }
   ],
   "source": [
    "'''sig = 'ivLLQQccdhghgfhggrqlipigb_12020011'\n",
    "\n",
    "start = time.time()\n",
    "print(sig, get_minimal_direction(sig), get_min_norm_dila_log_mathematica_approx(sig))\n",
    "end = time.time()\n",
    "print(end-start)'''"
   ]
  },
  {
   "cell_type": "code",
   "execution_count": 113,
   "metadata": {},
   "outputs": [
    {
     "name": "stdout",
     "output_type": "stream",
     "text": [
      "ivLLQQccfhfeghghwadiwadrv_20110220 (-0.81012999779366, 0.6117078284517878) 3.6538111286261006\n",
      "83.82352924346924\n"
     ]
    }
   ],
   "source": [
    "'''sig = 'ivLLQQccfhfeghghwadiwadrv_20110220'\n",
    "\n",
    "start = time.time()\n",
    "print(sig, get_minimal_direction(sig), get_min_norm_dila_log_mathematica_approx(sig))\n",
    "end = time.time()\n",
    "print(end-start)'''"
   ]
  },
  {
   "cell_type": "code",
   "execution_count": 114,
   "metadata": {},
   "outputs": [
    {
     "name": "stdout",
     "output_type": "stream",
     "text": [
      "ivvPQQcfghghfghfahhhhaaaa_10000122 (0, 1.762747174039086) 3.5254943480781726\n",
      "73.38595795631409\n"
     ]
    }
   ],
   "source": [
    "'''sig = 'ivvPQQcfghghfghfahhhhaaaa_10000122'\n",
    "\n",
    "start = time.time()\n",
    "print(sig, get_minimal_direction(sig), get_min_norm_dila_log_mathematica_approx(sig))\n",
    "end = time.time()\n",
    "print(end-start)'''"
   ]
  },
  {
   "cell_type": "code",
   "execution_count": 115,
   "metadata": {},
   "outputs": [
    {
     "name": "stdout",
     "output_type": "stream",
     "text": [
      "ivvPQQcfghghfghfahhhhaaaa_20000211 (1.762747174039086, 0.) 3.5254943480781726\n",
      "73.71093201637268\n"
     ]
    }
   ],
   "source": [
    "'''sig = 'ivvPQQcfghghfghfahhhhaaaa_20000211'\n",
    "\n",
    "start = time.time()\n",
    "print(sig, get_minimal_direction(sig), get_min_norm_dila_log_mathematica_approx(sig))\n",
    "end = time.time()\n",
    "print(end-start)'''"
   ]
  },
  {
   "cell_type": "code",
   "execution_count": 117,
   "metadata": {},
   "outputs": [
    {
     "name": "stdout",
     "output_type": "stream",
     "text": [
      "ivvPQQcfghghfghfaxxxxaaaa_20000211 (0, 1.762747174039086) 3.5254943480781726\n",
      "80.88836717605591\n"
     ]
    }
   ],
   "source": [
    "'''sig = 'ivvPQQcfghghfghfaxxxxaaaa_20000211'\n",
    "\n",
    "start = time.time()\n",
    "print(sig, get_minimal_direction(sig), get_min_norm_dila_log_mathematica_approx(sig))\n",
    "end = time.time()\n",
    "print(end-start)'''"
   ]
  },
  {
   "cell_type": "code",
   "execution_count": 118,
   "metadata": {},
   "outputs": [
    {
     "name": "stdout",
     "output_type": "stream",
     "text": [
      "ivvPQQcfghghfhgfaddddaaaa_20000222 (0, 1.566799236972411) 3.133598473944807\n",
      "101.09182620048523\n"
     ]
    }
   ],
   "source": [
    "'''sig = 'ivvPQQcfghghfhgfaddddaaaa_20000222'\n",
    "\n",
    "start = time.time()\n",
    "print(sig, get_minimal_direction(sig), get_min_norm_dila_log_mathematica_approx(sig))\n",
    "end = time.time()\n",
    "print(end-start)'''"
   ]
  },
  {
   "cell_type": "code",
   "execution_count": 119,
   "metadata": {},
   "outputs": [
    {
     "name": "stdout",
     "output_type": "stream",
     "text": [
      "ivvPQQcfhgghfhgfaaahhahha_10000122 (0, 1.762747174039086) 3.5254943480781726\n",
      "68.50353074073792\n"
     ]
    }
   ],
   "source": [
    "'''sig = 'ivvPQQcfhgghfhgfaaahhahha_10000122'\n",
    "\n",
    "start = time.time()\n",
    "print(sig, get_minimal_direction(sig), get_min_norm_dila_log_mathematica_approx(sig))\n",
    "end = time.time()\n",
    "print(end-start)'''"
   ]
  },
  {
   "cell_type": "code",
   "execution_count": 120,
   "metadata": {},
   "outputs": [
    {
     "name": "stdout",
     "output_type": "stream",
     "text": [
      "ivvPQQcgfhfhgfghappppaaaa_21001020 (1.9248473002384139, 0) 3.8496882750124537\n",
      "97.97040319442749\n"
     ]
    }
   ],
   "source": [
    "'''sig = 'ivvPQQcgfhfhgfghappppaaaa_21001020'\n",
    "\n",
    "start = time.time()\n",
    "print(sig, get_minimal_direction(sig), get_min_norm_dila_log_mathematica_approx(sig))\n",
    "end = time.time()\n",
    "print(end-start)'''"
   ]
  },
  {
   "cell_type": "code",
   "execution_count": 123,
   "metadata": {},
   "outputs": [],
   "source": [
    "# DON'T KNOW WHY THIS ONE DOESN'T WORK\n",
    "#sig = 'jLALMPPbcbefgghiihhwsemstqs_211220120'\n",
    "\n",
    "#start = time.time()\n",
    "#print(sig, get_minimal_direction(sig), get_min_norm_dila_log_mathematica_approx(sig))\n",
    "#end = time.time()\n",
    "#print(end-start)"
   ]
  },
  {
   "cell_type": "code",
   "execution_count": 122,
   "metadata": {},
   "outputs": [
    {
     "name": "stdout",
     "output_type": "stream",
     "text": [
      "jLALvQQbcbehigihihhwswsbwwg_211220110 (-0.8946169819877622, -0.5476012321819127) 5.122419892491834\n",
      "895.515496969223\n"
     ]
    }
   ],
   "source": [
    "'''sig = 'jLALvQQbcbehigihihhwswsbwwg_211220110'\n",
    "\n",
    "start = time.time()\n",
    "print(sig, get_minimal_direction(sig), get_min_norm_dila_log_mathematica_approx(sig))\n",
    "end = time.time()\n",
    "print(end-start)'''"
   ]
  },
  {
   "cell_type": "code",
   "execution_count": null,
   "metadata": {},
   "outputs": [],
   "source": []
  }
 ],
 "metadata": {
  "kernelspec": {
   "display_name": "SageMath 9.6",
   "language": "sage",
   "name": "sagemath-9.6"
  },
  "language_info": {
   "codemirror_mode": {
    "name": "ipython",
    "version": 3
   },
   "file_extension": ".py",
   "mimetype": "text/x-python",
   "name": "python",
   "nbconvert_exporter": "python",
   "pygments_lexer": "ipython3",
   "version": "3.10.3"
  }
 },
 "nbformat": 4,
 "nbformat_minor": 2
}
