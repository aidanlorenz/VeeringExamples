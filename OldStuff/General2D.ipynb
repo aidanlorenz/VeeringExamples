{
 "cells": [
  {
   "cell_type": "code",
   "execution_count": 65,
   "metadata": {},
   "outputs": [],
   "source": [
    "from veering import taut_polytope\n",
    "from veering import taut\n",
    "from veering import taut_homology\n",
    "from veering import taut_carried\n",
    "from veering import fundamental_domain\n",
    "from veering import taut_polynomial\n",
    "from sage.plot.contour_plot import ContourPlot\n",
    "import time\n",
    "\n",
    "sig = 'eLMkbcddddedde_2100' # minimal direction: (1,0); not sure what to plug in to optimize norm dila. This is Hironaka's example. Rays through (a,1) are primitive, realize every genus, and converge to the minimizer.\n",
    "#sig = 'fLLQcbecdeepuwsua_20102' # minimal direction: (-1,1); to optimize norm dila, plug in (-2,2).\n",
    "#sig = 'fLLQcbeddeehhbghh_01110' # minimal direction: (1,0); SAME MIN NORM DILA AS HIRONAKA; not sure what to plug in to optimize norm dila. This is the Whitehead Sister Link (Dehn filled 3-Chain Link along the slope -3/2)\n",
    "#sig = 'gLLAQcdecfffhsermws_122201' # minimal direction: (0.74733, -0.419585)~(16,-9); not sure what to plug in to optimize norm dila.\n",
    "#sig = 'gLLAQcededffiikajwn_011220' # This one doesn't work for some reason. Doesn't find the extreme rays of the cone.\n",
    "#sig = 'gLLPQccdfeffhggaagb_201022' # minimal direction: (1,0); to optimize norm dila, plug in (1,0).\n",
    "#sig = 'gLLPQcdfefefuoaaauo_022110' # minimal direction: (-0.522425, -0.420164)~(-10,-8); to optimize norm dila, plug in (-10,-8).\n",
    "#sig = 'hLALMkbcbefggghhwsemws_2112201' # minimal direction: (0.912663, -0.310724)~(-3,1); not sure what to plug in to optimize norm dila.\n",
    "#sig = 'hLLAAkcededfggiikajwxn_0112201' # This one also doesn't work.\n",
    "#sig = 'hLLLQkacgfefggjkjjfjko_2002121'\n",
    "#sig = 'hLLLQkbeegefgghhhahabg_1200111'\n",
    "#sig = 'hLLLQkbeegefgghhhahabg_0111022'\n",
    "#sig = 'hLLLQkcegfeegghhhahabg_2010222'\n",
    "#sig = 'hLLMMkaedfdgggjxaxjxqh_2002110' # This one only has one boundary component! And doesn't work for some reason.\n",
    "#sig = 'hLLPMkccdfeggghggaahah_2010221'\n",
    "#sig = 'hvLPQkcdegffggbbgaaahg_1020211'\n",
    "#sig = 'iLALMPcbcbefgghhhhwsemstj_21122012' # This one also doesn't work.\n",
    "#sig = 'iLAwMPcbcbdfghhhxxnxrpirf_01101122' # This one takes a long time to compute the taut poly.\n",
    "#sig = 'iLLALQcbcdefghhhtsfxjoxqt_20102120'\n",
    "tri, angle = taut.isosig_to_tri_angle(sig) # Some functions take the triangulation and the angle structure in separately"
   ]
  },
  {
   "cell_type": "code",
   "execution_count": 66,
   "metadata": {},
   "outputs": [
    {
     "data": {
      "text/plain": [
       "[[1/2, -1/2], [1/2, 1/2]]"
      ]
     },
     "execution_count": 66,
     "metadata": {},
     "output_type": "execute_result"
    }
   ],
   "source": [
    "extreme_rays = taut_polytope.cone_in_homology(sig) # These are rays spanning the cone of carried classes\n",
    "rays = taut_polytope.taut_rays(sig) # These are rays spanning the cone of carried surfaces\n",
    "P = taut_polytope.projection_to_homology(sig)\n",
    "extreme_surfs = []\n",
    "\n",
    "for ray in rays: # this for loop stores the surfaces (in terms of their branch equations) that define the boundary of the cone\n",
    "    if P*ray in extreme_rays:\n",
    "        temp = 0\n",
    "        for surf in extreme_surfs:\n",
    "            if P*surf != P*ray:\n",
    "                temp = temp + 1\n",
    "        if temp == len(extreme_surfs):\n",
    "            extreme_surfs.append(ray)\n",
    "        \n",
    "if [tuple(extreme_rays[0]), tuple(extreme_rays[1])] != [tuple(P*extreme_surfs[0]), tuple(P*extreme_surfs[1])]:\n",
    "    extreme_surfs.reverse()\n",
    "\n",
    "sums = [] # next we add up the number of triangles in the boundary surfaces\n",
    "for surf in extreme_surfs:\n",
    "    count = 0\n",
    "    for i in range(len(surf)):\n",
    "        count = count + surf[i]\n",
    "    sums.append(count)\n",
    "\n",
    "tnorms = [term/2 for term in sums] # their Thurston norms are half the number of boundary components\n",
    "        \n",
    "corners = []\n",
    "for i in range(len(extreme_rays)):\n",
    "    corners.append([0]*len(extreme_rays[i]))\n",
    "    \n",
    "for i in range(len(corners)): # the corners of the fibered face are the boundaries divided by the Thurston norm.\n",
    "    for j in range(len(corners[i])):\n",
    "        corners[i][j] = extreme_rays[i][j]/tnorms[i]\n",
    "        \n",
    "corners"
   ]
  },
  {
   "cell_type": "code",
   "execution_count": 67,
   "metadata": {},
   "outputs": [
    {
     "data": {
      "image/png": "[encoded data removed]",
      "text/plain": [
       "Graphics object consisting of 9 graphics primitives"
      ]
     },
     "execution_count": 67,
     "metadata": {},
     "output_type": "execute_result"
    }
   ],
   "source": [
    "cone = Cone(corners) # cone is now the fibered cone in H_2(M, dM) corresponding to this veering triangulation.\n",
    "cone_plot = cone.plot(mode='box', xmin = -5, xmax = 5, ymin = -5, ymax = 5, ray_thickness=2, point_size=10)\n",
    "cone_plot"
   ]
  },
  {
   "cell_type": "code",
   "execution_count": 68,
   "metadata": {},
   "outputs": [],
   "source": [
    "def Thurston_norm_nums(point):\n",
    "    \n",
    "    if not cone.interior_contains(point):\n",
    "        raise ValueError('Your point is not in the fibered cone specified by the given veering triangulation')\n",
    "    \n",
    "    if len(point) != len(extreme_rays[0]):\n",
    "        raise ValueError('Your point must be of dimension', len(extreme_rays[0])) \n",
    "        \n",
    "    eq1 = (var('r')*P*extreme_surfs[0] + var('s')*P*extreme_surfs[1])[0] == point[0]\n",
    "    eq2 = (var('r')*P*extreme_surfs[0] + var('s')*P*extreme_surfs[1])[1] == point[1]\n",
    "    lin_comb = solve([eq1,eq2],r,s) # find the linear combination of the boundary vectors which give our point.\n",
    "\n",
    "    tris = lin_comb[0][0].rhs()*extreme_surfs[0] + lin_comb[0][1].rhs()*extreme_surfs[1] # get the corresponding branch equations\n",
    "    \n",
    "    prenorm = 0\n",
    "    for term in tris:\n",
    "        prenorm = prenorm + term\n",
    "        \n",
    "    return prenorm/2"
   ]
  },
  {
   "cell_type": "code",
   "execution_count": 69,
   "metadata": {},
   "outputs": [],
   "source": [
    "def Thurston_norm_vars(point): # This version just doesn't check if the input is in the cone.\n",
    "    \n",
    "    if len(point) != len(extreme_rays[0]):\n",
    "        raise ValueError('Your point must be of dimension', len(extreme_rays[0])) \n",
    "        \n",
    "    eq1 = (var('r')*P*extreme_surfs[0] + var('s')*P*extreme_surfs[1])[0] == point[0]\n",
    "    eq2 = (var('r')*P*extreme_surfs[0] + var('s')*P*extreme_surfs[1])[1] == point[1]\n",
    "    lin_comb = solve([eq1,eq2],r,s) # find the linear combination of the boundary vectors which give our point.\n",
    "\n",
    "    tris = lin_comb[0][0].rhs()*extreme_surfs[0] + lin_comb[0][1].rhs()*extreme_surfs[1] # get the corresponding branch equations\n",
    "    \n",
    "    prenorm = 0\n",
    "    for term in tris:\n",
    "        prenorm = prenorm + term\n",
    "        \n",
    "    return prenorm/2"
   ]
  },
  {
   "cell_type": "code",
   "execution_count": 70,
   "metadata": {},
   "outputs": [
    {
     "data": {
      "text/plain": [
       "2*a"
      ]
     },
     "execution_count": 70,
     "metadata": {},
     "output_type": "execute_result"
    }
   ],
   "source": [
    "Thurston_norm_vars((var('a'),var('b')))"
   ]
  },
  {
   "cell_type": "code",
   "execution_count": 71,
   "metadata": {},
   "outputs": [],
   "source": [
    "#boundaries_from_surf1 = taut_carried.boundary_cycles_from_surface(tri, angle, extreme_surfs[0]) # these are ther boundary classes in terms of branch equations\n",
    "#boundaries_from_surf2 = taut_carried.boundary_cycles_from_surface(tri, angle, extreme_surfs[1])\n",
    "\n",
    "#faces_in_hom = taut_homology.faces_in_homology(tri, angle, [])\n",
    "\n",
    "#boundary_classes_from_surf1 = [vector((0,0))]*len(boundaries_from_surf1) # will store the boundaries in terms of homology classes.\n",
    "#boundary_classes_from_surf2 = [vector((0,0))]*len(boundaries_from_surf2)\n",
    "\n",
    "#for i in range(len(boundaries_from_surf1)):\n",
    "#    for j in range(len(boundaries_from_surf1[i])):\n",
    "#        new = vector(boundaries_from_surf1[i][j]*vector(faces_in_hom[j]))\n",
    "#        boundary_classes_from_surf1[i] = boundary_classes_from_surf1[i] + new\n",
    "        \n",
    "#for i in range(len(boundaries_from_surf2)):\n",
    "#    for j in range(len(boundaries_from_surf2[i])):\n",
    "#        new = vector(boundaries_from_surf2[i][j]*vector(faces_in_hom[j]))\n",
    "#        boundary_classes_from_surf2[i] = boundary_classes_from_surf2[i] + new"
   ]
  },
  {
   "cell_type": "code",
   "execution_count": 72,
   "metadata": {},
   "outputs": [],
   "source": [
    "#faces_in_hom"
   ]
  },
  {
   "cell_type": "code",
   "execution_count": 73,
   "metadata": {},
   "outputs": [],
   "source": [
    "#print(boundary_classes_from_surf1)\n",
    "#print(boundary_classes_from_surf2)"
   ]
  },
  {
   "cell_type": "code",
   "execution_count": 74,
   "metadata": {},
   "outputs": [],
   "source": [
    "#def boundary(point): # I don't think this is quite right. See the Hironaka example.\n",
    "    \n",
    "#    num_boundaries = len(tri.vertices())\n",
    "#    eq1 = (var('r')*P*extreme_surfs[0] + var('s')*P*extreme_surfs[1])[0] == point[0]\n",
    "#    eq2 = (var('r')*P*extreme_surfs[0] + var('s')*P*extreme_surfs[1])[1] == point[1]\n",
    "#    lin_comb = solve([eq1,eq2],r,s) # find the linear combination of the boundary vectors which give our point.\n",
    "    \n",
    "#    all_boundary_classes = []\n",
    "#    for i in range(num_boundaries):\n",
    "#        all_boundary_classes.append(lin_comb[0][0].rhs()*boundary_classes_from_surf1[i] + lin_comb[0][1].rhs()*boundary_classes_from_surf2[i])\n",
    "\n",
    "#    return all_boundary_classes"
   ]
  },
  {
   "cell_type": "code",
   "execution_count": 75,
   "metadata": {},
   "outputs": [],
   "source": [
    "#boundary((var('a'),var('b')))"
   ]
  },
  {
   "cell_type": "code",
   "execution_count": 76,
   "metadata": {},
   "outputs": [],
   "source": [
    "# Now we have Tnorm(a,b) = 2g + Numberboundarycomponents - 2.\n",
    "# I think this only holds for primitive classes. (Which is fine)\n",
    "#def genus(point):\n",
    "#    boundary_components = boundary(point)\n",
    "#   num_boundaries = 0\n",
    "#    for i in range(len(boundary_components)):\n",
    "#        num_boundaries = num_boundaries + gcd(boundary_components[i][0], boundary_components[i][1])\n",
    "    \n",
    "#    return (Thurston_norm_vars(point)+2-num_boundaries)/2"
   ]
  },
  {
   "cell_type": "code",
   "execution_count": 77,
   "metadata": {},
   "outputs": [],
   "source": [
    "#genus((var('a'),var('b')))"
   ]
  },
  {
   "cell_type": "code",
   "execution_count": 78,
   "metadata": {},
   "outputs": [],
   "source": [
    "#def boundary_slopes(point):\n",
    "#    first_bound, second_bound = boundary(point)\n",
    "#    return (first_bound[1]/first_bound[0], second_bound[1]/second_bound[0])"
   ]
  },
  {
   "cell_type": "code",
   "execution_count": 79,
   "metadata": {},
   "outputs": [
    {
     "data": {
      "text/plain": [
       "a^2*b - a*b^2 - a*b - a + b"
      ]
     },
     "execution_count": 79,
     "metadata": {},
     "output_type": "execute_result"
    }
   ],
   "source": [
    "poly = taut_polynomial.taut_polynomial(tri, angle)\n",
    "poly"
   ]
  },
  {
   "cell_type": "code",
   "execution_count": 80,
   "metadata": {},
   "outputs": [],
   "source": [
    "def dila(point):\n",
    "    poly = taut_polynomial.taut_polynomial(tri, angle)\n",
    "    unspec_monos = poly.monomials()\n",
    "    monos = [] # the monomials in the specialization\n",
    "    for i in range(poly.number_of_terms()):\n",
    "        monos.append(unspec_monos[i].lc()*x^(poly.exponents()[i][0]*point[0] + poly.exponents()[i][1]*point[1]))\n",
    "        \n",
    "    spec = 0\n",
    "    for i in range(len(monos)):\n",
    "        spec = spec + monos[i]*poly.monomial_coefficient(poly.monomials()[i])\n",
    "        \n",
    "    sols = solve(spec == 0, x, to_poly_solve=True)\n",
    "    \n",
    "    sols2 = []\n",
    "    for i in range(len(sols)):\n",
    "        sols2.append(sols[i].rhs())\n",
    "       \n",
    "    for j in range(len(sols2)):\n",
    "        sols2[j] = abs(sols2[j])\n",
    "    \n",
    "    return max(sols2)"
   ]
  },
  {
   "cell_type": "code",
   "execution_count": 81,
   "metadata": {},
   "outputs": [],
   "source": [
    "def norm_dila_log(point):\n",
    "    return Thurston_norm_nums(point)*math.log(dila(point))\n",
    "\n",
    "def norm_dila_exp(point):\n",
    "    return dila(point)^Thurston_norm_nums(point)"
   ]
  },
  {
   "cell_type": "code",
   "execution_count": 82,
   "metadata": {},
   "outputs": [],
   "source": [
    "def spec_at_e(point):\n",
    "    unspec_monos = poly.monomials()\n",
    "    monos = [] # the monomials in the specialization\n",
    "    for i in range(poly.number_of_terms()):\n",
    "        monos.append(unspec_monos[i].lc()*exp(poly.exponents()[i][0]*point[0] + poly.exponents()[i][1]*point[1]))\n",
    "        \n",
    "    spec_at_e = 0\n",
    "    for i in range(len(monos)):\n",
    "        spec_at_e = spec_at_e + monos[i]*poly.monomial_coefficient(poly.monomials()[i])\n",
    "    \n",
    "    return spec_at_e"
   ]
  },
  {
   "cell_type": "code",
   "execution_count": 83,
   "metadata": {},
   "outputs": [
    {
     "data": {
      "image/png": "[encoded data removed]",
      "text/plain": [
       "Graphics object consisting of 10 graphics primitives"
      ]
     },
     "metadata": {},
     "output_type": "display_data"
    }
   ],
   "source": [
    "x,y = var('x,y')\n",
    "levset = implicit_plot(spec_at_e((x,y)) == 0, (-5,5), (-5,5), cmap=['green'])\n",
    "Plot = levset + cone_plot\n",
    "Plot.show()"
   ]
  },
  {
   "cell_type": "code",
   "execution_count": 55,
   "metadata": {},
   "outputs": [],
   "source": [
    "#x,y = var('x,y')\n",
    "#f(x,y) = Thurston_norm_vars((x,y))\n",
    "#g = spec_at_e((x,y))\n",
    "#h = -1*spec_at_e((x,y))\n",
    "\n",
    "#min_coords = minimize_constrained(f, [g,h], [-1,-1])\n",
    "#min_coords"
   ]
  },
  {
   "cell_type": "code",
   "execution_count": 56,
   "metadata": {},
   "outputs": [],
   "source": [
    "#p = spec_at_e((x,y))\n",
    "#f = Thurston_norm_vars((x,y))\n",
    "#L = var('L')\n",
    "#f,p,diff(p,x),diff(p,y)\n",
    "#solstemp = solve([diff(f,x) == L*diff(p,x), diff(f,y) == L*diff(p,y), p==0], x, y, L, algorithm='sympy', to_poly_solve = 'force')"
   ]
  },
  {
   "cell_type": "code",
   "execution_count": 57,
   "metadata": {},
   "outputs": [],
   "source": [
    "#norm_dila_log((round(solstemp[1].get(x),2),round(solstemp[1].get(y),2)))"
   ]
  },
  {
   "cell_type": "code",
   "execution_count": 58,
   "metadata": {},
   "outputs": [],
   "source": [
    "#norm_dila_log((1,-1))"
   ]
  },
  {
   "cell_type": "code",
   "execution_count": 59,
   "metadata": {},
   "outputs": [
    {
     "data": {
      "text/plain": [
       "(0.9624236501192069, 0)"
      ]
     },
     "execution_count": 59,
     "metadata": {},
     "output_type": "execute_result"
    }
   ],
   "source": [
    "m = mathematica\n",
    "x,y = var('x,y')\n",
    "f = str(Thurston_norm_vars((x,y)))\n",
    "g = str(spec_at_e((x,y)))\n",
    "newg = g.replace(\"e\", \"E\")\n",
    "\n",
    "#start = time.time()\n",
    "for i in range(len(m('NSolve[{Grad[' + f + ', {x,y}] == L*Grad[' + newg + ', {x,y}], ' + newg + ' == 0}, {x,y,L}, Reals]'))):\n",
    "    x1 = m('x/.NSolve[{Grad[' + f + ', {x,y}] == L*Grad[' + newg + ', {x,y}], ' + newg + ' == 0}, {x,y,L}, Reals][[' + str(i+1) + ']]')\n",
    "    y1 = m('y/.NSolve[{Grad[' + f + ', {x,y}] == L*Grad[' + newg + ', {x,y}], ' + newg + ' == 0}, {x,y,L}, Reals][[' + str(i+1) + ']]')\n",
    "    if cone.interior_contains((x1,y1)):\n",
    "            min_dir = (x1, y1)\n",
    "#end = time.time()\n",
    "#print(end - start)\n",
    "\n",
    "min_dir"
   ]
  },
  {
   "cell_type": "code",
   "execution_count": 84,
   "metadata": {},
   "outputs": [],
   "source": [
    "def plot_in_one(sig):\n",
    "    boundaries = taut_polytope.cone_in_homology(sig) # These are rays spanning the cone of carried classes\n",
    "    rays = taut_polytope.taut_rays(sig) # These are rays spanning the cone of carried surfaces\n",
    "    P = taut_polytope.projection_to_homology(sig)\n",
    "    extreme_surfs = []\n",
    "\n",
    "    for ray in rays: # this for loop stores the surfaces (in terms of their branch equations) that define the boundary of the cone\n",
    "        if P*ray in boundaries:\n",
    "            extreme_surfs.append(ray)\n",
    "        if len(extreme_surfs) == len(boundaries):\n",
    "            break\n",
    "\n",
    "    sums = [] # next we add up the number of triangles in the boundary surfaces\n",
    "    for surf in extreme_surfs:\n",
    "        count = 0\n",
    "        for i in range(len(surf)):\n",
    "            count = count + surf[i]\n",
    "        sums.append(count)\n",
    "\n",
    "    tnorms = [term/2 for term in sums] # their Thurston norms are half the number of boundary components\n",
    "        \n",
    "    corners = []\n",
    "    for i in range(len(boundaries)):\n",
    "        corners.append([0]*len(boundaries[i]))\n",
    "    \n",
    "    for i in range(len(corners)): # the corners of the fibered face are the boundaries divided by the Thurston norm.\n",
    "        for j in range(len(corners[i])):\n",
    "            corners[i][j] = boundaries[i][j]/tnorms[i]\n",
    "            \n",
    "    cone = Cone(corners)\n",
    "    cone_plot = cone.plot(mode='box', xmin = -5, xmax = 5, ymin = -5, ymax = 5)\n",
    "    poly = taut_polynomial.taut_polynomial(tri, angle)\n",
    "    \n",
    "    x,y = var('x,y')\n",
    "    levset = implicit_plot(spec_at_e((x,y)) == 0, (-5,5), (-5,5), cmap=['green'])\n",
    "    Plot = levset + cone_plot\n",
    "    return Plot\n",
    "    "
   ]
  },
  {
   "cell_type": "code",
   "execution_count": null,
   "metadata": {},
   "outputs": [],
   "source": []
  }
 ],
 "metadata": {
  "kernelspec": {
   "display_name": "SageMath 9.6",
   "language": "sage",
   "name": "sagemath-9.6"
  },
  "language_info": {
   "codemirror_mode": {
    "name": "ipython",
    "version": 3
   },
   "file_extension": ".py",
   "mimetype": "text/x-python",
   "name": "python",
   "nbconvert_exporter": "python",
   "pygments_lexer": "ipython3",
   "version": "3.10.3"
  }
 },
 "nbformat": 4,
 "nbformat_minor": 5
}
