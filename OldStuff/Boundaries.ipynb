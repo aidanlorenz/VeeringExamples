{
 "cells": [
  {
   "cell_type": "code",
   "execution_count": 166,
   "metadata": {},
   "outputs": [],
   "source": [
    "import regina\n",
    "import snappy\n",
    "from veering import taut_polytope\n",
    "from veering import taut"
   ]
  },
  {
   "cell_type": "code",
   "execution_count": 167,
   "metadata": {},
   "outputs": [],
   "source": [
    "sig = 'cPcbbbdxm_10'\n",
    "tri, angle = taut.isosig_to_tri_angle(sig)"
   ]
  },
  {
   "cell_type": "code",
   "execution_count": 168,
   "metadata": {},
   "outputs": [
    {
     "name": "stdout",
     "output_type": "stream",
     "text": [
      "0 [0 (012), 1 (210)]\n",
      "1 [0 (013), 1 (321)]\n",
      "2 [0 (023), 1 (130)]\n",
      "3 [0 (123), 1 (023)]\n"
     ]
    }
   ],
   "source": [
    "for triangle in tri.triangles():\n",
    "    print(triangle.index(), triangle.embeddings())"
   ]
  },
  {
   "cell_type": "code",
   "execution_count": 169,
   "metadata": {},
   "outputs": [],
   "source": [
    "def kinda_boundary_matrix_for_one_component(triangulation):\n",
    "    # Matrix giving the map C_2(M) --> C_1(dM) determined in the following way: every triangle (2 dimensional simplex)\n",
    "    # in the triangulation of M gives 3 edges on the boundary since we lopped off the vertices.\n",
    "    # Therefore C_2(M) = Z^(# of triangles) and C_1(dM) = Z^(3*# of triangles). We \"label\" the edges according to the\n",
    "    # following ordering: tetrahedron 0 goes first, face (012) goes first, cornder 0. Then corner 1, then corner 2.\n",
    "    # Then face (013) corner 0, corner 1, corner 3. Then face (023) corner 0, corner 2, corner 3.\n",
    "    # Then face (123) corner 1, corner 2, corner 3. The move on to tetrahedron 2 and repeat.\n",
    "    \n",
    "    # Not sure if this is the same labeling regina uses in its triangulation of the boundary so this matrix might\n",
    "    # have some rows shuffled around from what it should be according to regina's triangulation. Need to figure that out.\n",
    "    \n",
    "    triangles = triangulation.triangles()\n",
    "    mat = []\n",
    "    for i in range(len(triangles)):\n",
    "        init = [0]*len(triangles)*3\n",
    "        for j in range(3):\n",
    "            init[3*i+j] = 1\n",
    "        mat.append(init) \n",
    "        \n",
    "    return Matrix(mat).transpose()"
   ]
  },
  {
   "cell_type": "code",
   "execution_count": 170,
   "metadata": {},
   "outputs": [
    {
     "name": "stdout",
     "output_type": "stream",
     "text": [
      "[1 0 0 0]\n",
      "[1 0 0 0]\n",
      "[1 0 0 0]\n",
      "[0 1 0 0]\n",
      "[0 1 0 0]\n",
      "[0 1 0 0]\n",
      "[0 0 1 0]\n",
      "[0 0 1 0]\n",
      "[0 0 1 0]\n",
      "[0 0 0 1]\n",
      "[0 0 0 1]\n",
      "[0 0 0 1]\n"
     ]
    }
   ],
   "source": [
    "print(kinda_boundary_matrix_for_one_component(tri))"
   ]
  },
  {
   "cell_type": "code",
   "execution_count": 142,
   "metadata": {},
   "outputs": [],
   "source": [
    "P = taut_polytope.projection_to_homology(sig)\n",
    "rays = taut_polytope.taut_rays(sig)"
   ]
  },
  {
   "cell_type": "code",
   "execution_count": 172,
   "metadata": {},
   "outputs": [
    {
     "data": {
      "text/plain": [
       "[(0, 1, 0, 1), (1, 0, 1, 0)]"
      ]
     },
     "execution_count": 172,
     "metadata": {},
     "output_type": "execute_result"
    }
   ],
   "source": [
    "rays"
   ]
  },
  {
   "cell_type": "code",
   "execution_count": 173,
   "metadata": {},
   "outputs": [
    {
     "name": "stdout",
     "output_type": "stream",
     "text": [
      "[(0, 0, 0, 1, 1, 1, 0, 0, 0, 1, 1, 1), (1, 1, 1, 0, 0, 0, 1, 1, 1, 0, 0, 0)]\n"
     ]
    }
   ],
   "source": [
    "print([kinda_boundary_matrix_for_one_component(tri)*vector(ray) for ray in rays])"
   ]
  },
  {
   "cell_type": "code",
   "execution_count": 148,
   "metadata": {},
   "outputs": [],
   "source": [
    "boundary_to_0 = Matrix([[-1,-1,0,0,0,-1,0,-1,0,1,1,0],[1,0,-1,0,1,0,0,0,1,-1,0,1],[0,1,1,-1,0,0,-1,0,0,0,-1,-1],[0,0,0,1,-1,1,1,1,-1,0,0,0]])"
   ]
  },
  {
   "cell_type": "code",
   "execution_count": 175,
   "metadata": {},
   "outputs": [
    {
     "data": {
      "text/plain": [
       "(-3, 1, 1, 1)"
      ]
     },
     "execution_count": 175,
     "metadata": {},
     "output_type": "execute_result"
    }
   ],
   "source": [
    "boundary_to_0*kinda_boundary_matrix_for_one_component(tri)*vector(rays[1])"
   ]
  },
  {
   "cell_type": "code",
   "execution_count": 176,
   "metadata": {},
   "outputs": [],
   "source": [
    "boundary_to_1 = Matrix([[1,0,0,-1,0,0,0,0],[-1,0,1,0,0,0,0,0],[1,1,0,0,0,0,0,0],[0,1,0,0,0,-1,0,0],[0,1,0,0,-1,0,0,0],[0,0,-1,0,-1,0,0,0],[0,0,1,0,0,0,-1,0],[0,0,0,1,0,1,0,0],[0,0,0,1,0,0,-1,0],[0,0,0,0,-1,0,0,1],[0,0,0,0,0,1,0,-1],[0,0,0,0,0,0,1,1]])"
   ]
  },
  {
   "cell_type": "code",
   "execution_count": 178,
   "metadata": {},
   "outputs": [
    {
     "data": {
      "text/plain": [
       "[0 0 0 0 0 0 0 0]\n",
       "[0 0 0 0 0 0 0 0]\n",
       "[0 0 0 0 0 0 0 0]\n",
       "[0 0 0 0 0 0 0 0]"
      ]
     },
     "execution_count": 178,
     "metadata": {},
     "output_type": "execute_result"
    }
   ],
   "source": [
    "boundary_to_0*boundary_to_1"
   ]
  },
  {
   "cell_type": "code",
   "execution_count": 200,
   "metadata": {},
   "outputs": [
    {
     "name": "stdout",
     "output_type": "stream",
     "text": [
      "Size of the skeleton:\n",
      "  Triangles: 8\n",
      "  Edges: 12\n",
      "  Vertices: 4\n",
      "\n",
      "Triangle gluing:\n",
      "  Triangle  |  glued to:     (01)     (02)     (12)\n",
      "  ----------+--------------------------------------\n",
      "         0  |              3 (02)   2 (01)   1 (10)\n",
      "         1  |              0 (21)   5 (20)   4 (02)\n",
      "         2  |              0 (02)   4 (12)   6 (02)\n",
      "         3  |              5 (10)   0 (01)   6 (21)\n",
      "         4  |              7 (10)   1 (12)   2 (02)\n",
      "         5  |              3 (10)   1 (20)   7 (02)\n",
      "         6  |              7 (21)   2 (12)   3 (21)\n",
      "         7  |              4 (10)   5 (12)   6 (10)\n",
      "\n",
      "Vertices:\n",
      "  Triangle  |  vertex:    0   1   2\n",
      "  ----------+----------------------\n",
      "         0  |             0   1   2\n",
      "         1  |             2   1   3\n",
      "         2  |             0   2   3\n",
      "         3  |             0   3   1\n",
      "         4  |             1   0   3\n",
      "         5  |             3   0   2\n",
      "         6  |             2   1   3\n",
      "         7  |             0   1   2\n",
      "\n",
      "Edges:\n",
      "  Triangle  |  edge:   01  02  12\n",
      "  ----------+--------------------\n",
      "         0  |           0   1   2\n",
      "         1  |           2   3   4\n",
      "         2  |           1   5   6\n",
      "         3  |           7   0   8\n",
      "         4  |           9   4   5\n",
      "         5  |           7   3  10\n",
      "         6  |          11   6   8\n",
      "         7  |           9  10  11\n",
      "\n",
      "\n"
     ]
    }
   ],
   "source": [
    "boundary = tri.boundaryComponents()[0].build()\n",
    "boundary.orient()\n",
    "print(boundary.detail())"
   ]
  },
  {
   "cell_type": "code",
   "execution_count": 204,
   "metadata": {},
   "outputs": [
    {
     "ename": "AttributeError",
     "evalue": "'regina.engine.Triangulation2' object has no attribute 'boundaryMap'",
     "output_type": "error",
     "traceback": [
      "\u001b[0;31m---------------------------------------------------------------------------\u001b[0m",
      "\u001b[0;31mAttributeError\u001b[0m                            Traceback (most recent call last)",
      "\u001b[0;32m/var/folders/d6/3chw8fvj2_lgppc79rk52_6w0000gn/T/ipykernel_43537/1476702264.py\u001b[0m in \u001b[0;36m<module>\u001b[0;34m\u001b[0m\n\u001b[0;32m----> 1\u001b[0;31m \u001b[0mboundary\u001b[0m\u001b[0;34m.\u001b[0m\u001b[0mboundaryMap\u001b[0m\u001b[0;34m(\u001b[0m\u001b[0mInteger\u001b[0m\u001b[0;34m(\u001b[0m\u001b[0;36m1\u001b[0m\u001b[0;34m)\u001b[0m\u001b[0;34m)\u001b[0m\u001b[0;34m\u001b[0m\u001b[0;34m\u001b[0m\u001b[0m\n\u001b[0m",
      "\u001b[0;31mAttributeError\u001b[0m: 'regina.engine.Triangulation2' object has no attribute 'boundaryMap'"
     ]
    }
   ],
   "source": [
    "boundary.boundaryMap(1)"
   ]
  },
  {
   "cell_type": "code",
   "execution_count": null,
   "metadata": {},
   "outputs": [],
   "source": []
  }
 ],
 "metadata": {
  "kernelspec": {
   "display_name": "SageMath 9.6",
   "language": "sage",
   "name": "sagemath-9.6"
  },
  "language_info": {
   "codemirror_mode": {
    "name": "ipython",
    "version": 3
   },
   "file_extension": ".py",
   "mimetype": "text/x-python",
   "name": "python",
   "nbconvert_exporter": "python",
   "pygments_lexer": "ipython3",
   "version": "3.10.3"
  }
 },
 "nbformat": 4,
 "nbformat_minor": 2
}
