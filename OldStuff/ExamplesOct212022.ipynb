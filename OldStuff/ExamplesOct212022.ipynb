{
 "cells": [
  {
   "cell_type": "code",
   "execution_count": 1,
   "metadata": {},
   "outputs": [],
   "source": [
    "from veering import taut_polytope\n",
    "from veering import taut\n",
    "from veering import taut_homology\n",
    "from veering import taut_carried\n",
    "from veering import fundamental_domain\n",
    "from veering import taut_polynomial\n",
    "from veering import transverse_taut\n",
    "from sage.plot.contour_plot import ContourPlot\n",
    "from itertools import combinations\n",
    "from itertools import permutations\n",
    "from veering import carried_surface"
   ]
  },
  {
   "cell_type": "code",
   "execution_count": 46,
   "metadata": {},
   "outputs": [
    {
     "data": {
      "text/plain": [
       "(0, 1, 2, 0, 3, 0, 1, 0, 0, 1)"
      ]
     },
     "execution_count": 46,
     "metadata": {},
     "output_type": "execute_result"
    }
   ],
   "source": [
    "sig = 'fLLQcbecdeepuwsua_20102'\n",
    "tri, angle = taut.isosig_to_tri_angle(sig)\n",
    "rays = taut_polytope.taut_rays(sig) # rays (specified by surfaces which are described by solutions to branch equations) spanning the cone of carried classes\n",
    "P = taut_polytope.projection_to_homology(sig) # multiply a surface (expressed as a solution to the branch equations) by this matrix to get its image in H_2(M, dM).\n",
    "\n",
    "ray = rays[4]\n",
    "ray"
   ]
  },
  {
   "cell_type": "code",
   "execution_count": 47,
   "metadata": {},
   "outputs": [
    {
     "data": {
      "text/plain": [
       "(2, 2, <regina.engine.Triangulation2 object at 0x16eac6a70>)"
      ]
     },
     "execution_count": 47,
     "metadata": {},
     "output_type": "execute_result"
    }
   ],
   "source": [
    "carried_surface.genus_punctures(tri, angle, ray, return_surface = True)"
   ]
  },
  {
   "cell_type": "code",
   "execution_count": 13,
   "metadata": {},
   "outputs": [
    {
     "data": {
      "text/plain": [
       "[[1, 0, 0, -1, -1, 0, 0, 0, 2, 3], [-1, 0, 0, 1, 1, 0, 0, 0, -2, -3]]"
      ]
     },
     "execution_count": 13,
     "metadata": {},
     "output_type": "execute_result"
    }
   ],
   "source": [
    "taut_carried.boundary_cycles_from_surface(tri, angle, ray)"
   ]
  },
  {
   "cell_type": "code",
   "execution_count": 23,
   "metadata": {},
   "outputs": [],
   "source": [
    "def get_directed_dual_graph(sig):\n",
    "    tri, angle = taut.isosig_to_tri_angle(sig)\n",
    "    G = DiGraph(loops = True, multiedges = True)\n",
    "    top_bottom = transverse_taut.top_bottom_embeddings_of_faces(tri, angle)\n",
    "    for face in tri.triangles():\n",
    "        if face.embedding(0) in top_bottom[1]:\n",
    "            G.add_edge(int(str(face.embedding(1))[0]), int(str(face.embedding(0))[0]), face.index())\n",
    "        else:\n",
    "            G.add_edge(int(str(face.embedding(0))[0]), int(str(face.embedding(1))[0]), face.index())\n",
    "    return G\n",
    "\n",
    "def get_edge_in_graph_from_face_label(graph, label):\n",
    "    for edge in graph.edges():\n",
    "        if edge[2] == label:\n",
    "            return edge\n",
    "\n",
    "def get_num_punctures(sig, surface):\n",
    "    # This is another attempt at the above function.\n",
    "    \n",
    "    #surface = get_surf_from_point_in_homology(sig, point)\n",
    "    G = get_directed_dual_graph(sig) # load the dual graph\n",
    "    tri, angle = taut.isosig_to_tri_angle(sig) \n",
    "    boundaries = taut_carried.boundary_cycles_from_surface(tri, angle, surface) # load the list of faces which in the dual graph are homotopic to the boundary components. Notice the last input is just an example surface to work with.\n",
    "    #print('faces traversed in the boundaries are:', boundaries)\n",
    "    temp_boundaries = boundaries[:] # temporary list that we will manipulate to keep count\n",
    "    count = 0 # This will keep count of the number of boundary components\n",
    "    already_counted = []\n",
    "    for l in range(len(temp_boundaries)): # loop over all the boundary components of the 3-manifold\n",
    "        #print('already_counted:', already_counted)\n",
    "        temp_boundary = temp_boundaries[l]\n",
    "        temp_boundary = [abs(ele) for ele in temp_boundary] # since we don't care about direction and we want to subtract things later, just make everything positive.\n",
    "        nonzero_indices = [] # we want to make a list of every face which actually occurs in a loop homotopic to a boundary component.\n",
    "        for i in range(len(temp_boundary)):\n",
    "            if temp_boundary[i] != 0:\n",
    "                nonzero_indices.append(i)\n",
    "        \n",
    "        longest_possible_cycle = len(nonzero_indices) # the longest possible cycle is the number of faces which occur, since faces can't occur twice in a loop.\n",
    "\n",
    "        while temp_boundary != [0]*len(temp_boundary): # while there are still face entries that haven't been accounted for in loops\n",
    "            #print(count) # for testing\n",
    "            for i in range(1, longest_possible_cycle + 1):\n",
    "                #print('count:', count)\n",
    "                #print('already counted:', already_counted)\n",
    "                subset = list(combinations(nonzero_indices, i)) # make lists of all possible loops consisting of i faces\n",
    "                #print('length', i, 'subsets of nonzero edges:', subset) # for testing\n",
    "                for j in range(len(subset)): # for each potential i element loop\n",
    "                    edges = []\n",
    "                    for face in subset[j]:\n",
    "                        edges.append(get_edge_in_graph_from_face_label(G,face)) \n",
    "                    #print('edges corresponding to', subset[j], 'are', edges) # for testing\n",
    "                    subgraph = DiGraph(edges) # build the graph with the edges in this subset\n",
    "                    to_check = [edge[2] for edge in edges]\n",
    "                    #print('to check:', to_check)\n",
    "                    to_checks = list(map(list,permutations(to_check)))\n",
    "                    #print('to_checks:', to_checks)\n",
    "                    #print('is loop:', subgraph.is_cycle(directed_cycle = False)) # for testing\n",
    "                    if subgraph.is_cycle(directed_cycle = False): # if that subgraph forms a loop\n",
    "                        if 0 not in [temp_boundary[face] for face in subset[j]]: # and temp_boundary still has nonzero entries for all the faces in that loop (so they haven't all been accounted for)\n",
    "                            sub = min([temp_boundary[l] for l in subset[j]]) # subtract however many times this loops occurs from each entry in temp_boundary\n",
    "                            for face in subset[j]:\n",
    "                                temp_boundary[face] -= sub\n",
    "                            #print(temp_boundary) # This is for testing\n",
    "                            if [loop for loop in already_counted if loop in to_checks] == []: # if we haven't alreayd counted this loop\n",
    "                                already_counted.append(to_check)\n",
    "                                #count += sub # This wasn't aligning with the examples from the veering code function genus_punctures.\n",
    "                                count += 1 # and add another boundary component to temp.\n",
    "                    \n",
    "    return count"
   ]
  },
  {
   "cell_type": "code",
   "execution_count": 24,
   "metadata": {},
   "outputs": [
    {
     "data": {
      "text/plain": [
       "2"
      ]
     },
     "execution_count": 24,
     "metadata": {},
     "output_type": "execute_result"
    }
   ],
   "source": [
    "get_num_punctures(sig, ray)"
   ]
  },
  {
   "cell_type": "code",
   "execution_count": 27,
   "metadata": {},
   "outputs": [
    {
     "data": {
      "text/plain": [
       "[<regina.engine.Face3_0 object at 0x16eac71f0>,\n",
       " <regina.engine.Face3_0 object at 0x16eac6b30>,\n",
       " <regina.engine.Face3_0 object at 0x16eac5a70>]"
      ]
     },
     "execution_count": 27,
     "metadata": {},
     "output_type": "execute_result"
    }
   ],
   "source": [
    "test = 'gvLQQcdeffeffffaafa_201102'\n",
    "tri2, angle2 = taut.isosig_to_tri_angle(test)\n",
    "tri2.vertices()"
   ]
  },
  {
   "cell_type": "code",
   "execution_count": 48,
   "metadata": {},
   "outputs": [
    {
     "data": {
      "text/plain": [
       "[[1, 1, 0, 0, 1, 0, 1, 0, 0, 0, 0, -1],\n",
       " [-1, -1, 0, 0, 0, 0, 0, 0, 0, 0, 1, 1],\n",
       " [0, 0, 0, 0, -1, 0, -1, 0, 0, 0, -1, 0]]"
      ]
     },
     "execution_count": 48,
     "metadata": {},
     "output_type": "execute_result"
    }
   ],
   "source": [
    "rays2 = taut_polytope.taut_rays(test)\n",
    "ray2 = rays2[0]\n",
    "taut_carried.boundary_cycles_from_surface(tri2, angle2, ray2)"
   ]
  },
  {
   "cell_type": "code",
   "execution_count": 45,
   "metadata": {},
   "outputs": [
    {
     "ename": "KeyboardInterrupt",
     "evalue": "",
     "output_type": "error",
     "traceback": [
      "\u001b[0;31m---------------------------------------------------------------------------\u001b[0m",
      "\u001b[0;31mKeyboardInterrupt\u001b[0m                         Traceback (most recent call last)",
      "\u001b[0;32m/var/folders/d6/3chw8fvj2_lgppc79rk52_6w0000gn/T/ipykernel_45778/4130279333.py\u001b[0m in \u001b[0;36m<module>\u001b[0;34m\u001b[0m\n\u001b[1;32m      1\u001b[0m \u001b[0ma\u001b[0m\u001b[0;34m,\u001b[0m\u001b[0mb\u001b[0m \u001b[0;34m=\u001b[0m \u001b[0mvar\u001b[0m\u001b[0;34m(\u001b[0m\u001b[0;34m'a,b'\u001b[0m\u001b[0;34m)\u001b[0m\u001b[0;34m\u001b[0m\u001b[0;34m\u001b[0m\u001b[0m\n\u001b[0;32m----> 2\u001b[0;31m \u001b[0mget_num_punctures\u001b[0m\u001b[0;34m(\u001b[0m\u001b[0msig\u001b[0m\u001b[0;34m,\u001b[0m \u001b[0;34m(\u001b[0m\u001b[0;34m-\u001b[0m\u001b[0ma\u001b[0m\u001b[0;34m,\u001b[0m \u001b[0mInteger\u001b[0m\u001b[0;34m(\u001b[0m\u001b[0;36m0\u001b[0m\u001b[0;34m)\u001b[0m\u001b[0;34m,\u001b[0m \u001b[0;34m-\u001b[0m\u001b[0ma\u001b[0m\u001b[0;34m,\u001b[0m \u001b[0;34m-\u001b[0m\u001b[0mInteger\u001b[0m\u001b[0;34m(\u001b[0m\u001b[0;36m2\u001b[0m\u001b[0;34m)\u001b[0m\u001b[0;34m*\u001b[0m\u001b[0ma\u001b[0m \u001b[0;34m-\u001b[0m \u001b[0mb\u001b[0m\u001b[0;34m,\u001b[0m \u001b[0;34m-\u001b[0m\u001b[0mInteger\u001b[0m\u001b[0;34m(\u001b[0m\u001b[0;36m4\u001b[0m\u001b[0;34m)\u001b[0m\u001b[0;34m*\u001b[0m\u001b[0ma\u001b[0m \u001b[0;34m-\u001b[0m \u001b[0mInteger\u001b[0m\u001b[0;34m(\u001b[0m\u001b[0;36m2\u001b[0m\u001b[0;34m)\u001b[0m\u001b[0;34m*\u001b[0m\u001b[0mb\u001b[0m\u001b[0;34m,\u001b[0m \u001b[0;34m-\u001b[0m\u001b[0ma\u001b[0m\u001b[0;34m,\u001b[0m \u001b[0;34m-\u001b[0m\u001b[0ma\u001b[0m\u001b[0;34m,\u001b[0m \u001b[0mInteger\u001b[0m\u001b[0;34m(\u001b[0m\u001b[0;36m0\u001b[0m\u001b[0;34m)\u001b[0m\u001b[0;34m,\u001b[0m \u001b[0;34m-\u001b[0m\u001b[0mInteger\u001b[0m\u001b[0;34m(\u001b[0m\u001b[0;36m2\u001b[0m\u001b[0;34m)\u001b[0m\u001b[0;34m*\u001b[0m\u001b[0ma\u001b[0m \u001b[0;34m-\u001b[0m \u001b[0mb\u001b[0m\u001b[0;34m,\u001b[0m \u001b[0mInteger\u001b[0m\u001b[0;34m(\u001b[0m\u001b[0;36m0\u001b[0m\u001b[0;34m)\u001b[0m\u001b[0;34m)\u001b[0m\u001b[0;34m)\u001b[0m\u001b[0;34m\u001b[0m\u001b[0;34m\u001b[0m\u001b[0m\n\u001b[0m",
      "\u001b[0;32m/var/folders/d6/3chw8fvj2_lgppc79rk52_6w0000gn/T/ipykernel_45778/116955225.py\u001b[0m in \u001b[0;36mget_num_punctures\u001b[0;34m(sig, surface)\u001b[0m\n\u001b[1;32m     37\u001b[0m         \u001b[0mlongest_possible_cycle\u001b[0m \u001b[0;34m=\u001b[0m \u001b[0mlen\u001b[0m\u001b[0;34m(\u001b[0m\u001b[0mnonzero_indices\u001b[0m\u001b[0;34m)\u001b[0m \u001b[0;31m# the longest possible cycle is the number of faces which occur, since faces can't occur twice in a loop.\u001b[0m\u001b[0;34m\u001b[0m\u001b[0;34m\u001b[0m\u001b[0m\n\u001b[1;32m     38\u001b[0m \u001b[0;34m\u001b[0m\u001b[0m\n\u001b[0;32m---> 39\u001b[0;31m         \u001b[0;32mwhile\u001b[0m \u001b[0mtemp_boundary\u001b[0m \u001b[0;34m!=\u001b[0m \u001b[0;34m[\u001b[0m\u001b[0mInteger\u001b[0m\u001b[0;34m(\u001b[0m\u001b[0;36m0\u001b[0m\u001b[0;34m)\u001b[0m\u001b[0;34m]\u001b[0m\u001b[0;34m*\u001b[0m\u001b[0mlen\u001b[0m\u001b[0;34m(\u001b[0m\u001b[0mtemp_boundary\u001b[0m\u001b[0;34m)\u001b[0m\u001b[0;34m:\u001b[0m \u001b[0;31m# while there are still face entries that haven't been accounted for in loops\u001b[0m\u001b[0;34m\u001b[0m\u001b[0;34m\u001b[0m\u001b[0m\n\u001b[0m\u001b[1;32m     40\u001b[0m             \u001b[0;31m#print(count) # for testing\u001b[0m\u001b[0;34m\u001b[0m\u001b[0;34m\u001b[0m\u001b[0m\n\u001b[1;32m     41\u001b[0m             \u001b[0;32mfor\u001b[0m \u001b[0mi\u001b[0m \u001b[0;32min\u001b[0m \u001b[0mrange\u001b[0m\u001b[0;34m(\u001b[0m\u001b[0mInteger\u001b[0m\u001b[0;34m(\u001b[0m\u001b[0;36m1\u001b[0m\u001b[0;34m)\u001b[0m\u001b[0;34m,\u001b[0m \u001b[0mlongest_possible_cycle\u001b[0m \u001b[0;34m+\u001b[0m \u001b[0mInteger\u001b[0m\u001b[0;34m(\u001b[0m\u001b[0;36m1\u001b[0m\u001b[0;34m)\u001b[0m\u001b[0;34m)\u001b[0m\u001b[0;34m:\u001b[0m\u001b[0;34m\u001b[0m\u001b[0;34m\u001b[0m\u001b[0m\n",
      "\u001b[0;32m/private/var/tmp/sage-9.6-current/local/var/lib/sage/venv-python3.10.3/lib/python3.10/site-packages/sage/symbolic/expression.pyx\u001b[0m in \u001b[0;36msage.symbolic.expression.Expression.__bool__ (build/cythonized/sage/symbolic/expression.cpp:48528)\u001b[0;34m()\u001b[0m\n\u001b[1;32m   3492\u001b[0m                 \u001b[0;32mif\u001b[0m \u001b[0mpynac_result\u001b[0m \u001b[0;34m==\u001b[0m \u001b[0mrelational_notimplemented\u001b[0m \u001b[0;32mand\u001b[0m \u001b[0mself\u001b[0m\u001b[0;34m.\u001b[0m\u001b[0moperator\u001b[0m\u001b[0;34m(\u001b[0m\u001b[0;34m)\u001b[0m\u001b[0;34m==\u001b[0m\u001b[0moperator\u001b[0m\u001b[0;34m.\u001b[0m\u001b[0mne\u001b[0m\u001b[0;34m:\u001b[0m\u001b[0;34m\u001b[0m\u001b[0;34m\u001b[0m\u001b[0m\n\u001b[1;32m   3493\u001b[0m                     \u001b[0;32mreturn\u001b[0m \u001b[0;32mnot\u001b[0m \u001b[0;34m(\u001b[0m\u001b[0mself\u001b[0m\u001b[0;34m.\u001b[0m\u001b[0mlhs\u001b[0m\u001b[0;34m(\u001b[0m\u001b[0;34m)\u001b[0m\u001b[0;34m-\u001b[0m\u001b[0mself\u001b[0m\u001b[0;34m.\u001b[0m\u001b[0mrhs\u001b[0m\u001b[0;34m(\u001b[0m\u001b[0;34m)\u001b[0m\u001b[0;34m)\u001b[0m\u001b[0;34m.\u001b[0m\u001b[0mis_trivial_zero\u001b[0m\u001b[0;34m(\u001b[0m\u001b[0;34m)\u001b[0m\u001b[0;34m\u001b[0m\u001b[0;34m\u001b[0m\u001b[0m\n\u001b[0;32m-> 3494\u001b[0;31m                 \u001b[0mres\u001b[0m \u001b[0;34m=\u001b[0m \u001b[0mself\u001b[0m\u001b[0;34m.\u001b[0m\u001b[0mtest_relation\u001b[0m\u001b[0;34m(\u001b[0m\u001b[0;34m)\u001b[0m\u001b[0;34m\u001b[0m\u001b[0;34m\u001b[0m\u001b[0m\n\u001b[0m\u001b[1;32m   3495\u001b[0m                 \u001b[0;32mif\u001b[0m \u001b[0mres\u001b[0m \u001b[0;32min\u001b[0m \u001b[0;34m(\u001b[0m\u001b[0;32mTrue\u001b[0m\u001b[0;34m,\u001b[0m \u001b[0;32mFalse\u001b[0m\u001b[0;34m)\u001b[0m\u001b[0;34m:\u001b[0m\u001b[0;34m\u001b[0m\u001b[0;34m\u001b[0m\u001b[0m\n\u001b[1;32m   3496\u001b[0m                     \u001b[0;32mreturn\u001b[0m \u001b[0mres\u001b[0m\u001b[0;34m\u001b[0m\u001b[0;34m\u001b[0m\u001b[0m\n",
      "\u001b[0;32m/private/var/tmp/sage-9.6-current/local/var/lib/sage/venv-python3.10.3/lib/python3.10/site-packages/sage/symbolic/expression.pyx\u001b[0m in \u001b[0;36msage.symbolic.expression.Expression.test_relation (build/cythonized/sage/symbolic/expression.cpp:50607)\u001b[0;34m()\u001b[0m\n\u001b[1;32m   3679\u001b[0m                             \u001b[0mdomain\u001b[0m \u001b[0;34m=\u001b[0m \u001b[0mdomain\u001b[0m\u001b[0;34m.\u001b[0m\u001b[0mto_prec\u001b[0m\u001b[0;34m(\u001b[0m\u001b[0mint\u001b[0m\u001b[0;34m(\u001b[0m\u001b[0mdomain\u001b[0m\u001b[0;34m.\u001b[0m\u001b[0mprec\u001b[0m\u001b[0;34m(\u001b[0m\u001b[0;34m)\u001b[0m \u001b[0;34m*\u001b[0m \u001b[0;36m1.5\u001b[0m\u001b[0;34m)\u001b[0m\u001b[0;34m)\u001b[0m\u001b[0;34m\u001b[0m\u001b[0;34m\u001b[0m\u001b[0m\n\u001b[1;32m   3680\u001b[0m                         \u001b[0;31m# Uniform [-1,1] isn't the best distribution to use...\u001b[0m\u001b[0;34m\u001b[0m\u001b[0;34m\u001b[0m\u001b[0m\n\u001b[0;32m-> 3681\u001b[0;31m                         \u001b[0mvar_dict\u001b[0m \u001b[0;34m=\u001b[0m \u001b[0mdict\u001b[0m\u001b[0;34m(\u001b[0m\u001b[0;34m[\u001b[0m\u001b[0;34m(\u001b[0m\u001b[0mv\u001b[0m\u001b[0;34m,\u001b[0m \u001b[0mdomain\u001b[0m\u001b[0;34m.\u001b[0m\u001b[0mrandom_element\u001b[0m\u001b[0;34m(\u001b[0m\u001b[0;34m)\u001b[0m \u001b[0;34m*\u001b[0m \u001b[0mdomain\u001b[0m\u001b[0;34m.\u001b[0m\u001b[0mrandom_element\u001b[0m\u001b[0;34m(\u001b[0m\u001b[0;34m-\u001b[0m\u001b[0;36m2\u001b[0m\u001b[0;34m,\u001b[0m\u001b[0;36m6\u001b[0m\u001b[0;34m)\u001b[0m\u001b[0;34m.\u001b[0m\u001b[0mexp\u001b[0m\u001b[0;34m(\u001b[0m\u001b[0;34m)\u001b[0m\u001b[0;34m)\u001b[0m \u001b[0;32mfor\u001b[0m \u001b[0mv\u001b[0m \u001b[0;32min\u001b[0m \u001b[0mvars\u001b[0m\u001b[0;34m]\u001b[0m\u001b[0;34m)\u001b[0m\u001b[0;34m\u001b[0m\u001b[0;34m\u001b[0m\u001b[0m\n\u001b[0m\u001b[1;32m   3682\u001b[0m                     \u001b[0;32melse\u001b[0m\u001b[0;34m:\u001b[0m\u001b[0;34m\u001b[0m\u001b[0;34m\u001b[0m\u001b[0m\n\u001b[1;32m   3683\u001b[0m                         \u001b[0mvar_dict\u001b[0m \u001b[0;34m=\u001b[0m \u001b[0mdict\u001b[0m\u001b[0;34m(\u001b[0m\u001b[0;34m[\u001b[0m\u001b[0;34m(\u001b[0m\u001b[0mv\u001b[0m\u001b[0;34m,\u001b[0m \u001b[0mdomain\u001b[0m\u001b[0;34m.\u001b[0m\u001b[0mrandom_element\u001b[0m\u001b[0;34m(\u001b[0m\u001b[0;34m)\u001b[0m\u001b[0;34m)\u001b[0m \u001b[0;32mfor\u001b[0m \u001b[0mv\u001b[0m \u001b[0;32min\u001b[0m \u001b[0mvars\u001b[0m\u001b[0;34m]\u001b[0m\u001b[0;34m)\u001b[0m\u001b[0;34m\u001b[0m\u001b[0;34m\u001b[0m\u001b[0m\n",
      "\u001b[0;32m/private/var/tmp/sage-9.6-current/local/var/lib/sage/venv-python3.10.3/lib/python3.10/site-packages/sage/rings/complex_interval.pyx\u001b[0m in \u001b[0;36msage.rings.complex_interval.ComplexIntervalFieldElement.exp (build/cythonized/sage/rings/complex_interval.c:17356)\u001b[0;34m()\u001b[0m\n\u001b[1;32m   1866\u001b[0m         \u001b[0mtheta\u001b[0m \u001b[0;34m=\u001b[0m \u001b[0mself\u001b[0m\u001b[0;34m.\u001b[0m\u001b[0mimag\u001b[0m\u001b[0;34m(\u001b[0m\u001b[0;34m)\u001b[0m\u001b[0;34m\u001b[0m\u001b[0;34m\u001b[0m\u001b[0m\n\u001b[1;32m   1867\u001b[0m         \u001b[0mre\u001b[0m \u001b[0;34m=\u001b[0m \u001b[0mtheta\u001b[0m\u001b[0;34m.\u001b[0m\u001b[0mcos\u001b[0m\u001b[0;34m(\u001b[0m\u001b[0;34m)\u001b[0m \u001b[0;34m*\u001b[0m \u001b[0mmag\u001b[0m\u001b[0;34m\u001b[0m\u001b[0;34m\u001b[0m\u001b[0m\n\u001b[0;32m-> 1868\u001b[0;31m         \u001b[0mim\u001b[0m \u001b[0;34m=\u001b[0m \u001b[0mtheta\u001b[0m\u001b[0;34m.\u001b[0m\u001b[0msin\u001b[0m\u001b[0;34m(\u001b[0m\u001b[0;34m)\u001b[0m \u001b[0;34m*\u001b[0m \u001b[0mmag\u001b[0m\u001b[0;34m\u001b[0m\u001b[0;34m\u001b[0m\u001b[0m\n\u001b[0m\u001b[1;32m   1869\u001b[0m         \u001b[0;32mreturn\u001b[0m \u001b[0mComplexIntervalFieldElement\u001b[0m\u001b[0;34m(\u001b[0m\u001b[0mself\u001b[0m\u001b[0;34m.\u001b[0m\u001b[0m_parent\u001b[0m\u001b[0;34m,\u001b[0m \u001b[0mre\u001b[0m\u001b[0;34m,\u001b[0m \u001b[0mim\u001b[0m\u001b[0;34m)\u001b[0m\u001b[0;34m\u001b[0m\u001b[0;34m\u001b[0m\u001b[0m\n\u001b[1;32m   1870\u001b[0m \u001b[0;34m\u001b[0m\u001b[0m\n",
      "\u001b[0;32m/private/var/tmp/sage-9.6-current/local/var/lib/sage/venv-python3.10.3/lib/python3.10/site-packages/sage/rings/real_mpfi.pyx\u001b[0m in \u001b[0;36msage.rings.real_mpfi.RealIntervalFieldElement.sin (build/cythonized/sage/rings/real_mpfi.c:29046)\u001b[0;34m()\u001b[0m\n\u001b[1;32m   4653\u001b[0m         \"\"\"\n\u001b[1;32m   4654\u001b[0m         \u001b[0mx\u001b[0m \u001b[0;34m=\u001b[0m \u001b[0mself\u001b[0m\u001b[0;34m.\u001b[0m\u001b[0m_new\u001b[0m\u001b[0;34m(\u001b[0m\u001b[0;34m)\u001b[0m\u001b[0;34m\u001b[0m\u001b[0;34m\u001b[0m\u001b[0m\n\u001b[0;32m-> 4655\u001b[0;31m         \u001b[0msig_on\u001b[0m\u001b[0;34m(\u001b[0m\u001b[0;34m)\u001b[0m\u001b[0;34m\u001b[0m\u001b[0;34m\u001b[0m\u001b[0m\n\u001b[0m\u001b[1;32m   4656\u001b[0m         \u001b[0mmpfi_sin\u001b[0m\u001b[0;34m(\u001b[0m\u001b[0mx\u001b[0m\u001b[0;34m.\u001b[0m\u001b[0mvalue\u001b[0m\u001b[0;34m,\u001b[0m \u001b[0mself\u001b[0m\u001b[0;34m.\u001b[0m\u001b[0mvalue\u001b[0m\u001b[0;34m)\u001b[0m\u001b[0;34m\u001b[0m\u001b[0;34m\u001b[0m\u001b[0m\n\u001b[1;32m   4657\u001b[0m         \u001b[0msig_off\u001b[0m\u001b[0;34m(\u001b[0m\u001b[0;34m)\u001b[0m\u001b[0;34m\u001b[0m\u001b[0;34m\u001b[0m\u001b[0m\n",
      "\u001b[0;31mKeyboardInterrupt\u001b[0m: "
     ]
    }
   ],
   "source": [
    "a,b = var('a,b')\n",
    "get_num_punctures(sig, (-a, 0, -a, -2*a - b, -4*a - 2*b, -a, -a, 0, -2*a - b, 0))"
   ]
  },
  {
   "cell_type": "code",
   "execution_count": null,
   "metadata": {},
   "outputs": [],
   "source": []
  }
 ],
 "metadata": {
  "kernelspec": {
   "display_name": "SageMath 9.6",
   "language": "sage",
   "name": "sagemath-9.6"
  },
  "language_info": {
   "codemirror_mode": {
    "name": "ipython",
    "version": 3
   },
   "file_extension": ".py",
   "mimetype": "text/x-python",
   "name": "python",
   "nbconvert_exporter": "python",
   "pygments_lexer": "ipython3",
   "version": "3.10.3"
  }
 },
 "nbformat": 4,
 "nbformat_minor": 2
}
