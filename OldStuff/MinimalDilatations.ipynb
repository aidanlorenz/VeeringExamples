{
 "cells": [
  {
   "cell_type": "code",
   "execution_count": 2,
   "metadata": {},
   "outputs": [],
   "source": [
    "from veering import taut_polytope\n",
    "from veering import taut\n",
    "from veering import taut_homology\n",
    "from veering import taut_carried\n",
    "from veering import fundamental_domain\n",
    "from veering import taut_polynomial\n",
    "from veering import transverse_taut\n",
    "from sage.plot.contour_plot import ContourPlot\n",
    "from itertools import combinations\n",
    "from itertools import permutations\n",
    "from veering import carried_surface\n",
    "import time\n",
    "\n",
    "m = mathematica"
   ]
  },
  {
   "cell_type": "code",
   "execution_count": 3,
   "metadata": {},
   "outputs": [],
   "source": [
    "def get_extreme_surfs(sig):\n",
    "    # This function gets the branch equation form of the surfaces which span the fibered cone.\n",
    "    \n",
    "    tri, angle = taut.isosig_to_tri_angle(sig)\n",
    "    extreme_rays = taut_polytope.cone_in_homology(sig) # rays (in homology) spanning the fibered cone.\n",
    "    rays = taut_polytope.taut_rays(sig) # These are rays spanning the cone of carried surfaces (not sure exactly what these are tbh...)\n",
    "    P = taut_polytope.projection_to_homology(sig) # This is the matrix to multiply by to get branched surface tuple to a second homology class.\n",
    "    extreme_surfs = []\n",
    "    for ray in rays: # this for loop stores the surfaces (in terms of their branch equations) that define the boundary of the cone\n",
    "        if P*ray in extreme_rays:\n",
    "            temp = 0\n",
    "            for surf in extreme_surfs:\n",
    "                if P*surf != P*ray:\n",
    "                    temp = temp + 1\n",
    "            if temp == len(extreme_surfs):\n",
    "                extreme_surfs.append(ray)\n",
    "            \n",
    "    if tri.homology().rank() > 1 and [tuple(extreme_rays[0]), tuple(extreme_rays[1])] != [tuple(P*extreme_surfs[0]), tuple(P*extreme_surfs[1])]:\n",
    "        extreme_surfs.reverse()\n",
    "            \n",
    "    return extreme_surfs"
   ]
  },
  {
   "cell_type": "code",
   "execution_count": 4,
   "metadata": {},
   "outputs": [],
   "source": [
    "def get_corners_of_fibered_face(sig):\n",
    "    # This function gets the corners of the fibered face determined by the given veering triangulation.\n",
    "    \n",
    "    extreme_rays = taut_polytope.cone_in_homology(sig) # These are rays spanning the cone of carried classes\n",
    "    extreme_surfs = get_extreme_surfs(sig)\n",
    "    sums = [] # we add up the number of triangles in the boundary surfaces\n",
    "    for surf in extreme_surfs:\n",
    "        count = 0\n",
    "        for i in range(len(surf)):\n",
    "            count = count + surf[i]\n",
    "        sums.append(count)\n",
    "\n",
    "    tnorms = [term/2 for term in sums] # their Thurston norms are half the number of boundary components\n",
    "        \n",
    "    corners = []\n",
    "    for i in range(len(extreme_rays)):\n",
    "        corners.append([0]*len(extreme_rays[i]))\n",
    "    \n",
    "    for i in range(len(corners)): # the corners of the fibered face are the boundaries divided by the Thurston norm.\n",
    "        for j in range(len(corners[i])):\n",
    "            corners[i][j] = extreme_rays[i][j]/tnorms[i]\n",
    "        \n",
    "    return corners"
   ]
  },
  {
   "cell_type": "code",
   "execution_count": 5,
   "metadata": {},
   "outputs": [],
   "source": [
    "def get_fibered_cone(sig):\n",
    "    return Cone(get_corners_of_fibered_face(sig))"
   ]
  },
  {
   "cell_type": "code",
   "execution_count": 6,
   "metadata": {},
   "outputs": [],
   "source": [
    "def get_fibered_cone_plot(sig):\n",
    "    return get_fibered_cone(sig).plot(mode='box', xmin = -10, xmax = 10, ymin = -10, ymax = 10, zmin = -10, zmax = 10, ray_thickness=2, point_size=10)"
   ]
  },
  {
   "cell_type": "code",
   "execution_count": 7,
   "metadata": {},
   "outputs": [],
   "source": [
    "def get_surf_from_point_in_homology(sig, point): #CHECK\n",
    "    \n",
    "    tri, angle = taut.isosig_to_tri_angle(sig)\n",
    "    if tri.homology().rank() == 1:\n",
    "        return point[0]*get_extreme_surfs(sig)[0]\n",
    "    \n",
    "    extreme_surfs = get_extreme_surfs(sig)\n",
    "    P = taut_polytope.projection_to_homology(sig) # This is the matrix to multiply by to get branched surface tuple to a second homology class.\n",
    "    \n",
    "    variables = [var('x' + str(i)) for i in range(len(extreme_surfs))]\n",
    "    \n",
    "    eqn_pieces = [variables[i]*P*extreme_surfs[i] for i in range(len(extreme_surfs))]\n",
    "        \n",
    "    term = 0\n",
    "    for k in range(len(eqn_pieces)):\n",
    "        term += eqn_pieces[k]\n",
    "    \n",
    "    eqns = [term[i] == point[i] for i in range(len(point))]\n",
    "    \n",
    "    lin_comb = solve(eqns, variables)\n",
    "    \n",
    "    retval = 0\n",
    "    for i in range(len(lin_comb[0])):\n",
    "        retval += lin_comb[0][i].rhs()*extreme_surfs[i]\n",
    "\n",
    "    return retval\n",
    "\n",
    "#get_surf_from_point_in_homology('fLLQcbecdeepuwsua_20102', (var('a'), var('b')))"
   ]
  },
  {
   "cell_type": "code",
   "execution_count": 8,
   "metadata": {},
   "outputs": [],
   "source": [
    "def Thurston_norm_nums(sig, point):\n",
    "    extreme_rays = taut_polytope.cone_in_homology(sig) # These are rays spanning the cone of carried classes\n",
    "    \n",
    "    if not get_fibered_cone(sig).interior_contains(point):\n",
    "        raise ValueError('Your point is not in the fibered cone specified by the given veering triangulation')\n",
    "    \n",
    "    if len(point) != len(extreme_rays[0]):\n",
    "        raise ValueError('Your point must be of dimension', len(extreme_rays[0])) \n",
    "\n",
    "    surf = get_surf_from_point_in_homology(sig, point)\n",
    "    prenorm = 0\n",
    "    for tri in surf:\n",
    "        prenorm = prenorm + tri\n",
    "        \n",
    "    return abs(prenorm/2) #abs b/c for some reason some Betti number 1 cases were returning negative - the ones whose cones point along the negative x-axis.\n",
    "\n",
    "#Thurston_norm_nums('fLLQcbecdeepuwsua_20102',(-1,1))"
   ]
  },
  {
   "cell_type": "code",
   "execution_count": 9,
   "metadata": {},
   "outputs": [],
   "source": [
    "def Thurston_norm_vars(sig, point): # This version just doesn't check if the input is in the cone.\n",
    "    extreme_rays = taut_polytope.cone_in_homology(sig) # These are rays spanning the cone of carried classes\n",
    "    \n",
    "    if len(point) != len(extreme_rays[0]):\n",
    "        raise ValueError('Your point must be of dimension', len(extreme_rays[0])) \n",
    "        \n",
    "    surf = get_surf_from_point_in_homology(sig, point)\n",
    "    prenorm = 0\n",
    "    for tri in surf:\n",
    "        prenorm = prenorm + tri\n",
    "        \n",
    "    return prenorm/2"
   ]
  },
  {
   "cell_type": "code",
   "execution_count": 10,
   "metadata": {},
   "outputs": [],
   "source": [
    "def get_spec(sig, point):\n",
    "    # returns the specialization of the taut polynomial at a point in second homology.\n",
    "    \n",
    "    tri, angle = taut.isosig_to_tri_angle(sig)\n",
    "    poly = taut_polynomial.taut_polynomial(tri, angle)\n",
    "    unspec_monos = poly.monomials()\n",
    "    monos = [] # the monomials in the specialization\n",
    "    for i in range(poly.number_of_terms()):\n",
    "        monos.append(unspec_monos[i].lc()*x^(sum([poly.exponents()[i][j]*point[j] for j in range(len(point))])))\n",
    "        \n",
    "    spec = 0\n",
    "    for i in range(len(monos)):\n",
    "        spec = spec + monos[i]*poly.monomial_coefficient(poly.monomials()[i])\n",
    "        \n",
    "    return spec\n",
    "\n",
    "#get_spec('gvLQQcdeffeffffaafa_201102', (var('a'), var('b'), var('c')))"
   ]
  },
  {
   "cell_type": "code",
   "execution_count": 11,
   "metadata": {},
   "outputs": [],
   "source": [
    "def get_dila(sig, point):\n",
    "    spec = get_spec(sig, point)    \n",
    "    sols = solve(spec == 0, x, to_poly_solve=True)\n",
    "    \n",
    "    sols2 = []\n",
    "    for i in range(len(sols)):\n",
    "        sols2.append(sols[i].rhs())\n",
    "       \n",
    "    for j in range(len(sols2)):\n",
    "        sols2[j] = abs(sols2[j])\n",
    "    \n",
    "    return max(sols2)\n",
    "\n",
    "#get_dila('gvLQQcdeffeffffaafa_201102', (2,6,1))"
   ]
  },
  {
   "cell_type": "code",
   "execution_count": 12,
   "metadata": {},
   "outputs": [],
   "source": [
    "def get_norm_dila_log(sig, point):\n",
    "    return Thurston_norm_nums(sig, point)*math.log(get_dila(sig, point))\n",
    "\n",
    "#get_norm_dila_log('gvLQQcdeffeffffaafa_201102', (2,6,1))"
   ]
  },
  {
   "cell_type": "code",
   "execution_count": 13,
   "metadata": {},
   "outputs": [
    {
     "data": {
      "text/plain": [
       "-e^(2*a + 2*b + c) + e^(2*a + c) + e^(a + 4*b) + e^(a + 3*b + c) + e^(a + 3*b) + e^(a + 2*b + c) + e^(6*b) - e^(4*b)"
      ]
     },
     "execution_count": 13,
     "metadata": {},
     "output_type": "execute_result"
    }
   ],
   "source": [
    "def get_spec_at_e(sig, point): # No need to use for Betti number 1 examples\n",
    "    return get_spec(sig, point)(x = e)\n",
    "\n",
    "#get_spec_at_e('ivLLQQccdgffhghhvvaaaaavv_01111220', (var('a'), var('b'), var('c')))"
   ]
  },
  {
   "cell_type": "code",
   "execution_count": 20,
   "metadata": {},
   "outputs": [],
   "source": [
    "def get_fibered_cone_and_levset_plot(sig): # Only set up for 3D examples.\n",
    "    a,b,c = var('a,b,c')\n",
    "    levset = implicit_plot3d(get_spec_at_e(sig, (a,b,c)) == 0, (-10,10), (-10,10), (-10,10), cmap=['green'])\n",
    "    Plot = levset + get_fibered_cone_plot(sig)\n",
    "    return Plot"
   ]
  },
  {
   "cell_type": "code",
   "execution_count": 15,
   "metadata": {},
   "outputs": [],
   "source": [
    "def get_minimal_direction(sig): # No need to use for Betti number 1 examples\n",
    "    tri, angle = taut.isosig_to_tri_angle(sig)\n",
    "    variables = [var('a' + str(i)) for i in range(tri.homology().rank())]\n",
    "    f = str(Thurston_norm_vars(sig, variables))\n",
    "    g = str(get_spec_at_e(sig, variables))\n",
    "    g = g.replace('e', 'E')\n",
    "    var_string = ''\n",
    "    for variable in variables:\n",
    "        if variables.index(variable) != len(variables) - 1:\n",
    "            var_string += str(variable) + ', '\n",
    "        else:\n",
    "            var_string += str(variable)\n",
    "            \n",
    "    sols = m('sols = NSolve[{Grad[' + f + ', {' + var_string + '}] == L*Grad[' + g + ', {' + var_string + '}], ' + g + ' == 0}, {' + var_string + ',L}, Reals]')\n",
    "    \n",
    "    for i in range(len(sols)):\n",
    "        test_point = [m('a' + str(j) + '/.sols[[' + str(i+1) + ']]') for j in range(len(variables))]\n",
    "        if get_fibered_cone(sig).interior_contains(tuple(test_point)):\n",
    "            return tuple(test_point)\n",
    "\n",
    "#get_minimal_direction('gvLQQcdeffeffffaafa_201102')"
   ]
  },
  {
   "cell_type": "code",
   "execution_count": 16,
   "metadata": {},
   "outputs": [],
   "source": [
    "def get_dila_mathematica(sig, point):\n",
    "    poly = str(get_spec(sig, point))\n",
    "    poly = poly.replace(\"sqrt(x)\", \"Sqrt[x]\")\n",
    "    #print(poly)\n",
    "    roots = m('roots = NSolve[' + poly + ' == 0, x]')\n",
    "    #print(roots)\n",
    "    root_nums = []\n",
    "    for i in range(len(roots)):\n",
    "        root_nums.append(m('x/.roots[[' + str(i+1) + ']]'))\n",
    "        \n",
    "    root_nums = [abs(root.sage()) for root in root_nums]\n",
    "    return max(root_nums)"
   ]
  },
  {
   "cell_type": "code",
   "execution_count": 17,
   "metadata": {},
   "outputs": [],
   "source": [
    "def get_norm_dila_log_mathematica(sig, point):\n",
    "    return Thurston_norm_nums(sig, point)*math.log(get_dila_mathematica(sig, point))"
   ]
  },
  {
   "cell_type": "code",
   "execution_count": 18,
   "metadata": {},
   "outputs": [],
   "source": [
    "def get_min_norm_dila_log_mathematica_approx(sig):\n",
    "    tri, angle = taut.isosig_to_tri_angle(sig)\n",
    "    if tri.homology().rank() == 1:\n",
    "        if get_fibered_cone(sig).contains(1,):\n",
    "            return get_norm_dila_log_mathematica(sig, (1,)) # These fibered cones always point along the positive or negative x-axis.\n",
    "        else:\n",
    "            return get_norm_dila_log_mathematica(sig, (-1,))\n",
    "    min_direction = get_minimal_direction(sig)\n",
    "    point = tuple(round(direction, 1) for direction in min_direction)\n",
    "    return get_norm_dila_log_mathematica(sig, point)"
   ]
  },
  {
   "cell_type": "code",
   "execution_count": 19,
   "metadata": {},
   "outputs": [
    {
     "data": {
      "text/plain": [
       "\"with open('MinimalDilatationExamplesWithBetti1.txt', 'w') as g:\\n    with open('veering_census.txt') as f:\\n        lines = f.readlines()\\n\\n    for i in range(len(lines)):\\n        lines[i] = lines[i][:-1]\\n    \\n    for sig in lines:\\n        tri, angle = taut.isosig_to_tri_angle(sig)\\n        try:\\n            start = time.time()\\n            min_norm_dila = str(get_min_norm_dila_log_mathematica_approx(sig))\\n            end = time.time()\\n            g.write('sig: ' + sig + '\\t rank: ' + str(tri.homology().rank()) + '\\t min_norm_dila: ' + min_norm_dila + '\\t time: ' + str(end-start))\\n            g.write('\\n')\\n        except Exception: \\n            g.write(sig + ' had an error. \\t rank: ' + str(tri.homology().rank()))\\n            g.write('\\n')\\n            pass\""
      ]
     },
     "execution_count": 19,
     "metadata": {},
     "output_type": "execute_result"
    }
   ],
   "source": [
    "'''with open('MinimalDilatationExamplesWithBetti1.txt', 'w') as g:\n",
    "    with open('veering_census.txt') as f:\n",
    "        lines = f.readlines()\n",
    "\n",
    "    for i in range(len(lines)):\n",
    "        lines[i] = lines[i][:-1]\n",
    "    \n",
    "    for sig in lines:\n",
    "        tri, angle = taut.isosig_to_tri_angle(sig)\n",
    "        try:\n",
    "            start = time.time()\n",
    "            min_norm_dila = str(get_min_norm_dila_log_mathematica_approx(sig))\n",
    "            end = time.time()\n",
    "            g.write('sig: ' + sig + '\\t rank: ' + str(tri.homology().rank()) + '\\t min_norm_dila: ' + min_norm_dila + '\\t time: ' + str(end-start))\n",
    "            g.write('\\n')\n",
    "        except Exception: \n",
    "            g.write(sig + ' had an error. \\t rank: ' + str(tri.homology().rank()))\n",
    "            g.write('\\n')\n",
    "            pass'''"
   ]
  },
  {
   "cell_type": "code",
   "execution_count": null,
   "metadata": {},
   "outputs": [],
   "source": []
  }
 ],
 "metadata": {
  "kernelspec": {
   "display_name": "SageMath 9.6",
   "language": "sage",
   "name": "sagemath-9.6"
  },
  "language_info": {
   "codemirror_mode": {
    "name": "ipython",
    "version": 3
   },
   "file_extension": ".py",
   "mimetype": "text/x-python",
   "name": "python",
   "nbconvert_exporter": "python",
   "pygments_lexer": "ipython3",
   "version": "3.10.3"
  }
 },
 "nbformat": 4,
 "nbformat_minor": 2
}
