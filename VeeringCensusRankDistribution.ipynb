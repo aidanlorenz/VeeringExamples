{
 "cells": [
  {
   "cell_type": "code",
   "execution_count": 1,
   "id": "38199fce",
   "metadata": {},
   "outputs": [],
   "source": [
    "load('VeeringGeneralFunctions.sage')"
   ]
  },
  {
   "cell_type": "code",
   "execution_count": 2,
   "id": "02f992e6",
   "metadata": {},
   "outputs": [],
   "source": [
    "numRanks = [0 for i in range(7)]"
   ]
  },
  {
   "cell_type": "code",
   "execution_count": 3,
   "id": "9abc18ee",
   "metadata": {},
   "outputs": [],
   "source": [
    "sigs = open('veering_census.txt', 'r')\n",
    "Lines = sigs.readlines()"
   ]
  },
  {
   "cell_type": "code",
   "execution_count": 4,
   "id": "50509068",
   "metadata": {},
   "outputs": [],
   "source": [
    "count = 0"
   ]
  },
  {
   "cell_type": "code",
   "execution_count": 5,
   "id": "ef6a0e17",
   "metadata": {},
   "outputs": [],
   "source": [
    "for line in Lines:\n",
    "    sig = line[:-1]\n",
    "    tri, angle = taut.isosig_to_tri_angle(sig)\n",
    "    rank = tri.homology().rank()\n",
    "    numRanks[rank - 1] += 1\n",
    "    count += 1"
   ]
  },
  {
   "cell_type": "code",
   "execution_count": 6,
   "id": "9d280bdb",
   "metadata": {},
   "outputs": [
    {
     "data": {
      "text/plain": [
       "([58477, 23904, 4197, 444, 24, 1, 0], 87047)"
      ]
     },
     "execution_count": 6,
     "metadata": {},
     "output_type": "execute_result"
    }
   ],
   "source": [
    "numRanks, count"
   ]
  },
  {
   "cell_type": "code",
   "execution_count": 7,
   "id": "d2d901e7",
   "metadata": {},
   "outputs": [
    {
     "data": {
      "text/plain": [
       "87047"
      ]
     },
     "execution_count": 7,
     "metadata": {},
     "output_type": "execute_result"
    }
   ],
   "source": [
    "sum(numRanks)"
   ]
  },
  {
   "cell_type": "code",
   "execution_count": 8,
   "id": "06683082",
   "metadata": {},
   "outputs": [],
   "source": [
    "percentRanks = [float(rank/sum(numRanks)) for rank in numRanks]"
   ]
  },
  {
   "cell_type": "code",
   "execution_count": 9,
   "id": "98e3f88a",
   "metadata": {},
   "outputs": [
    {
     "data": {
      "text/plain": [
       "[0.671786506140361,\n",
       " 0.2746102680161292,\n",
       " 0.04821533194710903,\n",
       " 0.005100692729215251,\n",
       " 0.0002757131204981217,\n",
       " 1.1488046687421738e-05,\n",
       " 0.0]"
      ]
     },
     "execution_count": 9,
     "metadata": {},
     "output_type": "execute_result"
    }
   ],
   "source": [
    "percentRanks"
   ]
  },
  {
   "cell_type": "code",
   "execution_count": 10,
   "id": "2c69aca9",
   "metadata": {},
   "outputs": [
    {
     "data": {
      "text/plain": [
       "0.9463967741564902"
      ]
     },
     "execution_count": 10,
     "metadata": {},
     "output_type": "execute_result"
    }
   ],
   "source": [
    "percentRanks[0] + percentRanks[1]"
   ]
  },
  {
   "cell_type": "markdown",
   "id": "8ad6bd25",
   "metadata": {},
   "source": [
    "~95% of the entries in the Veering census have rank $\\leq 2$."
   ]
  }
 ],
 "metadata": {
  "kernelspec": {
   "display_name": "SageMath 10.1",
   "language": "sage",
   "name": "sagemath-10.1"
  },
  "language_info": {
   "codemirror_mode": {
    "name": "ipython",
    "version": 3
   },
   "file_extension": ".py",
   "mimetype": "text/x-python",
   "name": "python",
   "nbconvert_exporter": "python",
   "pygments_lexer": "ipython3",
   "version": "3.11.1"
  }
 },
 "nbformat": 4,
 "nbformat_minor": 5
}
