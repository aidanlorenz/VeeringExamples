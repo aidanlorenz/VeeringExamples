{
 "cells": [
  {
   "cell_type": "code",
   "execution_count": 2,
   "id": "5220aafc",
   "metadata": {},
   "outputs": [],
   "source": [
    "load('VeeringGeneralFunctions.sage')\n",
    "from "
   ]
  },
  {
   "cell_type": "code",
   "execution_count": 3,
   "id": "42d60b5a",
   "metadata": {},
   "outputs": [],
   "source": [
    "sig = 'cPcbbbdxm_10'"
   ]
  },
  {
   "cell_type": "code",
   "execution_count": 5,
   "id": "36f11a42",
   "metadata": {},
   "outputs": [
    {
     "data": {
      "text/plain": [
       "1"
      ]
     },
     "execution_count": 5,
     "metadata": {},
     "output_type": "execute_result"
    }
   ],
   "source": [
    "tri, angle = taut.isosig_to_tri_angle(sig)\n",
    "tri.homology().rank()"
   ]
  },
  {
   "cell_type": "code",
   "execution_count": 10,
   "id": "4d865143",
   "metadata": {},
   "outputs": [
    {
     "data": {
      "text/plain": [
       "True"
      ]
     },
     "execution_count": 10,
     "metadata": {},
     "output_type": "execute_result"
    }
   ],
   "source": [
    "from veering import taut_polytope\n",
    "taut_polytope.is_layered(sig)"
   ]
  },
  {
   "cell_type": "code",
   "execution_count": 11,
   "id": "3edb3bf3",
   "metadata": {},
   "outputs": [
    {
     "data": {
      "text/plain": [
       "1"
      ]
     },
     "execution_count": 11,
     "metadata": {},
     "output_type": "execute_result"
    }
   ],
   "source": [
    "get_genus(sig,(1,))"
   ]
  },
  {
   "cell_type": "code",
   "execution_count": 12,
   "id": "8c96f1c3",
   "metadata": {},
   "outputs": [
    {
     "data": {
      "text/plain": [
       "2.61803398874989"
      ]
     },
     "execution_count": 12,
     "metadata": {},
     "output_type": "execute_result"
    }
   ],
   "source": [
    "get_dila_mathematica(sig, (1,))"
   ]
  },
  {
   "cell_type": "code",
   "execution_count": 13,
   "id": "df40ec37",
   "metadata": {},
   "outputs": [
    {
     "data": {
      "text/plain": [
       "[(a0, -a0)]"
      ]
     },
     "execution_count": 13,
     "metadata": {},
     "output_type": "execute_result"
    }
   ],
   "source": [
    "get_LES_boundary_maps(sig)"
   ]
  },
  {
   "cell_type": "code",
   "execution_count": 14,
   "id": "f280df2f",
   "metadata": {},
   "outputs": [
    {
     "data": {
      "text/plain": [
       "a0"
      ]
     },
     "execution_count": 14,
     "metadata": {},
     "output_type": "execute_result"
    }
   ],
   "source": [
    "get_Thurston_norm(sig)"
   ]
  }
 ],
 "metadata": {
  "kernelspec": {
   "display_name": "SageMath 9.6",
   "language": "sage",
   "name": "sagemath-9.6"
  },
  "language_info": {
   "codemirror_mode": {
    "name": "ipython",
    "version": 3
   },
   "file_extension": ".py",
   "mimetype": "text/x-python",
   "name": "python",
   "nbconvert_exporter": "python",
   "pygments_lexer": "ipython3",
   "version": "3.10.3"
  }
 },
 "nbformat": 4,
 "nbformat_minor": 5
}
