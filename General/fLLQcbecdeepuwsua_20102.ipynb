{
 "cells": [
  {
   "cell_type": "code",
   "execution_count": 1,
   "id": "65835f03",
   "metadata": {},
   "outputs": [],
   "source": [
    "# 'gLLAQcededffiikajwn_011220' doesn't work for finding minimum normalized dilatation for some reason.\n",
    "# 'hLLAAkcededfggiikajwxn_0112201',\n",
    "# 'iLLAMMccdecffghhhsermstqs_12220120'\n",
    "# ivLAAQcecefghhghfbbaaafbb_12222010\n",
    "# iLLLQPcbeegefhhhhhhahahha_01110221\n",
    "# Same with 'gLPLQbdcfeffhbbaabg_120011'\n",
    "# and 'hLALMkbcbefggghhwsemws_2112201'\n",
    "\n",
    "# takes long and doesn't work: jLALMPPbcbefgghiihhwsemstqs_211220120\n",
    "\n",
    "# The latter two have to do with mathemtica's replaceAll in the get_dila function"
   ]
  },
  {
   "cell_type": "code",
   "execution_count": 2,
   "id": "2f74b62c",
   "metadata": {},
   "outputs": [],
   "source": [
    "load('VeeringGeneralFunctions.sage')"
   ]
  },
  {
   "cell_type": "code",
   "execution_count": 3,
   "id": "63c12e28",
   "metadata": {},
   "outputs": [],
   "source": [
    "sig = 'fLLQcbecdeepuwsua_20102'"
   ]
  },
  {
   "cell_type": "code",
   "execution_count": 4,
   "id": "33d61ceb",
   "metadata": {},
   "outputs": [
    {
     "data": {
      "text/plain": [
       "N( 0, -1),\n",
       "N(-1,  2)\n",
       "in 2-d lattice N"
      ]
     },
     "execution_count": 4,
     "metadata": {},
     "output_type": "execute_result"
    }
   ],
   "source": [
    "cone = get_fibered_cone(sig)\n",
    "cone.Hilbert_basis()"
   ]
  },
  {
   "cell_type": "code",
   "execution_count": 5,
   "id": "960c45d8",
   "metadata": {},
   "outputs": [
    {
     "data": {
      "text/plain": [
       "(-0.6329743192009475, 0.6329743192009475)"
      ]
     },
     "execution_count": 5,
     "metadata": {},
     "output_type": "execute_result"
    }
   ],
   "source": [
    "min_dir = get_minimal_direction(sig)\n",
    "min_dir"
   ]
  },
  {
   "cell_type": "code",
   "execution_count": 6,
   "id": "42bd57f2",
   "metadata": {},
   "outputs": [
    {
     "data": {
      "image/png": "[encoded data removed]",
      "text/plain": [
       "Graphics object consisting of 11 graphics primitives"
      ]
     },
     "execution_count": 6,
     "metadata": {},
     "output_type": "execute_result"
    }
   ],
   "source": [
    "get_fibered_cone_and_levset_plot(sig) + arrow((0, 0), (min_dir[0]*5, min_dir[1]*5), color='cyan')"
   ]
  },
  {
   "cell_type": "code",
   "execution_count": 7,
   "id": "c240cb2b",
   "metadata": {},
   "outputs": [
    {
     "data": {
      "text/plain": [
       "2.531897276802637"
      ]
     },
     "execution_count": 7,
     "metadata": {},
     "output_type": "execute_result"
    }
   ],
   "source": [
    "minimum = get_min_norm_dila_log_mathematica_approx(sig)\n",
    "minimum"
   ]
  },
  {
   "cell_type": "code",
   "execution_count": 8,
   "id": "714a524a",
   "metadata": {},
   "outputs": [
    {
     "data": {
      "text/plain": [
       "-6*a0 - 2*a1"
      ]
     },
     "execution_count": 8,
     "metadata": {},
     "output_type": "execute_result"
    }
   ],
   "source": [
    "get_Thurston_norm(sig)"
   ]
  },
  {
   "cell_type": "code",
   "execution_count": 9,
   "id": "137335c0",
   "metadata": {},
   "outputs": [
    {
     "data": {
      "text/plain": [
       "[(-7*a0 - 2*a1, 3*a0 + a1), (-7*a0 - 4*a1, -2*a0 - a1)]"
      ]
     },
     "execution_count": 9,
     "metadata": {},
     "output_type": "execute_result"
    }
   ],
   "source": [
    "get_LES_boundary_maps(sig)"
   ]
  },
  {
   "cell_type": "code",
   "execution_count": 10,
   "id": "454d96a5",
   "metadata": {},
   "outputs": [
    {
     "data": {
      "text/plain": [
       "[\n",
       "[-7 -2]  [-7 -4]\n",
       "[ 3  1], [-2 -1]\n",
       "]"
      ]
     },
     "execution_count": 10,
     "metadata": {},
     "output_type": "execute_result"
    }
   ],
   "source": [
    "get_LES_boundary_matrices(sig)"
   ]
  },
  {
   "cell_type": "markdown",
   "id": "64d99a60",
   "metadata": {},
   "source": [
    "From the above we can see that the number of singularities for a class $(a_0,a_1)$ is:\n",
    "$$\\begin{align*}\n",
    "    &\\gcd(-7a_0-2a_1,3a_0+a_1) + \\gcd(-7a_0-4a_1,-2a_0-a_1) \\\\\n",
    "    &= \\gcd(-a_0,3a_0+a_1) + \\gcd(a_0,-2a_0-a_1) \\\\\n",
    "    &= \\gcd(a_0,a_1) + \\gcd(a_0,a_1) \\\\\n",
    "    &= 1 + 1 \\\\\n",
    "    &= 2\n",
    "\\end{align*}$$\n",
    "since we are assuming $(a_0,a_1)$ is primitive.\n",
    "Thus every primitive class has exactly $2$ singularities.\n",
    "\n",
    "In particular, this tells us that each genus is only realized on one level set of the Thurston norm, as fixing the genus fixes the Thurston norm.\n",
    "And conversely, on each level set of the Thurston norm all the primitive classes have the same genus; there is a one-to-one correspondence between the Thurston norm and genus.\n",
    "\n",
    "Hence, on each level set of the Thurston norm, the class closest to the minimizer is the one with the smallest dilatation out of the classes with genus corresponding to that norm. It follows that, on this manifold, the sequence of least dilatations raised to the genus power converges to the square root of the minimizer."
   ]
  },
  {
   "cell_type": "code",
   "execution_count": 11,
   "id": "81ea0850",
   "metadata": {},
   "outputs": [
    {
     "data": {
      "text/plain": [
       "a <= 0 && b <= -2*a"
      ]
     },
     "execution_count": 11,
     "metadata": {},
     "output_type": "execute_result"
    }
   ],
   "source": [
    "m('cone = ConicHullRegion[{{0, 0}}, {{0, -1}, {-1, 2}}]')\n",
    "m('Reduce[{a, b} \\[Element] cone, {a, b}]')"
   ]
  },
  {
   "cell_type": "code",
   "execution_count": 12,
   "id": "e18f7607",
   "metadata": {},
   "outputs": [
    {
     "data": {
      "text/plain": [
       "((n == 0 && a == 0) || (n > 0 && Inequality[-1/2*n, LessEqual, a, LessEqual, \n",
       "    0])) && b == (-6*a - n)/2"
      ]
     },
     "execution_count": 12,
     "metadata": {},
     "output_type": "execute_result"
    }
   ],
   "source": [
    "m('Reduce[-6*a - 2*b == n && {a, b} \\[Element] cone && n \\[Element] Reals, {a, b}]')"
   ]
  },
  {
   "cell_type": "code",
   "execution_count": 13,
   "id": "2659ff0b",
   "metadata": {},
   "outputs": [],
   "source": [
    "points = []\n",
    "for n in range(10):\n",
    "    if n % 2 == 0:\n",
    "        for a in range(-n/2, 1):\n",
    "            b = (-6*a - n)/2\n",
    "            if cone.interior_contains(a,b) and gcd(a,b) == 1:\n",
    "                points.append(((a,b), get_genus(sig,(a,b))))"
   ]
  },
  {
   "cell_type": "code",
   "execution_count": 14,
   "id": "c46f14f4",
   "metadata": {},
   "outputs": [
    {
     "data": {
      "text/plain": [
       "[((-1, 1), 2), ((-2, 3), 3), ((-1, 0), 3), ((-3, 5), 4), ((-1, -1), 4)]"
      ]
     },
     "execution_count": 14,
     "metadata": {},
     "output_type": "execute_result"
    }
   ],
   "source": [
    "points"
   ]
  },
  {
   "cell_type": "code",
   "execution_count": 16,
   "id": "bde8fd9c",
   "metadata": {},
   "outputs": [
    {
     "name": "stdout",
     "output_type": "stream",
     "text": [
      "Thurston norm 0\n",
      "Thurston norm 1\n",
      "Thurston norm 2\n",
      "Thurston norm 3\n",
      "Thurston norm 4\n",
      " \t(-1, 1) has genus 2 and dilatation 1.883203505913522\n",
      "Thurston norm 5\n",
      "Thurston norm 6\n",
      " \t(-2, 3) has genus 3 and dilatation 1.55603019132268\n",
      " \t(-1, 0) has genus 3 and dilatation 1.55603019132268\n",
      "Thurston norm 7\n",
      "Thurston norm 8\n",
      " \t(-3, 5) has genus 4 and dilatation 1.425005267838182\n",
      " \t(-1, -1) has genus 4 and dilatation 1.425005267838182\n",
      "Thurston norm 9\n",
      "Thurston norm 10\n",
      " \t(-4, 7) has genus 5 and dilatation 1.350980337716231\n",
      " \t(-3, 4) has genus 5 and dilatation 1.293485953125451\n",
      " \t(-2, 1) has genus 5 and dilatation 1.293485953125451\n",
      " \t(-1, -2) has genus 5 and dilatation 1.350980337716231\n",
      "Thurston norm 11\n",
      "Thurston norm 12\n",
      " \t(-5, 9) has genus 6 and dilatation 1.30226880509431\n",
      " \t(-1, -3) has genus 6 and dilatation 1.30226880509431\n",
      "Thurston norm 13\n",
      "Thurston norm 14\n",
      " \t(-6, 11) has genus 7 and dilatation 1.267296442523063\n",
      " \t(-5, 8) has genus 7 and dilatation 1.216391661138264\n",
      " \t(-4, 5) has genus 7 and dilatation 1.200026523987381\n",
      " \t(-3, 2) has genus 7 and dilatation 1.200026523987381\n",
      " \t(-2, -1) has genus 7 and dilatation 1.216391661138264\n",
      " \t(-1, -4) has genus 7 and dilatation 1.267296442523063\n",
      "Thurston norm 15\n",
      "Thurston norm 16\n",
      " \t(-7, 13) has genus 8 and dilatation 1.240726423652520\n",
      " \t(-5, 7) has genus 8 and dilatation 1.17628081825992\n",
      " \t(-3, 1) has genus 8 and dilatation 1.17628081825992\n",
      " \t(-1, -5) has genus 8 and dilatation 1.240726423652520\n",
      "Thurston norm 17\n",
      "Thurston norm 18\n",
      " \t(-8, 15) has genus 9 and dilatation 1.219720859040308\n",
      " \t(-7, 12) has genus 9 and dilatation 1.176280818259916\n",
      " \t(-5, 6) has genus 9 and dilatation 1.151839505787121\n",
      " \t(-4, 3) has genus 9 and dilatation 1.151839505787121\n",
      " \t(-2, -3) has genus 9 and dilatation 1.176280818259916\n",
      " \t(-1, -6) has genus 9 and dilatation 1.219720859040308\n",
      "Thurston norm 19\n",
      "Thurston norm 20\n",
      " \t(-9, 17) has genus 10 and dilatation 1.202616743688570\n",
      " \t(-7, 11) has genus 10 and dilatation 1.14523272250023\n",
      " \t(-3, -1) has genus 10 and dilatation 1.14523272250023\n",
      " \t(-1, -7) has genus 10 and dilatation 1.202616743688570\n",
      "Thurston norm 21\n",
      "Thurston norm 22\n",
      " \t(-10, 19) has genus 11 and dilatation 1.188368147508179\n",
      " \t(-9, 16) has genus 11 and dilatation 1.150828398658244\n",
      " \t(-8, 13) has genus 11 and dilatation 1.134325480859241\n",
      " \t(-7, 10) has genus 11 and dilatation 1.12600416794473\n",
      " \t(-6, 7) has genus 11 and dilatation 1.122398878672659\n",
      " \t(-5, 4) has genus 11 and dilatation 1.122398878672659\n",
      " \t(-4, 1) has genus 11 and dilatation 1.12600416794473\n",
      " \t(-3, -2) has genus 11 and dilatation 1.134325480859241\n",
      " \t(-2, -5) has genus 11 and dilatation 1.150828398658244\n",
      " \t(-1, -8) has genus 11 and dilatation 1.188368147508179\n",
      "Thurston norm 23\n",
      "Thurston norm 24\n",
      " \t(-11, 21) has genus 12 and dilatation 1.176280818259873\n",
      " \t(-7, 9) has genus 12 and dilatation 1.11258642893880\n",
      " \t(-5, 3) has genus 12 and dilatation 1.11258642893880\n",
      " \t(-1, -9) has genus 12 and dilatation 1.176280818259873\n"
     ]
    }
   ],
   "source": [
    "for n in range(25):\n",
    "    print('Thurston norm ' + str(n))\n",
    "    for a in range(-floor(n/2), 1):\n",
    "        b = (-6*a - n)/2\n",
    "        if cone.interior_contains(a,b) and gcd(a,b) == 1:\n",
    "            print(' \\t' + str((a,b)) + ' has genus ' + str(get_genus(sig,(a,b))) + ' and dilatation ' + str(get_dila_mathematica(sig, (a,b))))"
   ]
  },
  {
   "cell_type": "code",
   "execution_count": null,
   "id": "7429067f",
   "metadata": {},
   "outputs": [],
   "source": []
  }
 ],
 "metadata": {
  "kernelspec": {
   "display_name": "SageMath 9.6",
   "language": "sage",
   "name": "sagemath-9.6"
  },
  "language_info": {
   "codemirror_mode": {
    "name": "ipython",
    "version": 3
   },
   "file_extension": ".py",
   "mimetype": "text/x-python",
   "name": "python",
   "nbconvert_exporter": "python",
   "pygments_lexer": "ipython3",
   "version": "3.10.3"
  }
 },
 "nbformat": 4,
 "nbformat_minor": 5
}
