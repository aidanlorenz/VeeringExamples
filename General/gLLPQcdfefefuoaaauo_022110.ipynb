{
 "cells": [
  {
   "cell_type": "code",
   "execution_count": 2,
   "id": "357f126a",
   "metadata": {},
   "outputs": [],
   "source": [
    "load('VeeringGeneralFunctions.sage')"
   ]
  },
  {
   "cell_type": "code",
   "execution_count": 3,
   "id": "8151cb21",
   "metadata": {},
   "outputs": [],
   "source": [
    "sig = 'gLLPQcdfefefuoaaauo_022110'"
   ]
  },
  {
   "cell_type": "code",
   "execution_count": 4,
   "id": "4c98e869",
   "metadata": {},
   "outputs": [
    {
     "data": {
      "text/plain": [
       "[(9*a0 - 2*a1, -a0), (-a0 + a1, 2*a0)]"
      ]
     },
     "execution_count": 4,
     "metadata": {},
     "output_type": "execute_result"
    }
   ],
   "source": [
    "get_LES_boundary_maps(sig)"
   ]
  },
  {
   "cell_type": "code",
   "execution_count": 5,
   "id": "9bbd8d0f",
   "metadata": {},
   "outputs": [
    {
     "data": {
      "text/plain": [
       "N(-1, -3),\n",
       "N( 0,  1)\n",
       "in 2-d lattice N"
      ]
     },
     "execution_count": 5,
     "metadata": {},
     "output_type": "execute_result"
    }
   ],
   "source": [
    "cone = get_fibered_cone(sig)\n",
    "cone.Hilbert_basis()"
   ]
  },
  {
   "cell_type": "code",
   "execution_count": 6,
   "id": "5d9e714c",
   "metadata": {},
   "outputs": [
    {
     "data": {
      "text/plain": [
       "-6*a0 + a1"
      ]
     },
     "execution_count": 6,
     "metadata": {},
     "output_type": "execute_result"
    }
   ],
   "source": [
    "get_Thurston_norm(sig)"
   ]
  },
  {
   "cell_type": "code",
   "execution_count": 7,
   "id": "f8621c62",
   "metadata": {},
   "outputs": [
    {
     "data": {
      "text/plain": [
       "(-0.5224246698222716, -0.420164001021145)"
      ]
     },
     "execution_count": 7,
     "metadata": {},
     "output_type": "execute_result"
    }
   ],
   "source": [
    "min_dir = get_minimal_direction(sig)\n",
    "min_dir"
   ]
  },
  {
   "cell_type": "code",
   "execution_count": 8,
   "id": "ee1b25f7",
   "metadata": {},
   "outputs": [
    {
     "data": {
      "text/plain": [
       "a <= 0 && b >= 3*a"
      ]
     },
     "execution_count": 8,
     "metadata": {},
     "output_type": "execute_result"
    }
   ],
   "source": [
    "m('cone = ConicHullRegion[{{0, 0}}, {{0, 1}, {-1, -3}}]')\n",
    "m('Reduce[{a, b} \\[Element] cone, {a, b}]')"
   ]
  },
  {
   "cell_type": "code",
   "execution_count": 11,
   "id": "b97c303d",
   "metadata": {},
   "outputs": [
    {
     "data": {
      "text/plain": [
       "((n == 0 && a == 0) || (n > 0 && Inequality[-1/3*n, LessEqual, a, LessEqual, \n",
       "    0])) && b == 6*a + n"
      ]
     },
     "execution_count": 11,
     "metadata": {},
     "output_type": "execute_result"
    }
   ],
   "source": [
    "m('Reduce[-6*a + b == n && {a, b} \\[Element] cone && n \\[Element] Reals, {a, b}]')"
   ]
  },
  {
   "cell_type": "code",
   "execution_count": 10,
   "id": "f401c501",
   "metadata": {},
   "outputs": [
    {
     "data": {
      "image/png": "[encoded data removed]",
      "text/plain": [
       "Graphics object consisting of 10 graphics primitives"
      ]
     },
     "execution_count": 10,
     "metadata": {},
     "output_type": "execute_result"
    }
   ],
   "source": [
    "get_fibered_cone_and_levset_plot(sig)"
   ]
  },
  {
   "cell_type": "code",
   "execution_count": 15,
   "id": "0e63653e",
   "metadata": {},
   "outputs": [
    {
     "name": "stdout",
     "output_type": "stream",
     "text": [
      "Thurston norm 0\n",
      "Thurston norm 1\n",
      "Thurston norm 2\n",
      "Thurston norm 3\n",
      "Thurston norm 4\n",
      "\t(-1, -2) has genus 2\n",
      "Thurston norm 5\n",
      "\t(-1, -1) has genus 2\n",
      "Thurston norm 6\n",
      "\t(-1, 0) has genus 3\n",
      "Thurston norm 7\n",
      "\t(-2, -5) has genus 3\n",
      "\t(-1, 1) has genus 3\n",
      "Thurston norm 8\n",
      "\t(-1, 2) has genus 4\n",
      "Thurston norm 9\n",
      "\t(-2, -3) has genus 4\n",
      "\t(-1, 3) has genus 4\n",
      "Thurston norm 10\n",
      "\t(-3, -8) has genus 5\n",
      "\t(-1, 4) has genus 5\n",
      "Thurston norm 11\n",
      "\t(-3, -7) has genus 5\n",
      "\t(-2, -1) has genus 5\n",
      "\t(-1, 5) has genus 5\n",
      "Thurston norm 12\n",
      "\t(-1, 6) has genus 6\n",
      "Thurston norm 13\n",
      "\t(-4, -11) has genus 6\n",
      "\t(-3, -5) has genus 6\n",
      "\t(-2, 1) has genus 6\n",
      "\t(-1, 7) has genus 6\n",
      "Thurston norm 14\n",
      "\t(-3, -4) has genus 7\n",
      "\t(-1, 8) has genus 7\n",
      "Thurston norm 15\n",
      "\t(-4, -9) has genus 7\n",
      "\t(-2, 3) has genus 7\n",
      "\t(-1, 9) has genus 7\n",
      "Thurston norm 16\n",
      "\t(-5, -14) has genus 8\n",
      "\t(-3, -2) has genus 8\n",
      "\t(-1, 10) has genus 8\n",
      "Thurston norm 17\n",
      "\t(-5, -13) has genus 8\n",
      "\t(-4, -7) has genus 8\n",
      "\t(-3, -1) has genus 8\n",
      "\t(-2, 5) has genus 8\n",
      "\t(-1, 11) has genus 8\n",
      "Thurston norm 18\n",
      "\t(-5, -12) has genus 9\n",
      "\t(-1, 12) has genus 9\n",
      "Thurston norm 19\n",
      "\t(-6, -17) has genus 9\n",
      "\t(-5, -11) has genus 9\n",
      "\t(-4, -5) has genus 9\n",
      "\t(-3, 1) has genus 9\n",
      "\t(-2, 7) has genus 9\n",
      "\t(-1, 13) has genus 9\n"
     ]
    }
   ],
   "source": [
    "for n in range(20):\n",
    "    print('Thurston norm ' + str(n))\n",
    "    for a in range(-1*floor((1/3)*n),1):\n",
    "        b = 6*a + n\n",
    "        if cone.interior_contains(a,b) and (gcd(a,b) == 1):\n",
    "            print('\\t' + str((a,b)) + ' has genus ' + str(get_genus(sig,(a,b))))"
   ]
  },
  {
   "cell_type": "code",
   "execution_count": null,
   "id": "44ee3d5e",
   "metadata": {},
   "outputs": [],
   "source": []
  }
 ],
 "metadata": {
  "kernelspec": {
   "display_name": "SageMath 9.6",
   "language": "sage",
   "name": "sagemath-9.6"
  },
  "language_info": {
   "codemirror_mode": {
    "name": "ipython",
    "version": 3
   },
   "file_extension": ".py",
   "mimetype": "text/x-python",
   "name": "python",
   "nbconvert_exporter": "python",
   "pygments_lexer": "ipython3",
   "version": "3.10.3"
  }
 },
 "nbformat": 4,
 "nbformat_minor": 5
}
