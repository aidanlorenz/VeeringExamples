{
 "cells": [
  {
   "cell_type": "code",
   "execution_count": 6,
   "id": "01ff7f2e",
   "metadata": {},
   "outputs": [],
   "source": [
    "load('VeeringGeneralFunctions.sage')"
   ]
  },
  {
   "cell_type": "code",
   "execution_count": 9,
   "id": "c8f187e0",
   "metadata": {},
   "outputs": [],
   "source": [
    "sig = 'gLLPQbefefefhhhhhha_011102'"
   ]
  },
  {
   "cell_type": "code",
   "execution_count": 10,
   "id": "79fe35b5",
   "metadata": {},
   "outputs": [
    {
     "data": {
      "text/plain": [
       "N(-1, 1),\n",
       "N( 1, 1),\n",
       "N( 0, 1)\n",
       "in 2-d lattice N"
      ]
     },
     "execution_count": 10,
     "metadata": {},
     "output_type": "execute_result"
    }
   ],
   "source": [
    "cone = get_fibered_cone(sig)\n",
    "cone.Hilbert_basis()"
   ]
  },
  {
   "cell_type": "code",
   "execution_count": 11,
   "id": "855a7048",
   "metadata": {},
   "outputs": [
    {
     "data": {
      "text/plain": [
       "(0, 1.3169578969248168)"
      ]
     },
     "execution_count": 11,
     "metadata": {},
     "output_type": "execute_result"
    }
   ],
   "source": [
    "min_dir = get_minimal_direction(sig)\n",
    "min_dir"
   ]
  },
  {
   "cell_type": "code",
   "execution_count": 12,
   "id": "ae4e4c8d",
   "metadata": {},
   "outputs": [
    {
     "data": {
      "image/png": "[encoded data removed]",
      "text/plain": [
       "Graphics object consisting of 11 graphics primitives"
      ]
     },
     "execution_count": 12,
     "metadata": {},
     "output_type": "execute_result"
    }
   ],
   "source": [
    "get_fibered_cone_and_levset_plot(sig) + arrow((0, 0), (min_dir[0]*5, min_dir[1]*5), color='cyan')"
   ]
  },
  {
   "cell_type": "code",
   "execution_count": 13,
   "id": "8e168b65",
   "metadata": {},
   "outputs": [
    {
     "data": {
      "text/plain": [
       "2.6339157938496873"
      ]
     },
     "execution_count": 13,
     "metadata": {},
     "output_type": "execute_result"
    }
   ],
   "source": [
    "minimum = get_min_norm_dila_log_mathematica_approx(sig)\n",
    "minimum"
   ]
  },
  {
   "cell_type": "code",
   "execution_count": 14,
   "id": "b1a6480a",
   "metadata": {},
   "outputs": [
    {
     "data": {
      "text/plain": [
       "2*a1"
      ]
     },
     "execution_count": 14,
     "metadata": {},
     "output_type": "execute_result"
    }
   ],
   "source": [
    "get_Thurston_norm(sig)"
   ]
  },
  {
   "cell_type": "code",
   "execution_count": 15,
   "id": "40c319d8",
   "metadata": {},
   "outputs": [
    {
     "data": {
      "text/plain": [
       "[(a0 - 2*a1, 2*a0 - a1), (a0 - a1, -a0 - 2*a1)]"
      ]
     },
     "execution_count": 15,
     "metadata": {},
     "output_type": "execute_result"
    }
   ],
   "source": [
    "get_LES_boundary_maps(sig)"
   ]
  },
  {
   "cell_type": "code",
   "execution_count": 16,
   "id": "1c719b90",
   "metadata": {},
   "outputs": [
    {
     "data": {
      "text/plain": [
       "(a <= 0 && b >= -a) || (a > 0 && b >= a)"
      ]
     },
     "execution_count": 16,
     "metadata": {},
     "output_type": "execute_result"
    }
   ],
   "source": [
    "m('cone = ConicHullRegion[{{0, 0}}, {{-1, 1}, {1, 1}, {0,1}}]')\n",
    "m('Reduce[{a, b} \\[Element] cone, {a, b}]')"
   ]
  },
  {
   "cell_type": "code",
   "execution_count": 17,
   "id": "14e6f0af",
   "metadata": {},
   "outputs": [
    {
     "data": {
      "text/plain": [
       "((n == 0 && a == 0) || (n > 0 && Inequality[-1/2*n, LessEqual, a, LessEqual, \n",
       "    n/2])) && b == n/2"
      ]
     },
     "execution_count": 17,
     "metadata": {},
     "output_type": "execute_result"
    }
   ],
   "source": [
    "m('Reduce[2*b == n && {a, b} \\[Element] cone && n \\[Element] Reals, {a, b}]')"
   ]
  },
  {
   "cell_type": "code",
   "execution_count": 20,
   "id": "7f8c2731",
   "metadata": {},
   "outputs": [
    {
     "name": "stdout",
     "output_type": "stream",
     "text": [
      "Thurston norm 1\n",
      "Thurston norm 2\n",
      "\t(0, 1) has genus 1\n",
      "Thurston norm 3\n",
      "Thurston norm 4\n",
      "\t(-1, 2) has genus 1\n",
      "\t(1, 2) has genus 1\n",
      "Thurston norm 5\n",
      "Thurston norm 6\n",
      "\t(-2, 3) has genus 3\n",
      "\t(-1, 3) has genus 3\n",
      "\t(1, 3) has genus 3\n",
      "\t(2, 3) has genus 3\n",
      "Thurston norm 7\n",
      "Thurston norm 8\n",
      "\t(-3, 4) has genus 4\n",
      "\t(-1, 4) has genus 3\n",
      "\t(1, 4) has genus 3\n",
      "\t(3, 4) has genus 4\n",
      "Thurston norm 9\n",
      "Thurston norm 10\n",
      "\t(-4, 5) has genus 4\n",
      "\t(-3, 5) has genus 5\n",
      "\t(-2, 5) has genus 4\n",
      "\t(-1, 5) has genus 4\n",
      "\t(1, 5) has genus 4\n",
      "\t(2, 5) has genus 4\n",
      "\t(3, 5) has genus 5\n",
      "\t(4, 5) has genus 4\n",
      "Thurston norm 11\n",
      "Thurston norm 12\n",
      "\t(-5, 6) has genus 6\n",
      "\t(-1, 6) has genus 6\n",
      "\t(1, 6) has genus 6\n",
      "\t(5, 6) has genus 6\n",
      "Thurston norm 13\n",
      "Thurston norm 14\n",
      "\t(-6, 7) has genus 7\n",
      "\t(-5, 7) has genus 6\n",
      "\t(-4, 7) has genus 6\n",
      "\t(-3, 7) has genus 7\n",
      "\t(-2, 7) has genus 6\n",
      "\t(-1, 7) has genus 6\n",
      "\t(1, 7) has genus 6\n",
      "\t(2, 7) has genus 6\n",
      "\t(3, 7) has genus 7\n",
      "\t(4, 7) has genus 6\n",
      "\t(5, 7) has genus 6\n",
      "\t(6, 7) has genus 7\n",
      "Thurston norm 15\n",
      "Thurston norm 16\n",
      "\t(-7, 8) has genus 7\n",
      "\t(-5, 8) has genus 7\n",
      "\t(-3, 8) has genus 8\n",
      "\t(-1, 8) has genus 7\n",
      "\t(1, 8) has genus 7\n",
      "\t(3, 8) has genus 8\n",
      "\t(5, 8) has genus 7\n",
      "\t(7, 8) has genus 7\n",
      "Thurston norm 17\n",
      "Thurston norm 18\n",
      "\t(-8, 9) has genus 9\n",
      "\t(-7, 9) has genus 9\n",
      "\t(-5, 9) has genus 9\n",
      "\t(-4, 9) has genus 9\n",
      "\t(-2, 9) has genus 9\n",
      "\t(-1, 9) has genus 9\n",
      "\t(1, 9) has genus 9\n",
      "\t(2, 9) has genus 9\n",
      "\t(4, 9) has genus 9\n",
      "\t(5, 9) has genus 9\n",
      "\t(7, 9) has genus 9\n",
      "\t(8, 9) has genus 9\n",
      "Thurston norm 19\n",
      "Thurston norm 20\n",
      "\t(-9, 10) has genus 10\n",
      "\t(-7, 10) has genus 9\n",
      "\t(-3, 10) has genus 10\n",
      "\t(-1, 10) has genus 9\n",
      "\t(1, 10) has genus 9\n",
      "\t(3, 10) has genus 10\n",
      "\t(7, 10) has genus 9\n",
      "\t(9, 10) has genus 10\n",
      "Thurston norm 21\n",
      "Thurston norm 22\n",
      "\t(-10, 11) has genus 10\n",
      "\t(-9, 11) has genus 11\n",
      "\t(-8, 11) has genus 10\n",
      "\t(-7, 11) has genus 10\n",
      "\t(-6, 11) has genus 11\n",
      "\t(-5, 11) has genus 10\n",
      "\t(-4, 11) has genus 10\n",
      "\t(-3, 11) has genus 11\n",
      "\t(-2, 11) has genus 10\n",
      "\t(-1, 11) has genus 10\n",
      "\t(1, 11) has genus 10\n",
      "\t(2, 11) has genus 10\n",
      "\t(3, 11) has genus 11\n",
      "\t(4, 11) has genus 10\n",
      "\t(5, 11) has genus 10\n",
      "\t(6, 11) has genus 11\n",
      "\t(7, 11) has genus 10\n",
      "\t(8, 11) has genus 10\n",
      "\t(9, 11) has genus 11\n",
      "\t(10, 11) has genus 10\n",
      "Thurston norm 23\n",
      "Thurston norm 24\n",
      "\t(-11, 12) has genus 12\n",
      "\t(-7, 12) has genus 12\n",
      "\t(-5, 12) has genus 12\n",
      "\t(-1, 12) has genus 12\n",
      "\t(1, 12) has genus 12\n",
      "\t(5, 12) has genus 12\n",
      "\t(7, 12) has genus 12\n",
      "\t(11, 12) has genus 12\n",
      "Thurston norm 25\n",
      "Thurston norm 26\n",
      "\t(-12, 13) has genus 13\n",
      "\t(-11, 13) has genus 12\n",
      "\t(-10, 13) has genus 12\n",
      "\t(-9, 13) has genus 13\n",
      "\t(-8, 13) has genus 12\n",
      "\t(-7, 13) has genus 12\n",
      "\t(-6, 13) has genus 13\n",
      "\t(-5, 13) has genus 12\n",
      "\t(-4, 13) has genus 12\n",
      "\t(-3, 13) has genus 13\n",
      "\t(-2, 13) has genus 12\n",
      "\t(-1, 13) has genus 12\n",
      "\t(1, 13) has genus 12\n",
      "\t(2, 13) has genus 12\n",
      "\t(3, 13) has genus 13\n",
      "\t(4, 13) has genus 12\n",
      "\t(5, 13) has genus 12\n",
      "\t(6, 13) has genus 13\n",
      "\t(7, 13) has genus 12\n",
      "\t(8, 13) has genus 12\n",
      "\t(9, 13) has genus 13\n",
      "\t(10, 13) has genus 12\n",
      "\t(11, 13) has genus 12\n",
      "\t(12, 13) has genus 13\n",
      "Thurston norm 27\n",
      "Thurston norm 28\n",
      "\t(-13, 14) has genus 13\n",
      "\t(-11, 14) has genus 13\n",
      "\t(-9, 14) has genus 14\n",
      "\t(-5, 14) has genus 13\n",
      "\t(-3, 14) has genus 14\n",
      "\t(-1, 14) has genus 13\n",
      "\t(1, 14) has genus 13\n",
      "\t(3, 14) has genus 14\n",
      "\t(5, 14) has genus 13\n",
      "\t(9, 14) has genus 14\n",
      "\t(11, 14) has genus 13\n",
      "\t(13, 14) has genus 13\n",
      "Thurston norm 29\n",
      "Thurston norm 30\n",
      "\t(-14, 15) has genus 15\n",
      "\t(-13, 15) has genus 15\n",
      "\t(-11, 15) has genus 15\n",
      "\t(-8, 15) has genus 15\n",
      "\t(-7, 15) has genus 15\n",
      "\t(-4, 15) has genus 15\n",
      "\t(-2, 15) has genus 15\n",
      "\t(-1, 15) has genus 15\n",
      "\t(1, 15) has genus 15\n",
      "\t(2, 15) has genus 15\n",
      "\t(4, 15) has genus 15\n",
      "\t(7, 15) has genus 15\n",
      "\t(8, 15) has genus 15\n",
      "\t(11, 15) has genus 15\n",
      "\t(13, 15) has genus 15\n",
      "\t(14, 15) has genus 15\n",
      "Thurston norm 31\n",
      "Thurston norm 32\n",
      "\t(-15, 16) has genus 16\n",
      "\t(-13, 16) has genus 15\n",
      "\t(-11, 16) has genus 15\n",
      "\t(-9, 16) has genus 16\n",
      "\t(-7, 16) has genus 15\n",
      "\t(-5, 16) has genus 15\n",
      "\t(-3, 16) has genus 16\n",
      "\t(-1, 16) has genus 15\n",
      "\t(1, 16) has genus 15\n",
      "\t(3, 16) has genus 16\n",
      "\t(5, 16) has genus 15\n",
      "\t(7, 16) has genus 15\n",
      "\t(9, 16) has genus 16\n",
      "\t(11, 16) has genus 15\n",
      "\t(13, 16) has genus 15\n",
      "\t(15, 16) has genus 16\n",
      "Thurston norm 33\n",
      "Thurston norm 34\n",
      "\t(-16, 17) has genus 16\n",
      "\t(-15, 17) has genus 17\n",
      "\t(-14, 17) has genus 16\n",
      "\t(-13, 17) has genus 16\n",
      "\t(-12, 17) has genus 17\n",
      "\t(-11, 17) has genus 16\n",
      "\t(-10, 17) has genus 16\n",
      "\t(-9, 17) has genus 17\n",
      "\t(-8, 17) has genus 16\n",
      "\t(-7, 17) has genus 16\n",
      "\t(-6, 17) has genus 17\n",
      "\t(-5, 17) has genus 16\n",
      "\t(-4, 17) has genus 16\n",
      "\t(-3, 17) has genus 17\n",
      "\t(-2, 17) has genus 16\n",
      "\t(-1, 17) has genus 16\n",
      "\t(1, 17) has genus 16\n",
      "\t(2, 17) has genus 16\n",
      "\t(3, 17) has genus 17\n",
      "\t(4, 17) has genus 16\n",
      "\t(5, 17) has genus 16\n",
      "\t(6, 17) has genus 17\n",
      "\t(7, 17) has genus 16\n",
      "\t(8, 17) has genus 16\n",
      "\t(9, 17) has genus 17\n",
      "\t(10, 17) has genus 16\n",
      "\t(11, 17) has genus 16\n",
      "\t(12, 17) has genus 17\n",
      "\t(13, 17) has genus 16\n",
      "\t(14, 17) has genus 16\n",
      "\t(15, 17) has genus 17\n",
      "\t(16, 17) has genus 16\n",
      "Thurston norm 35\n",
      "Thurston norm 36\n",
      "\t(-17, 18) has genus 18\n",
      "\t(-13, 18) has genus 18\n",
      "\t(-11, 18) has genus 18\n",
      "\t(-7, 18) has genus 18\n",
      "\t(-5, 18) has genus 18\n",
      "\t(-1, 18) has genus 18\n",
      "\t(1, 18) has genus 18\n",
      "\t(5, 18) has genus 18\n",
      "\t(7, 18) has genus 18\n",
      "\t(11, 18) has genus 18\n",
      "\t(13, 18) has genus 18\n",
      "\t(17, 18) has genus 18\n",
      "Thurston norm 37\n",
      "Thurston norm 38\n",
      "\t(-18, 19) has genus 19\n",
      "\t(-17, 19) has genus 18\n",
      "\t(-16, 19) has genus 18\n",
      "\t(-15, 19) has genus 19\n",
      "\t(-14, 19) has genus 18\n",
      "\t(-13, 19) has genus 18\n",
      "\t(-12, 19) has genus 19\n",
      "\t(-11, 19) has genus 18\n",
      "\t(-10, 19) has genus 18\n",
      "\t(-9, 19) has genus 19\n",
      "\t(-8, 19) has genus 18\n",
      "\t(-7, 19) has genus 18\n",
      "\t(-6, 19) has genus 19\n",
      "\t(-5, 19) has genus 18\n",
      "\t(-4, 19) has genus 18\n",
      "\t(-3, 19) has genus 19\n",
      "\t(-2, 19) has genus 18\n",
      "\t(-1, 19) has genus 18\n",
      "\t(1, 19) has genus 18\n",
      "\t(2, 19) has genus 18\n",
      "\t(3, 19) has genus 19\n",
      "\t(4, 19) has genus 18\n",
      "\t(5, 19) has genus 18\n",
      "\t(6, 19) has genus 19\n",
      "\t(7, 19) has genus 18\n",
      "\t(8, 19) has genus 18\n",
      "\t(9, 19) has genus 19\n",
      "\t(10, 19) has genus 18\n",
      "\t(11, 19) has genus 18\n",
      "\t(12, 19) has genus 19\n",
      "\t(13, 19) has genus 18\n",
      "\t(14, 19) has genus 18\n",
      "\t(15, 19) has genus 19\n",
      "\t(16, 19) has genus 18\n",
      "\t(17, 19) has genus 18\n",
      "\t(18, 19) has genus 19\n",
      "Thurston norm 39\n",
      "Thurston norm 40\n",
      "\t(-19, 20) has genus 19\n",
      "\t(-17, 20) has genus 19\n",
      "\t(-13, 20) has genus 19\n",
      "\t(-11, 20) has genus 19\n",
      "\t(-9, 20) has genus 20\n",
      "\t(-7, 20) has genus 19\n",
      "\t(-3, 20) has genus 20\n",
      "\t(-1, 20) has genus 19\n",
      "\t(1, 20) has genus 19\n",
      "\t(3, 20) has genus 20\n",
      "\t(7, 20) has genus 19\n",
      "\t(9, 20) has genus 20\n",
      "\t(11, 20) has genus 19\n",
      "\t(13, 20) has genus 19\n",
      "\t(17, 20) has genus 19\n",
      "\t(19, 20) has genus 19\n",
      "Thurston norm 41\n",
      "Thurston norm 42\n",
      "\t(-20, 21) has genus 21\n",
      "\t(-19, 21) has genus 21\n",
      "\t(-17, 21) has genus 21\n",
      "\t(-16, 21) has genus 21\n",
      "\t(-13, 21) has genus 21\n",
      "\t(-11, 21) has genus 21\n",
      "\t(-10, 21) has genus 21\n",
      "\t(-8, 21) has genus 21\n",
      "\t(-5, 21) has genus 21\n",
      "\t(-4, 21) has genus 21\n",
      "\t(-2, 21) has genus 21\n",
      "\t(-1, 21) has genus 21\n",
      "\t(1, 21) has genus 21\n",
      "\t(2, 21) has genus 21\n",
      "\t(4, 21) has genus 21\n",
      "\t(5, 21) has genus 21\n",
      "\t(8, 21) has genus 21\n",
      "\t(10, 21) has genus 21\n",
      "\t(11, 21) has genus 21\n",
      "\t(13, 21) has genus 21\n",
      "\t(16, 21) has genus 21\n",
      "\t(17, 21) has genus 21\n",
      "\t(19, 21) has genus 21\n",
      "\t(20, 21) has genus 21\n",
      "Thurston norm 43\n",
      "Thurston norm 44\n",
      "\t(-21, 22) has genus 22\n",
      "\t(-19, 22) has genus 21\n",
      "\t(-17, 22) has genus 21\n",
      "\t(-15, 22) has genus 22\n",
      "\t(-13, 22) has genus 21\n",
      "\t(-9, 22) has genus 22\n",
      "\t(-7, 22) has genus 21\n",
      "\t(-5, 22) has genus 21\n",
      "\t(-3, 22) has genus 22\n",
      "\t(-1, 22) has genus 21\n",
      "\t(1, 22) has genus 21\n",
      "\t(3, 22) has genus 22\n",
      "\t(5, 22) has genus 21\n",
      "\t(7, 22) has genus 21\n",
      "\t(9, 22) has genus 22\n",
      "\t(13, 22) has genus 21\n",
      "\t(15, 22) has genus 22\n",
      "\t(17, 22) has genus 21\n",
      "\t(19, 22) has genus 21\n",
      "\t(21, 22) has genus 22\n",
      "Thurston norm 45\n",
      "Thurston norm 46\n",
      "\t(-22, 23) has genus 22\n",
      "\t(-21, 23) has genus 23\n",
      "\t(-20, 23) has genus 22\n",
      "\t(-19, 23) has genus 22\n",
      "\t(-18, 23) has genus 23\n",
      "\t(-17, 23) has genus 22\n",
      "\t(-16, 23) has genus 22\n",
      "\t(-15, 23) has genus 23\n",
      "\t(-14, 23) has genus 22\n",
      "\t(-13, 23) has genus 22\n",
      "\t(-12, 23) has genus 23\n",
      "\t(-11, 23) has genus 22\n",
      "\t(-10, 23) has genus 22\n",
      "\t(-9, 23) has genus 23\n",
      "\t(-8, 23) has genus 22\n",
      "\t(-7, 23) has genus 22\n",
      "\t(-6, 23) has genus 23\n",
      "\t(-5, 23) has genus 22\n",
      "\t(-4, 23) has genus 22\n",
      "\t(-3, 23) has genus 23\n",
      "\t(-2, 23) has genus 22\n",
      "\t(-1, 23) has genus 22\n",
      "\t(1, 23) has genus 22\n",
      "\t(2, 23) has genus 22\n",
      "\t(3, 23) has genus 23\n",
      "\t(4, 23) has genus 22\n",
      "\t(5, 23) has genus 22\n",
      "\t(6, 23) has genus 23\n",
      "\t(7, 23) has genus 22\n",
      "\t(8, 23) has genus 22\n",
      "\t(9, 23) has genus 23\n"
     ]
    },
    {
     "name": "stdout",
     "output_type": "stream",
     "text": [
      "\t(10, 23) has genus 22\n",
      "\t(11, 23) has genus 22\n",
      "\t(12, 23) has genus 23\n",
      "\t(13, 23) has genus 22\n",
      "\t(14, 23) has genus 22\n",
      "\t(15, 23) has genus 23\n",
      "\t(16, 23) has genus 22\n",
      "\t(17, 23) has genus 22\n",
      "\t(18, 23) has genus 23\n",
      "\t(19, 23) has genus 22\n",
      "\t(20, 23) has genus 22\n",
      "\t(21, 23) has genus 23\n",
      "\t(22, 23) has genus 22\n",
      "Thurston norm 47\n",
      "Thurston norm 48\n",
      "\t(-23, 24) has genus 24\n",
      "\t(-19, 24) has genus 24\n",
      "\t(-17, 24) has genus 24\n",
      "\t(-13, 24) has genus 24\n",
      "\t(-11, 24) has genus 24\n",
      "\t(-7, 24) has genus 24\n",
      "\t(-5, 24) has genus 24\n",
      "\t(-1, 24) has genus 24\n",
      "\t(1, 24) has genus 24\n",
      "\t(5, 24) has genus 24\n",
      "\t(7, 24) has genus 24\n",
      "\t(11, 24) has genus 24\n",
      "\t(13, 24) has genus 24\n",
      "\t(17, 24) has genus 24\n",
      "\t(19, 24) has genus 24\n",
      "\t(23, 24) has genus 24\n",
      "Thurston norm 49\n"
     ]
    }
   ],
   "source": [
    "for n in range(1,50):\n",
    "    print('Thurston norm ' + str(n))\n",
    "    if n%2 == 0:\n",
    "        for a in range(-n/2,n/2+1):\n",
    "            b = n/2\n",
    "            if cone.interior_contains(a,b) and (gcd(a,b) == 1):\n",
    "                print('\\t' + str((a,b)) + ' has genus ' + str(get_genus(sig,(a,b))))"
   ]
  },
  {
   "cell_type": "code",
   "execution_count": null,
   "id": "1eb2a3a7",
   "metadata": {},
   "outputs": [],
   "source": []
  }
 ],
 "metadata": {
  "kernelspec": {
   "display_name": "SageMath 9.6",
   "language": "sage",
   "name": "sagemath-9.6"
  },
  "language_info": {
   "codemirror_mode": {
    "name": "ipython",
    "version": 3
   },
   "file_extension": ".py",
   "mimetype": "text/x-python",
   "name": "python",
   "nbconvert_exporter": "python",
   "pygments_lexer": "ipython3",
   "version": "3.10.3"
  }
 },
 "nbformat": 4,
 "nbformat_minor": 5
}
