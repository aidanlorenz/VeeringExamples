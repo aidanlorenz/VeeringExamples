{
 "cells": [
  {
   "cell_type": "code",
   "execution_count": 1,
   "id": "0cc64a8c",
   "metadata": {},
   "outputs": [],
   "source": [
    "load('VeeringGeneralFunctions.sage')"
   ]
  },
  {
   "cell_type": "code",
   "execution_count": 2,
   "id": "5bc70f50",
   "metadata": {},
   "outputs": [],
   "source": [
    "sig = 'hLALMkbcbefggghhwsemws_2112201'"
   ]
  },
  {
   "cell_type": "code",
   "execution_count": 3,
   "id": "b4d3e116",
   "metadata": {},
   "outputs": [
    {
     "data": {
      "text/plain": [
       "[(a0 - 5*a1, -2*a0 + 7*a1), (-3*a0 + 3*a1, a0)]"
      ]
     },
     "execution_count": 3,
     "metadata": {},
     "output_type": "execute_result"
    }
   ],
   "source": [
    "get_LES_boundary_maps(sig)"
   ]
  },
  {
   "cell_type": "code",
   "execution_count": 4,
   "id": "ed9c4082",
   "metadata": {},
   "outputs": [
    {
     "data": {
      "text/plain": [
       "N(0, -1),\n",
       "N(1,  0)\n",
       "in 2-d lattice N"
      ]
     },
     "execution_count": 4,
     "metadata": {},
     "output_type": "execute_result"
    }
   ],
   "source": [
    "cone = get_fibered_cone(sig)\n",
    "cone.Hilbert_basis()"
   ]
  },
  {
   "cell_type": "code",
   "execution_count": 9,
   "id": "9725944f",
   "metadata": {},
   "outputs": [
    {
     "data": {
      "image/png": "[encoded data removed]",
      "text/plain": [
       "Graphics object consisting of 9 graphics primitives"
      ]
     },
     "execution_count": 9,
     "metadata": {},
     "output_type": "execute_result"
    }
   ],
   "source": [
    "cone.plot()"
   ]
  },
  {
   "cell_type": "code",
   "execution_count": 15,
   "id": "bda6a331",
   "metadata": {},
   "outputs": [
    {
     "data": {
      "text/plain": [
       "2*a0 - 6*a1"
      ]
     },
     "execution_count": 15,
     "metadata": {},
     "output_type": "execute_result"
    }
   ],
   "source": [
    "get_Thurston_norm(sig)"
   ]
  },
  {
   "cell_type": "code",
   "execution_count": null,
   "id": "7708f686",
   "metadata": {},
   "outputs": [],
   "source": [
    "min_dir = get_minimal_direction(sig)\n",
    "min_dir"
   ]
  },
  {
   "cell_type": "code",
   "execution_count": null,
   "id": "b10c8c39",
   "metadata": {},
   "outputs": [],
   "source": [
    "get_fibered_cone_and_levset_plot(sig)"
   ]
  },
  {
   "cell_type": "code",
   "execution_count": 6,
   "id": "53825e91",
   "metadata": {},
   "outputs": [
    {
     "data": {
      "text/plain": [
       "a >= 0 && b <= 0"
      ]
     },
     "execution_count": 6,
     "metadata": {},
     "output_type": "execute_result"
    }
   ],
   "source": [
    "m('cone = ConicHullRegion[{{0, 0}}, {{0,-1}, {1, 0}}]')\n",
    "m('Reduce[{a, b} \\[Element] cone, {a, b}]')"
   ]
  },
  {
   "cell_type": "code",
   "execution_count": 16,
   "id": "74f73ec3",
   "metadata": {},
   "outputs": [
    {
     "data": {
      "text/plain": [
       "((n == 0 && a == 0) || (n > 0 && Inequality[0, LessEqual, a, LessEqual, \n",
       "    n/2])) && b == (2*a - n)/6"
      ]
     },
     "execution_count": 16,
     "metadata": {},
     "output_type": "execute_result"
    }
   ],
   "source": [
    "m('Reduce[2*a - 6*b == n && {a, b} \\[Element] cone && n \\[Element] Reals, {a, b}]')"
   ]
  },
  {
   "cell_type": "code",
   "execution_count": 17,
   "id": "386bb685",
   "metadata": {},
   "outputs": [
    {
     "name": "stdout",
     "output_type": "stream",
     "text": [
      "Thurston norm 0\n",
      "Thurston norm 1\n",
      "Thurston norm 2\n",
      "Thurston norm 3\n",
      "Thurston norm 4\n",
      "Thurston norm 5\n",
      "Thurston norm 6\n",
      "Thurston norm 7\n",
      "Thurston norm 8\n",
      "\t(1, -1) has genus 3\n",
      "Thurston norm 9\n",
      "Thurston norm 10\n",
      "\t(2, -1) has genus 5\n",
      "Thurston norm 11\n",
      "Thurston norm 12\n",
      "\t(3, -1) has genus 5\n",
      "Thurston norm 13\n",
      "Thurston norm 14\n",
      "\t(1, -2) has genus 7\n",
      "\t(4, -1) has genus 6\n",
      "Thurston norm 15\n",
      "Thurston norm 16\n",
      "\t(5, -1) has genus 8\n",
      "Thurston norm 17\n",
      "Thurston norm 18\n",
      "\t(3, -2) has genus 8\n",
      "\t(6, -1) has genus 8\n",
      "Thurston norm 19\n"
     ]
    }
   ],
   "source": [
    "for n in range(20):\n",
    "    print('Thurston norm ' + str(n))\n",
    "    for a in range(floor(n/2)):\n",
    "        b = (2*a - n)/6\n",
    "        if cone.interior_contains(a,b) and (gcd(a,b) == 1):\n",
    "            print('\\t' + str((a,b)) + ' has genus ' + str(get_genus(sig,(a,b))))"
   ]
  },
  {
   "cell_type": "code",
   "execution_count": 18,
   "id": "2937a866",
   "metadata": {},
   "outputs": [],
   "source": [
    "def get_prim_int_lattice_pts_on_levset_arr_by_genus(Tnorm):\n",
    "    # This function gets all the primitive integral points in the interior of the cone\n",
    "    # on a given level set of the Thurston norm.\n",
    "    preretval = []\n",
    "    for a in range(floor(Tnorm/2)):\n",
    "        b = (2*a - Tnorm)/6\n",
    "        if cone.interior_contains(a,b) and (gcd(a,b) == 1):\n",
    "            preretval.append(((a,b),get_genus(sig,(a,b))))\n",
    "               \n",
    "    genuses = [elt[1] for elt in preretval]\n",
    "    max_genus = max(genuses)\n",
    "    \n",
    "    retval = [[] for i in range(max_genus + 1)]\n",
    "    for elt in preretval:\n",
    "        retval[elt[1]].append(elt[0])\n",
    "        \n",
    "    return retval"
   ]
  },
  {
   "cell_type": "code",
   "execution_count": 19,
   "id": "6689b8ba",
   "metadata": {},
   "outputs": [],
   "source": [
    "def make_point_and_one_tnorm_plot(Tnorm):\n",
    "    min_dir_arrow = arrow((0, 0), (1,-1), color='cyan')\n",
    "    picture = min_dir_arrow\n",
    "    \n",
    "    pts = get_prim_int_lattice_pts_on_levset_arr_by_genus(Tnorm)\n",
    "            \n",
    "    for i in range(len(pts)):\n",
    "        #picture += points(pts[i], rgbcolor = rainbow(len(pts))[i], size = 50, legend_label='genus ' + str(i), label = i)\n",
    "        for j in range(len(pts[i])):\n",
    "            picture += text(str(i), pts[i][j], color = rainbow(len(pts))[i])\n",
    "    \n",
    "    Tnorm_levset = line([(Tnorm/2,0),(0,-Tnorm/6)])\n",
    "    picture += Tnorm_levset\n",
    "        \n",
    "    return picture"
   ]
  },
  {
   "cell_type": "code",
   "execution_count": 23,
   "id": "00dedf8d",
   "metadata": {},
   "outputs": [
    {
     "data": {
      "image/png": "[encoded data removed]",
      "text/plain": [
       "Graphics object consisting of 9 graphics primitives"
      ]
     },
     "execution_count": 23,
     "metadata": {},
     "output_type": "execute_result"
    }
   ],
   "source": [
    "make_point_and_one_tnorm_plot(50)"
   ]
  },
  {
   "cell_type": "code",
   "execution_count": null,
   "id": "ccf9fe4f",
   "metadata": {},
   "outputs": [],
   "source": []
  }
 ],
 "metadata": {
  "kernelspec": {
   "display_name": "SageMath 9.6",
   "language": "sage",
   "name": "sagemath-9.6"
  },
  "language_info": {
   "codemirror_mode": {
    "name": "ipython",
    "version": 3
   },
   "file_extension": ".py",
   "mimetype": "text/x-python",
   "name": "python",
   "nbconvert_exporter": "python",
   "pygments_lexer": "ipython3",
   "version": "3.10.3"
  }
 },
 "nbformat": 4,
 "nbformat_minor": 5
}
