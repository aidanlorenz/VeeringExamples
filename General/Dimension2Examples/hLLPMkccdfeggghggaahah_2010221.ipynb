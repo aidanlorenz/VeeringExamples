{
 "cells": [
  {
   "cell_type": "code",
   "execution_count": 1,
   "id": "23a84122",
   "metadata": {},
   "outputs": [],
   "source": [
    "load('VeeringGeneralFunctions.sage')"
   ]
  },
  {
   "cell_type": "code",
   "execution_count": 2,
   "id": "5fa76789",
   "metadata": {},
   "outputs": [],
   "source": [
    "sig = 'hLLPMkccdfeggghggaahah_2010221'"
   ]
  },
  {
   "cell_type": "code",
   "execution_count": 3,
   "id": "894c10f4",
   "metadata": {},
   "outputs": [
    {
     "data": {
      "text/plain": [
       "[(3*a0, -a1), (-3*a0, -2*a0 - a1)]"
      ]
     },
     "execution_count": 3,
     "metadata": {},
     "output_type": "execute_result"
    }
   ],
   "source": [
    "get_LES_boundary_maps(sig)"
   ]
  },
  {
   "cell_type": "code",
   "execution_count": 4,
   "id": "c4d19391",
   "metadata": {},
   "outputs": [
    {
     "data": {
      "text/plain": [
       "N(-1, 2),\n",
       "N( 1, 0),\n",
       "N( 0, 1)\n",
       "in 2-d lattice N"
      ]
     },
     "execution_count": 4,
     "metadata": {},
     "output_type": "execute_result"
    }
   ],
   "source": [
    "cone = get_fibered_cone(sig)\n",
    "cone.Hilbert_basis()"
   ]
  },
  {
   "cell_type": "code",
   "execution_count": 5,
   "id": "c286def4",
   "metadata": {},
   "outputs": [
    {
     "data": {
      "text/plain": [
       "2*a0 + 2*a1"
      ]
     },
     "execution_count": 5,
     "metadata": {},
     "output_type": "execute_result"
    }
   ],
   "source": [
    "get_Thurston_norm(sig)"
   ]
  },
  {
   "cell_type": "code",
   "execution_count": 6,
   "id": "8d0b7ad5",
   "metadata": {},
   "outputs": [
    {
     "data": {
      "text/plain": [
       "(0, 1.566799236972411)"
      ]
     },
     "execution_count": 6,
     "metadata": {},
     "output_type": "execute_result"
    }
   ],
   "source": [
    "min_dir = get_minimal_direction(sig)\n",
    "min_dir"
   ]
  },
  {
   "cell_type": "code",
   "execution_count": 7,
   "id": "9717c0e3",
   "metadata": {},
   "outputs": [
    {
     "data": {
      "image/png": "[encoded data removed]",
      "text/plain": [
       "Graphics object consisting of 10 graphics primitives"
      ]
     },
     "execution_count": 7,
     "metadata": {},
     "output_type": "execute_result"
    }
   ],
   "source": [
    "get_fibered_cone_and_levset_plot(sig)"
   ]
  },
  {
   "cell_type": "code",
   "execution_count": 8,
   "id": "60fb9789",
   "metadata": {},
   "outputs": [
    {
     "data": {
      "text/plain": [
       "(a <= 0 && b >= -2*a) || (a > 0 && b >= 0)"
      ]
     },
     "execution_count": 8,
     "metadata": {},
     "output_type": "execute_result"
    }
   ],
   "source": [
    "m('cone = ConicHullRegion[{{0, 0}}, {{-1,2}, {1,0}, {0,1}}]')\n",
    "m('Reduce[{a, b} \\[Element] cone, {a, b}]')"
   ]
  },
  {
   "cell_type": "code",
   "execution_count": 9,
   "id": "30291cb2",
   "metadata": {},
   "outputs": [
    {
     "data": {
      "text/plain": [
       "((n == 0 && a == 0) || (n > 0 && Inequality[-1/2*n, LessEqual, a, LessEqual, \n",
       "    n/2])) && b == (-2*a + n)/2"
      ]
     },
     "execution_count": 9,
     "metadata": {},
     "output_type": "execute_result"
    }
   ],
   "source": [
    "m('Reduce[2*a + 2*b == n && {a, b} \\[Element] cone && n \\[Element] Reals, {a, b}]')"
   ]
  },
  {
   "cell_type": "code",
   "execution_count": 12,
   "id": "d1eec8af",
   "metadata": {},
   "outputs": [
    {
     "name": "stdout",
     "output_type": "stream",
     "text": [
      "Thurston norm 0\n",
      "Thurston norm 1\n",
      "Thurston norm 2\n",
      "\t(0, 1) has genus 1\n",
      "Thurston norm 3\n",
      "Thurston norm 4\n",
      "\t(-1, 3) has genus 1\n",
      "\t(1, 1) has genus 1\n",
      "Thurston norm 5\n",
      "Thurston norm 6\n",
      "\t(-2, 5) has genus 3\n",
      "\t(-1, 4) has genus 3\n",
      "\t(1, 2) has genus 3\n",
      "\t(2, 1) has genus 3\n",
      "Thurston norm 7\n",
      "Thurston norm 8\n",
      "\t(-3, 7) has genus 4\n",
      "\t(-1, 5) has genus 3\n",
      "\t(1, 3) has genus 3\n",
      "\t(3, 1) has genus 4\n",
      "Thurston norm 9\n",
      "Thurston norm 10\n",
      "\t(-4, 9) has genus 4\n",
      "\t(-3, 8) has genus 5\n",
      "\t(-2, 7) has genus 4\n",
      "\t(-1, 6) has genus 4\n",
      "\t(1, 4) has genus 4\n",
      "\t(2, 3) has genus 4\n",
      "\t(3, 2) has genus 5\n",
      "\t(4, 1) has genus 4\n",
      "Thurston norm 11\n",
      "Thurston norm 12\n",
      "\t(-5, 11) has genus 6\n",
      "\t(-1, 7) has genus 6\n",
      "\t(1, 5) has genus 6\n",
      "\t(5, 1) has genus 6\n",
      "Thurston norm 13\n",
      "Thurston norm 14\n",
      "\t(-6, 13) has genus 7\n",
      "\t(-5, 12) has genus 6\n",
      "\t(-4, 11) has genus 6\n",
      "\t(-3, 10) has genus 7\n",
      "\t(-2, 9) has genus 6\n",
      "\t(-1, 8) has genus 6\n",
      "\t(1, 6) has genus 6\n",
      "\t(2, 5) has genus 6\n",
      "\t(3, 4) has genus 7\n",
      "\t(4, 3) has genus 6\n",
      "\t(5, 2) has genus 6\n",
      "\t(6, 1) has genus 7\n",
      "Thurston norm 15\n",
      "Thurston norm 16\n",
      "\t(-7, 15) has genus 7\n",
      "\t(-5, 13) has genus 7\n",
      "\t(-3, 11) has genus 8\n",
      "\t(-1, 9) has genus 7\n",
      "\t(1, 7) has genus 7\n",
      "\t(3, 5) has genus 8\n",
      "\t(5, 3) has genus 7\n",
      "\t(7, 1) has genus 7\n",
      "Thurston norm 17\n",
      "Thurston norm 18\n",
      "\t(-8, 17) has genus 9\n",
      "\t(-7, 16) has genus 9\n",
      "\t(-5, 14) has genus 9\n",
      "\t(-4, 13) has genus 9\n",
      "\t(-2, 11) has genus 9\n",
      "\t(-1, 10) has genus 9\n",
      "\t(1, 8) has genus 9\n",
      "\t(2, 7) has genus 9\n",
      "\t(4, 5) has genus 9\n",
      "\t(5, 4) has genus 9\n",
      "\t(7, 2) has genus 9\n",
      "\t(8, 1) has genus 9\n",
      "Thurston norm 19\n",
      "Thurston norm 20\n",
      "\t(-9, 19) has genus 10\n",
      "\t(-7, 17) has genus 9\n",
      "\t(-3, 13) has genus 10\n",
      "\t(-1, 11) has genus 9\n",
      "\t(1, 9) has genus 9\n",
      "\t(3, 7) has genus 10\n",
      "\t(7, 3) has genus 9\n",
      "\t(9, 1) has genus 10\n",
      "Thurston norm 21\n",
      "Thurston norm 22\n",
      "\t(-10, 21) has genus 10\n",
      "\t(-9, 20) has genus 11\n",
      "\t(-8, 19) has genus 10\n",
      "\t(-7, 18) has genus 10\n",
      "\t(-6, 17) has genus 11\n",
      "\t(-5, 16) has genus 10\n",
      "\t(-4, 15) has genus 10\n",
      "\t(-3, 14) has genus 11\n",
      "\t(-2, 13) has genus 10\n",
      "\t(-1, 12) has genus 10\n",
      "\t(1, 10) has genus 10\n",
      "\t(2, 9) has genus 10\n",
      "\t(3, 8) has genus 11\n",
      "\t(4, 7) has genus 10\n",
      "\t(5, 6) has genus 10\n",
      "\t(6, 5) has genus 11\n",
      "\t(7, 4) has genus 10\n",
      "\t(8, 3) has genus 10\n",
      "\t(9, 2) has genus 11\n",
      "\t(10, 1) has genus 10\n",
      "Thurston norm 23\n",
      "Thurston norm 24\n",
      "\t(-11, 23) has genus 12\n",
      "\t(-7, 19) has genus 12\n",
      "\t(-5, 17) has genus 12\n",
      "\t(-1, 13) has genus 12\n",
      "\t(1, 11) has genus 12\n",
      "\t(5, 7) has genus 12\n",
      "\t(7, 5) has genus 12\n",
      "\t(11, 1) has genus 12\n",
      "Thurston norm 25\n",
      "Thurston norm 26\n",
      "\t(-12, 25) has genus 13\n",
      "\t(-11, 24) has genus 12\n",
      "\t(-10, 23) has genus 12\n",
      "\t(-9, 22) has genus 13\n",
      "\t(-8, 21) has genus 12\n",
      "\t(-7, 20) has genus 12\n",
      "\t(-6, 19) has genus 13\n",
      "\t(-5, 18) has genus 12\n",
      "\t(-4, 17) has genus 12\n",
      "\t(-3, 16) has genus 13\n",
      "\t(-2, 15) has genus 12\n",
      "\t(-1, 14) has genus 12\n",
      "\t(1, 12) has genus 12\n",
      "\t(2, 11) has genus 12\n",
      "\t(3, 10) has genus 13\n",
      "\t(4, 9) has genus 12\n",
      "\t(5, 8) has genus 12\n",
      "\t(6, 7) has genus 13\n",
      "\t(7, 6) has genus 12\n",
      "\t(8, 5) has genus 12\n",
      "\t(9, 4) has genus 13\n",
      "\t(10, 3) has genus 12\n",
      "\t(11, 2) has genus 12\n",
      "\t(12, 1) has genus 13\n",
      "Thurston norm 27\n",
      "Thurston norm 28\n",
      "\t(-13, 27) has genus 13\n",
      "\t(-11, 25) has genus 13\n",
      "\t(-9, 23) has genus 14\n",
      "\t(-5, 19) has genus 13\n",
      "\t(-3, 17) has genus 14\n",
      "\t(-1, 15) has genus 13\n",
      "\t(1, 13) has genus 13\n",
      "\t(3, 11) has genus 14\n",
      "\t(5, 9) has genus 13\n",
      "\t(9, 5) has genus 14\n",
      "\t(11, 3) has genus 13\n",
      "\t(13, 1) has genus 13\n",
      "Thurston norm 29\n",
      "Thurston norm 30\n",
      "\t(-14, 29) has genus 15\n",
      "\t(-13, 28) has genus 15\n",
      "\t(-11, 26) has genus 15\n",
      "\t(-8, 23) has genus 15\n",
      "\t(-7, 22) has genus 15\n",
      "\t(-4, 19) has genus 15\n",
      "\t(-2, 17) has genus 15\n",
      "\t(-1, 16) has genus 15\n",
      "\t(1, 14) has genus 15\n",
      "\t(2, 13) has genus 15\n",
      "\t(4, 11) has genus 15\n",
      "\t(7, 8) has genus 15\n",
      "\t(8, 7) has genus 15\n",
      "\t(11, 4) has genus 15\n",
      "\t(13, 2) has genus 15\n",
      "\t(14, 1) has genus 15\n",
      "Thurston norm 31\n",
      "Thurston norm 32\n",
      "\t(-15, 31) has genus 16\n",
      "\t(-13, 29) has genus 15\n",
      "\t(-11, 27) has genus 15\n",
      "\t(-9, 25) has genus 16\n",
      "\t(-7, 23) has genus 15\n",
      "\t(-5, 21) has genus 15\n",
      "\t(-3, 19) has genus 16\n",
      "\t(-1, 17) has genus 15\n",
      "\t(1, 15) has genus 15\n",
      "\t(3, 13) has genus 16\n",
      "\t(5, 11) has genus 15\n",
      "\t(7, 9) has genus 15\n",
      "\t(9, 7) has genus 16\n",
      "\t(11, 5) has genus 15\n",
      "\t(13, 3) has genus 15\n",
      "\t(15, 1) has genus 16\n",
      "Thurston norm 33\n",
      "Thurston norm 34\n",
      "\t(-16, 33) has genus 16\n",
      "\t(-15, 32) has genus 17\n",
      "\t(-14, 31) has genus 16\n",
      "\t(-13, 30) has genus 16\n",
      "\t(-12, 29) has genus 17\n",
      "\t(-11, 28) has genus 16\n",
      "\t(-10, 27) has genus 16\n",
      "\t(-9, 26) has genus 17\n",
      "\t(-8, 25) has genus 16\n",
      "\t(-7, 24) has genus 16\n",
      "\t(-6, 23) has genus 17\n",
      "\t(-5, 22) has genus 16\n",
      "\t(-4, 21) has genus 16\n",
      "\t(-3, 20) has genus 17\n",
      "\t(-2, 19) has genus 16\n",
      "\t(-1, 18) has genus 16\n",
      "\t(1, 16) has genus 16\n",
      "\t(2, 15) has genus 16\n",
      "\t(3, 14) has genus 17\n",
      "\t(4, 13) has genus 16\n",
      "\t(5, 12) has genus 16\n",
      "\t(6, 11) has genus 17\n",
      "\t(7, 10) has genus 16\n",
      "\t(8, 9) has genus 16\n",
      "\t(9, 8) has genus 17\n",
      "\t(10, 7) has genus 16\n",
      "\t(11, 6) has genus 16\n",
      "\t(12, 5) has genus 17\n",
      "\t(13, 4) has genus 16\n",
      "\t(14, 3) has genus 16\n",
      "\t(15, 2) has genus 17\n",
      "\t(16, 1) has genus 16\n",
      "Thurston norm 35\n",
      "Thurston norm 36\n",
      "\t(-17, 35) has genus 18\n",
      "\t(-13, 31) has genus 18\n",
      "\t(-11, 29) has genus 18\n",
      "\t(-7, 25) has genus 18\n",
      "\t(-5, 23) has genus 18\n",
      "\t(-1, 19) has genus 18\n",
      "\t(1, 17) has genus 18\n",
      "\t(5, 13) has genus 18\n",
      "\t(7, 11) has genus 18\n",
      "\t(11, 7) has genus 18\n",
      "\t(13, 5) has genus 18\n",
      "\t(17, 1) has genus 18\n",
      "Thurston norm 37\n",
      "Thurston norm 38\n",
      "\t(-18, 37) has genus 19\n",
      "\t(-17, 36) has genus 18\n",
      "\t(-16, 35) has genus 18\n",
      "\t(-15, 34) has genus 19\n",
      "\t(-14, 33) has genus 18\n",
      "\t(-13, 32) has genus 18\n",
      "\t(-12, 31) has genus 19\n",
      "\t(-11, 30) has genus 18\n",
      "\t(-10, 29) has genus 18\n",
      "\t(-9, 28) has genus 19\n",
      "\t(-8, 27) has genus 18\n",
      "\t(-7, 26) has genus 18\n",
      "\t(-6, 25) has genus 19\n",
      "\t(-5, 24) has genus 18\n",
      "\t(-4, 23) has genus 18\n",
      "\t(-3, 22) has genus 19\n",
      "\t(-2, 21) has genus 18\n",
      "\t(-1, 20) has genus 18\n",
      "\t(1, 18) has genus 18\n",
      "\t(2, 17) has genus 18\n",
      "\t(3, 16) has genus 19\n",
      "\t(4, 15) has genus 18\n",
      "\t(5, 14) has genus 18\n",
      "\t(6, 13) has genus 19\n",
      "\t(7, 12) has genus 18\n",
      "\t(8, 11) has genus 18\n",
      "\t(9, 10) has genus 19\n",
      "\t(10, 9) has genus 18\n",
      "\t(11, 8) has genus 18\n",
      "\t(12, 7) has genus 19\n",
      "\t(13, 6) has genus 18\n",
      "\t(14, 5) has genus 18\n",
      "\t(15, 4) has genus 19\n",
      "\t(16, 3) has genus 18\n",
      "\t(17, 2) has genus 18\n",
      "\t(18, 1) has genus 19\n",
      "Thurston norm 39\n"
     ]
    }
   ],
   "source": [
    "for n in range(40):\n",
    "    print('Thurston norm ' + str(n))\n",
    "    for a in range(-floor(n/2),floor(n/2)+1):\n",
    "        b = (-2*a + n)/2\n",
    "        if cone.interior_contains(a,b) and (gcd(a,b) == 1):\n",
    "            print('\\t' + str((a,b)) + ' has genus ' + str(get_genus(sig,(a,b))))"
   ]
  },
  {
   "cell_type": "code",
   "execution_count": null,
   "id": "e5f597c3",
   "metadata": {},
   "outputs": [],
   "source": []
  }
 ],
 "metadata": {
  "kernelspec": {
   "display_name": "SageMath 9.6",
   "language": "sage",
   "name": "sagemath-9.6"
  },
  "language_info": {
   "codemirror_mode": {
    "name": "ipython",
    "version": 3
   },
   "file_extension": ".py",
   "mimetype": "text/x-python",
   "name": "python",
   "nbconvert_exporter": "python",
   "pygments_lexer": "ipython3",
   "version": "3.10.3"
  }
 },
 "nbformat": 4,
 "nbformat_minor": 5
}
