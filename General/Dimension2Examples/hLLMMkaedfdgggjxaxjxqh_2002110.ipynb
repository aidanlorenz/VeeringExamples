{
 "cells": [
  {
   "cell_type": "code",
   "execution_count": 11,
   "id": "254ff468",
   "metadata": {},
   "outputs": [],
   "source": [
    "load('VeeringGeneralFunctions.sage')"
   ]
  },
  {
   "cell_type": "code",
   "execution_count": 12,
   "id": "376bfd66",
   "metadata": {},
   "outputs": [],
   "source": [
    "sig = 'hLLMMkaedfdgggjxaxjxqh_2002110'"
   ]
  },
  {
   "cell_type": "code",
   "execution_count": 13,
   "id": "b5da3875",
   "metadata": {},
   "outputs": [
    {
     "data": {
      "text/plain": [
       "[(-6*a1, a1)]"
      ]
     },
     "execution_count": 13,
     "metadata": {},
     "output_type": "execute_result"
    }
   ],
   "source": [
    "get_LES_boundary_maps(sig)"
   ]
  },
  {
   "cell_type": "code",
   "execution_count": 14,
   "id": "cb35f19f",
   "metadata": {},
   "outputs": [
    {
     "data": {
      "text/plain": [
       "[\n",
       "[ 0 -6]\n",
       "[ 0  1]\n",
       "]"
      ]
     },
     "execution_count": 14,
     "metadata": {},
     "output_type": "execute_result"
    }
   ],
   "source": [
    "get_LES_boundary_matrices(sig)"
   ]
  },
  {
   "cell_type": "code",
   "execution_count": 4,
   "id": "e293dce2",
   "metadata": {},
   "outputs": [
    {
     "data": {
      "text/plain": [
       "-3*a1"
      ]
     },
     "execution_count": 4,
     "metadata": {},
     "output_type": "execute_result"
    }
   ],
   "source": [
    "get_Thurston_norm(sig)"
   ]
  },
  {
   "cell_type": "code",
   "execution_count": 7,
   "id": "86d71fe2",
   "metadata": {},
   "outputs": [
    {
     "data": {
      "text/plain": [
       "N(-1, -1),\n",
       "N( 1, -1),\n",
       "N( 0, -1)\n",
       "in 2-d lattice N"
      ]
     },
     "execution_count": 7,
     "metadata": {},
     "output_type": "execute_result"
    }
   ],
   "source": [
    "cone = get_fibered_cone(sig)\n",
    "cone.Hilbert_basis()"
   ]
  },
  {
   "cell_type": "code",
   "execution_count": 8,
   "id": "9efd2bb2",
   "metadata": {},
   "outputs": [
    {
     "data": {
      "text/plain": [
       "(0, -0.9624236501192069)"
      ]
     },
     "execution_count": 8,
     "metadata": {},
     "output_type": "execute_result"
    }
   ],
   "source": [
    "min_dir = get_minimal_direction(sig)\n",
    "min_dir"
   ]
  },
  {
   "cell_type": "code",
   "execution_count": 9,
   "id": "ac1b1656",
   "metadata": {},
   "outputs": [
    {
     "data": {
      "image/png": "[encoded data removed]",
      "text/plain": [
       "Graphics object consisting of 11 graphics primitives"
      ]
     },
     "execution_count": 9,
     "metadata": {},
     "output_type": "execute_result"
    }
   ],
   "source": [
    "get_fibered_cone_and_levset_plot(sig) + arrow((0, 0), (min_dir[0]*5, min_dir[1]*5), color='cyan')"
   ]
  },
  {
   "cell_type": "code",
   "execution_count": 10,
   "id": "ac0e03ce",
   "metadata": {},
   "outputs": [
    {
     "data": {
      "text/plain": [
       "2.8872709503576273"
      ]
     },
     "execution_count": 10,
     "metadata": {},
     "output_type": "execute_result"
    }
   ],
   "source": [
    "minimum = get_min_norm_dila_log_mathematica_approx(sig)\n",
    "minimum"
   ]
  },
  {
   "cell_type": "code",
   "execution_count": null,
   "id": "d94f82bb",
   "metadata": {},
   "outputs": [],
   "source": []
  }
 ],
 "metadata": {
  "kernelspec": {
   "display_name": "SageMath 9.6",
   "language": "sage",
   "name": "sagemath-9.6"
  },
  "language_info": {
   "codemirror_mode": {
    "name": "ipython",
    "version": 3
   },
   "file_extension": ".py",
   "mimetype": "text/x-python",
   "name": "python",
   "nbconvert_exporter": "python",
   "pygments_lexer": "ipython3",
   "version": "3.10.3"
  }
 },
 "nbformat": 4,
 "nbformat_minor": 5
}
