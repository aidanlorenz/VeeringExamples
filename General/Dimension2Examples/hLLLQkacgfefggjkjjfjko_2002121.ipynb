{
 "cells": [
  {
   "cell_type": "code",
   "execution_count": 6,
   "id": "05a2d44b",
   "metadata": {},
   "outputs": [],
   "source": [
    "sig = 'hLLLQkacgfefggjkjjfjko_2002121'"
   ]
  },
  {
   "cell_type": "code",
   "execution_count": 2,
   "id": "f088889c",
   "metadata": {},
   "outputs": [],
   "source": [
    "load('VeeringGeneralFunctions.sage')"
   ]
  },
  {
   "cell_type": "code",
   "execution_count": 7,
   "id": "b0a6de63",
   "metadata": {},
   "outputs": [
    {
     "data": {
      "text/plain": [
       "[(-4*a0 - 6*a1, -a0 - 2*a1), (-2*a0 - a1, 2*a0)]"
      ]
     },
     "execution_count": 7,
     "metadata": {},
     "output_type": "execute_result"
    }
   ],
   "source": [
    "get_LES_boundary_maps(sig)"
   ]
  },
  {
   "cell_type": "code",
   "execution_count": 8,
   "id": "65f0c660",
   "metadata": {},
   "outputs": [
    {
     "data": {
      "text/plain": [
       "N( 0, -1),\n",
       "N(-1,  0)\n",
       "in 2-d lattice N"
      ]
     },
     "execution_count": 8,
     "metadata": {},
     "output_type": "execute_result"
    }
   ],
   "source": [
    "cone = get_fibered_cone(sig)\n",
    "cone.Hilbert_basis()"
   ]
  },
  {
   "cell_type": "code",
   "execution_count": 9,
   "id": "b6741a05",
   "metadata": {},
   "outputs": [
    {
     "data": {
      "text/plain": [
       "-3*a0 - 3*a1"
      ]
     },
     "execution_count": 9,
     "metadata": {},
     "output_type": "execute_result"
    }
   ],
   "source": [
    "get_Thurston_norm(sig)"
   ]
  },
  {
   "cell_type": "code",
   "execution_count": 10,
   "id": "108b318b",
   "metadata": {},
   "outputs": [
    {
     "data": {
      "text/plain": [
       "(-0.5700957170102703, -0.6591922088162503)"
      ]
     },
     "execution_count": 10,
     "metadata": {},
     "output_type": "execute_result"
    }
   ],
   "source": [
    "min_dir = get_minimal_direction(sig)\n",
    "min_dir"
   ]
  },
  {
   "cell_type": "code",
   "execution_count": 11,
   "id": "68bd875d",
   "metadata": {},
   "outputs": [
    {
     "data": {
      "image/png": "[encoded data removed]",
      "text/plain": [
       "Graphics object consisting of 10 graphics primitives"
      ]
     },
     "execution_count": 11,
     "metadata": {},
     "output_type": "execute_result"
    }
   ],
   "source": [
    "get_fibered_cone_and_levset_plot(sig)"
   ]
  },
  {
   "cell_type": "code",
   "execution_count": 12,
   "id": "8ba9a0c2",
   "metadata": {},
   "outputs": [
    {
     "data": {
      "text/plain": [
       "a <= 0 && b <= 0"
      ]
     },
     "execution_count": 12,
     "metadata": {},
     "output_type": "execute_result"
    }
   ],
   "source": [
    "m('cone = ConicHullRegion[{{0, 0}}, {{0,-1}, {-1, 0}}]')\n",
    "m('Reduce[{a, b} \\[Element] cone, {a, b}]')"
   ]
  },
  {
   "cell_type": "code",
   "execution_count": 13,
   "id": "4b1ae6bc",
   "metadata": {},
   "outputs": [
    {
     "data": {
      "text/plain": [
       "((n == 0 && a == 0) || (n > 0 && Inequality[-1/3*n, LessEqual, a, LessEqual, \n",
       "    0])) && b == (-3*a - n)/3"
      ]
     },
     "execution_count": 13,
     "metadata": {},
     "output_type": "execute_result"
    }
   ],
   "source": [
    "m('Reduce[-3*a - 3*b == n && {a, b} \\[Element] cone && n \\[Element] Reals, {a, b}]')"
   ]
  },
  {
   "cell_type": "code",
   "execution_count": null,
   "id": "562e56cf",
   "metadata": {},
   "outputs": [
    {
     "name": "stdout",
     "output_type": "stream",
     "text": [
      "Thurston norm 0\n",
      "Thurston norm 1\n",
      "Thurston norm 2\n",
      "Thurston norm 3\n",
      "Thurston norm 4\n",
      "Thurston norm 5\n",
      "Thurston norm 6\n",
      "\t(-1, -1) has genus 3\n",
      "Thurston norm 7\n",
      "Thurston norm 8\n",
      "Thurston norm 9\n",
      "\t(-2, -1) has genus 4\n",
      "\t(-1, -2) has genus 4\n",
      "Thurston norm 10\n",
      "Thurston norm 11\n",
      "Thurston norm 12\n",
      "\t(-3, -1) has genus 6\n",
      "\t(-1, -3) has genus 6\n",
      "Thurston norm 13\n",
      "Thurston norm 14\n",
      "Thurston norm 15\n",
      "\t(-4, -1) has genus 7\n",
      "\t(-3, -2) has genus 7\n",
      "\t(-2, -3) has genus 7\n",
      "\t(-1, -4) has genus 7\n",
      "Thurston norm 16\n",
      "Thurston norm 17\n",
      "Thurston norm 18\n",
      "\t(-5, -1) has genus 9\n",
      "\t(-1, -5) has genus 9\n",
      "Thurston norm 19\n",
      "Thurston norm 20\n",
      "Thurston norm 21\n",
      "\t(-6, -1) has genus 10\n",
      "\t(-5, -2) has genus 10\n",
      "\t(-4, -3) has genus 10\n",
      "\t(-3, -4) has genus 10\n",
      "\t(-2, -5) has genus 10\n",
      "\t(-1, -6) has genus 10\n",
      "Thurston norm 22\n",
      "Thurston norm 23\n",
      "Thurston norm 24\n",
      "\t(-7, -1) has genus 12\n",
      "\t(-5, -3) has genus 12\n",
      "\t(-3, -5) has genus 12\n",
      "\t(-1, -7) has genus 12\n",
      "Thurston norm 25\n",
      "Thurston norm 26\n",
      "Thurston norm 27\n",
      "\t(-8, -1) has genus 13\n",
      "\t(-7, -2) has genus 13\n",
      "\t(-5, -4) has genus 13\n",
      "\t(-4, -5) has genus 13\n",
      "\t(-2, -7) has genus 13\n",
      "\t(-1, -8) has genus 13\n",
      "Thurston norm 28\n",
      "Thurston norm 29\n",
      "Thurston norm 30\n",
      "\t(-9, -1) has genus 15\n",
      "\t(-7, -3) has genus 15\n",
      "\t(-3, -7) has genus 15\n",
      "\t(-1, -9) has genus 15\n",
      "Thurston norm 31\n",
      "Thurston norm 32\n",
      "Thurston norm 33\n",
      "\t(-10, -1) has genus 16\n",
      "\t(-9, -2) has genus 16\n",
      "\t(-8, -3) has genus 16\n",
      "\t(-7, -4) has genus 16\n",
      "\t(-6, -5) has genus 16\n",
      "\t(-5, -6) has genus 16\n"
     ]
    }
   ],
   "source": [
    "for n in range(40):\n",
    "    print('Thurston norm ' + str(n))\n",
    "    for a in range(-floor((1/3)*n), 1):\n",
    "        b = (-3*a - n)/3\n",
    "        if cone.interior_contains(a,b) and (gcd(a,b) == 1):\n",
    "            print('\\t' + str((a,b)) + ' has genus ' + str(get_genus(sig,(a,b))))"
   ]
  },
  {
   "cell_type": "code",
   "execution_count": null,
   "id": "0ce40459",
   "metadata": {},
   "outputs": [],
   "source": []
  }
 ],
 "metadata": {
  "kernelspec": {
   "display_name": "SageMath 9.6",
   "language": "sage",
   "name": "sagemath-9.6"
  },
  "language_info": {
   "codemirror_mode": {
    "name": "ipython",
    "version": 3
   },
   "file_extension": ".py",
   "mimetype": "text/x-python",
   "name": "python",
   "nbconvert_exporter": "python",
   "pygments_lexer": "ipython3",
   "version": "3.10.3"
  }
 },
 "nbformat": 4,
 "nbformat_minor": 5
}
