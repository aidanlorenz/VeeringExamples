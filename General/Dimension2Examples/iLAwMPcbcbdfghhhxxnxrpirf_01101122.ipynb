{
 "cells": [
  {
   "cell_type": "code",
   "execution_count": 1,
   "id": "d8aab783",
   "metadata": {},
   "outputs": [],
   "source": [
    "load('VeeringGeneralFunctions.sage')"
   ]
  },
  {
   "cell_type": "code",
   "execution_count": 2,
   "id": "becfad1b",
   "metadata": {},
   "outputs": [],
   "source": [
    "sig = 'iLAwMPcbcbdfghhhxxnxrpirf_01101122'"
   ]
  },
  {
   "cell_type": "code",
   "execution_count": 3,
   "id": "585d0739",
   "metadata": {},
   "outputs": [
    {
     "data": {
      "text/plain": [
       "[(-2*a0 + 9*a1, -a0 + 7*a1), (3*a0 - 5*a1, a0)]"
      ]
     },
     "execution_count": 3,
     "metadata": {},
     "output_type": "execute_result"
    }
   ],
   "source": [
    "get_LES_boundary_maps(sig)"
   ]
  },
  {
   "cell_type": "code",
   "execution_count": 4,
   "id": "7790cd21",
   "metadata": {},
   "outputs": [
    {
     "data": {
      "text/plain": [
       "N(0, -1),\n",
       "N(1,  0)\n",
       "in 2-d lattice N"
      ]
     },
     "execution_count": 4,
     "metadata": {},
     "output_type": "execute_result"
    }
   ],
   "source": [
    "cone = get_fibered_cone(sig)\n",
    "cone.Hilbert_basis()"
   ]
  },
  {
   "cell_type": "code",
   "execution_count": 5,
   "id": "d54a9bb1",
   "metadata": {},
   "outputs": [
    {
     "data": {
      "text/plain": [
       "2*a0 - 8*a1"
      ]
     },
     "execution_count": 5,
     "metadata": {},
     "output_type": "execute_result"
    }
   ],
   "source": [
    "get_Thurston_norm(sig)"
   ]
  },
  {
   "cell_type": "code",
   "execution_count": 6,
   "id": "16b54781",
   "metadata": {},
   "outputs": [
    {
     "data": {
      "text/plain": [
       "(1.068136627426251, -0.24650265208791405)"
      ]
     },
     "execution_count": 6,
     "metadata": {},
     "output_type": "execute_result"
    }
   ],
   "source": [
    "min_dir = get_minimal_direction(sig)\n",
    "min_dir"
   ]
  },
  {
   "cell_type": "code",
   "execution_count": 7,
   "id": "83d564b6",
   "metadata": {},
   "outputs": [
    {
     "data": {
      "image/png": "[encoded data removed]",
      "text/plain": [
       "Graphics object consisting of 10 graphics primitives"
      ]
     },
     "execution_count": 7,
     "metadata": {},
     "output_type": "execute_result"
    }
   ],
   "source": [
    "get_fibered_cone_and_levset_plot(sig)"
   ]
  },
  {
   "cell_type": "code",
   "execution_count": 8,
   "id": "2583736d",
   "metadata": {},
   "outputs": [
    {
     "data": {
      "text/plain": [
       "a >= 0 && b <= 0"
      ]
     },
     "execution_count": 8,
     "metadata": {},
     "output_type": "execute_result"
    }
   ],
   "source": [
    "m('cone = ConicHullRegion[{{0, 0}}, {{0,-1}, {1,0}}]')\n",
    "m('Reduce[{a, b} \\[Element] cone, {a, b}]')"
   ]
  },
  {
   "cell_type": "code",
   "execution_count": 9,
   "id": "a0307b57",
   "metadata": {},
   "outputs": [
    {
     "data": {
      "text/plain": [
       "((n == 0 && a == 0) || (n > 0 && Inequality[0, LessEqual, a, LessEqual, \n",
       "    n/2])) && b == (2*a - n)/8"
      ]
     },
     "execution_count": 9,
     "metadata": {},
     "output_type": "execute_result"
    }
   ],
   "source": [
    "m('Reduce[2*a - 8*b == n && {a, b} \\[Element] cone && n \\[Element] Reals, {a, b}]')"
   ]
  },
  {
   "cell_type": "code",
   "execution_count": 12,
   "id": "5af5d910",
   "metadata": {},
   "outputs": [
    {
     "name": "stdout",
     "output_type": "stream",
     "text": [
      "Thurston norm 0\n",
      "Thurston norm 1\n",
      "Thurston norm 2\n",
      "Thurston norm 3\n",
      "Thurston norm 4\n",
      "Thurston norm 5\n",
      "Thurston norm 6\n",
      "Thurston norm 7\n",
      "Thurston norm 8\n",
      "Thurston norm 9\n",
      "Thurston norm 10\n",
      "\t(1, -1) has genus 5\n",
      "Thurston norm 11\n",
      "Thurston norm 12\n",
      "\t(2, -1) has genus 6\n",
      "Thurston norm 13\n",
      "Thurston norm 14\n",
      "\t(3, -1) has genus 5\n",
      "Thurston norm 15\n",
      "Thurston norm 16\n",
      "\t(4, -1) has genus 8\n",
      "Thurston norm 17\n",
      "Thurston norm 18\n",
      "\t(1, -2) has genus 7\n",
      "\t(5, -1) has genus 7\n",
      "Thurston norm 19\n",
      "Thurston norm 20\n",
      "\t(6, -1) has genus 10\n",
      "Thurston norm 21\n",
      "Thurston norm 22\n",
      "\t(3, -2) has genus 11\n",
      "\t(7, -1) has genus 11\n",
      "Thurston norm 23\n",
      "Thurston norm 24\n",
      "\t(8, -1) has genus 10\n",
      "Thurston norm 25\n",
      "Thurston norm 26\n",
      "\t(1, -3) has genus 13\n",
      "\t(5, -2) has genus 11\n",
      "\t(9, -1) has genus 13\n",
      "Thurston norm 27\n",
      "Thurston norm 28\n",
      "\t(2, -3) has genus 14\n",
      "\t(10, -1) has genus 12\n",
      "Thurston norm 29\n",
      "Thurston norm 30\n",
      "\t(7, -2) has genus 15\n",
      "\t(11, -1) has genus 15\n",
      "Thurston norm 31\n",
      "Thurston norm 32\n",
      "\t(4, -3) has genus 14\n",
      "\t(12, -1) has genus 16\n",
      "Thurston norm 33\n",
      "Thurston norm 34\n",
      "\t(1, -4) has genus 17\n",
      "\t(5, -3) has genus 15\n",
      "\t(9, -2) has genus 17\n",
      "\t(13, -1) has genus 15\n",
      "Thurston norm 35\n",
      "Thurston norm 36\n",
      "\t(14, -1) has genus 18\n",
      "Thurston norm 37\n",
      "Thurston norm 38\n",
      "\t(3, -4) has genus 19\n",
      "\t(7, -3) has genus 19\n",
      "\t(11, -2) has genus 17\n",
      "\t(15, -1) has genus 17\n",
      "Thurston norm 39\n"
     ]
    }
   ],
   "source": [
    "for n in range(40):\n",
    "    print('Thurston norm ' + str(n))\n",
    "    for a in range(floor(n/2) + 1):\n",
    "        b = (2*a - n)/8\n",
    "        if cone.interior_contains(a,b) and (gcd(a,b) == 1):\n",
    "            print('\\t' + str((a,b)) + ' has genus ' + str(get_genus(sig,(a,b))))"
   ]
  },
  {
   "cell_type": "code",
   "execution_count": null,
   "id": "c88f6140",
   "metadata": {},
   "outputs": [],
   "source": []
  }
 ],
 "metadata": {
  "kernelspec": {
   "display_name": "SageMath 9.6",
   "language": "sage",
   "name": "sagemath-9.6"
  },
  "language_info": {
   "codemirror_mode": {
    "name": "ipython",
    "version": 3
   },
   "file_extension": ".py",
   "mimetype": "text/x-python",
   "name": "python",
   "nbconvert_exporter": "python",
   "pygments_lexer": "ipython3",
   "version": "3.10.3"
  }
 },
 "nbformat": 4,
 "nbformat_minor": 5
}
