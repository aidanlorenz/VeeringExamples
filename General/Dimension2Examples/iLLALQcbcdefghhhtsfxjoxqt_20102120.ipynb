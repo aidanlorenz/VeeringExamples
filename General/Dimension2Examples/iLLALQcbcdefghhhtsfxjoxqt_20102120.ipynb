{
 "cells": [
  {
   "cell_type": "code",
   "execution_count": 1,
   "id": "87d52154",
   "metadata": {},
   "outputs": [],
   "source": [
    "load('VeeringGeneralFunctions.sage')"
   ]
  },
  {
   "cell_type": "code",
   "execution_count": 2,
   "id": "ab793841",
   "metadata": {},
   "outputs": [],
   "source": [
    "sig = 'iLLALQcbcdefghhhtsfxjoxqt_20102120'"
   ]
  },
  {
   "cell_type": "code",
   "execution_count": 3,
   "id": "6275fb59",
   "metadata": {},
   "outputs": [
    {
     "data": {
      "text/plain": [
       "[(-7*a0 + 3*a1, a0 - a1), (6*a0 - 4*a1, -a0)]"
      ]
     },
     "execution_count": 3,
     "metadata": {},
     "output_type": "execute_result"
    }
   ],
   "source": [
    "get_LES_boundary_maps(sig)"
   ]
  },
  {
   "cell_type": "code",
   "execution_count": 4,
   "id": "816dba70",
   "metadata": {},
   "outputs": [
    {
     "data": {
      "text/plain": [
       "N(1, 0),\n",
       "N(1, 2),\n",
       "N(1, 1)\n",
       "in 2-d lattice N"
      ]
     },
     "execution_count": 4,
     "metadata": {},
     "output_type": "execute_result"
    }
   ],
   "source": [
    "cone = get_fibered_cone(sig)\n",
    "cone.Hilbert_basis()"
   ]
  },
  {
   "cell_type": "code",
   "execution_count": 5,
   "id": "0e511d21",
   "metadata": {},
   "outputs": [
    {
     "data": {
      "text/plain": [
       "4*a0 - a1"
      ]
     },
     "execution_count": 5,
     "metadata": {},
     "output_type": "execute_result"
    }
   ],
   "source": [
    "get_Thurston_norm(sig)"
   ]
  },
  {
   "cell_type": "code",
   "execution_count": 6,
   "id": "244e494f",
   "metadata": {},
   "outputs": [
    {
     "data": {
      "text/plain": [
       "(1.4218378262454479, 2.0335456546972357)"
      ]
     },
     "execution_count": 6,
     "metadata": {},
     "output_type": "execute_result"
    }
   ],
   "source": [
    "min_dir = get_minimal_direction(sig)\n",
    "min_dir"
   ]
  },
  {
   "cell_type": "code",
   "execution_count": 7,
   "id": "3124fe15",
   "metadata": {},
   "outputs": [
    {
     "data": {
      "image/png": "[encoded data removed]",
      "text/plain": [
       "Graphics object consisting of 10 graphics primitives"
      ]
     },
     "execution_count": 7,
     "metadata": {},
     "output_type": "execute_result"
    }
   ],
   "source": [
    "get_fibered_cone_and_levset_plot(sig)"
   ]
  },
  {
   "cell_type": "code",
   "execution_count": 8,
   "id": "8f96d8ef",
   "metadata": {},
   "outputs": [
    {
     "data": {
      "text/plain": [
       "(a == 0 && b == 0) || (a > 0 && Inequality[0, LessEqual, b, LessEqual, 2*a])"
      ]
     },
     "execution_count": 8,
     "metadata": {},
     "output_type": "execute_result"
    }
   ],
   "source": [
    "m('cone = ConicHullRegion[{{0, 0}}, {{1,0}, {1,2}, {1,1}}]')\n",
    "m('Reduce[{a, b} \\[Element] cone, {a, b}]')"
   ]
  },
  {
   "cell_type": "code",
   "execution_count": 9,
   "id": "3986a5cd",
   "metadata": {},
   "outputs": [
    {
     "data": {
      "text/plain": [
       "((n == 0 && a == 0) || (n > 0 && Inequality[n/4, LessEqual, a, LessEqual, \n",
       "    n/2])) && b == 4*a - n"
      ]
     },
     "execution_count": 9,
     "metadata": {},
     "output_type": "execute_result"
    }
   ],
   "source": [
    "m('Reduce[4*a - b == n && {a, b} \\[Element] cone && n \\[Element] Reals, {a, b}]')"
   ]
  },
  {
   "cell_type": "code",
   "execution_count": 10,
   "id": "090486a7",
   "metadata": {},
   "outputs": [
    {
     "name": "stdout",
     "output_type": "stream",
     "text": [
      "Thurston norm 0\n",
      "Thurston norm 1\n",
      "Thurston norm 2\n",
      "Thurston norm 3\n",
      "\t(1, 1) has genus 0\n",
      "Thurston norm 4\n",
      "Thurston norm 5\n",
      "\t(2, 3) has genus 2\n",
      "Thurston norm 6\n",
      "Thurston norm 7\n",
      "\t(2, 1) has genus 3\n",
      "\t(3, 5) has genus 3\n",
      "Thurston norm 8\n",
      "\t(3, 4) has genus 4\n",
      "Thurston norm 9\n",
      "\t(4, 7) has genus 3\n",
      "Thurston norm 10\n",
      "\t(3, 2) has genus 5\n",
      "Thurston norm 11\n",
      "\t(3, 1) has genus 5\n",
      "\t(4, 5) has genus 4\n",
      "\t(5, 9) has genus 4\n",
      "Thurston norm 12\n",
      "\t(5, 8) has genus 6\n",
      "Thurston norm 13\n",
      "\t(4, 3) has genus 5\n",
      "\t(5, 7) has genus 6\n",
      "\t(6, 11) has genus 6\n",
      "Thurston norm 14\n",
      "\t(5, 6) has genus 7\n",
      "Thurston norm 15\n",
      "\t(4, 1) has genus 6\n",
      "\t(7, 13) has genus 7\n",
      "Thurston norm 16\n",
      "\t(5, 4) has genus 8\n",
      "\t(7, 12) has genus 8\n",
      "Thurston norm 17\n",
      "\t(5, 3) has genus 8\n",
      "\t(6, 7) has genus 8\n",
      "\t(7, 11) has genus 7\n",
      "\t(8, 15) has genus 7\n",
      "Thurston norm 18\n",
      "\t(5, 2) has genus 9\n",
      "\t(7, 10) has genus 9\n",
      "Thurston norm 19\n",
      "\t(5, 1) has genus 8\n",
      "\t(6, 5) has genus 9\n",
      "\t(7, 9) has genus 9\n",
      "\t(8, 13) has genus 8\n",
      "\t(9, 17) has genus 8\n"
     ]
    }
   ],
   "source": [
    "for n in range(20):\n",
    "    print('Thurston norm ' + str(n))\n",
    "    for a in range(floor(n/4), floor(n/2) + 1):\n",
    "        b = 4*a - n\n",
    "        if cone.interior_contains(a,b) and (gcd(a,b) == 1):\n",
    "            print('\\t' + str((a,b)) + ' has genus ' + str(get_genus(sig,(a,b))))"
   ]
  },
  {
   "cell_type": "code",
   "execution_count": 11,
   "id": "a8e14784",
   "metadata": {},
   "outputs": [
    {
     "name": "stdout",
     "output_type": "stream",
     "text": [
      "Thurston norm 20\n",
      "\t(7, 8) has genus 10\n",
      "\t(9, 16) has genus 10\n",
      "Thurston norm 21\n",
      "\t(8, 11) has genus 9\n",
      "\t(10, 19) has genus 10\n",
      "Thurston norm 22\n",
      "\t(7, 6) has genus 11\n",
      "\t(9, 14) has genus 11\n",
      "Thurston norm 23\n",
      "\t(6, 1) has genus 11\n",
      "\t(7, 5) has genus 11\n",
      "\t(8, 9) has genus 10\n",
      "\t(9, 13) has genus 10\n",
      "\t(10, 17) has genus 11\n",
      "\t(11, 21) has genus 11\n",
      "Thurston norm 24\n",
      "\t(7, 4) has genus 12\n",
      "\t(11, 20) has genus 12\n",
      "Thurston norm 25\n",
      "\t(7, 3) has genus 11\n",
      "\t(8, 7) has genus 11\n",
      "\t(9, 11) has genus 12\n",
      "\t(11, 19) has genus 11\n",
      "\t(12, 23) has genus 11\n",
      "Thurston norm 26\n",
      "\t(7, 2) has genus 13\n",
      "\t(9, 10) has genus 13\n",
      "\t(11, 18) has genus 13\n",
      "Thurston norm 27\n",
      "\t(7, 1) has genus 13\n",
      "\t(8, 5) has genus 12\n",
      "\t(10, 13) has genus 13\n",
      "\t(11, 17) has genus 13\n",
      "\t(13, 25) has genus 12\n",
      "Thurston norm 28\n",
      "\t(9, 8) has genus 14\n",
      "\t(11, 16) has genus 14\n",
      "\t(13, 24) has genus 14\n",
      "Thurston norm 29\n",
      "\t(8, 3) has genus 13\n",
      "\t(9, 7) has genus 14\n",
      "\t(10, 11) has genus 14\n",
      "\t(11, 15) has genus 13\n",
      "\t(12, 19) has genus 13\n",
      "\t(13, 23) has genus 14\n",
      "\t(14, 27) has genus 14\n",
      "Thurston norm 30\n",
      "\t(11, 14) has genus 15\n",
      "\t(13, 22) has genus 15\n",
      "Thurston norm 31\n",
      "\t(8, 1) has genus 14\n",
      "\t(9, 5) has genus 14\n",
      "\t(10, 9) has genus 15\n",
      "\t(11, 13) has genus 15\n",
      "\t(12, 17) has genus 14\n",
      "\t(13, 21) has genus 14\n",
      "\t(14, 25) has genus 15\n",
      "\t(15, 29) has genus 15\n",
      "Thurston norm 32\n",
      "\t(9, 4) has genus 16\n",
      "\t(11, 12) has genus 16\n",
      "\t(13, 20) has genus 16\n",
      "\t(15, 28) has genus 16\n",
      "Thurston norm 33\n",
      "\t(10, 7) has genus 16\n",
      "\t(13, 19) has genus 16\n",
      "\t(14, 23) has genus 16\n",
      "\t(16, 31) has genus 15\n",
      "Thurston norm 34\n",
      "\t(9, 2) has genus 17\n",
      "\t(11, 10) has genus 17\n",
      "\t(13, 18) has genus 17\n",
      "\t(15, 26) has genus 17\n",
      "Thurston norm 35\n",
      "\t(9, 1) has genus 16\n",
      "\t(11, 9) has genus 17\n",
      "\t(12, 13) has genus 16\n",
      "\t(13, 17) has genus 16\n",
      "\t(16, 29) has genus 16\n",
      "\t(17, 33) has genus 16\n",
      "Thurston norm 36\n",
      "\t(11, 8) has genus 18\n",
      "\t(13, 16) has genus 18\n",
      "\t(17, 32) has genus 18\n",
      "Thurston norm 37\n",
      "\t(10, 3) has genus 18\n",
      "\t(11, 7) has genus 17\n",
      "\t(12, 11) has genus 17\n",
      "\t(13, 15) has genus 18\n",
      "\t(14, 19) has genus 18\n",
      "\t(15, 23) has genus 17\n",
      "\t(16, 27) has genus 17\n",
      "\t(17, 31) has genus 18\n",
      "\t(18, 35) has genus 18\n",
      "Thurston norm 38\n",
      "\t(11, 6) has genus 19\n",
      "\t(13, 14) has genus 19\n",
      "\t(15, 22) has genus 19\n",
      "\t(17, 30) has genus 19\n",
      "Thurston norm 39\n",
      "\t(10, 1) has genus 19\n",
      "\t(11, 5) has genus 19\n",
      "\t(14, 17) has genus 19\n",
      "\t(16, 25) has genus 18\n",
      "\t(17, 29) has genus 18\n",
      "\t(19, 37) has genus 19\n"
     ]
    }
   ],
   "source": [
    "for n in range(20,40):\n",
    "    print('Thurston norm ' + str(n))\n",
    "    for a in range(floor(n/4), floor(n/2) + 1):\n",
    "        b = 4*a - n\n",
    "        if cone.interior_contains(a,b) and (gcd(a,b) == 1):\n",
    "            print('\\t' + str((a,b)) + ' has genus ' + str(get_genus(sig,(a,b))))"
   ]
  },
  {
   "cell_type": "code",
   "execution_count": 12,
   "id": "90d80f2a",
   "metadata": {},
   "outputs": [
    {
     "name": "stdout",
     "output_type": "stream",
     "text": [
      "Thurston norm 40\n",
      "\t(11, 4) has genus 20\n",
      "\t(13, 12) has genus 20\n",
      "\t(17, 28) has genus 20\n",
      "\t(19, 36) has genus 20\n",
      "Thurston norm 41\n",
      "\t(11, 3) has genus 19\n",
      "\t(12, 7) has genus 19\n",
      "\t(13, 11) has genus 20\n",
      "\t(14, 15) has genus 20\n",
      "\t(15, 19) has genus 19\n",
      "\t(16, 23) has genus 19\n",
      "\t(17, 27) has genus 20\n",
      "\t(18, 31) has genus 20\n",
      "\t(19, 35) has genus 19\n",
      "\t(20, 39) has genus 19\n",
      "Thurston norm 42\n",
      "\t(11, 2) has genus 21\n",
      "\t(13, 10) has genus 21\n",
      "\t(17, 26) has genus 21\n",
      "\t(19, 34) has genus 21\n",
      "Thurston norm 43\n",
      "\t(11, 1) has genus 21\n",
      "\t(12, 5) has genus 20\n",
      "\t(13, 9) has genus 20\n",
      "\t(14, 13) has genus 21\n",
      "\t(15, 17) has genus 21\n",
      "\t(16, 21) has genus 20\n",
      "\t(17, 25) has genus 20\n",
      "\t(18, 29) has genus 21\n",
      "\t(19, 33) has genus 21\n",
      "\t(20, 37) has genus 20\n",
      "\t(21, 41) has genus 20\n",
      "Thurston norm 44\n",
      "\t(13, 8) has genus 22\n",
      "\t(15, 16) has genus 22\n",
      "\t(17, 24) has genus 22\n",
      "\t(19, 32) has genus 22\n",
      "\t(21, 40) has genus 22\n",
      "Thurston norm 45\n",
      "\t(13, 7) has genus 22\n",
      "\t(14, 11) has genus 22\n",
      "\t(16, 19) has genus 21\n",
      "\t(17, 23) has genus 22\n",
      "\t(19, 31) has genus 21\n",
      "\t(22, 43) has genus 22\n",
      "Thurston norm 46\n",
      "\t(13, 6) has genus 23\n",
      "\t(15, 14) has genus 23\n",
      "\t(17, 22) has genus 23\n",
      "\t(19, 30) has genus 23\n",
      "\t(21, 38) has genus 23\n",
      "Thurston norm 47\n",
      "\t(12, 1) has genus 22\n",
      "\t(13, 5) has genus 22\n",
      "\t(14, 9) has genus 23\n",
      "\t(15, 13) has genus 23\n",
      "\t(16, 17) has genus 22\n",
      "\t(17, 21) has genus 22\n",
      "\t(18, 25) has genus 23\n",
      "\t(19, 29) has genus 23\n",
      "\t(20, 33) has genus 22\n",
      "\t(21, 37) has genus 22\n",
      "\t(22, 41) has genus 23\n",
      "\t(23, 45) has genus 23\n",
      "Thurston norm 48\n",
      "\t(13, 4) has genus 24\n",
      "\t(17, 20) has genus 24\n",
      "\t(19, 28) has genus 24\n",
      "\t(23, 44) has genus 24\n",
      "Thurston norm 49\n",
      "\t(13, 3) has genus 24\n",
      "\t(15, 11) has genus 23\n",
      "\t(16, 15) has genus 23\n",
      "\t(17, 19) has genus 24\n",
      "\t(18, 23) has genus 24\n",
      "\t(19, 27) has genus 23\n",
      "\t(20, 31) has genus 23\n",
      "\t(22, 39) has genus 24\n",
      "\t(23, 43) has genus 23\n",
      "\t(24, 47) has genus 23\n"
     ]
    }
   ],
   "source": [
    "for n in range(40,50):\n",
    "    print('Thurston norm ' + str(n))\n",
    "    for a in range(floor(n/4), floor(n/2) + 1):\n",
    "        b = 4*a - n\n",
    "        if cone.interior_contains(a,b) and (gcd(a,b) == 1):\n",
    "            print('\\t' + str((a,b)) + ' has genus ' + str(get_genus(sig,(a,b))))"
   ]
  },
  {
   "cell_type": "code",
   "execution_count": 58,
   "id": "d4667cd4",
   "metadata": {},
   "outputs": [],
   "source": [
    "def get_prim_int_lattice_pts_on_levset_arr_by_genus(Tnorm):\n",
    "    # This function gets all the primitive integral points in the interior of the cone\n",
    "    # on a given level set of the Thurston norm.\n",
    "    preretval = []\n",
    "    for a in range(floor(Tnorm/4),floor(Tnorm/2)+1):\n",
    "        b = 4*a - Tnorm\n",
    "        if cone.interior_contains(a,b) and (gcd(a,b) == 1):\n",
    "            preretval.append(((a,b),get_genus(sig,(a,b))))\n",
    "               \n",
    "    genuses = [elt[1] for elt in preretval]\n",
    "    max_genus = max(genuses)\n",
    "    \n",
    "    retval = [[] for i in range(max_genus + 1)]\n",
    "    for elt in preretval:\n",
    "        retval[elt[1]].append(elt[0])\n",
    "        \n",
    "    return retval"
   ]
  },
  {
   "cell_type": "code",
   "execution_count": 59,
   "id": "77077952",
   "metadata": {},
   "outputs": [],
   "source": [
    "def make_point_and_one_tnorm_plot(Tnorm):\n",
    "    min_dir_arrow = arrow((0, 0), (min_dir[0]*10, min_dir[1]*10), color='cyan')\n",
    "    picture = min_dir_arrow\n",
    "    \n",
    "    pts = get_prim_int_lattice_pts_on_levset_arr_by_genus(Tnorm)\n",
    "            \n",
    "    for i in range(len(pts)):\n",
    "        #picture += points(pts[i], rgbcolor = rainbow(len(pts))[i], size = 50, legend_label='genus ' + str(i), label = i)\n",
    "        for j in range(len(pts[i])):\n",
    "            picture += text(str(i), pts[i][j], color = rainbow(len(pts))[i])\n",
    "    \n",
    "    Tnorm_levset = line([(Tnorm/4,0),(Tnorm/2,Tnorm)])\n",
    "    picture += Tnorm_levset\n",
    "        \n",
    "    return picture"
   ]
  },
  {
   "cell_type": "code",
   "execution_count": 66,
   "id": "dc05d54d",
   "metadata": {},
   "outputs": [
    {
     "data": {
      "image/png": "[encoded data removed]",
      "text/plain": [
       "Graphics object consisting of 4 graphics primitives"
      ]
     },
     "execution_count": 66,
     "metadata": {},
     "output_type": "execute_result"
    }
   ],
   "source": [
    "make_point_and_one_tnorm_plot(15)"
   ]
  },
  {
   "cell_type": "code",
   "execution_count": 64,
   "id": "e69b1bb2",
   "metadata": {},
   "outputs": [
    {
     "name": "stdout",
     "output_type": "stream",
     "text": [
      "alpha_1: -100\t gcd: 20\n",
      "alpha_1: -99\t gcd: 1\n",
      "alpha_1: -98\t gcd: 2\n",
      "alpha_1: -97\t gcd: 1\n",
      "alpha_1: -96\t gcd: 8\n",
      "alpha_1: -95\t gcd: 5\n",
      "alpha_1: -94\t gcd: 2\n",
      "alpha_1: -93\t gcd: 1\n",
      "alpha_1: -92\t gcd: 4\n",
      "alpha_1: -91\t gcd: 1\n",
      "alpha_1: -90\t gcd: 10\n",
      "alpha_1: -89\t gcd: 1\n",
      "alpha_1: -88\t gcd: 16\n",
      "alpha_1: -87\t gcd: 1\n",
      "alpha_1: -86\t gcd: 2\n",
      "alpha_1: -85\t gcd: 5\n",
      "alpha_1: -84\t gcd: 4\n",
      "alpha_1: -83\t gcd: 1\n",
      "alpha_1: -82\t gcd: 2\n",
      "alpha_1: -81\t gcd: 1\n",
      "alpha_1: -80\t gcd: 40\n",
      "alpha_1: -79\t gcd: 1\n",
      "alpha_1: -78\t gcd: 2\n",
      "alpha_1: -77\t gcd: 1\n",
      "alpha_1: -76\t gcd: 4\n",
      "alpha_1: -75\t gcd: 5\n",
      "alpha_1: -74\t gcd: 2\n",
      "alpha_1: -73\t gcd: 1\n",
      "alpha_1: -72\t gcd: 32\n",
      "alpha_1: -71\t gcd: 1\n",
      "alpha_1: -70\t gcd: 10\n",
      "alpha_1: -69\t gcd: 1\n",
      "alpha_1: -68\t gcd: 4\n",
      "alpha_1: -67\t gcd: 1\n",
      "alpha_1: -66\t gcd: 2\n",
      "alpha_1: -65\t gcd: 5\n",
      "alpha_1: -64\t gcd: 8\n",
      "alpha_1: -63\t gcd: 1\n",
      "alpha_1: -62\t gcd: 2\n",
      "alpha_1: -61\t gcd: 1\n",
      "alpha_1: -60\t gcd: 20\n",
      "alpha_1: -59\t gcd: 1\n",
      "alpha_1: -58\t gcd: 2\n",
      "alpha_1: -57\t gcd: 1\n",
      "alpha_1: -56\t gcd: 16\n",
      "alpha_1: -55\t gcd: 5\n",
      "alpha_1: -54\t gcd: 2\n",
      "alpha_1: -53\t gcd: 1\n",
      "alpha_1: -52\t gcd: 4\n",
      "alpha_1: -51\t gcd: 1\n",
      "alpha_1: -50\t gcd: 10\n",
      "alpha_1: -49\t gcd: 1\n",
      "alpha_1: -48\t gcd: 8\n",
      "alpha_1: -47\t gcd: 1\n",
      "alpha_1: -46\t gcd: 2\n",
      "alpha_1: -45\t gcd: 5\n",
      "alpha_1: -44\t gcd: 4\n",
      "alpha_1: -43\t gcd: 1\n",
      "alpha_1: -42\t gcd: 2\n",
      "alpha_1: -41\t gcd: 1\n",
      "alpha_1: -40\t gcd: 160\n",
      "alpha_1: -39\t gcd: 1\n",
      "alpha_1: -38\t gcd: 2\n",
      "alpha_1: -37\t gcd: 1\n",
      "alpha_1: -36\t gcd: 4\n",
      "alpha_1: -35\t gcd: 5\n",
      "alpha_1: -34\t gcd: 2\n",
      "alpha_1: -33\t gcd: 1\n",
      "alpha_1: -32\t gcd: 8\n",
      "alpha_1: -31\t gcd: 1\n",
      "alpha_1: -30\t gcd: 10\n",
      "alpha_1: -29\t gcd: 1\n",
      "alpha_1: -28\t gcd: 4\n",
      "alpha_1: -27\t gcd: 1\n",
      "alpha_1: -26\t gcd: 2\n",
      "alpha_1: -25\t gcd: 5\n",
      "alpha_1: -24\t gcd: 16\n",
      "alpha_1: -23\t gcd: 1\n",
      "alpha_1: -22\t gcd: 2\n",
      "alpha_1: -21\t gcd: 1\n",
      "alpha_1: -20\t gcd: 20\n",
      "alpha_1: -19\t gcd: 1\n",
      "alpha_1: -18\t gcd: 2\n",
      "alpha_1: -17\t gcd: 1\n",
      "alpha_1: -16\t gcd: 8\n",
      "alpha_1: -15\t gcd: 5\n",
      "alpha_1: -14\t gcd: 2\n",
      "alpha_1: -13\t gcd: 1\n",
      "alpha_1: -12\t gcd: 4\n",
      "alpha_1: -11\t gcd: 1\n",
      "alpha_1: -10\t gcd: 10\n",
      "alpha_1: -9\t gcd: 1\n",
      "alpha_1: -8\t gcd: 32\n",
      "alpha_1: -7\t gcd: 1\n",
      "alpha_1: -6\t gcd: 2\n",
      "alpha_1: -5\t gcd: 5\n",
      "alpha_1: -4\t gcd: 4\n",
      "alpha_1: -3\t gcd: 1\n",
      "alpha_1: -2\t gcd: 2\n",
      "alpha_1: -1\t gcd: 1\n",
      "alpha_1: 0\t gcd: 40\n",
      "alpha_1: 1\t gcd: 1\n",
      "alpha_1: 2\t gcd: 2\n",
      "alpha_1: 3\t gcd: 1\n",
      "alpha_1: 4\t gcd: 4\n",
      "alpha_1: 5\t gcd: 5\n",
      "alpha_1: 6\t gcd: 2\n",
      "alpha_1: 7\t gcd: 1\n",
      "alpha_1: 8\t gcd: 16\n",
      "alpha_1: 9\t gcd: 1\n",
      "alpha_1: 10\t gcd: 10\n",
      "alpha_1: 11\t gcd: 1\n",
      "alpha_1: 12\t gcd: 4\n",
      "alpha_1: 13\t gcd: 1\n",
      "alpha_1: 14\t gcd: 2\n",
      "alpha_1: 15\t gcd: 5\n",
      "alpha_1: 16\t gcd: 8\n",
      "alpha_1: 17\t gcd: 1\n",
      "alpha_1: 18\t gcd: 2\n",
      "alpha_1: 19\t gcd: 1\n",
      "alpha_1: 20\t gcd: 20\n",
      "alpha_1: 21\t gcd: 1\n",
      "alpha_1: 22\t gcd: 2\n",
      "alpha_1: 23\t gcd: 1\n",
      "alpha_1: 24\t gcd: 32\n",
      "alpha_1: 25\t gcd: 5\n",
      "alpha_1: 26\t gcd: 2\n",
      "alpha_1: 27\t gcd: 1\n",
      "alpha_1: 28\t gcd: 4\n",
      "alpha_1: 29\t gcd: 1\n",
      "alpha_1: 30\t gcd: 10\n",
      "alpha_1: 31\t gcd: 1\n",
      "alpha_1: 32\t gcd: 8\n",
      "alpha_1: 33\t gcd: 1\n",
      "alpha_1: 34\t gcd: 2\n",
      "alpha_1: 35\t gcd: 5\n",
      "alpha_1: 36\t gcd: 4\n",
      "alpha_1: 37\t gcd: 1\n",
      "alpha_1: 38\t gcd: 2\n",
      "alpha_1: 39\t gcd: 1\n",
      "alpha_1: 40\t gcd: 80\n",
      "alpha_1: 41\t gcd: 1\n",
      "alpha_1: 42\t gcd: 2\n",
      "alpha_1: 43\t gcd: 1\n",
      "alpha_1: 44\t gcd: 4\n",
      "alpha_1: 45\t gcd: 5\n",
      "alpha_1: 46\t gcd: 2\n",
      "alpha_1: 47\t gcd: 1\n",
      "alpha_1: 48\t gcd: 8\n",
      "alpha_1: 49\t gcd: 1\n",
      "alpha_1: 50\t gcd: 10\n",
      "alpha_1: 51\t gcd: 1\n",
      "alpha_1: 52\t gcd: 4\n",
      "alpha_1: 53\t gcd: 1\n",
      "alpha_1: 54\t gcd: 2\n",
      "alpha_1: 55\t gcd: 5\n",
      "alpha_1: 56\t gcd: 32\n",
      "alpha_1: 57\t gcd: 1\n",
      "alpha_1: 58\t gcd: 2\n",
      "alpha_1: 59\t gcd: 1\n",
      "alpha_1: 60\t gcd: 20\n",
      "alpha_1: 61\t gcd: 1\n",
      "alpha_1: 62\t gcd: 2\n",
      "alpha_1: 63\t gcd: 1\n",
      "alpha_1: 64\t gcd: 8\n",
      "alpha_1: 65\t gcd: 5\n",
      "alpha_1: 66\t gcd: 2\n",
      "alpha_1: 67\t gcd: 1\n",
      "alpha_1: 68\t gcd: 4\n",
      "alpha_1: 69\t gcd: 1\n",
      "alpha_1: 70\t gcd: 10\n",
      "alpha_1: 71\t gcd: 1\n",
      "alpha_1: 72\t gcd: 16\n",
      "alpha_1: 73\t gcd: 1\n",
      "alpha_1: 74\t gcd: 2\n",
      "alpha_1: 75\t gcd: 5\n",
      "alpha_1: 76\t gcd: 4\n",
      "alpha_1: 77\t gcd: 1\n",
      "alpha_1: 78\t gcd: 2\n",
      "alpha_1: 79\t gcd: 1\n",
      "alpha_1: 80\t gcd: 40\n",
      "alpha_1: 81\t gcd: 1\n",
      "alpha_1: 82\t gcd: 2\n",
      "alpha_1: 83\t gcd: 1\n",
      "alpha_1: 84\t gcd: 4\n",
      "alpha_1: 85\t gcd: 5\n",
      "alpha_1: 86\t gcd: 2\n",
      "alpha_1: 87\t gcd: 1\n",
      "alpha_1: 88\t gcd: 32\n",
      "alpha_1: 89\t gcd: 1\n",
      "alpha_1: 90\t gcd: 10\n",
      "alpha_1: 91\t gcd: 1\n",
      "alpha_1: 92\t gcd: 4\n",
      "alpha_1: 93\t gcd: 1\n",
      "alpha_1: 94\t gcd: 2\n",
      "alpha_1: 95\t gcd: 5\n",
      "alpha_1: 96\t gcd: 8\n",
      "alpha_1: 97\t gcd: 1\n",
      "alpha_1: 98\t gcd: 2\n",
      "alpha_1: 99\t gcd: 1\n"
     ]
    }
   ],
   "source": [
    "for alpha_1 in range(-100,100):\n",
    "    print('alpha_1: ' + str(alpha_1) + '\\t gcd: ' + str(gcd(5*alpha_1 - 120, -3*alpha_1 + 40)))"
   ]
  },
  {
   "cell_type": "code",
   "execution_count": null,
   "id": "f17ae585",
   "metadata": {},
   "outputs": [],
   "source": []
  }
 ],
 "metadata": {
  "kernelspec": {
   "display_name": "SageMath 9.6",
   "language": "sage",
   "name": "sagemath-9.6"
  },
  "language_info": {
   "codemirror_mode": {
    "name": "ipython",
    "version": 3
   },
   "file_extension": ".py",
   "mimetype": "text/x-python",
   "name": "python",
   "nbconvert_exporter": "python",
   "pygments_lexer": "ipython3",
   "version": "3.10.3"
  }
 },
 "nbformat": 4,
 "nbformat_minor": 5
}
