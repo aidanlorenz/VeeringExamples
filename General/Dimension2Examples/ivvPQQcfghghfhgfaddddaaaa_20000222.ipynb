{
 "cells": [
  {
   "cell_type": "code",
   "execution_count": 1,
   "id": "cdc6226f",
   "metadata": {},
   "outputs": [],
   "source": [
    "load('../VeeringGeneralFunctions.sage')"
   ]
  },
  {
   "cell_type": "code",
   "execution_count": 2,
   "id": "e4347401",
   "metadata": {},
   "outputs": [],
   "source": [
    "sig = 'ivvPQQcfghghfhgfaddddaaaa_20000222'"
   ]
  },
  {
   "cell_type": "markdown",
   "id": "4ff128ab",
   "metadata": {},
   "source": [
    "In this example, we want to find which classes have $1$-prongs."
   ]
  },
  {
   "cell_type": "code",
   "execution_count": 25,
   "id": "34390739",
   "metadata": {},
   "outputs": [
    {
     "data": {
      "text/plain": [
       "N(-1, 3),\n",
       "N( 1, 1),\n",
       "N( 0, 1)\n",
       "in 2-d lattice N"
      ]
     },
     "execution_count": 25,
     "metadata": {},
     "output_type": "execute_result"
    }
   ],
   "source": [
    "cone = get_fibered_cone(sig)\n",
    "cone.Hilbert_basis()"
   ]
  },
  {
   "cell_type": "code",
   "execution_count": 4,
   "id": "b5fe64e5",
   "metadata": {},
   "outputs": [
    {
     "data": {
      "text/plain": [
       "[(0, 1.566799236972411)]"
      ]
     },
     "execution_count": 4,
     "metadata": {},
     "output_type": "execute_result"
    }
   ],
   "source": [
    "min_dir = get_minimal_direction(sig)\n",
    "min_dir"
   ]
  },
  {
   "cell_type": "code",
   "execution_count": 12,
   "id": "a42d02ca",
   "metadata": {},
   "outputs": [
    {
     "data": {
      "image/png": "[encoded data removed]",
      "text/plain": [
       "Graphics object consisting of 11 graphics primitives"
      ]
     },
     "execution_count": 12,
     "metadata": {},
     "output_type": "execute_result"
    }
   ],
   "source": [
    "get_fibered_cone_and_levset_plot(sig) + arrow((0, 0), (min_dir[0][0]*5, min_dir[0][1]*5), color='cyan')"
   ]
  },
  {
   "cell_type": "code",
   "execution_count": 13,
   "id": "7a9734fc",
   "metadata": {},
   "outputs": [
    {
     "data": {
      "text/plain": [
       "2*a0 + 2*a1"
      ]
     },
     "execution_count": 13,
     "metadata": {},
     "output_type": "execute_result"
    }
   ],
   "source": [
    "get_Thurston_norm(sig)"
   ]
  },
  {
   "cell_type": "code",
   "execution_count": 14,
   "id": "88df1799",
   "metadata": {},
   "outputs": [
    {
     "data": {
      "text/plain": [
       "[\n",
       "[3 0]  [-4 -3]\n",
       "[0 1], [ 1  0]\n",
       "]"
      ]
     },
     "execution_count": 14,
     "metadata": {},
     "output_type": "execute_result"
    }
   ],
   "source": [
    "maps = get_LES_boundary_matrices(sig)\n",
    "maps"
   ]
  },
  {
   "cell_type": "code",
   "execution_count": 15,
   "id": "22ef8d47",
   "metadata": {},
   "outputs": [
    {
     "data": {
      "text/plain": [
       "((3*a, b), (-4*a - 3*b, a))"
      ]
     },
     "execution_count": 15,
     "metadata": {},
     "output_type": "execute_result"
    }
   ],
   "source": [
    "v = vector([var('a'), var('b')])\n",
    "maps[0]*v, maps[1]*v"
   ]
  },
  {
   "cell_type": "code",
   "execution_count": 16,
   "id": "d0fdd619",
   "metadata": {},
   "outputs": [
    {
     "data": {
      "text/plain": [
       "(r138, 2*a + b - r140 - r141 - r142, -2*a - r138 + r139 + r143, r142, r141, 2*a + r137 + r138 - r142, -2*a - r138 + r139 + r142, a + b + r138 - r139 - r141 - r142 - r143, 2*a + b - r137 - r139 - r143, r143, 2*a + b + r138 - r139 - r140 - r141 - r142, -a - r137 - r138 + r140 + r141 + r142, r140, r139, -r138 + r141 + r142, r137)"
      ]
     },
     "execution_count": 16,
     "metadata": {},
     "output_type": "execute_result"
    }
   ],
   "source": [
    "point = v\n",
    "substitution_dict = {get_hom_vars(sig)[i]:point[i] for i in range(len(point))} # substitute the given point for our variable place holders.\n",
    "two_chain_with_free_vars = get_2_chain_from_point_in_homology(sig).subs(substitution_dict)\n",
    "two_chain_with_free_vars"
   ]
  },
  {
   "cell_type": "code",
   "execution_count": 18,
   "id": "92a83af4",
   "metadata": {},
   "outputs": [
    {
     "data": {
      "text/plain": [
       "(0, 2*a + b, -2*a, 0, 0, 2*a, -2*a, a + b, 2*a + b, 0, 2*a + b, -a, 0, 0, 0, 0)"
      ]
     },
     "execution_count": 18,
     "metadata": {},
     "output_type": "execute_result"
    }
   ],
   "source": [
    "no_free_vars = [] # two_chain_with_vars still contains the free variables. We want to set those all to 0. But NOT g!\n",
    "for term in two_chain_with_free_vars:\n",
    "    no_free_vars.append(term.subs({v:0 for v in term.variables() if v not in [var('a'), var('b')]})) # don't replace the variable g with 0 here!\n",
    "\n",
    "no_free_vars = vector(no_free_vars)\n",
    "no_free_vars"
   ]
  },
  {
   "cell_type": "code",
   "execution_count": 19,
   "id": "f2277225",
   "metadata": {},
   "outputs": [
    {
     "data": {
      "text/plain": [
       "(b, 4*a + 3*b)"
      ]
     },
     "execution_count": 19,
     "metadata": {},
     "output_type": "execute_result"
    }
   ],
   "source": [
    "total_prongs_each_boundary_comp = get_prongs_matrix(sig)*no_free_vars\n",
    "total_prongs_each_boundary_comp"
   ]
  },
  {
   "cell_type": "markdown",
   "id": "50988145",
   "metadata": {},
   "source": [
    "NOTE: BOUNDARY COMPONENT LABELS ARE FLIPPED IN THIS EXAMPLE AS COMPARED TO THE THESIS!\n",
    "\n",
    "Thus if a class has one prongs then:\n",
    "$$ \\frac{b}{\\gcd(3a,b)} = 1 \\iff \\gcd(3a,b) = b \\iff b \\mid 3a \\iff b \\mid 3 \\iff b \\in \\{1,3\\} $$\n",
    "or\n",
    "$$ \\frac{4a + 3b}{\\gcd(-4a-3b, a)} = \\frac{4a+3b}{\\gcd(3,a)} = 1 \\iff \\gcd(3,a) = 4a+3b \\implies 4a+3b \\in \\{1,3\\}$$"
   ]
  },
  {
   "cell_type": "markdown",
   "id": "1fa72629",
   "metadata": {},
   "source": [
    "## Thesis section 3.1 example"
   ]
  },
  {
   "cell_type": "markdown",
   "id": "35da81ae",
   "metadata": {},
   "source": [
    "In this example, we are considering the classes $(1,6i)$ for $i$ ranging from $1$ to infinity.\n",
    "Clearly these classes are in the fibered cone since we can write these classes as positive linear combinations of two of the Hilbert basis vectors:\n",
    "$$ (1,6i) = 1\\cdot(1,1) + (6i-1)\\cdot(0,1) $$\n",
    "\n",
    "Moreover, given that the Thurston norm has formula\n",
    "$$ \\| (a,b) \\| = 2a + 2b $$\n",
    "we see\n",
    "$$ \\| (1,6i) \\| = 2 + 12i. $$\n",
    "\n",
    "To count punctures, we use the boundary maps:"
   ]
  },
  {
   "cell_type": "code",
   "execution_count": 21,
   "id": "cb46e128",
   "metadata": {},
   "outputs": [
    {
     "data": {
      "text/plain": [
       "((3, 6*i), (-18*i - 4, 1))"
      ]
     },
     "execution_count": 21,
     "metadata": {},
     "output_type": "execute_result"
    }
   ],
   "source": [
    "v = vector([1, 6*var('i')])\n",
    "maps[0]*v, maps[1]*v"
   ]
  },
  {
   "cell_type": "markdown",
   "id": "e5072fc2",
   "metadata": {},
   "source": [
    "whereby $\\sigma_1(1,6i) = \\gcd(3,6i) = 3$ and $\\sigma_2(1,6i) = \\gcd(-18i - 4,1) = 1$.\n",
    "Hence $\\sigma(1,6i) = 3 + 1 = 4$ and so\n",
    "$$g(1,6i) = \\frac{1}{2}(\\|(a,6i)\\| - \\sigma(1,6i) + 2) = \\frac{1}{2}(2 + 12i - 4 + 2) = 6i.$$\n",
    "\n",
    "So far this verifies everything done in the thesis.\n",
    "It remains to see that these classes have no $1$-prongs."
   ]
  },
  {
   "cell_type": "code",
   "execution_count": 22,
   "id": "4b7ff18c",
   "metadata": {},
   "outputs": [
    {
     "data": {
      "text/plain": [
       "(r145, 6*i - r147 - r148 - r149 + 2, -r145 + r146 + r150 - 2, r149, r148, r144 + r145 - r149 + 2, -r145 + r146 + r149 - 2, 6*i + r145 - r146 - r148 - r149 - r150 + 1, 6*i - r144 - r146 - r150 + 2, r150, 6*i + r145 - r146 - r147 - r148 - r149 + 2, -r144 - r145 + r147 + r148 + r149 - 1, r147, r146, -r145 + r148 + r149, r144)"
      ]
     },
     "execution_count": 22,
     "metadata": {},
     "output_type": "execute_result"
    }
   ],
   "source": [
    "point = v\n",
    "substitution_dict = {get_hom_vars(sig)[i]:point[i] for i in range(len(point))} # substitute the given point for our variable place holders.\n",
    "two_chain_with_free_vars = get_2_chain_from_point_in_homology(sig).subs(substitution_dict)\n",
    "two_chain_with_free_vars"
   ]
  },
  {
   "cell_type": "code",
   "execution_count": 23,
   "id": "fc330ec2",
   "metadata": {},
   "outputs": [
    {
     "data": {
      "text/plain": [
       "(0, 6*i + 2, -2, 0, 0, 2, -2, 6*i + 1, 6*i + 2, 0, 6*i + 2, -1, 0, 0, 0, 0)"
      ]
     },
     "execution_count": 23,
     "metadata": {},
     "output_type": "execute_result"
    }
   ],
   "source": [
    "no_free_vars = [] # two_chain_with_vars still contains the free variables. We want to set those all to 0. But NOT g!\n",
    "for term in two_chain_with_free_vars:\n",
    "    no_free_vars.append(term.subs({v:0 for v in term.variables() if v != var('i')})) # don't replace the variable g with 0 here!\n",
    "\n",
    "no_free_vars = vector(no_free_vars)\n",
    "no_free_vars"
   ]
  },
  {
   "cell_type": "code",
   "execution_count": 24,
   "id": "d4bd79ca",
   "metadata": {},
   "outputs": [
    {
     "data": {
      "text/plain": [
       "(6*i, 18*i + 4)"
      ]
     },
     "execution_count": 24,
     "metadata": {},
     "output_type": "execute_result"
    }
   ],
   "source": [
    "total_prongs_each_boundary_comp = get_prongs_matrix(sig)*no_free_vars\n",
    "total_prongs_each_boundary_comp"
   ]
  },
  {
   "cell_type": "markdown",
   "id": "04799939",
   "metadata": {},
   "source": [
    "This implies that three singularities in the orbit corresponding to the first boundary component has $\\frac{6i}{3} = 2i \\neq 1$ prongs each and the sole singularity in the orbit corresponding to the second boundary component has $18i+4 \\neq 1$ prongs."
   ]
  }
 ],
 "metadata": {
  "kernelspec": {
   "display_name": "SageMath 10.1",
   "language": "sage",
   "name": "sagemath-10.1"
  },
  "language_info": {
   "codemirror_mode": {
    "name": "ipython",
    "version": 3
   },
   "file_extension": ".py",
   "mimetype": "text/x-python",
   "name": "python",
   "nbconvert_exporter": "python",
   "pygments_lexer": "ipython3",
   "version": "3.11.1"
  }
 },
 "nbformat": 4,
 "nbformat_minor": 5
}
