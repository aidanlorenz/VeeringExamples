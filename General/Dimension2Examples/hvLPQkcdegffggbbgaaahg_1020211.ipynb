{
 "cells": [
  {
   "cell_type": "code",
   "execution_count": 1,
   "id": "ec472cb4",
   "metadata": {},
   "outputs": [],
   "source": [
    "load('VeeringGeneralFunctions.sage')"
   ]
  },
  {
   "cell_type": "code",
   "execution_count": 2,
   "id": "29e10a9b",
   "metadata": {},
   "outputs": [],
   "source": [
    "sig = 'hvLPQkcdegffggbbgaaahg_1020211'"
   ]
  },
  {
   "cell_type": "code",
   "execution_count": 3,
   "id": "cdf34611",
   "metadata": {},
   "outputs": [
    {
     "data": {
      "text/plain": [
       "[(-8*a0 + 3*a1, a0 - a1), (a0 + 2*a1, 2*a0 - a1)]"
      ]
     },
     "execution_count": 3,
     "metadata": {},
     "output_type": "execute_result"
    }
   ],
   "source": [
    "get_LES_boundary_maps(sig)"
   ]
  },
  {
   "cell_type": "code",
   "execution_count": 4,
   "id": "4bde283b",
   "metadata": {},
   "outputs": [
    {
     "data": {
      "text/plain": [
       "N(-1,  0),\n",
       "N(-1, -3),\n",
       "N(-1, -1),\n",
       "N(-1, -2)\n",
       "in 2-d lattice N"
      ]
     },
     "execution_count": 4,
     "metadata": {},
     "output_type": "execute_result"
    }
   ],
   "source": [
    "cone = get_fibered_cone(sig)\n",
    "cone.Hilbert_basis()"
   ]
  },
  {
   "cell_type": "code",
   "execution_count": 5,
   "id": "1b6caba5",
   "metadata": {},
   "outputs": [
    {
     "data": {
      "text/plain": [
       "-4*a0"
      ]
     },
     "execution_count": 5,
     "metadata": {},
     "output_type": "execute_result"
    }
   ],
   "source": [
    "get_Thurston_norm(sig)"
   ]
  },
  {
   "cell_type": "code",
   "execution_count": 6,
   "id": "5cd38748",
   "metadata": {},
   "outputs": [
    {
     "data": {
      "text/plain": [
       "(-0.819094435969666, -1.228641653954499)"
      ]
     },
     "execution_count": 6,
     "metadata": {},
     "output_type": "execute_result"
    }
   ],
   "source": [
    "min_dir = get_minimal_direction(sig)\n",
    "min_dir"
   ]
  },
  {
   "cell_type": "code",
   "execution_count": 7,
   "id": "f34b774b",
   "metadata": {},
   "outputs": [
    {
     "data": {
      "image/png": "[encoded data removed]",
      "text/plain": [
       "Graphics object consisting of 10 graphics primitives"
      ]
     },
     "execution_count": 7,
     "metadata": {},
     "output_type": "execute_result"
    }
   ],
   "source": [
    "get_fibered_cone_and_levset_plot(sig)"
   ]
  },
  {
   "cell_type": "code",
   "execution_count": 8,
   "id": "0235abde",
   "metadata": {},
   "outputs": [
    {
     "data": {
      "text/plain": [
       "(a < 0 && Inequality[3*a, LessEqual, b, LessEqual, 0]) || (a == 0 && b == 0)"
      ]
     },
     "execution_count": 8,
     "metadata": {},
     "output_type": "execute_result"
    }
   ],
   "source": [
    "m('cone = ConicHullRegion[{{0, 0}}, {{-1,0}, {-1,-3}, {-1,-1}, {-1,-2}}]')\n",
    "m('Reduce[{a, b} \\[Element] cone, {a, b}]')"
   ]
  },
  {
   "cell_type": "code",
   "execution_count": 9,
   "id": "949f11e5",
   "metadata": {},
   "outputs": [
    {
     "data": {
      "text/plain": [
       "(n == 0 && a == 0 && b == 0) || (n > 0 && a == -1/4*n && \n",
       "  Inequality[3*a, LessEqual, b, LessEqual, 0])"
      ]
     },
     "execution_count": 9,
     "metadata": {},
     "output_type": "execute_result"
    }
   ],
   "source": [
    "m('Reduce[-4*a == n && {a, b} \\[Element] cone && n \\[Element] Reals, {a, b}]')"
   ]
  },
  {
   "cell_type": "code",
   "execution_count": 11,
   "id": "49a9424c",
   "metadata": {},
   "outputs": [
    {
     "name": "stdout",
     "output_type": "stream",
     "text": [
      "Thurston norm 0\n",
      "Thurston norm 1\n",
      "Thurston norm 2\n",
      "Thurston norm 3\n",
      "Thurston norm 4\n",
      "\t(-1, -2) has genus 0\n",
      "\t(-1, -1) has genus 0\n",
      "Thurston norm 5\n",
      "Thurston norm 6\n",
      "Thurston norm 7\n",
      "Thurston norm 8\n",
      "\t(-2, -5) has genus 4\n",
      "\t(-2, -3) has genus 4\n",
      "\t(-2, -1) has genus 4\n",
      "Thurston norm 9\n",
      "Thurston norm 10\n",
      "Thurston norm 11\n",
      "Thurston norm 12\n",
      "\t(-3, -8) has genus 4\n",
      "\t(-3, -7) has genus 6\n",
      "\t(-3, -5) has genus 6\n",
      "\t(-3, -4) has genus 6\n",
      "\t(-3, -2) has genus 6\n",
      "\t(-3, -1) has genus 4\n",
      "Thurston norm 13\n",
      "Thurston norm 14\n",
      "Thurston norm 15\n",
      "Thurston norm 16\n",
      "\t(-4, -11) has genus 8\n",
      "\t(-4, -9) has genus 6\n",
      "\t(-4, -7) has genus 8\n",
      "\t(-4, -5) has genus 8\n",
      "\t(-4, -3) has genus 6\n",
      "\t(-4, -1) has genus 8\n",
      "Thurston norm 17\n",
      "Thurston norm 18\n",
      "Thurston norm 19\n"
     ]
    }
   ],
   "source": [
    "for n in range(20):\n",
    "    print('Thurston norm ' + str(n))\n",
    "    a = (-1/4)*n\n",
    "    for b in range(floor(3*a), 1):\n",
    "        if cone.interior_contains(a,b) and (gcd(a,b) == 1):\n",
    "            print('\\t' + str((a,b)) + ' has genus ' + str(get_genus(sig,(a,b))))"
   ]
  },
  {
   "cell_type": "code",
   "execution_count": 12,
   "id": "7d72c1ef",
   "metadata": {},
   "outputs": [
    {
     "name": "stdout",
     "output_type": "stream",
     "text": [
      "Thurston norm 20\n",
      "\t(-5, -14) has genus 10\n",
      "\t(-5, -13) has genus 10\n",
      "\t(-5, -12) has genus 10\n",
      "\t(-5, -11) has genus 10\n",
      "\t(-5, -9) has genus 10\n",
      "\t(-5, -8) has genus 10\n",
      "\t(-5, -7) has genus 10\n",
      "\t(-5, -6) has genus 10\n",
      "\t(-5, -4) has genus 10\n",
      "\t(-5, -3) has genus 10\n",
      "\t(-5, -2) has genus 10\n",
      "\t(-5, -1) has genus 10\n",
      "Thurston norm 21\n",
      "Thurston norm 22\n",
      "Thurston norm 23\n",
      "Thurston norm 24\n",
      "\t(-6, -17) has genus 10\n",
      "\t(-6, -13) has genus 12\n",
      "\t(-6, -11) has genus 10\n",
      "\t(-6, -7) has genus 10\n",
      "\t(-6, -5) has genus 12\n",
      "\t(-6, -1) has genus 10\n",
      "Thurston norm 25\n",
      "Thurston norm 26\n",
      "Thurston norm 27\n",
      "Thurston norm 28\n",
      "\t(-7, -20) has genus 14\n",
      "\t(-7, -19) has genus 12\n",
      "\t(-7, -18) has genus 14\n",
      "\t(-7, -17) has genus 12\n",
      "\t(-7, -16) has genus 14\n",
      "\t(-7, -15) has genus 14\n",
      "\t(-7, -13) has genus 14\n",
      "\t(-7, -12) has genus 12\n",
      "\t(-7, -11) has genus 14\n",
      "\t(-7, -10) has genus 14\n",
      "\t(-7, -9) has genus 12\n",
      "\t(-7, -8) has genus 14\n",
      "\t(-7, -6) has genus 14\n",
      "\t(-7, -5) has genus 14\n",
      "\t(-7, -4) has genus 12\n",
      "\t(-7, -3) has genus 14\n",
      "\t(-7, -2) has genus 12\n",
      "\t(-7, -1) has genus 14\n",
      "Thurston norm 29\n",
      "Thurston norm 30\n",
      "Thurston norm 31\n",
      "Thurston norm 32\n",
      "\t(-8, -23) has genus 14\n",
      "\t(-8, -21) has genus 14\n",
      "\t(-8, -19) has genus 16\n",
      "\t(-8, -17) has genus 16\n",
      "\t(-8, -15) has genus 16\n",
      "\t(-8, -13) has genus 14\n",
      "\t(-8, -11) has genus 14\n",
      "\t(-8, -9) has genus 16\n",
      "\t(-8, -7) has genus 16\n",
      "\t(-8, -5) has genus 16\n",
      "\t(-8, -3) has genus 14\n",
      "\t(-8, -1) has genus 14\n",
      "Thurston norm 33\n",
      "Thurston norm 34\n",
      "Thurston norm 35\n",
      "Thurston norm 36\n",
      "\t(-9, -26) has genus 18\n",
      "\t(-9, -25) has genus 18\n",
      "\t(-9, -23) has genus 16\n",
      "\t(-9, -22) has genus 18\n",
      "\t(-9, -20) has genus 18\n",
      "\t(-9, -19) has genus 16\n",
      "\t(-9, -17) has genus 18\n",
      "\t(-9, -16) has genus 18\n",
      "\t(-9, -14) has genus 16\n",
      "\t(-9, -13) has genus 16\n",
      "\t(-9, -11) has genus 18\n",
      "\t(-9, -10) has genus 18\n",
      "\t(-9, -8) has genus 16\n",
      "\t(-9, -7) has genus 18\n",
      "\t(-9, -5) has genus 18\n",
      "\t(-9, -4) has genus 16\n",
      "\t(-9, -2) has genus 18\n",
      "\t(-9, -1) has genus 18\n",
      "Thurston norm 37\n",
      "Thurston norm 38\n",
      "Thurston norm 39\n"
     ]
    }
   ],
   "source": [
    "for n in range(20,40):\n",
    "    print('Thurston norm ' + str(n))\n",
    "    a = (-1/4)*n\n",
    "    for b in range(floor(3*a), 1):\n",
    "        if cone.interior_contains(a,b) and (gcd(a,b) == 1):\n",
    "            print('\\t' + str((a,b)) + ' has genus ' + str(get_genus(sig,(a,b))))"
   ]
  },
  {
   "cell_type": "code",
   "execution_count": null,
   "id": "74ad7fb3",
   "metadata": {},
   "outputs": [],
   "source": []
  }
 ],
 "metadata": {
  "kernelspec": {
   "display_name": "SageMath 9.6",
   "language": "sage",
   "name": "sagemath-9.6"
  },
  "language_info": {
   "codemirror_mode": {
    "name": "ipython",
    "version": 3
   },
   "file_extension": ".py",
   "mimetype": "text/x-python",
   "name": "python",
   "nbconvert_exporter": "python",
   "pygments_lexer": "ipython3",
   "version": "3.10.3"
  }
 },
 "nbformat": 4,
 "nbformat_minor": 5
}
