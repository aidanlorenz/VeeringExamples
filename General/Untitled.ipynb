{
 "cells": [
  {
   "cell_type": "code",
   "execution_count": 66,
   "id": "88f89131",
   "metadata": {},
   "outputs": [],
   "source": [
    "L = 8\n",
    "Q = 3*7\n",
    "d = 7\n",
    "a0 = 1\n",
    "\n",
    "seq = [a0 + n*L for n in range(20)]"
   ]
  },
  {
   "cell_type": "code",
   "execution_count": 67,
   "id": "5467aca3",
   "metadata": {},
   "outputs": [],
   "source": [
    "count = 0\n",
    "for num in seq:\n",
    "    if num % d == 0:\n",
    "        count += 1"
   ]
  },
  {
   "cell_type": "code",
   "execution_count": 68,
   "id": "f180ddfa",
   "metadata": {},
   "outputs": [
    {
     "data": {
      "text/plain": [
       "2"
      ]
     },
     "execution_count": 68,
     "metadata": {},
     "output_type": "execute_result"
    }
   ],
   "source": [
    "count"
   ]
  },
  {
   "cell_type": "code",
   "execution_count": 69,
   "id": "bd95c8e3",
   "metadata": {},
   "outputs": [
    {
     "data": {
      "text/plain": [
       "-0.8571428571428572"
      ]
     },
     "execution_count": 69,
     "metadata": {},
     "output_type": "execute_result"
    }
   ],
   "source": [
    "sizeAd = count\n",
    "X = len(seq)\n",
    "\n",
    "sizeAd - X/d"
   ]
  },
  {
   "cell_type": "code",
   "execution_count": null,
   "id": "dc90b013",
   "metadata": {},
   "outputs": [],
   "source": []
  }
 ],
 "metadata": {
  "kernelspec": {
   "display_name": "Python 3",
   "language": "python",
   "name": "python3"
  },
  "language_info": {
   "codemirror_mode": {
    "name": "ipython",
    "version": 3
   },
   "file_extension": ".py",
   "mimetype": "text/x-python",
   "name": "python",
   "nbconvert_exporter": "python",
   "pygments_lexer": "ipython3",
   "version": "3.10.9"
  }
 },
 "nbformat": 4,
 "nbformat_minor": 5
}
