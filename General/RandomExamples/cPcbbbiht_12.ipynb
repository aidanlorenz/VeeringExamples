{
 "cells": [
  {
   "cell_type": "code",
   "execution_count": 1,
   "id": "8a1076ea",
   "metadata": {},
   "outputs": [],
   "source": [
    "load('VeeringGeneralFunctions.sage')"
   ]
  },
  {
   "cell_type": "code",
   "execution_count": 2,
   "id": "f55303dd",
   "metadata": {},
   "outputs": [],
   "source": [
    "sig = 'cPcbbbiht_12'"
   ]
  },
  {
   "cell_type": "code",
   "execution_count": 3,
   "id": "186cda0a",
   "metadata": {},
   "outputs": [
    {
     "data": {
      "text/plain": [
       "1"
      ]
     },
     "execution_count": 3,
     "metadata": {},
     "output_type": "execute_result"
    }
   ],
   "source": [
    "tri, angle = taut.isosig_to_tri_angle(sig)\n",
    "tri.homology().rank()"
   ]
  },
  {
   "cell_type": "code",
   "execution_count": 4,
   "id": "19def15a",
   "metadata": {},
   "outputs": [
    {
     "data": {
      "text/plain": [
       "True"
      ]
     },
     "execution_count": 4,
     "metadata": {},
     "output_type": "execute_result"
    }
   ],
   "source": [
    "from veering import taut_polytope\n",
    "taut_polytope.is_layered(sig)"
   ]
  },
  {
   "cell_type": "code",
   "execution_count": 5,
   "id": "947a561c",
   "metadata": {},
   "outputs": [
    {
     "data": {
      "text/plain": [
       "N(1)\n",
       "in 1-d lattice N"
      ]
     },
     "execution_count": 5,
     "metadata": {},
     "output_type": "execute_result"
    }
   ],
   "source": [
    "cone = get_fibered_cone(sig)\n",
    "cone.Hilbert_basis()"
   ]
  },
  {
   "cell_type": "code",
   "execution_count": 6,
   "id": "29b5d798",
   "metadata": {},
   "outputs": [],
   "source": [
    "min_dir = get_minimal_direction(sig)\n",
    "min_dir"
   ]
  },
  {
   "cell_type": "code",
   "execution_count": 7,
   "id": "e3ada7ac",
   "metadata": {},
   "outputs": [
    {
     "data": {
      "text/plain": [
       "0.9624236501192069"
      ]
     },
     "execution_count": 7,
     "metadata": {},
     "output_type": "execute_result"
    }
   ],
   "source": [
    "minimum = get_min_norm_dila_log_mathematica_approx(sig)\n",
    "minimum"
   ]
  },
  {
   "cell_type": "code",
   "execution_count": 8,
   "id": "209fa426",
   "metadata": {},
   "outputs": [
    {
     "data": {
      "text/plain": [
       "a0"
      ]
     },
     "execution_count": 8,
     "metadata": {},
     "output_type": "execute_result"
    }
   ],
   "source": [
    "get_Thurston_norm(sig)"
   ]
  },
  {
   "cell_type": "code",
   "execution_count": 9,
   "id": "418d1f26",
   "metadata": {},
   "outputs": [
    {
     "data": {
      "text/plain": [
       "[(a0, a0)]"
      ]
     },
     "execution_count": 9,
     "metadata": {},
     "output_type": "execute_result"
    }
   ],
   "source": [
    "get_LES_boundary_maps(sig)"
   ]
  },
  {
   "cell_type": "code",
   "execution_count": 10,
   "id": "5e5eb97b",
   "metadata": {},
   "outputs": [
    {
     "data": {
      "text/plain": [
       "1"
      ]
     },
     "execution_count": 10,
     "metadata": {},
     "output_type": "execute_result"
    }
   ],
   "source": [
    "get_genus(sig,(1,))"
   ]
  },
  {
   "cell_type": "code",
   "execution_count": 11,
   "id": "a806a5c4",
   "metadata": {},
   "outputs": [
    {
     "data": {
      "text/plain": [
       "[[1], 1]"
      ]
     },
     "execution_count": 11,
     "metadata": {},
     "output_type": "execute_result"
    }
   ],
   "source": [
    "get_num_punctures(sig,(1,))"
   ]
  },
  {
   "cell_type": "code",
   "execution_count": 12,
   "id": "352517d5",
   "metadata": {},
   "outputs": [
    {
     "data": {
      "text/plain": [
       "2.61803398874989"
      ]
     },
     "execution_count": 12,
     "metadata": {},
     "output_type": "execute_result"
    }
   ],
   "source": [
    "get_dila_mathematica(sig, (1,))"
   ]
  },
  {
   "cell_type": "code",
   "execution_count": null,
   "id": "43474dfe",
   "metadata": {},
   "outputs": [],
   "source": []
  }
 ],
 "metadata": {
  "kernelspec": {
   "display_name": "SageMath 9.6",
   "language": "sage",
   "name": "sagemath-9.6"
  },
  "language_info": {
   "codemirror_mode": {
    "name": "ipython",
    "version": 3
   },
   "file_extension": ".py",
   "mimetype": "text/x-python",
   "name": "python",
   "nbconvert_exporter": "python",
   "pygments_lexer": "ipython3",
   "version": "3.10.3"
  }
 },
 "nbformat": 4,
 "nbformat_minor": 5
}
