{
 "cells": [
  {
   "cell_type": "code",
   "execution_count": 1,
   "id": "a29932cb",
   "metadata": {},
   "outputs": [],
   "source": [
    "load('../VeeringGeneralFunctions.sage')"
   ]
  },
  {
   "cell_type": "code",
   "execution_count": 2,
   "id": "5efe5d5c",
   "metadata": {},
   "outputs": [],
   "source": [
    "from veering.file_io import parse_data_file\n",
    "veering_isosigs = parse_data_file('veering_census.txt')"
   ]
  },
  {
   "cell_type": "code",
   "execution_count": 3,
   "id": "0618f911",
   "metadata": {},
   "outputs": [
    {
     "data": {
      "text/plain": [
       "['cPcbbbdxm_10',\n",
       " 'cPcbbbiht_12',\n",
       " 'dLQacccjsnk_200',\n",
       " 'dLQbccchhfo_122',\n",
       " 'dLQbccchhsj_122']"
      ]
     },
     "execution_count": 3,
     "metadata": {},
     "output_type": "execute_result"
    }
   ],
   "source": [
    "veering_isosigs[0:5]"
   ]
  },
  {
   "cell_type": "code",
   "execution_count": 4,
   "id": "b5a5f69e",
   "metadata": {},
   "outputs": [],
   "source": [
    "sigs_with_hom_rank_1_2 = []\n",
    "for sig in veering_isosigs:\n",
    "    tri, angle = taut.isosig_to_tri_angle(sig)\n",
    "    if tri.homology().rank() in [1,2]:\n",
    "        sigs_with_hom_rank_1_2.append(sig)"
   ]
  },
  {
   "cell_type": "code",
   "execution_count": 5,
   "id": "59b8d9e9",
   "metadata": {},
   "outputs": [
    {
     "data": {
      "text/plain": [
       "82381"
      ]
     },
     "execution_count": 5,
     "metadata": {},
     "output_type": "execute_result"
    }
   ],
   "source": [
    "len(sigs_with_hom_rank_1_2)"
   ]
  },
  {
   "cell_type": "code",
   "execution_count": 6,
   "id": "afbaacfc",
   "metadata": {},
   "outputs": [],
   "source": [
    "sigs_with_hom_rank_geq_3 = []\n",
    "for sig in veering_isosigs:\n",
    "    tri, angle = taut.isosig_to_tri_angle(sig)\n",
    "    if tri.homology().rank() not in [1,2]:\n",
    "        sigs_with_hom_rank_geq_3.append(sig)"
   ]
  },
  {
   "cell_type": "code",
   "execution_count": 7,
   "id": "01f9baf5",
   "metadata": {},
   "outputs": [
    {
     "data": {
      "text/plain": [
       "4666"
      ]
     },
     "execution_count": 7,
     "metadata": {},
     "output_type": "execute_result"
    }
   ],
   "source": [
    "len(sigs_with_hom_rank_geq_3)"
   ]
  },
  {
   "cell_type": "code",
   "execution_count": 8,
   "id": "407312bc",
   "metadata": {},
   "outputs": [
    {
     "data": {
      "text/plain": [
       "87047"
      ]
     },
     "execution_count": 8,
     "metadata": {},
     "output_type": "execute_result"
    }
   ],
   "source": [
    "82381 + 4666"
   ]
  },
  {
   "cell_type": "code",
   "execution_count": 9,
   "id": "01b91466",
   "metadata": {},
   "outputs": [
    {
     "data": {
      "text/plain": [
       "82381/87047"
      ]
     },
     "execution_count": 9,
     "metadata": {},
     "output_type": "execute_result"
    }
   ],
   "source": [
    "82381/87047"
   ]
  },
  {
   "cell_type": "code",
   "execution_count": 10,
   "id": "15e6711d",
   "metadata": {},
   "outputs": [],
   "source": [
    "sigs_with_hom_rank_0 = []\n",
    "for sig in veering_isosigs:\n",
    "    tri, angle = taut.isosig_to_tri_angle(sig)\n",
    "    if tri.homology().rank()==0:\n",
    "        sigs_with_hom_rank_0.append(sig)"
   ]
  },
  {
   "cell_type": "code",
   "execution_count": 11,
   "id": "d4dc7373",
   "metadata": {},
   "outputs": [
    {
     "data": {
      "text/plain": [
       "0"
      ]
     },
     "execution_count": 11,
     "metadata": {},
     "output_type": "execute_result"
    }
   ],
   "source": [
    "len(sigs_with_hom_rank_0)"
   ]
  },
  {
   "cell_type": "code",
   "execution_count": null,
   "id": "dd3ace02",
   "metadata": {},
   "outputs": [],
   "source": []
  }
 ],
 "metadata": {
  "kernelspec": {
   "display_name": "SageMath 10.1",
   "language": "sage",
   "name": "sagemath-10.1"
  },
  "language_info": {
   "codemirror_mode": {
    "name": "ipython",
    "version": 3
   },
   "file_extension": ".py",
   "mimetype": "text/x-python",
   "name": "python",
   "nbconvert_exporter": "python",
   "pygments_lexer": "ipython3",
   "version": "3.11.1"
  }
 },
 "nbformat": 4,
 "nbformat_minor": 5
}
