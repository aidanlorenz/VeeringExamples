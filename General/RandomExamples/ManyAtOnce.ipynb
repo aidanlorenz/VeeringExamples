{
 "cells": [
  {
   "cell_type": "code",
   "execution_count": 1,
   "id": "a29932cb",
   "metadata": {},
   "outputs": [],
   "source": [
    "load('VeeringGeneralFunctions.sage')"
   ]
  },
  {
   "cell_type": "code",
   "execution_count": 2,
   "id": "5efe5d5c",
   "metadata": {},
   "outputs": [],
   "source": [
    "from veering.file_io import parse_data_file\n",
    "veering_isosigs = parse_data_file('veering_census.txt')"
   ]
  },
  {
   "cell_type": "code",
   "execution_count": 3,
   "id": "0618f911",
   "metadata": {},
   "outputs": [
    {
     "data": {
      "text/plain": [
       "['cPcbbbdxm_10',\n",
       " 'cPcbbbiht_12',\n",
       " 'dLQacccjsnk_200',\n",
       " 'dLQbccchhfo_122',\n",
       " 'dLQbccchhsj_122']"
      ]
     },
     "execution_count": 3,
     "metadata": {},
     "output_type": "execute_result"
    }
   ],
   "source": [
    "veering_isosigs[0:5]"
   ]
  },
  {
   "cell_type": "code",
   "execution_count": 8,
   "id": "b5a5f69e",
   "metadata": {},
   "outputs": [],
   "source": [
    "sigs_with_hom_rank_1_2 = []\n",
    "for sig in veering_isosigs:\n",
    "    tri, angle = taut.isosig_to_tri_angle(sig)\n",
    "    if tri.homology().rank() in [1,2]:\n",
    "        sigs_with_hom_rank_1_2.append(sig)"
   ]
  },
  {
   "cell_type": "code",
   "execution_count": 14,
   "id": "59b8d9e9",
   "metadata": {},
   "outputs": [
    {
     "data": {
      "text/plain": [
       "82381"
      ]
     },
     "execution_count": 14,
     "metadata": {},
     "output_type": "execute_result"
    }
   ],
   "source": [
    "len(sigs_with_hom_rank_1_2)"
   ]
  },
  {
   "cell_type": "code",
   "execution_count": 10,
   "id": "afbaacfc",
   "metadata": {},
   "outputs": [],
   "source": [
    "sigs_with_hom_rank_geq_3 = []\n",
    "for sig in veering_isosigs:\n",
    "    tri, angle = taut.isosig_to_tri_angle(sig)\n",
    "    if tri.homology().rank() not in [1,2]:\n",
    "        sigs_with_hom_rank_geq_3.append(sig)"
   ]
  },
  {
   "cell_type": "code",
   "execution_count": 13,
   "id": "01f9baf5",
   "metadata": {},
   "outputs": [
    {
     "data": {
      "text/plain": [
       "4666"
      ]
     },
     "execution_count": 13,
     "metadata": {},
     "output_type": "execute_result"
    }
   ],
   "source": [
    "len(sigs_with_hom_rank_geq_3)"
   ]
  },
  {
   "cell_type": "code",
   "execution_count": 21,
   "id": "2601e640",
   "metadata": {},
   "outputs": [],
   "source": [
    "boundary_maps = []\n",
    "for sig in sigs_with_hom_rank_1_2[0:100]:\n",
    "    boundary_maps.append(get_LES_boundary_matrices(sig))"
   ]
  },
  {
   "cell_type": "code",
   "execution_count": 19,
   "id": "8f747ae0",
   "metadata": {},
   "outputs": [
    {
     "data": {
      "text/plain": [
       "[[\n",
       "[ 0 -3]  [-3  0]\n",
       "[-1  0], [ 0 -1]\n",
       "]]"
      ]
     },
     "execution_count": 19,
     "metadata": {},
     "output_type": "execute_result"
    }
   ],
   "source": [
    "boundary_maps"
   ]
  },
  {
   "cell_type": "code",
   "execution_count": 22,
   "id": "4f1dd9fc",
   "metadata": {},
   "outputs": [
    {
     "name": "stdout",
     "output_type": "stream",
     "text": [
      "-3\n",
      "3\n",
      "-1\n",
      "-1\n",
      "-5\n",
      "-5\n",
      "-1\n",
      "1\n",
      "-5\n",
      "5\n",
      "3\n",
      "-3\n",
      "2\n",
      "-2\n",
      "-2\n",
      "-2\n",
      "2\n",
      "-2\n",
      "-3\n",
      "-3\n"
     ]
    }
   ],
   "source": [
    "for manifold in boundary_maps:\n",
    "    if manifold[0].is_square():\n",
    "        for boundary in manifold:\n",
    "            print(boundary.determinant())"
   ]
  },
  {
   "cell_type": "code",
   "execution_count": 32,
   "id": "37b2221c",
   "metadata": {},
   "outputs": [
    {
     "data": {
      "text/plain": [
       "'eLAkbccddhhsqs_1220'"
      ]
     },
     "execution_count": 32,
     "metadata": {},
     "output_type": "execute_result"
    }
   ],
   "source": [
    "sigs_with_hom_rank_1_2[7]"
   ]
  },
  {
   "cell_type": "code",
   "execution_count": null,
   "id": "7113ea36",
   "metadata": {},
   "outputs": [],
   "source": []
  }
 ],
 "metadata": {
  "kernelspec": {
   "display_name": "SageMath 9.6",
   "language": "sage",
   "name": "sagemath-9.6"
  },
  "language_info": {
   "codemirror_mode": {
    "name": "ipython",
    "version": 3
   },
   "file_extension": ".py",
   "mimetype": "text/x-python",
   "name": "python",
   "nbconvert_exporter": "python",
   "pygments_lexer": "ipython3",
   "version": "3.10.3"
  }
 },
 "nbformat": 4,
 "nbformat_minor": 5
}
