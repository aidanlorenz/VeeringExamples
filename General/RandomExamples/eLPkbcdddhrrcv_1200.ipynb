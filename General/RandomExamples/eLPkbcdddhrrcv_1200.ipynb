{
 "cells": [
  {
   "cell_type": "code",
   "execution_count": 1,
   "id": "e6a6811c",
   "metadata": {},
   "outputs": [
    {
     "name": "stdout",
     "output_type": "stream",
     "text": [
      "Dimension of homology: 1\n",
      "Layered? True\n",
      "Genus of only primitive class: 2\n",
      "Dilatation of only primitive class: 1.722083805739042\n"
     ]
    }
   ],
   "source": [
    "load('VeeringGeneralFunctions.sage')\n",
    "from veering import taut_polytope\n",
    "sig = 'eLPkbcdddhrrcv_1200'\n",
    "tri, angle = taut.isosig_to_tri_angle(sig)\n",
    "print('Dimension of homology: ' + str(tri.homology().rank()))\n",
    "print('Layered? ' + str(taut_polytope.is_layered(sig)))\n",
    "print('Genus of only primitive class: ' + str(get_genus(sig,(1,))))\n",
    "print('Dilatation of only primitive class: ' + str(get_dila_mathematica(sig, (1,))))"
   ]
  },
  {
   "cell_type": "code",
   "execution_count": 2,
   "id": "bceb5b9d",
   "metadata": {},
   "outputs": [
    {
     "data": {
      "text/plain": [
       "'x^4 - x^3 - x^2 - x + 1'"
      ]
     },
     "execution_count": 2,
     "metadata": {},
     "output_type": "execute_result"
    }
   ],
   "source": [
    "get_spec_with_subs(sig, (1,))"
   ]
  },
  {
   "cell_type": "code",
   "execution_count": 18,
   "id": "6e75fa5b",
   "metadata": {},
   "outputs": [],
   "source": [
    "point = (1,)\n",
    "keys = get_hom_vars(sig)\n",
    "    \n",
    "substitute = {} # Need to make a dictionary to keep track of which variables we are substituting for which variable, since the get_spec function returns the specialization with variables and we need to plug in our point.\n",
    "for key, coord in zip(keys, point):\n",
    "    substitute[key] = coord\n",
    "    \n",
    "poly = str(get_spec(sig).subs(substitute)) # substitute our point into the specialization with the variables\n",
    "#print(poly) # For testing\n",
    "poly = poly.replace(\"sqrt(x)\", \"Sqrt[x]\") # NOT SURE WHEN THIS IS A PROBLEM...MAYBE THIS IS SOMETHING THAT NEEDS TO BE LOOKED INTO MORE GENERALLY?\n",
    "#print(poly) # For testing\n",
    "roots = m('roots = NSolve[' + poly + ' == 0, x]') # use mathematica to find the roots\n",
    "#print(roots) # For testing\n",
    "root_nums1 = []\n",
    "for i in range(len(roots)):\n",
    "    root_nums1.append(m('x/.roots[[' + str(i+1) + ']]')) # get the roots in a list, just of the values\n",
    "        \n",
    "root_nums2 = [abs(root.sage()) for root in root_nums1] # change them to sage objects and take their absolute values"
   ]
  },
  {
   "cell_type": "code",
   "execution_count": 19,
   "id": "3cd03bfc",
   "metadata": {},
   "outputs": [
    {
     "data": {
      "text/plain": [
       "[-0.6513878188659974 - 0.7587449567759899*I,\n",
       " -0.6513878188659974 + 0.7587449567759899*I,\n",
       " 0.5806918319929525,\n",
       " 1.7220838057390422]"
      ]
     },
     "execution_count": 19,
     "metadata": {},
     "output_type": "execute_result"
    }
   ],
   "source": [
    "root_nums1"
   ]
  },
  {
   "cell_type": "code",
   "execution_count": 20,
   "id": "4e6c8aa4",
   "metadata": {},
   "outputs": [
    {
     "data": {
      "text/plain": [
       "[1.00000000000000, 1.00000000000000, 0.580691831992952, 1.722083805739042]"
      ]
     },
     "execution_count": 20,
     "metadata": {},
     "output_type": "execute_result"
    }
   ],
   "source": [
    "root_nums2"
   ]
  },
  {
   "cell_type": "code",
   "execution_count": 21,
   "id": "059d1021",
   "metadata": {},
   "outputs": [
    {
     "data": {
      "text/plain": [
       "1.722083805739042"
      ]
     },
     "execution_count": 21,
     "metadata": {},
     "output_type": "execute_result"
    }
   ],
   "source": [
    "max(root_nums2)"
   ]
  },
  {
   "cell_type": "code",
   "execution_count": 5,
   "id": "f5348047",
   "metadata": {},
   "outputs": [
    {
     "data": {
      "text/plain": [
       "[[1], 1]"
      ]
     },
     "execution_count": 5,
     "metadata": {},
     "output_type": "execute_result"
    }
   ],
   "source": [
    "get_num_punctures(sig, (1,))"
   ]
  },
  {
   "cell_type": "code",
   "execution_count": 6,
   "id": "ba515164",
   "metadata": {},
   "outputs": [
    {
     "data": {
      "text/plain": [
       "[(a0, 3*a0)]"
      ]
     },
     "execution_count": 6,
     "metadata": {},
     "output_type": "execute_result"
    }
   ],
   "source": [
    "get_LES_boundary_maps(sig)"
   ]
  },
  {
   "cell_type": "code",
   "execution_count": 7,
   "id": "34f518bf",
   "metadata": {},
   "outputs": [
    {
     "data": {
      "text/plain": [
       "3*a0"
      ]
     },
     "execution_count": 7,
     "metadata": {},
     "output_type": "execute_result"
    }
   ],
   "source": [
    "get_Thurston_norm(sig)"
   ]
  },
  {
   "cell_type": "code",
   "execution_count": null,
   "id": "c3d1406c",
   "metadata": {},
   "outputs": [],
   "source": []
  }
 ],
 "metadata": {
  "kernelspec": {
   "display_name": "SageMath 9.6",
   "language": "sage",
   "name": "sagemath-9.6"
  },
  "language_info": {
   "codemirror_mode": {
    "name": "ipython",
    "version": 3
   },
   "file_extension": ".py",
   "mimetype": "text/x-python",
   "name": "python",
   "nbconvert_exporter": "python",
   "pygments_lexer": "ipython3",
   "version": "3.10.3"
  }
 },
 "nbformat": 4,
 "nbformat_minor": 5
}
