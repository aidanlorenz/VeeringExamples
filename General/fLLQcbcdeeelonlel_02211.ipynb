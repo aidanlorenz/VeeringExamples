{
 "cells": [
  {
   "cell_type": "code",
   "execution_count": 1,
   "id": "821fc654",
   "metadata": {},
   "outputs": [
    {
     "name": "stdout",
     "output_type": "stream",
     "text": [
      "Dimension of homology: 1\n",
      "Layered? True\n",
      "Genus of only primitive class: 4\n",
      "Dilatation of only primitive class: 1.40126836793985\n"
     ]
    }
   ],
   "source": [
    "load('VeeringGeneralFunctions.sage')\n",
    "from veering import taut_polytope\n",
    "sig = 'fLLQcbcdeeelonlel_02211'\n",
    "tri, angle = taut.isosig_to_tri_angle(sig)\n",
    "print('Dimension of homology: ' + str(tri.homology().rank()))\n",
    "print('Layered? ' + str(taut_polytope.is_layered(sig)))\n",
    "print('Genus of only primitive class: ' + str(get_genus(sig,(1,))))\n",
    "print('Dilatation of only primitive class: ' + str(get_dila_mathematica(sig, (1,))))"
   ]
  },
  {
   "cell_type": "code",
   "execution_count": 5,
   "id": "13d18179",
   "metadata": {},
   "outputs": [
    {
     "name": "stdout",
     "output_type": "stream",
     "text": [
      "1.40126836793985\n"
     ]
    }
   ],
   "source": [
    "print(get_dila_mathematica(sig, (1,)))"
   ]
  },
  {
   "cell_type": "code",
   "execution_count": 3,
   "id": "af2fd9ad",
   "metadata": {},
   "outputs": [
    {
     "data": {
      "text/plain": [
       "'x^8 + x^7 - 2*x^5 - 3*x^4 - 2*x^3 + x + 1'"
      ]
     },
     "execution_count": 3,
     "metadata": {},
     "output_type": "execute_result"
    }
   ],
   "source": [
    "get_spec_with_subs(sig, (1,))"
   ]
  },
  {
   "cell_type": "code",
   "execution_count": 2,
   "id": "aa4ebc95",
   "metadata": {},
   "outputs": [],
   "source": [
    "point = (1,)\n",
    "keys = get_hom_vars(sig)\n",
    "    \n",
    "substitute = {} # Need to make a dictionary to keep track of which variables we are substituting for which variable, since the get_spec function returns the specialization with variables and we need to plug in our point.\n",
    "for key, coord in zip(keys, point):\n",
    "    substitute[key] = coord\n",
    "    \n",
    "poly = str(get_spec(sig).subs(substitute)) # substitute our point into the specialization with the variables\n",
    "#print(poly) # For testing\n",
    "poly = poly.replace(\"sqrt(x)\", \"Sqrt[x]\") # NOT SURE WHEN THIS IS A PROBLEM...MAYBE THIS IS SOMETHING THAT NEEDS TO BE LOOKED INTO MORE GENERALLY?\n",
    "#print(poly) # For testing\n",
    "roots = m('roots = NSolve[' + poly + ' == 0, x]') # use mathematica to find the roots\n",
    "#print(roots) # For testing\n",
    "root_nums1 = []\n",
    "for i in range(len(roots)):\n",
    "    root_nums1.append(m('x/.roots[[' + str(i+1) + ']]')) # get the roots in a list, just of the values\n",
    "        \n",
    "root_nums2 = [abs(root.sage()) for root in root_nums1] # change them to sage objects and take their absolute values"
   ]
  },
  {
   "cell_type": "code",
   "execution_count": 3,
   "id": "d90a7951",
   "metadata": {},
   "outputs": [
    {
     "data": {
      "text/plain": [
       "[-0.9304029265558516 - 0.3665383939729995*I,\n",
       " -0.9304029265558516 + 0.3665383939729995*I,\n",
       " -0.49999999999999994 - 0.8660254037844386*I,\n",
       " -0.49999999999999994 + 0.8660254037844386*I,\n",
       " -0.12705084418252624 - 0.9918962057556766*I,\n",
       " -0.12705084418252624 + 0.9918962057556766*I,\n",
       " 0.7136391735369009,\n",
       " 1.401268367939855]"
      ]
     },
     "execution_count": 3,
     "metadata": {},
     "output_type": "execute_result"
    }
   ],
   "source": [
    "root_nums1"
   ]
  },
  {
   "cell_type": "code",
   "execution_count": 4,
   "id": "a64bd215",
   "metadata": {},
   "outputs": [
    {
     "data": {
      "text/plain": [
       "[1.00000000000000,\n",
       " 1.00000000000000,\n",
       " 1.00000000000000,\n",
       " 1.00000000000000,\n",
       " 1.00000000000000,\n",
       " 1.00000000000000,\n",
       " 0.713639173536901,\n",
       " 1.40126836793985]"
      ]
     },
     "execution_count": 4,
     "metadata": {},
     "output_type": "execute_result"
    }
   ],
   "source": [
    "root_nums2"
   ]
  },
  {
   "cell_type": "code",
   "execution_count": null,
   "id": "ab795ad6",
   "metadata": {},
   "outputs": [],
   "source": []
  }
 ],
 "metadata": {
  "kernelspec": {
   "display_name": "SageMath 9.6",
   "language": "sage",
   "name": "sagemath-9.6"
  },
  "language_info": {
   "codemirror_mode": {
    "name": "ipython",
    "version": 3
   },
   "file_extension": ".py",
   "mimetype": "text/x-python",
   "name": "python",
   "nbconvert_exporter": "python",
   "pygments_lexer": "ipython3",
   "version": "3.10.3"
  }
 },
 "nbformat": 4,
 "nbformat_minor": 5
}
