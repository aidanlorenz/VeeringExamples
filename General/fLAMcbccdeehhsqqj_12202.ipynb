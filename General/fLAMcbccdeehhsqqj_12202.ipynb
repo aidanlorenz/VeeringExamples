{
 "cells": [
  {
   "cell_type": "code",
   "execution_count": 2,
   "id": "2096eb30",
   "metadata": {},
   "outputs": [
    {
     "name": "stdout",
     "output_type": "stream",
     "text": [
      "Dimension of homology: 1\n",
      "Layered? False\n",
      "This is an example where the fibered cone is not built into the Veering taut_polytope file (not sure why). Be carefule to make sure your point is in the interior of the fibered cone.\n",
      "This is an example where the fibered cone is not built into the Veering taut_polytope file (not sure why). Be carefule to make sure your point is in the interior of the fibered cone.\n",
      "Genus of only primitive class: 4\n",
      "This is an example where the fibered cone is not built into the Veering taut_polytope file (not sure why). Be carefule to make sure your point is in the interior of the fibered cone.\n",
      "Dilatation of only primitive class: 1.22224295686621\n"
     ]
    }
   ],
   "source": [
    "load('VeeringGeneralFunctions.sage')\n",
    "from veering import taut_polytope\n",
    "sig = 'fLAMcbccdeehhsqqj_12202'\n",
    "tri, angle = taut.isosig_to_tri_angle(sig)\n",
    "print('Dimension of homology: ' + str(tri.homology().rank()))\n",
    "print('Layered? ' + str(taut_polytope.is_layered(sig)))\n",
    "print('Genus of only primitive class: ' + str(get_genus(sig,(-1,))))\n",
    "print('Dilatation of only primitive class: ' + str(get_dila_mathematica(sig, (-1,))))"
   ]
  },
  {
   "cell_type": "code",
   "execution_count": 12,
   "id": "1c050c45",
   "metadata": {},
   "outputs": [
    {
     "name": "stdout",
     "output_type": "stream",
     "text": [
      "This is an example where the fibered cone is not built into the Veering taut_polytope file (not sure why). Be carefule to make sure your point is in the interior of the fibered cone.\n"
     ]
    },
    {
     "data": {
      "text/plain": [
       "[[1], 1]"
      ]
     },
     "execution_count": 12,
     "metadata": {},
     "output_type": "execute_result"
    }
   ],
   "source": [
    "get_num_punctures(sig,(-1,))"
   ]
  },
  {
   "cell_type": "code",
   "execution_count": 13,
   "id": "ba7b3d45",
   "metadata": {},
   "outputs": [
    {
     "name": "stdout",
     "output_type": "stream",
     "text": [
      "This is an example where the fibered cone is not built into the Veering taut_polytope file (not sure why). Be carefule to make sure your point is in the interior of the fibered cone.\n",
      "This is an example where the fibered cone is not built into the Veering taut_polytope file (not sure why). Be carefule to make sure your point is in the interior of the fibered cone.\n"
     ]
    },
    {
     "data": {
      "text/plain": [
       "[[14]]"
      ]
     },
     "execution_count": 13,
     "metadata": {},
     "output_type": "execute_result"
    }
   ],
   "source": [
    "get_num_prongs(sig,(-1,))"
   ]
  },
  {
   "cell_type": "code",
   "execution_count": 14,
   "id": "dfb045fa",
   "metadata": {},
   "outputs": [],
   "source": [
    "tri, angle = taut.isosig_to_tri_angle(sig)"
   ]
  },
  {
   "cell_type": "code",
   "execution_count": 15,
   "id": "6cb7dd74",
   "metadata": {},
   "outputs": [
    {
     "name": "stdout",
     "output_type": "stream",
     "text": [
      "Size of the skeleton:\n",
      "  Tetrahedra: 5\n",
      "  Triangles: 10\n",
      "  Edges: 5\n",
      "  Vertices: 1\n",
      "\n",
      "Tetrahedron gluing:\n",
      "  Tet  |  glued to:      (012)      (013)      (023)      (123)\n",
      "  -----+-------------------------------------------------------\n",
      "    0  |               2 (130)    1 (132)    2 (320)    1 (120)\n",
      "    1  |               0 (312)    3 (310)    2 (210)    0 (031)\n",
      "    2  |               1 (320)    0 (201)    0 (320)    3 (302)\n",
      "    3  |               4 (203)    1 (310)    2 (231)    4 (120)\n",
      "    4  |               3 (312)    4 (321)    3 (102)    4 (310)\n",
      "\n",
      "Vertices:\n",
      "  Tet  |  vertex:    0   1   2   3\n",
      "  -----+--------------------------\n",
      "    0  |             0   0   0   0\n",
      "    1  |             0   0   0   0\n",
      "    2  |             0   0   0   0\n",
      "    3  |             0   0   0   0\n",
      "    4  |             0   0   0   0\n",
      "\n",
      "Edges:\n",
      "  Tet  |  edge:   01  02  03  12  13  23\n",
      "  -----+--------------------------------\n",
      "    0  |           0   1   2   2   1   3\n",
      "    1  |           1   3   3   2   0   1\n",
      "    2  |           1   3   2   3   0   1\n",
      "    3  |           0   1   3   4   1   0\n",
      "    4  |           1   0   4   4   4   1\n",
      "\n",
      "Triangles:\n",
      "  Tet  |  face:  012 013 023 123\n",
      "  -----+------------------------\n",
      "    0  |           0   1   2   3\n",
      "    1  |           3   4   5   1\n",
      "    2  |           5   0   2   6\n",
      "    3  |           7   4   6   8\n",
      "    4  |           8   9   7   9\n",
      "\n",
      "\n"
     ]
    }
   ],
   "source": [
    "print(tri.detail())"
   ]
  },
  {
   "cell_type": "code",
   "execution_count": 16,
   "id": "99550c0f",
   "metadata": {},
   "outputs": [
    {
     "data": {
      "text/plain": [
       "[(-14*a0, 5*a0)]"
      ]
     },
     "execution_count": 16,
     "metadata": {},
     "output_type": "execute_result"
    }
   ],
   "source": [
    "get_LES_boundary_maps(sig)"
   ]
  },
  {
   "cell_type": "code",
   "execution_count": 17,
   "id": "eb674220",
   "metadata": {},
   "outputs": [
    {
     "data": {
      "text/plain": [
       "-7*a0"
      ]
     },
     "execution_count": 17,
     "metadata": {},
     "output_type": "execute_result"
    }
   ],
   "source": [
    "get_Thurston_norm(sig)"
   ]
  },
  {
   "cell_type": "code",
   "execution_count": 18,
   "id": "03e5b162",
   "metadata": {},
   "outputs": [
    {
     "name": "stdout",
     "output_type": "stream",
     "text": [
      "This is an example where the fibered cone is not built into the Veering taut_polytope file (not sure why). Be carefule to make sure your point is in the interior of the fibered cone.\n",
      "This is an example where the fibered cone is not built into the Veering taut_polytope file (not sure why). Be carefule to make sure your point is in the interior of the fibered cone.\n",
      "-3\n"
     ]
    }
   ],
   "source": [
    "print(get_genus(sig,(1,)))"
   ]
  },
  {
   "cell_type": "code",
   "execution_count": 19,
   "id": "233deefa",
   "metadata": {},
   "outputs": [
    {
     "data": {
      "text/plain": [
       "False"
      ]
     },
     "execution_count": 19,
     "metadata": {},
     "output_type": "execute_result"
    }
   ],
   "source": [
    "from veering import taut_polytope\n",
    "taut_polytope.is_layered(sig)"
   ]
  },
  {
   "cell_type": "code",
   "execution_count": null,
   "id": "573dd8e1",
   "metadata": {},
   "outputs": [],
   "source": []
  }
 ],
 "metadata": {
  "kernelspec": {
   "display_name": "SageMath 9.6",
   "language": "sage",
   "name": "sagemath-9.6"
  },
  "language_info": {
   "codemirror_mode": {
    "name": "ipython",
    "version": 3
   },
   "file_extension": ".py",
   "mimetype": "text/x-python",
   "name": "python",
   "nbconvert_exporter": "python",
   "pygments_lexer": "ipython3",
   "version": "3.10.3"
  }
 },
 "nbformat": 4,
 "nbformat_minor": 5
}
