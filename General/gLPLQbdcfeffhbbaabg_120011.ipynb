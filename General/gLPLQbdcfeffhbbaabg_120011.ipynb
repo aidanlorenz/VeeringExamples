{
 "cells": [
  {
   "cell_type": "code",
   "execution_count": 2,
   "id": "d8b8fd2e",
   "metadata": {},
   "outputs": [],
   "source": [
    "load('VeeringGeneralFunctions.sage')"
   ]
  },
  {
   "cell_type": "code",
   "execution_count": 4,
   "id": "04420cf5",
   "metadata": {},
   "outputs": [],
   "source": [
    "sig = 'gLPLQbdcfeffhbbaabg_120011'"
   ]
  },
  {
   "cell_type": "code",
   "execution_count": 5,
   "id": "d2bd6a36",
   "metadata": {},
   "outputs": [
    {
     "data": {
      "text/plain": [
       "[(-a0 - a1, a0 - a1), (-a0, a0 + 2*a1)]"
      ]
     },
     "execution_count": 5,
     "metadata": {},
     "output_type": "execute_result"
    }
   ],
   "source": [
    "get_LES_boundary_maps(sig)"
   ]
  },
  {
   "cell_type": "code",
   "execution_count": 6,
   "id": "5bd28c0f",
   "metadata": {},
   "outputs": [
    {
     "data": {
      "text/plain": [
       "N(0,  1),\n",
       "N(1, -1)\n",
       "in 2-d lattice N"
      ]
     },
     "execution_count": 6,
     "metadata": {},
     "output_type": "execute_result"
    }
   ],
   "source": [
    "cone = get_fibered_cone(sig)\n",
    "cone.Hilbert_basis()"
   ]
  },
  {
   "cell_type": "code",
   "execution_count": 7,
   "id": "7783248d",
   "metadata": {},
   "outputs": [
    {
     "data": {
      "text/plain": [
       "2*a0 + a1"
      ]
     },
     "execution_count": 7,
     "metadata": {},
     "output_type": "execute_result"
    }
   ],
   "source": [
    "get_Thurston_norm(sig)"
   ]
  },
  {
   "cell_type": "code",
   "execution_count": 8,
   "id": "b1545c51",
   "metadata": {},
   "outputs": [
    {
     "data": {
      "text/plain": [
       "(1.3169578969248168, 0)"
      ]
     },
     "execution_count": 8,
     "metadata": {},
     "output_type": "execute_result"
    }
   ],
   "source": [
    "min_dir = get_minimal_direction(sig)\n",
    "min_dir"
   ]
  },
  {
   "cell_type": "code",
   "execution_count": 11,
   "id": "1a5810dc",
   "metadata": {},
   "outputs": [
    {
     "data": {
      "image/png": "[encoded data removed]",
      "text/plain": [
       "Graphics object consisting of 10 graphics primitives"
      ]
     },
     "execution_count": 11,
     "metadata": {},
     "output_type": "execute_result"
    }
   ],
   "source": [
    "get_fibered_cone_and_levset_plot(sig)"
   ]
  },
  {
   "cell_type": "code",
   "execution_count": 9,
   "id": "656d93f3",
   "metadata": {},
   "outputs": [
    {
     "data": {
      "text/plain": [
       "a >= 0 && b >= -a"
      ]
     },
     "execution_count": 9,
     "metadata": {},
     "output_type": "execute_result"
    }
   ],
   "source": [
    "m('cone = ConicHullRegion[{{0, 0}}, {{0, 1}, {1, -1}}]')\n",
    "m('Reduce[{a, b} \\[Element] cone, {a, b}]')"
   ]
  },
  {
   "cell_type": "code",
   "execution_count": 10,
   "id": "01f92660",
   "metadata": {},
   "outputs": [
    {
     "data": {
      "text/plain": [
       "((n == 0 && a == 0) || (n > 0 && Inequality[0, LessEqual, a, LessEqual, \n",
       "    n])) && b == -2*a + n"
      ]
     },
     "execution_count": 10,
     "metadata": {},
     "output_type": "execute_result"
    }
   ],
   "source": [
    "m('Reduce[2*a + b == n && {a, b} \\[Element] cone && n \\[Element] Reals, {a, b}]')"
   ]
  },
  {
   "cell_type": "code",
   "execution_count": 12,
   "id": "bf4f7136",
   "metadata": {},
   "outputs": [
    {
     "name": "stdout",
     "output_type": "stream",
     "text": [
      "Thurston norm 0\n",
      "Thurston norm 1\n",
      "Thurston norm 2\n",
      "\t(1, 0) has genus 1\n",
      "Thurston norm 3\n",
      "\t(1, 1) has genus 1\n",
      "\t(2, -1) has genus 1\n",
      "Thurston norm 4\n",
      "\t(1, 2) has genus 2\n",
      "\t(3, -2) has genus 2\n",
      "Thurston norm 5\n",
      "\t(1, 3) has genus 2\n",
      "\t(2, 1) has genus 2\n",
      "\t(3, -1) has genus 2\n",
      "\t(4, -3) has genus 2\n",
      "Thurston norm 6\n",
      "\t(1, 4) has genus 3\n",
      "\t(5, -4) has genus 3\n",
      "Thurston norm 7\n",
      "\t(1, 5) has genus 3\n",
      "\t(2, 3) has genus 3\n",
      "\t(3, 1) has genus 3\n",
      "\t(4, -1) has genus 3\n",
      "\t(5, -3) has genus 3\n",
      "\t(6, -5) has genus 3\n",
      "Thurston norm 8\n",
      "\t(1, 6) has genus 4\n",
      "\t(3, 2) has genus 4\n",
      "\t(5, -2) has genus 4\n",
      "\t(7, -6) has genus 4\n",
      "Thurston norm 9\n",
      "\t(1, 7) has genus 4\n",
      "\t(2, 5) has genus 4\n",
      "\t(4, 1) has genus 4\n",
      "\t(5, -1) has genus 4\n",
      "\t(7, -5) has genus 4\n",
      "\t(8, -7) has genus 4\n",
      "Thurston norm 10\n",
      "\t(1, 8) has genus 5\n",
      "\t(3, 4) has genus 5\n",
      "\t(7, -4) has genus 5\n",
      "\t(9, -8) has genus 5\n",
      "Thurston norm 11\n",
      "\t(1, 9) has genus 5\n",
      "\t(2, 7) has genus 5\n",
      "\t(3, 5) has genus 5\n",
      "\t(4, 3) has genus 5\n",
      "\t(5, 1) has genus 5\n",
      "\t(6, -1) has genus 5\n",
      "\t(7, -3) has genus 5\n",
      "\t(8, -5) has genus 5\n",
      "\t(9, -7) has genus 5\n",
      "\t(10, -9) has genus 5\n",
      "Thurston norm 12\n",
      "\t(1, 10) has genus 6\n",
      "\t(5, 2) has genus 6\n",
      "\t(7, -2) has genus 6\n",
      "\t(11, -10) has genus 6\n",
      "Thurston norm 13\n",
      "\t(1, 11) has genus 6\n",
      "\t(2, 9) has genus 6\n",
      "\t(3, 7) has genus 6\n",
      "\t(4, 5) has genus 6\n",
      "\t(5, 3) has genus 6\n",
      "\t(6, 1) has genus 6\n",
      "\t(7, -1) has genus 6\n",
      "\t(8, -3) has genus 6\n",
      "\t(9, -5) has genus 6\n",
      "\t(10, -7) has genus 6\n",
      "\t(11, -9) has genus 6\n",
      "\t(12, -11) has genus 6\n",
      "Thurston norm 14\n",
      "\t(1, 12) has genus 7\n",
      "\t(3, 8) has genus 7\n",
      "\t(5, 4) has genus 7\n",
      "\t(9, -4) has genus 7\n",
      "\t(11, -8) has genus 7\n",
      "\t(13, -12) has genus 7\n",
      "Thurston norm 15\n",
      "\t(1, 13) has genus 7\n",
      "\t(2, 11) has genus 7\n",
      "\t(4, 7) has genus 7\n",
      "\t(7, 1) has genus 7\n",
      "\t(8, -1) has genus 7\n",
      "\t(11, -7) has genus 7\n",
      "\t(13, -11) has genus 7\n",
      "\t(14, -13) has genus 7\n",
      "Thurston norm 16\n",
      "\t(1, 14) has genus 8\n",
      "\t(3, 10) has genus 8\n",
      "\t(5, 6) has genus 8\n",
      "\t(7, 2) has genus 8\n",
      "\t(9, -2) has genus 8\n",
      "\t(11, -6) has genus 8\n",
      "\t(13, -10) has genus 8\n",
      "\t(15, -14) has genus 8\n",
      "Thurston norm 17\n",
      "\t(1, 15) has genus 8\n",
      "\t(2, 13) has genus 8\n",
      "\t(3, 11) has genus 8\n",
      "\t(4, 9) has genus 8\n",
      "\t(5, 7) has genus 8\n",
      "\t(6, 5) has genus 8\n",
      "\t(7, 3) has genus 8\n",
      "\t(8, 1) has genus 8\n",
      "\t(9, -1) has genus 8\n",
      "\t(10, -3) has genus 8\n",
      "\t(11, -5) has genus 8\n",
      "\t(12, -7) has genus 8\n",
      "\t(13, -9) has genus 8\n",
      "\t(14, -11) has genus 8\n",
      "\t(15, -13) has genus 8\n",
      "\t(16, -15) has genus 8\n",
      "Thurston norm 18\n",
      "\t(1, 16) has genus 9\n",
      "\t(5, 8) has genus 9\n",
      "\t(7, 4) has genus 9\n",
      "\t(11, -4) has genus 9\n",
      "\t(13, -8) has genus 9\n",
      "\t(17, -16) has genus 9\n",
      "Thurston norm 19\n",
      "\t(1, 17) has genus 9\n",
      "\t(2, 15) has genus 9\n",
      "\t(3, 13) has genus 9\n",
      "\t(4, 11) has genus 9\n",
      "\t(5, 9) has genus 9\n",
      "\t(6, 7) has genus 9\n",
      "\t(7, 5) has genus 9\n",
      "\t(8, 3) has genus 9\n",
      "\t(9, 1) has genus 9\n",
      "\t(10, -1) has genus 9\n",
      "\t(11, -3) has genus 9\n",
      "\t(12, -5) has genus 9\n",
      "\t(13, -7) has genus 9\n",
      "\t(14, -9) has genus 9\n",
      "\t(15, -11) has genus 9\n",
      "\t(16, -13) has genus 9\n",
      "\t(17, -15) has genus 9\n",
      "\t(18, -17) has genus 9\n"
     ]
    }
   ],
   "source": [
    "for n in range(20):\n",
    "    print('Thurston norm ' + str(n))\n",
    "    for a in range(n+1):\n",
    "        b = -2*a + n\n",
    "        if cone.interior_contains(a,b) and (gcd(a,b) == 1):\n",
    "            print('\\t' + str((a,b)) + ' has genus ' + str(get_genus(sig,(a,b))))"
   ]
  },
  {
   "cell_type": "code",
   "execution_count": null,
   "id": "5003ff87",
   "metadata": {},
   "outputs": [],
   "source": []
  }
 ],
 "metadata": {
  "kernelspec": {
   "display_name": "SageMath 9.6",
   "language": "sage",
   "name": "sagemath-9.6"
  },
  "language_info": {
   "codemirror_mode": {
    "name": "ipython",
    "version": 3
   },
   "file_extension": ".py",
   "mimetype": "text/x-python",
   "name": "python",
   "nbconvert_exporter": "python",
   "pygments_lexer": "ipython3",
   "version": "3.10.3"
  }
 },
 "nbformat": 4,
 "nbformat_minor": 5
}
