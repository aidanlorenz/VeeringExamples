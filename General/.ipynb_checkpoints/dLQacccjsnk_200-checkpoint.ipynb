{
 "cells": [
  {
   "cell_type": "code",
   "execution_count": 1,
   "id": "d3cf2f29",
   "metadata": {},
   "outputs": [],
   "source": [
    "load('VeeringGeneralFunctions.sage')"
   ]
  },
  {
   "cell_type": "code",
   "execution_count": 2,
   "id": "76a33553",
   "metadata": {},
   "outputs": [],
   "source": [
    "sig = 'dLQacccjsnk_200'"
   ]
  },
  {
   "cell_type": "code",
   "execution_count": 3,
   "id": "c5416f24",
   "metadata": {},
   "outputs": [
    {
     "data": {
      "text/plain": [
       "1"
      ]
     },
     "execution_count": 3,
     "metadata": {},
     "output_type": "execute_result"
    }
   ],
   "source": [
    "tri, angle = taut.isosig_to_tri_angle(sig)\n",
    "tri.homology().rank()"
   ]
  },
  {
   "cell_type": "code",
   "execution_count": 4,
   "id": "46835f55",
   "metadata": {},
   "outputs": [
    {
     "data": {
      "text/plain": [
       "True"
      ]
     },
     "execution_count": 4,
     "metadata": {},
     "output_type": "execute_result"
    }
   ],
   "source": [
    "from veering import taut_polytope\n",
    "taut_polytope.is_layered(sig)"
   ]
  },
  {
   "cell_type": "code",
   "execution_count": 5,
   "id": "efd8956c",
   "metadata": {},
   "outputs": [
    {
     "data": {
      "text/plain": [
       "5"
      ]
     },
     "execution_count": 5,
     "metadata": {},
     "output_type": "execute_result"
    }
   ],
   "source": [
    "get_genus(sig,(1,))"
   ]
  },
  {
   "cell_type": "code",
   "execution_count": 6,
   "id": "03940169",
   "metadata": {},
   "outputs": [
    {
     "data": {
      "text/plain": [
       "1.176280818259918"
      ]
     },
     "execution_count": 6,
     "metadata": {},
     "output_type": "execute_result"
    }
   ],
   "source": [
    "get_dila_mathematica(sig, (1,))"
   ]
  },
  {
   "cell_type": "code",
   "execution_count": null,
   "id": "d191e1ac",
   "metadata": {},
   "outputs": [],
   "source": []
  }
 ],
 "metadata": {
  "kernelspec": {
   "display_name": "SageMath 9.6",
   "language": "sage",
   "name": "sagemath-9.6"
  },
  "language_info": {
   "codemirror_mode": {
    "name": "ipython",
    "version": 3
   },
   "file_extension": ".py",
   "mimetype": "text/x-python",
   "name": "python",
   "nbconvert_exporter": "python",
   "pygments_lexer": "ipython3",
   "version": "3.10.3"
  }
 },
 "nbformat": 4,
 "nbformat_minor": 5
}
