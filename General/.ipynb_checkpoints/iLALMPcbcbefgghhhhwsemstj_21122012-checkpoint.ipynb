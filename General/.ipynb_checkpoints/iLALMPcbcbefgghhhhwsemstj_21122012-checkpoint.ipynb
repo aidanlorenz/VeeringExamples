{
 "cells": [
  {
   "cell_type": "code",
   "execution_count": 1,
   "id": "12695909",
   "metadata": {},
   "outputs": [],
   "source": [
    "load('VeeringGeneralFunctions.sage')"
   ]
  },
  {
   "cell_type": "code",
   "execution_count": 2,
   "id": "b99fc6c0",
   "metadata": {},
   "outputs": [],
   "source": [
    "sig = 'iLALMPcbcbefgghhhhwsemstj_21122012'"
   ]
  },
  {
   "cell_type": "code",
   "execution_count": 3,
   "id": "33534437",
   "metadata": {},
   "outputs": [
    {
     "data": {
      "text/plain": [
       "[(2*a0 - 9*a1, -3*a0 + 5*a1), (7*a0 - 9*a1, -2*a0 + 5*a1)]"
      ]
     },
     "execution_count": 3,
     "metadata": {},
     "output_type": "execute_result"
    }
   ],
   "source": [
    "get_LES_boundary_maps(sig)"
   ]
  },
  {
   "cell_type": "code",
   "execution_count": 4,
   "id": "9fd27717",
   "metadata": {},
   "outputs": [
    {
     "ename": "ValueError",
     "evalue": "lattice must be given explicitly if there are no rays!",
     "output_type": "error",
     "traceback": [
      "\u001b[0;31m---------------------------------------------------------------------------\u001b[0m",
      "\u001b[0;31mValueError\u001b[0m                                Traceback (most recent call last)",
      "\u001b[0;32m/var/folders/d6/3chw8fvj2_lgppc79rk52_6w0000gn/T/ipykernel_56475/3808525307.py\u001b[0m in \u001b[0;36m<module>\u001b[0;34m\u001b[0m\n\u001b[0;32m----> 1\u001b[0;31m \u001b[0mcone\u001b[0m \u001b[0;34m=\u001b[0m \u001b[0mget_fibered_cone\u001b[0m\u001b[0;34m(\u001b[0m\u001b[0msig\u001b[0m\u001b[0;34m)\u001b[0m\u001b[0;34m\u001b[0m\u001b[0;34m\u001b[0m\u001b[0m\n\u001b[0m\u001b[1;32m      2\u001b[0m \u001b[0mcone\u001b[0m\u001b[0;34m.\u001b[0m\u001b[0mHilbert_basis\u001b[0m\u001b[0;34m(\u001b[0m\u001b[0;34m)\u001b[0m\u001b[0;34m\u001b[0m\u001b[0;34m\u001b[0m\u001b[0m\n",
      "\u001b[0;32m<string>\u001b[0m in \u001b[0;36mget_fibered_cone\u001b[0;34m(sig)\u001b[0m\n",
      "\u001b[0;32m/private/var/tmp/sage-9.6-current/local/var/lib/sage/venv-python3.10.3/lib/python3.10/site-packages/sage/misc/lazy_import.pyx\u001b[0m in \u001b[0;36msage.misc.lazy_import.LazyImport.__call__ (build/cythonized/sage/misc/lazy_import.c:4256)\u001b[0;34m()\u001b[0m\n\u001b[1;32m    389\u001b[0m             \u001b[0;32mTrue\u001b[0m\u001b[0;34m\u001b[0m\u001b[0;34m\u001b[0m\u001b[0m\n\u001b[1;32m    390\u001b[0m         \"\"\"\n\u001b[0;32m--> 391\u001b[0;31m         \u001b[0;32mreturn\u001b[0m \u001b[0mself\u001b[0m\u001b[0;34m.\u001b[0m\u001b[0mget_object\u001b[0m\u001b[0;34m(\u001b[0m\u001b[0;34m)\u001b[0m\u001b[0;34m(\u001b[0m\u001b[0;34m*\u001b[0m\u001b[0margs\u001b[0m\u001b[0;34m,\u001b[0m \u001b[0;34m**\u001b[0m\u001b[0mkwds\u001b[0m\u001b[0;34m)\u001b[0m\u001b[0;34m\u001b[0m\u001b[0;34m\u001b[0m\u001b[0m\n\u001b[0m\u001b[1;32m    392\u001b[0m \u001b[0;34m\u001b[0m\u001b[0m\n\u001b[1;32m    393\u001b[0m     \u001b[0;32mdef\u001b[0m \u001b[0m__repr__\u001b[0m\u001b[0;34m(\u001b[0m\u001b[0mself\u001b[0m\u001b[0;34m)\u001b[0m\u001b[0;34m:\u001b[0m\u001b[0;34m\u001b[0m\u001b[0;34m\u001b[0m\u001b[0m\n",
      "\u001b[0;32m/private/var/tmp/sage-9.6-current/local/var/lib/sage/venv-python3.10.3/lib/python3.10/site-packages/sage/geometry/cone.py\u001b[0m in \u001b[0;36mCone\u001b[0;34m(rays, lattice, check, normalize)\u001b[0m\n\u001b[1;32m    461\u001b[0m             \u001b[0mlattice\u001b[0m \u001b[0;34m=\u001b[0m \u001b[0mrays\u001b[0m\u001b[0;34m[\u001b[0m\u001b[0;36m0\u001b[0m\u001b[0;34m]\u001b[0m\u001b[0;34m.\u001b[0m\u001b[0mparent\u001b[0m\u001b[0;34m(\u001b[0m\u001b[0;34m)\u001b[0m\u001b[0;34m\u001b[0m\u001b[0;34m\u001b[0m\u001b[0m\n\u001b[1;32m    462\u001b[0m         \u001b[0;32melse\u001b[0m\u001b[0;34m:\u001b[0m\u001b[0;34m\u001b[0m\u001b[0;34m\u001b[0m\u001b[0m\n\u001b[0;32m--> 463\u001b[0;31m             raise ValueError(\n\u001b[0m\u001b[1;32m    464\u001b[0m                 \"lattice must be given explicitly if there are no rays!\")\n\u001b[1;32m    465\u001b[0m     \u001b[0;32mif\u001b[0m \u001b[0;32mnot\u001b[0m \u001b[0mcheck\u001b[0m \u001b[0;32mor\u001b[0m \u001b[0;32mnot\u001b[0m \u001b[0mrays\u001b[0m\u001b[0;34m:\u001b[0m\u001b[0;34m\u001b[0m\u001b[0;34m\u001b[0m\u001b[0m\n",
      "\u001b[0;31mValueError\u001b[0m: lattice must be given explicitly if there are no rays!"
     ]
    }
   ],
   "source": [
    "cone = get_fibered_cone(sig)\n",
    "cone.Hilbert_basis()"
   ]
  },
  {
   "cell_type": "code",
   "execution_count": null,
   "id": "949f9d9d",
   "metadata": {},
   "outputs": [],
   "source": []
  }
 ],
 "metadata": {
  "kernelspec": {
   "display_name": "SageMath 9.6",
   "language": "sage",
   "name": "sagemath-9.6"
  },
  "language_info": {
   "codemirror_mode": {
    "name": "ipython",
    "version": 3
   },
   "file_extension": ".py",
   "mimetype": "text/x-python",
   "name": "python",
   "nbconvert_exporter": "python",
   "pygments_lexer": "ipython3",
   "version": "3.10.3"
  }
 },
 "nbformat": 4,
 "nbformat_minor": 5
}
