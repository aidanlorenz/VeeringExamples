{
 "cells": [
  {
   "cell_type": "code",
   "execution_count": 1,
   "id": "4c6df62f",
   "metadata": {},
   "outputs": [
    {
     "name": "stdout",
     "output_type": "stream",
     "text": [
      "1\n"
     ]
    }
   ],
   "source": [
    "load('VeeringGeneralFunctions.sage')\n",
    "sig = 'eLMkbcdddhxqdu_1200'\n",
    "print(get_genus(sig,(1,)))"
   ]
  },
  {
   "cell_type": "code",
   "execution_count": 2,
   "id": "2ab2bcb0",
   "metadata": {},
   "outputs": [
    {
     "name": "stdout",
     "output_type": "stream",
     "text": [
      "6.85410196624969\n"
     ]
    }
   ],
   "source": [
    "print(get_dila_mathematica(sig, (1,)))"
   ]
  },
  {
   "cell_type": "code",
   "execution_count": null,
   "id": "c2e4bb88",
   "metadata": {},
   "outputs": [],
   "source": []
  }
 ],
 "metadata": {
  "kernelspec": {
   "display_name": "SageMath 9.6",
   "language": "sage",
   "name": "sagemath-9.6"
  },
  "language_info": {
   "codemirror_mode": {
    "name": "ipython",
    "version": 3
   },
   "file_extension": ".py",
   "mimetype": "text/x-python",
   "name": "python",
   "nbconvert_exporter": "python",
   "pygments_lexer": "ipython3",
   "version": "3.10.3"
  }
 },
 "nbformat": 4,
 "nbformat_minor": 5
}
