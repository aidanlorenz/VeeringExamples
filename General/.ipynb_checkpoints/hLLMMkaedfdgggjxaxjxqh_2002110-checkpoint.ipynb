{
 "cells": [
  {
   "cell_type": "code",
   "execution_count": 1,
   "id": "254ff468",
   "metadata": {},
   "outputs": [],
   "source": [
    "load('VeeringGeneralFunctions.sage')"
   ]
  },
  {
   "cell_type": "code",
   "execution_count": 2,
   "id": "376bfd66",
   "metadata": {},
   "outputs": [],
   "source": [
    "sig = 'hLLMMkaedfdgggjxaxjxqh_2002110'"
   ]
  },
  {
   "cell_type": "code",
   "execution_count": 3,
   "id": "b5da3875",
   "metadata": {},
   "outputs": [
    {
     "data": {
      "text/plain": [
       "[(-6*a1, a1)]"
      ]
     },
     "execution_count": 3,
     "metadata": {},
     "output_type": "execute_result"
    }
   ],
   "source": [
    "get_LES_boundary_maps(sig)"
   ]
  },
  {
   "cell_type": "code",
   "execution_count": null,
   "id": "e293dce2",
   "metadata": {},
   "outputs": [],
   "source": []
  }
 ],
 "metadata": {
  "kernelspec": {
   "display_name": "SageMath 9.6",
   "language": "sage",
   "name": "sagemath-9.6"
  },
  "language_info": {
   "codemirror_mode": {
    "name": "ipython",
    "version": 3
   },
   "file_extension": ".py",
   "mimetype": "text/x-python",
   "name": "python",
   "nbconvert_exporter": "python",
   "pygments_lexer": "ipython3",
   "version": "3.10.3"
  }
 },
 "nbformat": 4,
 "nbformat_minor": 5
}
