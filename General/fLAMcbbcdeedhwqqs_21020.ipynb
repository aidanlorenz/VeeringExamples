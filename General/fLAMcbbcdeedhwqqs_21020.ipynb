{
 "cells": [
  {
   "cell_type": "code",
   "execution_count": 1,
   "id": "ff6e6bad",
   "metadata": {},
   "outputs": [
    {
     "name": "stdout",
     "output_type": "stream",
     "text": [
      "Dimension of homology: 1\n",
      "Layered? False\n",
      "This is an example where the fibered cone is not built into the Veering taut_polytope file (not sure why). Be carefule to make sure your point is in the interior of the fibered cone.\n",
      "This is an example where the fibered cone is not built into the Veering taut_polytope file (not sure why). Be carefule to make sure your point is in the interior of the fibered cone.\n",
      "Genus of only primitive class: 9\n",
      "This is an example where the fibered cone is not built into the Veering taut_polytope file (not sure why). Be carefule to make sure your point is in the interior of the fibered cone.\n",
      "Dilatation of only primitive class: 1.13484859624596\n"
     ]
    }
   ],
   "source": [
    "load('VeeringGeneralFunctions.sage')\n",
    "from veering import taut_polytope\n",
    "sig = 'fLAMcbbcdeedhwqqs_21020'\n",
    "tri, angle = taut.isosig_to_tri_angle(sig)\n",
    "print('Dimension of homology: ' + str(tri.homology().rank()))\n",
    "print('Layered? ' + str(taut_polytope.is_layered(sig)))\n",
    "print('Genus of only primitive class: ' + str(get_genus(sig,(-1,))))\n",
    "print('Dilatation of only primitive class: ' + str(get_dila_mathematica(sig, (-1,))))"
   ]
  }
 ],
 "metadata": {
  "kernelspec": {
   "display_name": "SageMath 9.6",
   "language": "sage",
   "name": "sagemath-9.6"
  },
  "language_info": {
   "codemirror_mode": {
    "name": "ipython",
    "version": 3
   },
   "file_extension": ".py",
   "mimetype": "text/x-python",
   "name": "python",
   "nbconvert_exporter": "python",
   "pygments_lexer": "ipython3",
   "version": "3.10.3"
  }
 },
 "nbformat": 4,
 "nbformat_minor": 5
}
