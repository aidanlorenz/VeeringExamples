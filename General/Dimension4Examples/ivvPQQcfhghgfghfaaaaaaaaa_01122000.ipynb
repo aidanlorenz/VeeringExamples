{
 "cells": [
  {
   "cell_type": "code",
   "execution_count": 2,
   "id": "2c2b7df8",
   "metadata": {},
   "outputs": [],
   "source": [
    "load('VeeringGeneralFunctions.sage')"
   ]
  },
  {
   "cell_type": "code",
   "execution_count": 3,
   "id": "6880fc8b",
   "metadata": {},
   "outputs": [],
   "source": [
    "sig = 'ivvPQQcfhghgfghfaaaaaaaaa_01122000'"
   ]
  },
  {
   "cell_type": "code",
   "execution_count": 4,
   "id": "b176aa21",
   "metadata": {},
   "outputs": [
    {
     "data": {
      "text/plain": [
       "N(0,  0,  0, 1),\n",
       "N(0,  0,  1, 0),\n",
       "N(0,  1, -1, 1),\n",
       "N(0,  1,  0, 0),\n",
       "N(1, -1,  0, 1),\n",
       "N(1, -1,  1, 0),\n",
       "N(1,  0, -1, 1),\n",
       "N(1,  0,  0, 0)\n",
       "in 4-d lattice N"
      ]
     },
     "execution_count": 4,
     "metadata": {},
     "output_type": "execute_result"
    }
   ],
   "source": [
    "cone = get_fibered_cone(sig)\n",
    "cone.Hilbert_basis()"
   ]
  },
  {
   "cell_type": "code",
   "execution_count": 5,
   "id": "cdebcce3",
   "metadata": {},
   "outputs": [
    {
     "data": {
      "text/plain": [
       "(1.762747174039086, 0, 0, 1.762747174039086)"
      ]
     },
     "execution_count": 5,
     "metadata": {},
     "output_type": "execute_result"
    }
   ],
   "source": [
    "min_dir = get_minimal_direction(sig)\n",
    "min_dir"
   ]
  },
  {
   "cell_type": "code",
   "execution_count": 6,
   "id": "3da4e3e8",
   "metadata": {},
   "outputs": [
    {
     "ename": "AttributeError",
     "evalue": "'str' object has no attribute 'plot3d'",
     "output_type": "error",
     "traceback": [
      "\u001b[0;31m---------------------------------------------------------------------------\u001b[0m",
      "\u001b[0;31mAttributeError\u001b[0m                            Traceback (most recent call last)",
      "\u001b[0;32m/var/folders/d6/3chw8fvj2_lgppc79rk52_6w0000gn/T/ipykernel_58047/3843842312.py\u001b[0m in \u001b[0;36m<module>\u001b[0;34m\u001b[0m\n\u001b[0;32m----> 1\u001b[0;31m \u001b[0mget_fibered_cone_and_levset_plot\u001b[0m\u001b[0;34m(\u001b[0m\u001b[0msig\u001b[0m\u001b[0;34m)\u001b[0m \u001b[0;34m+\u001b[0m \u001b[0marrow\u001b[0m\u001b[0;34m(\u001b[0m\u001b[0;34m(\u001b[0m\u001b[0mInteger\u001b[0m\u001b[0;34m(\u001b[0m\u001b[0;36m0\u001b[0m\u001b[0;34m)\u001b[0m\u001b[0;34m,\u001b[0m \u001b[0mInteger\u001b[0m\u001b[0;34m(\u001b[0m\u001b[0;36m0\u001b[0m\u001b[0;34m)\u001b[0m\u001b[0;34m,\u001b[0m \u001b[0mInteger\u001b[0m\u001b[0;34m(\u001b[0m\u001b[0;36m0\u001b[0m\u001b[0;34m)\u001b[0m\u001b[0;34m)\u001b[0m\u001b[0;34m,\u001b[0m \u001b[0;34m(\u001b[0m\u001b[0mmin_dir\u001b[0m\u001b[0;34m[\u001b[0m\u001b[0mInteger\u001b[0m\u001b[0;34m(\u001b[0m\u001b[0;36m0\u001b[0m\u001b[0;34m)\u001b[0m\u001b[0;34m]\u001b[0m\u001b[0;34m*\u001b[0m\u001b[0mInteger\u001b[0m\u001b[0;34m(\u001b[0m\u001b[0;36m5\u001b[0m\u001b[0;34m)\u001b[0m\u001b[0;34m,\u001b[0m \u001b[0mmin_dir\u001b[0m\u001b[0;34m[\u001b[0m\u001b[0mInteger\u001b[0m\u001b[0;34m(\u001b[0m\u001b[0;36m1\u001b[0m\u001b[0;34m)\u001b[0m\u001b[0;34m]\u001b[0m\u001b[0;34m*\u001b[0m\u001b[0mInteger\u001b[0m\u001b[0;34m(\u001b[0m\u001b[0;36m5\u001b[0m\u001b[0;34m)\u001b[0m\u001b[0;34m,\u001b[0m \u001b[0mmin_dir\u001b[0m\u001b[0;34m[\u001b[0m\u001b[0mInteger\u001b[0m\u001b[0;34m(\u001b[0m\u001b[0;36m2\u001b[0m\u001b[0;34m)\u001b[0m\u001b[0;34m]\u001b[0m\u001b[0;34m*\u001b[0m\u001b[0mInteger\u001b[0m\u001b[0;34m(\u001b[0m\u001b[0;36m5\u001b[0m\u001b[0;34m)\u001b[0m\u001b[0;34m)\u001b[0m\u001b[0;34m,\u001b[0m \u001b[0mcolor\u001b[0m\u001b[0;34m=\u001b[0m\u001b[0;34m'cyan'\u001b[0m\u001b[0;34m,\u001b[0m \u001b[0mwidth\u001b[0m \u001b[0;34m=\u001b[0m \u001b[0mInteger\u001b[0m\u001b[0;34m(\u001b[0m\u001b[0;36m8\u001b[0m\u001b[0;34m)\u001b[0m\u001b[0;34m)\u001b[0m\u001b[0;34m\u001b[0m\u001b[0;34m\u001b[0m\u001b[0m\n\u001b[0m",
      "\u001b[0;32m/private/var/tmp/sage-9.6-current/local/var/lib/sage/venv-python3.10.3/lib/python3.10/site-packages/sage/plot/plot3d/base.pyx\u001b[0m in \u001b[0;36msage.plot.plot3d.base.Graphics3d.__add__ (build/cythonized/sage/plot/plot3d/base.c:13504)\u001b[0;34m()\u001b[0m\n\u001b[1;32m    630\u001b[0m             \u001b[0;32mreturn\u001b[0m \u001b[0mright\u001b[0m\u001b[0;34m\u001b[0m\u001b[0;34m\u001b[0m\u001b[0m\n\u001b[1;32m    631\u001b[0m         \u001b[0;32melif\u001b[0m \u001b[0;32mnot\u001b[0m \u001b[0misinstance\u001b[0m\u001b[0;34m(\u001b[0m\u001b[0mleft\u001b[0m\u001b[0;34m,\u001b[0m \u001b[0mGraphics3d\u001b[0m\u001b[0;34m)\u001b[0m\u001b[0;34m:\u001b[0m\u001b[0;34m\u001b[0m\u001b[0;34m\u001b[0m\u001b[0m\n\u001b[0;32m--> 632\u001b[0;31m             \u001b[0mleft\u001b[0m \u001b[0;34m=\u001b[0m \u001b[0mleft\u001b[0m\u001b[0;34m.\u001b[0m\u001b[0mplot3d\u001b[0m\u001b[0;34m(\u001b[0m\u001b[0;34m)\u001b[0m\u001b[0;34m\u001b[0m\u001b[0;34m\u001b[0m\u001b[0m\n\u001b[0m\u001b[1;32m    633\u001b[0m         \u001b[0;32melif\u001b[0m \u001b[0;32mnot\u001b[0m \u001b[0misinstance\u001b[0m\u001b[0;34m(\u001b[0m\u001b[0mright\u001b[0m\u001b[0;34m,\u001b[0m \u001b[0mGraphics3d\u001b[0m\u001b[0;34m)\u001b[0m\u001b[0;34m:\u001b[0m\u001b[0;34m\u001b[0m\u001b[0;34m\u001b[0m\u001b[0m\n\u001b[1;32m    634\u001b[0m             \u001b[0mright\u001b[0m \u001b[0;34m=\u001b[0m \u001b[0mright\u001b[0m\u001b[0;34m.\u001b[0m\u001b[0mplot3d\u001b[0m\u001b[0;34m(\u001b[0m\u001b[0;34m)\u001b[0m\u001b[0;34m\u001b[0m\u001b[0;34m\u001b[0m\u001b[0m\n",
      "\u001b[0;31mAttributeError\u001b[0m: 'str' object has no attribute 'plot3d'"
     ]
    }
   ],
   "source": [
    "get_fibered_cone_and_levset_plot(sig) + arrow((0, 0, 0), (min_dir[0]*5, min_dir[1]*5, min_dir[2]*5), color='cyan', width = 8)"
   ]
  },
  {
   "cell_type": "code",
   "execution_count": 7,
   "id": "8b4c1613",
   "metadata": {},
   "outputs": [
    {
     "data": {
      "text/plain": [
       "3.5254943480781726"
      ]
     },
     "execution_count": 7,
     "metadata": {},
     "output_type": "execute_result"
    }
   ],
   "source": [
    "minimum = get_min_norm_dila_log_mathematica_approx(sig)\n",
    "minimum"
   ]
  },
  {
   "cell_type": "code",
   "execution_count": 8,
   "id": "ffa8b878",
   "metadata": {},
   "outputs": [
    {
     "data": {
      "text/plain": [
       "a0 + a1 + a2 + a3"
      ]
     },
     "execution_count": 8,
     "metadata": {},
     "output_type": "execute_result"
    }
   ],
   "source": [
    "get_Thurston_norm(sig)"
   ]
  },
  {
   "cell_type": "code",
   "execution_count": 9,
   "id": "610b738e",
   "metadata": {},
   "outputs": [
    {
     "data": {
      "text/plain": [
       "[(a0 - a2 - a3, -a0 - a1 - a2),\n",
       " (a3, -a1),\n",
       " (-a2, -a0),\n",
       " (a1 + a2 + a3, -a0 - a1 + a3)]"
      ]
     },
     "execution_count": 9,
     "metadata": {},
     "output_type": "execute_result"
    }
   ],
   "source": [
    "get_LES_boundary_maps(sig)"
   ]
  },
  {
   "cell_type": "code",
   "execution_count": 12,
   "id": "166c625b",
   "metadata": {},
   "outputs": [
    {
     "data": {
      "text/plain": [
       "(a == 0 && ((b == 0 && c >= 0 && d >= 0) || \n",
       "   (b > 0 && ((Inequality[-b, LessEqual, c, Less, 0] && d >= -c) || \n",
       "     (c >= 0 && d >= 0))))) || \n",
       " (a > 0 && ((b == -a && ((Inequality[0, LessEqual, c, Less, -a - 2*b] && \n",
       "      d >= a - c) || (c >= -a - 2*b && d >= 0))) || \n",
       "   (Inequality[-a, Less, b, LessEqual, 0] && \n",
       "    ((Inequality[-a - b, LessEqual, c, Less, -b] && d >= -b - c) || \n",
       "     (c >= -b && d >= 0))) || (b > 0 && \n",
       "    ((Inequality[-a - b, LessEqual, c, LessEqual, 0] && d >= -c) || \n",
       "     (c > 0 && d >= 0)))))"
      ]
     },
     "execution_count": 12,
     "metadata": {},
     "output_type": "execute_result"
    }
   ],
   "source": [
    "m('cone = ConicHullRegion[{{0,0,0,0}}, {{0,0,0,1},{0,0,1,0},{0,1,-1,1},{0,1,0,0},{1,-1,0,1},{1,-1,1,0},{1,0,-1,1},{1,0,0,0}}]')\n",
    "m('Reduce[{a, b, c, d} \\[Element] cone, {a, b, c, d}]')"
   ]
  },
  {
   "cell_type": "code",
   "execution_count": 13,
   "id": "be1aa4e8",
   "metadata": {},
   "outputs": [
    {
     "data": {
      "text/plain": [
       "((n == 0 && a == 0 && b == 0 && c == 0) || \n",
       "  (n > 0 && ((Inequality[0, LessEqual, a, Less, n] && \n",
       "     ((b == -a && Inequality[0, LessEqual, c, LessEqual, -a - b + n]) || \n",
       "      (Inequality[-a, Less, b, Less, -a + n] && Inequality[-a - b, LessEqual, \n",
       "        c, LessEqual, -a - b + n]) || (b == -a + n && \n",
       "       Inequality[-a - b, LessEqual, c, LessEqual, 0]))) || \n",
       "    (a == n && ((b == -a && Inequality[0, LessEqual, c, LessEqual, \n",
       "        -a - b + n]) || (Inequality[-a, Less, b, Less, 0] && \n",
       "       Inequality[-a - b, LessEqual, c, LessEqual, -a - b + n]) || \n",
       "      (b == 0 && Inequality[-a, LessEqual, c, LessEqual, 0])))))) && \n",
       " d == -a - b - c + n"
      ]
     },
     "execution_count": 13,
     "metadata": {},
     "output_type": "execute_result"
    }
   ],
   "source": [
    "m('Reduce[a+b+c+d == n && {a, b, c, d} \\[Element] cone && n \\[Element] Reals, {a, b, c, d}]')"
   ]
  },
  {
   "cell_type": "code",
   "execution_count": null,
   "id": "86b162d0",
   "metadata": {},
   "outputs": [],
   "source": []
  }
 ],
 "metadata": {
  "kernelspec": {
   "display_name": "SageMath 9.6",
   "language": "sage",
   "name": "sagemath-9.6"
  },
  "language_info": {
   "codemirror_mode": {
    "name": "ipython",
    "version": 3
   },
   "file_extension": ".py",
   "mimetype": "text/x-python",
   "name": "python",
   "nbconvert_exporter": "python",
   "pygments_lexer": "ipython3",
   "version": "3.10.3"
  }
 },
 "nbformat": 4,
 "nbformat_minor": 5
}
