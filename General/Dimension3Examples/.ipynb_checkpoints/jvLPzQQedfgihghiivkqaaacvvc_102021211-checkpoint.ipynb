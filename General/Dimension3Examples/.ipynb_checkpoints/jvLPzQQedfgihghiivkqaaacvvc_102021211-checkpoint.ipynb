{
 "cells": [
  {
   "cell_type": "code",
   "execution_count": 160,
   "id": "f0f9a900",
   "metadata": {},
   "outputs": [],
   "source": [
    "load('../VeeringGeneralFunctions.sage')\n",
    "sig = 'jvLPzQQedfgihghiivkqaaacvvc_102021211'"
   ]
  },
  {
   "cell_type": "markdown",
   "id": "ffc932af",
   "metadata": {},
   "source": [
    "In this notebook, we show that the manifold `jvLPzQQedfgihghiivkqaaacvvc_102021211` has the property that all classes realizing the smallest dilatations of their genus on this manifold live on finitely many slopes."
   ]
  },
  {
   "cell_type": "markdown",
   "id": "562ee91b",
   "metadata": {},
   "source": [
    "We begin by obtaining the Hilbert basis for the fibered cone. Any class in the cone can be written as a non-negative linear combination of the Hilbert basis vectors, and any class which can be written as a strictly positive linear combination of the three Hilbert basis vectors is in the interior of the cone."
   ]
  },
  {
   "cell_type": "code",
   "execution_count": 7,
   "id": "14335ac5",
   "metadata": {},
   "outputs": [
    {
     "data": {
      "text/plain": [
       "N(-1, 0, 1),\n",
       "N( 1, 0, 0),\n",
       "N( 0, 1, 0)\n",
       "in 3-d lattice N"
      ]
     },
     "execution_count": 7,
     "metadata": {},
     "output_type": "execute_result"
    }
   ],
   "source": [
    "cone = get_fibered_cone(sig)\n",
    "cone.Hilbert_basis()"
   ]
  },
  {
   "cell_type": "code",
   "execution_count": 8,
   "id": "77ba3b28",
   "metadata": {},
   "outputs": [
    {
     "data": {
      "text/html": [
       "\n",
       "<iframe srcdoc=\"<!DOCTYPE html>\n",
       "<html>\n",
       "<head>\n",
       "<title></title>\n",
       "<meta charset=&quot;utf-8&quot;>\n",
       "<meta name=viewport content=&quot;width=device-width, user-scalable=no, minimum-scale=1.0, maximum-scale=1.0&quot;>\n",
       "<style>\n",
       "\n",
       "    body { margin: 0px; overflow: hidden; }\n",
       "\n",
       "    #menu-container { position: absolute; bottom: 30px; right: 40px; cursor: default; }\n",
       "\n",
       "    #menu-message { position: absolute; bottom: 0px; right: 0px; white-space: nowrap;\n",
       "                    display: none; background-color: #F5F5F5; padding: 10px; }\n",
       "\n",
       "    #menu-content { position: absolute; bottom: 0px; right: 0px;\n",
       "                    display: none; background-color: #F5F5F5; border-bottom: 1px solid black;\n",
       "                    border-right: 1px solid black; border-left: 1px solid black; }\n",
       "\n",
       "    #menu-content div { border-top: 1px solid black; padding: 10px; white-space: nowrap; }\n",
       "\n",
       "    #menu-content div:hover { background-color: #FEFEFE; }\n",
       "\n",
       "    .dark-theme #menu-container { color: white; }\n",
       "\n",
       "    .dark-theme #menu-message { background-color: #181818; }\n",
       "\n",
       "    .dark-theme #menu-content { background-color: #181818; border-color: white; }\n",
       "\n",
       "    .dark-theme #menu-content div { border-color: white; }\n",
       "\n",
       "    .dark-theme #menu-content div:hover { background-color: #303030; }\n",
       "\n",
       "</style>\n",
       "\n",
       "</head>\n",
       "\n",
       "<body>\n",
       "\n",
       "<script src=&quot;/nbextensions/threejs-sage/r122/three.min.js&quot;></script>\n",
       "<script>\n",
       "  if ( !window.THREE ) document.write(' \\\n",
       "<script src=&quot;https://cdn.jsdelivr.net/gh/sagemath/threejs-sage@r122/build/three.min.js&quot;><\\/script> \\\n",
       "            ');\n",
       "</script>\n",
       "        <script>// fat_lines.js\n",
       "\n",
       "var _fatLines = [];\n",
       "\n",
       "function _createFatLine( lineStrip, geometry, materialOptions ) {\n",
       "\n",
       "    var vertexCount = geometry.vertices.length;\n",
       "    var positions = [];\n",
       "    for ( var i=0 ; i < vertexCount ; i++ ) {\n",
       "        var v = geometry.vertices[i];\n",
       "        positions.push( v.x, v.y, v.z );\n",
       "        // For a line strip, duplicate all but the first and last vertices.\n",
       "        if ( lineStrip && i > 0 && i < vertexCount - 1 ) {\n",
       "            positions.push( v.x, v.y, v.z );\n",
       "        }\n",
       "    }\n",
       "\n",
       "    geometry = new THREE.LineSegmentsGeometry();\n",
       "    geometry.setPositions( positions );\n",
       "\n",
       "    var material = new THREE.LineMaterial( materialOptions );\n",
       "    material.resolution = new THREE.Vector2( window.innerWidth, window.innerHeight );\n",
       "\n",
       "    var line = new THREE.LineSegments2( geometry, material );\n",
       "    line.computeLineDistances();\n",
       "    line.scale.set( 1, 1, 1 );\n",
       "\n",
       "    _fatLines.push( line );\n",
       "\n",
       "    return line;\n",
       "\n",
       "}\n",
       "\n",
       "function createFatLineStrip( geometry, materialOptions ) {\n",
       "    return _createFatLine( true, geometry, materialOptions );\n",
       "}\n",
       "\n",
       "function createFatLineSegments( geometry, materialOptions ) {\n",
       "    return _createFatLine( false, geometry, materialOptions );\n",
       "}\n",
       "\n",
       "function rescaleFatLines() {\n",
       "    var res = new THREE.Vector2( window.innerWidth, window.innerHeight );\n",
       "    var n = _fatLines.length;\n",
       "    for ( var i=0 ; i < n ; i++ ) {\n",
       "        _fatLines[i].material.resolution = res;\n",
       "    }\n",
       "}\n",
       "</script>\n",
       "<script>\n",
       "\n",
       "    var options = {&quot;animate&quot;: false, &quot;animationControls&quot;: true, &quot;aspectRatio&quot;: [1.0, 1.0, 1.0], &quot;autoScaling&quot;: [false, false, false], &quot;autoPlay&quot;: true, &quot;axes&quot;: false, &quot;axesLabels&quot;: false, &quot;axesLabelsStyle&quot;: null, &quot;decimals&quot;: 2, &quot;delay&quot;: 20, &quot;frame&quot;: false, &quot;loop&quot;: true, &quot;projection&quot;: &quot;perspective&quot;, &quot;theme&quot;: &quot;light&quot;, &quot;viewpoint&quot;: false};\n",
       "    var animate = options.animate;\n",
       "\n",
       "    if ( options.theme === 'dark' )\n",
       "        document.body.className = 'dark-theme';\n",
       "\n",
       "    var scene = new THREE.Scene();\n",
       "\n",
       "    var renderer = new THREE.WebGLRenderer( { antialias: true, preserveDrawingBuffer: true } );\n",
       "    renderer.setPixelRatio( window.devicePixelRatio );\n",
       "    renderer.setSize( window.innerWidth, window.innerHeight );\n",
       "    renderer.setClearColor( options.theme === 'dark' ? 0 : 0xffffff, 1 );\n",
       "    document.body.appendChild( renderer.domElement );\n",
       "\n",
       "    var b = [{&quot;x&quot;:-11.0, &quot;y&quot;:0.0, &quot;z&quot;:0.0}, {&quot;x&quot;:11.0, &quot;y&quot;:11.0, &quot;z&quot;:11.0}]; // bounds\n",
       "\n",
       "    if ( b[0].x === b[1].x ) {\n",
       "        b[0].x -= 1;\n",
       "        b[1].x += 1;\n",
       "    }\n",
       "    if ( b[0].y === b[1].y ) {\n",
       "        b[0].y -= 1;\n",
       "        b[1].y += 1;\n",
       "    }\n",
       "    if ( b[0].z === b[1].z ) {\n",
       "        b[0].z -= 1;\n",
       "        b[1].z += 1;\n",
       "    }\n",
       "\n",
       "    var rxRange = Math.sqrt( Math.pow( b[1].z - b[0].z, 2 )\n",
       "                            + Math.pow( b[1].y - b[0].y, 2 ) );\n",
       "    var ryRange = Math.sqrt( Math.pow( b[1].x - b[0].x, 2 )\n",
       "                            + Math.pow( b[1].z - b[0].z, 2 ) );\n",
       "    var rzRange = Math.sqrt( Math.pow( b[1].x - b[0].x, 2 )\n",
       "                            + Math.pow( b[1].y - b[0].y, 2 ) );\n",
       "    var xRange = b[1].x - b[0].x;\n",
       "    var yRange = b[1].y - b[0].y;\n",
       "    var zRange = b[1].z - b[0].z;\n",
       "\n",
       "    var ar = options.aspectRatio;\n",
       "    var a = [ ar[0], ar[1], ar[2] ]; // aspect multipliers\n",
       "\n",
       "    var autoScaling = options.autoScaling;\n",
       "    var autoAspect = 2.5;\n",
       "    if ( xRange > autoAspect * rxRange && autoScaling[0] ) a[0] = autoAspect * rxRange / xRange;\n",
       "    if ( yRange > autoAspect * ryRange && autoScaling[1] ) a[1] = autoAspect * ryRange / yRange;\n",
       "    if ( zRange > autoAspect * rzRange && autoScaling[2] ) a[2] = autoAspect * rzRange / zRange;\n",
       "\n",
       "    // Distance from (xMid,yMid,zMid) to any corner of the bounding box, after applying aspectRatio\n",
       "    var midToCorner = Math.sqrt( a[0]*a[0]*xRange*xRange + a[1]*a[1]*yRange*yRange + a[2]*a[2]*zRange*zRange ) / 2;\n",
       "\n",
       "    var xMid = ( b[0].x + b[1].x ) / 2;\n",
       "    var yMid = ( b[0].y + b[1].y ) / 2;\n",
       "    var zMid = ( b[0].z + b[1].z ) / 2;\n",
       "\n",
       "    var box = new THREE.Geometry();\n",
       "    box.vertices.push( new THREE.Vector3( a[0]*b[0].x, a[1]*b[0].y, a[2]*b[0].z ) );\n",
       "    box.vertices.push( new THREE.Vector3( a[0]*b[1].x, a[1]*b[1].y, a[2]*b[1].z ) );\n",
       "    var boxMesh = new THREE.Line( box );\n",
       "    var boxColor = options.theme === 'dark' ? 'white' : 'black';\n",
       "    if ( options.frame ) scene.add( new THREE.BoxHelper( boxMesh, boxColor ) );\n",
       "\n",
       "    if ( options.axesLabels ) {\n",
       "\n",
       "        var d = options.decimals; // decimals\n",
       "        var offsetRatio = 0.1;\n",
       "        var al = options.axesLabels;\n",
       "        var als = options.axesLabelsStyle || [{}, {}, {}];\n",
       "\n",
       "        var offset = offsetRatio * a[1]*( b[1].y - b[0].y );\n",
       "        var xm = xMid.toFixed(d);\n",
       "        if ( /^-0.?0*$/.test(xm) ) xm = xm.substr(1);\n",
       "        addLabel( al[0] + '=' + xm, a[0]*xMid, a[1]*b[1].y+offset, a[2]*b[0].z, als[0] );\n",
       "        addLabel( ( b[0].x ).toFixed(d), a[0]*b[0].x, a[1]*b[1].y+offset, a[2]*b[0].z, als[0] );\n",
       "        addLabel( ( b[1].x ).toFixed(d), a[0]*b[1].x, a[1]*b[1].y+offset, a[2]*b[0].z, als[0] );\n",
       "\n",
       "        var offset = offsetRatio * a[0]*( b[1].x - b[0].x );\n",
       "        var ym = yMid.toFixed(d);\n",
       "        if ( /^-0.?0*$/.test(ym) ) ym = ym.substr(1);\n",
       "        addLabel( al[1] + '=' + ym, a[0]*b[1].x+offset, a[1]*yMid, a[2]*b[0].z, als[1] );\n",
       "        addLabel( ( b[0].y ).toFixed(d), a[0]*b[1].x+offset, a[1]*b[0].y, a[2]*b[0].z, als[1] );\n",
       "        addLabel( ( b[1].y ).toFixed(d), a[0]*b[1].x+offset, a[1]*b[1].y, a[2]*b[0].z, als[1] );\n",
       "\n",
       "        var offset = offsetRatio * a[1]*( b[1].y - b[0].y );\n",
       "        var zm = zMid.toFixed(d);\n",
       "        if ( /^-0.?0*$/.test(zm) ) zm = zm.substr(1);\n",
       "        addLabel( al[2] + '=' + zm, a[0]*b[1].x, a[1]*b[0].y-offset, a[2]*zMid, als[2] );\n",
       "        addLabel( ( b[0].z ).toFixed(d), a[0]*b[1].x, a[1]*b[0].y-offset, a[2]*b[0].z, als[2] );\n",
       "        addLabel( ( b[1].z ).toFixed(d), a[0]*b[1].x, a[1]*b[0].y-offset, a[2]*b[1].z, als[2] );\n",
       "\n",
       "    }\n",
       "\n",
       "    function addLabel( text, x, y, z, style ) {\n",
       "\n",
       "        var color = style.color || 'black';\n",
       "        var fontSize = style.fontSize || 14;\n",
       "        var fontFamily = style.fontFamily || 'monospace';\n",
       "        var fontStyle = style.fontStyle || 'normal';\n",
       "        var fontWeight = style.fontWeight || 'normal';\n",
       "        var opacity = style.opacity || 1;\n",
       "\n",
       "        if ( options.theme === 'dark' )\n",
       "            if ( color === 'black' || color === '#000000' )\n",
       "                color = 'white';\n",
       "\n",
       "        if ( Array.isArray( fontStyle ) ) {\n",
       "            fontFamily = fontFamily.map( function( f ) {\n",
       "                // Need to put quotes around fonts that have whitespace in their names.\n",
       "                return /\\s/.test( f ) ? '&quot;' + f + '&quot;' : f;\n",
       "            }).join(', ');\n",
       "        }\n",
       "\n",
       "        var canvas = document.createElement( 'canvas' );\n",
       "        var context = canvas.getContext( '2d' );\n",
       "        var pixelRatio = Math.round( window.devicePixelRatio );\n",
       "\n",
       "        // For example: italic bold 20px &quot;Times New Roman&quot;, Georgia, serif\n",
       "        var font = [fontStyle, fontWeight, fontSize + 'px', fontFamily].join(' ');\n",
       "\n",
       "        context.font = font;\n",
       "        var width = context.measureText( text ).width;\n",
       "        var height = fontSize;\n",
       "\n",
       "        // The dimensions of the canvas's underlying image data need to be powers\n",
       "        // of two in order for the resulting texture to support mipmapping.\n",
       "        canvas.width = THREE.MathUtils.ceilPowerOfTwo( width * pixelRatio );\n",
       "        canvas.height = THREE.MathUtils.ceilPowerOfTwo( height * pixelRatio );\n",
       "\n",
       "        // Re-compute the unscaled dimensions after the power of two conversion.\n",
       "        width = canvas.width / pixelRatio;\n",
       "        height = canvas.height / pixelRatio;\n",
       "\n",
       "        canvas.style.width = width + 'px';\n",
       "        canvas.style.height = height + 'px';\n",
       "\n",
       "        context.scale( pixelRatio, pixelRatio );\n",
       "        context.fillStyle = color;\n",
       "        context.font = font; // Must be set again after measureText.\n",
       "        context.textAlign = 'center';\n",
       "        context.textBaseline = 'middle';\n",
       "        context.fillText( text, width/2, height/2 );\n",
       "\n",
       "        var texture = new THREE.Texture( canvas );\n",
       "        texture.needsUpdate = true;\n",
       "\n",
       "        var materialOptions = { map: texture, sizeAttenuation: false, depthWrite: false };\n",
       "        if ( opacity < 1 ) {\n",
       "            // Setting opacity=1 would cause the texture's alpha component to be\n",
       "            // discarded, giving the text a black background instead of the\n",
       "            // background being transparent.\n",
       "            materialOptions.opacity = opacity;\n",
       "        }\n",
       "        var sprite = new THREE.Sprite( new THREE.SpriteMaterial( materialOptions ) );\n",
       "        sprite.position.set( x, y, z );\n",
       "\n",
       "        // Scaling factor, chosen somewhat arbitrarily so that the size of the text\n",
       "        // is consistent with previously generated plots.\n",
       "        var scale = 1/625;\n",
       "        if ( options.projection === 'orthographic' ) {\n",
       "            scale = midToCorner/256; // Needs to scale along with the plot itself.\n",
       "        }\n",
       "        sprite.scale.set( scale * width, scale * height, 1 );\n",
       "\n",
       "        scene.add( sprite );\n",
       "\n",
       "        return sprite;\n",
       "\n",
       "    }\n",
       "\n",
       "    if ( options.axes ) scene.add( new THREE.AxesHelper( Math.min( a[0]*b[1].x, a[1]*b[1].y, a[2]*b[1].z ) ) );\n",
       "\n",
       "    var camera = createCamera();\n",
       "    camera.up.set( 0, 0, 1 );\n",
       "    camera.position.set( a[0]*xMid, a[1]*yMid, a[2]*zMid );\n",
       "\n",
       "    // camera is positioned so that the line from the camera to the center\n",
       "    // of the bounding sphere of the objects makes an angle of 60 degrees with x-axis\n",
       "    // and an angle of 30 degrees with z-axis and the field of view of the camera looking\n",
       "    // at the center has an angle of 45 degrees.\n",
       "    const sin8 = Math.sin(Math.PI / 8);\n",
       "    const sin5 = Math.sin(Math.PI / 5);\n",
       "    const cos5 = Math.cos(Math.PI / 5);\n",
       "    const sin3 = Math.sin(Math.PI / 3);\n",
       "    const cos3 = Math.cos(Math.PI / 3);\n",
       "    var r = midToCorner / sin8;\n",
       "    var offset = new THREE.Vector3( r * sin3 * cos5, r * sin3 * sin5, r * cos3 );\n",
       "\n",
       "    if ( options.viewpoint ) {\n",
       "\n",
       "        var aa = options.viewpoint;\n",
       "        var axis = new THREE.Vector3( aa[0][0], aa[0][1], aa[0][2] ).normalize();\n",
       "        var angle = aa[1] * Math.PI / 180;\n",
       "        var q = new THREE.Quaternion().setFromAxisAngle( axis, angle ).inverse();\n",
       "\n",
       "        offset.set( 0, 0, offset.length() );\n",
       "        offset.applyQuaternion( q );\n",
       "\n",
       "    }\n",
       "\n",
       "    camera.position.add( offset );\n",
       "\n",
       "    function createCamera() {\n",
       "\n",
       "        var aspect = window.innerWidth / window.innerHeight;\n",
       "\n",
       "        // Scale the near and far clipping planes along with the overall plot size.\n",
       "        var nearClip = 0.01 * midToCorner;\n",
       "        var farClip = 100 * midToCorner;\n",
       "\n",
       "        if ( options.projection === 'orthographic' ) {\n",
       "            var camera = new THREE.OrthographicCamera( -1, 1, 1, -1, -farClip, farClip );\n",
       "            updateCameraAspect( camera, aspect );\n",
       "            return camera;\n",
       "        }\n",
       "\n",
       "        return new THREE.PerspectiveCamera( 45, aspect, nearClip, farClip );\n",
       "\n",
       "    }\n",
       "\n",
       "    function updateCameraAspect( camera, aspect ) {\n",
       "\n",
       "        if ( camera.isPerspectiveCamera ) {\n",
       "            camera.aspect = aspect;\n",
       "        } else if ( camera.isOrthographicCamera ) {\n",
       "            // Fit the camera frustum to the bounding box's diagonal so that the entire plot fits\n",
       "            // within at the default zoom level and camera position.\n",
       "            if ( aspect > 1 ) { // Wide window\n",
       "                camera.top = midToCorner;\n",
       "                camera.right = midToCorner * aspect;\n",
       "            } else { // Tall or square window\n",
       "                camera.top = midToCorner / aspect;\n",
       "                camera.right = midToCorner;\n",
       "            }\n",
       "            camera.bottom = -camera.top;\n",
       "            camera.left = -camera.right;\n",
       "        }\n",
       "\n",
       "        camera.updateProjectionMatrix();\n",
       "\n",
       "    }\n",
       "\n",
       "    var lights = [{&quot;x&quot;:-5, &quot;y&quot;:3, &quot;z&quot;:0, &quot;color&quot;:&quot;#7f7f7f&quot;, &quot;parent&quot;:&quot;camera&quot;}];\n",
       "    for ( var i=0 ; i < lights.length ; i++ ) {\n",
       "        var light = new THREE.DirectionalLight( lights[i].color, 1 );\n",
       "        light.position.set( a[0]*lights[i].x, a[1]*lights[i].y, a[2]*lights[i].z );\n",
       "        if ( lights[i].parent === 'camera' ) {\n",
       "            light.target.position.set( a[0]*xMid, a[1]*yMid, a[2]*zMid );\n",
       "            scene.add( light.target );\n",
       "            camera.add( light );\n",
       "        } else scene.add( light );\n",
       "    }\n",
       "    scene.add( camera );\n",
       "\n",
       "    var ambient = {&quot;color&quot;:&quot;#7f7f7f&quot;};\n",
       "    scene.add( new THREE.AmbientLight( ambient.color, 1 ) );\n",
       "\n",
       "    var controls = new THREE.OrbitControls( camera, renderer.domElement );\n",
       "    controls.target.set( a[0]*xMid, a[1]*yMid, a[2]*zMid );\n",
       "    controls.addEventListener( 'change', function() { if ( !animate ) render(); } );\n",
       "\n",
       "    window.addEventListener( 'resize', function() {\n",
       "\n",
       "        renderer.setSize( window.innerWidth, window.innerHeight );\n",
       "        updateCameraAspect( camera, window.innerWidth / window.innerHeight );\n",
       "        if ( window.rescaleFatLines ) rescaleFatLines();\n",
       "        if ( !animate ) render();\n",
       "\n",
       "    } );\n",
       "\n",
       "    var texts = [{&quot;color&quot;: &quot;#000000&quot;, &quot;fontSize&quot;: 14.0, &quot;fontFamily&quot;: [&quot;monospace&quot;], &quot;fontStyle&quot;: &quot;normal&quot;, &quot;fontWeight&quot;: &quot;normal&quot;, &quot;opacity&quot;: 1.0, &quot;text&quot;: &quot;u_0&quot;, &quot;x&quot;: -11.0, &quot;y&quot;: 0.0, &quot;z&quot;: 11.0}, {&quot;color&quot;: &quot;#000000&quot;, &quot;fontSize&quot;: 14.0, &quot;fontFamily&quot;: [&quot;monospace&quot;], &quot;fontStyle&quot;: &quot;normal&quot;, &quot;fontWeight&quot;: &quot;normal&quot;, &quot;opacity&quot;: 1.0, &quot;text&quot;: &quot;u_1&quot;, &quot;x&quot;: 11.0, &quot;y&quot;: 0.0, &quot;z&quot;: 0.0}, {&quot;color&quot;: &quot;#000000&quot;, &quot;fontSize&quot;: 14.0, &quot;fontFamily&quot;: [&quot;monospace&quot;], &quot;fontStyle&quot;: &quot;normal&quot;, &quot;fontWeight&quot;: &quot;normal&quot;, &quot;opacity&quot;: 1.0, &quot;text&quot;: &quot;u_2&quot;, &quot;x&quot;: 0.0, &quot;y&quot;: 11.0, &quot;z&quot;: 0.0}, {&quot;color&quot;: &quot;#000000&quot;, &quot;fontSize&quot;: 14.0, &quot;fontFamily&quot;: [&quot;monospace&quot;], &quot;fontStyle&quot;: &quot;normal&quot;, &quot;fontWeight&quot;: &quot;normal&quot;, &quot;opacity&quot;: 1.0, &quot;text&quot;: &quot;\\\\sigma_0&quot;, &quot;x&quot;: -3.333333333333333, &quot;y&quot;: 3.333333333333333, &quot;z&quot;: 3.333333333333333}, {&quot;color&quot;: &quot;#000000&quot;, &quot;fontSize&quot;: 14.0, &quot;fontFamily&quot;: [&quot;monospace&quot;], &quot;fontStyle&quot;: &quot;normal&quot;, &quot;fontWeight&quot;: &quot;normal&quot;, &quot;opacity&quot;: 1.0, &quot;text&quot;: &quot;\\\\sigma_1&quot;, &quot;x&quot;: 0.0, &quot;y&quot;: 0.0, &quot;z&quot;: 3.333333333333333}, {&quot;color&quot;: &quot;#000000&quot;, &quot;fontSize&quot;: 14.0, &quot;fontFamily&quot;: [&quot;monospace&quot;], &quot;fontStyle&quot;: &quot;normal&quot;, &quot;fontWeight&quot;: &quot;normal&quot;, &quot;opacity&quot;: 1.0, &quot;text&quot;: &quot;\\\\sigma_2&quot;, &quot;x&quot;: 3.333333333333333, &quot;y&quot;: 3.333333333333333, &quot;z&quot;: 0.0}];\n",
       "    for ( var i=0 ; i < texts.length ; i++ ) addText( texts[i] );\n",
       "\n",
       "    function addText( json ) {\n",
       "        var sprite = addLabel( json.text, a[0]*json.x, a[1]*json.y, a[2]*json.z, json );\n",
       "        sprite.userData = json;\n",
       "    }\n",
       "\n",
       "    var points = [{&quot;point&quot;: [0.0, 0.0, 0.0], &quot;size&quot;: 10.0, &quot;color&quot;: &quot;#000000&quot;, &quot;opacity&quot;: 1.0}];\n",
       "    for ( var i=0 ; i < points.length ; i++ ) addPoint( points[i] );\n",
       "\n",
       "    function addPoint( json ) {\n",
       "\n",
       "        var geometry = new THREE.Geometry();\n",
       "        var v = json.point;\n",
       "        geometry.vertices.push( new THREE.Vector3( a[0]*v[0], a[1]*v[1], a[2]*v[2] ) );\n",
       "\n",
       "        var canvas = document.createElement( 'canvas' );\n",
       "        canvas.width = 128;\n",
       "        canvas.height = 128;\n",
       "\n",
       "        var context = canvas.getContext( '2d' );\n",
       "        context.arc( 64, 64, 64, 0, 2 * Math.PI );\n",
       "        context.fillStyle = json.color;\n",
       "        context.fill();\n",
       "\n",
       "        var texture = new THREE.Texture( canvas );\n",
       "        texture.needsUpdate = true;\n",
       "\n",
       "        var transparent = json.opacity < 1 ? true : false;\n",
       "        var size = camera.isOrthographicCamera ? json.size : json.size/100;\n",
       "        var material = new THREE.PointsMaterial( { size: size, map: texture,\n",
       "                                                   transparent: transparent, opacity: json.opacity,\n",
       "                                                   alphaTest: .1 } );\n",
       "\n",
       "        var c = new THREE.Vector3();\n",
       "        geometry.computeBoundingBox();\n",
       "        geometry.boundingBox.getCenter( c );\n",
       "        geometry.translate( -c.x, -c.y, -c.z );\n",
       "\n",
       "        var mesh = new THREE.Points( geometry, material );\n",
       "        mesh.position.set( c.x, c.y, c.z );\n",
       "        mesh.userData = json;\n",
       "        scene.add( mesh );\n",
       "\n",
       "    }\n",
       "\n",
       "    var lines = [{&quot;points&quot;: [[0.0, 0.0, 0.0], [-10.0, 0.0, 10.0]], &quot;color&quot;: &quot;#800080&quot;, &quot;opacity&quot;: 1.0, &quot;linewidth&quot;: 2.0}, {&quot;points&quot;: [[0.0, 0.0, 0.0], [10.0, 0.0, 0.0]], &quot;color&quot;: &quot;#800080&quot;, &quot;opacity&quot;: 1.0, &quot;linewidth&quot;: 2.0}, {&quot;points&quot;: [[0.0, 0.0, 0.0], [0.0, 10.0, 0.0]], &quot;color&quot;: &quot;#800080&quot;, &quot;opacity&quot;: 1.0, &quot;linewidth&quot;: 2.0}];\n",
       "    for ( var i=0 ; i < lines.length ; i++ ) addLine( lines[i] );\n",
       "\n",
       "    function addLine( json ) {\n",
       "\n",
       "        var geometry = new THREE.Geometry();\n",
       "        for ( var i=0 ; i < json.points.length ; i++ ) {\n",
       "            var v = json.points[i];\n",
       "            geometry.vertices.push( new THREE.Vector3( a[0]*v[0], a[1]*v[1], a[2]*v[2] ) );\n",
       "        }\n",
       "\n",
       "        var c = new THREE.Vector3();\n",
       "        geometry.computeBoundingBox();\n",
       "        geometry.boundingBox.getCenter( c );\n",
       "        geometry.translate( -c.x, -c.y, -c.z );\n",
       "\n",
       "        var transparent = json.opacity < 1 ? true : false;\n",
       "        var materialOptions = { color: json.color, linewidth: json.linewidth,\n",
       "                                transparent: transparent, opacity: json.opacity };\n",
       "\n",
       "        var mesh;\n",
       "        if ( json.linewidth > 1 && window.createFatLineStrip ) {\n",
       "            mesh = createFatLineStrip( geometry, materialOptions );\n",
       "        } else {\n",
       "            var material = new THREE.LineBasicMaterial( materialOptions );\n",
       "            mesh = new THREE.Line( geometry, material );\n",
       "        }\n",
       "\n",
       "        mesh.position.set( c.x, c.y, c.z );\n",
       "        mesh.userData = json;\n",
       "        scene.add( mesh );\n",
       "\n",
       "    }\n",
       "\n",
       "    var surfaces = [{&quot;vertices&quot;: [{&quot;x&quot;: -0.8727207793864216, &quot;y&quot;: 0.0, &quot;z&quot;: 0.8727207793864215}, {&quot;x&quot;: -0.8592708091471424, &quot;y&quot;: 0.006180339887498949, &quot;z&quot;: 0.8861707496257006}, {&quot;x&quot;: -0.8727207793864216, &quot;y&quot;: 0.02, &quot;z&quot;: 0.8727207793864215}, {&quot;x&quot;: -0.8644082406308725, &quot;y&quot;: -0.016180339887498948, &quot;z&quot;: 0.8810333181419705}, {&quot;x&quot;: -0.8810333181419706, &quot;y&quot;: -0.016180339887498948, &quot;z&quot;: 0.8644082406308724}, {&quot;x&quot;: -0.8861707496257007, &quot;y&quot;: 0.006180339887498945, &quot;z&quot;: 0.8592708091471423}, {&quot;x&quot;: 0.013449970239279145, &quot;y&quot;: 0.006180339887498949, &quot;z&quot;: 0.013449970239279149}, {&quot;x&quot;: 0.0, &quot;y&quot;: 0.02, &quot;z&quot;: 0.0}, {&quot;x&quot;: 0.008312538755549069, &quot;y&quot;: -0.016180339887498948, &quot;z&quot;: 0.00831253875554907}, {&quot;x&quot;: -0.008312538755549067, &quot;y&quot;: -0.016180339887498948, &quot;z&quot;: -0.008312538755549069}, {&quot;x&quot;: -0.013449970239279145, &quot;y&quot;: 0.006180339887498945, &quot;z&quot;: -0.013449970239279149}, {&quot;x&quot;: 0.0, &quot;y&quot;: 0.0, &quot;z&quot;: 0.0}], &quot;faces&quot;: [[0, 1, 2], [0, 3, 1], [0, 4, 3], [0, 5, 4], [0, 2, 5], [2, 1, 6, 7], [1, 3, 8, 6], [3, 4, 9, 8], [4, 5, 10, 9], [5, 2, 7, 10], [7, 6, 11], [6, 8, 11], [8, 9, 11], [9, 10, 11], [10, 7, 11]], &quot;color&quot;: &quot;#0000ff&quot;, &quot;opacity&quot;: 1.0}, {&quot;vertices&quot;: [{&quot;x&quot;: -1.0, &quot;y&quot;: 0.0, &quot;z&quot;: 1.0}, {&quot;x&quot;: -0.8323708686685841, &quot;y&quot;: 0.018541019662496848, &quot;z&quot;: 0.9130706901042589}, {&quot;x&quot;: -0.8727207793864216, &quot;y&quot;: 0.06, &quot;z&quot;: 0.8727207793864215}, {&quot;x&quot;: -0.8477831631197743, &quot;y&quot;: -0.04854101966249684, &quot;z&quot;: 0.8976583956530687}, {&quot;x&quot;: -0.8976583956530687, &quot;y&quot;: -0.04854101966249685, &quot;z&quot;: 0.8477831631197743}, {&quot;x&quot;: -0.913070690104259, &quot;y&quot;: 0.018541019662496834, &quot;z&quot;: 0.832370868668584}, {&quot;x&quot;: -0.8727207793864216, &quot;y&quot;: 0.0, &quot;z&quot;: 0.8727207793864215}], &quot;faces&quot;: [[0, 1, 2], [0, 3, 1], [0, 4, 3], [0, 5, 4], [0, 2, 5], [2, 1, 6], [1, 3, 6], [3, 4, 6], [4, 5, 6], [5, 2, 6]], &quot;color&quot;: &quot;#0000ff&quot;, &quot;opacity&quot;: 1.0}, {&quot;vertices&quot;: [{&quot;x&quot;: 0.8200000000000001, &quot;y&quot;: 0.0, &quot;z&quot;: 5.021051876504149e-17}, {&quot;x&quot;: 0.8200000000000001, &quot;y&quot;: 0.006180339887498949, &quot;z&quot;: -0.019021130325903024}, {&quot;x&quot;: 0.8200000000000001, &quot;y&quot;: 0.02, &quot;z&quot;: 5.021051876504149e-17}, {&quot;x&quot;: 0.8200000000000001, &quot;y&quot;: -0.016180339887498948, &quot;z&quot;: -0.011755705045849415}, {&quot;x&quot;: 0.8200000000000001, &quot;y&quot;: -0.016180339887498948, &quot;z&quot;: 0.011755705045849512}, {&quot;x&quot;: 0.8200000000000001, &quot;y&quot;: 0.006180339887498945, &quot;z&quot;: 0.01902113032590312}, {&quot;x&quot;: 1.1647083184890924e-18, &quot;y&quot;: 0.006180339887498949, &quot;z&quot;: -0.019021130325903073}, {&quot;x&quot;: 0.0, &quot;y&quot;: 0.02, &quot;z&quot;: 0.0}, {&quot;x&quot;: 7.198293278059968e-19, &quot;y&quot;: -0.016180339887498948, &quot;z&quot;: -0.011755705045849465}, {&quot;x&quot;: -7.198293278059966e-19, &quot;y&quot;: -0.016180339887498948, &quot;z&quot;: 0.011755705045849461}, {&quot;x&quot;: -1.1647083184890924e-18, &quot;y&quot;: 0.006180339887498945, &quot;z&quot;: 0.019021130325903073}, {&quot;x&quot;: 0.0, &quot;y&quot;: 0.0, &quot;z&quot;: 0.0}], &quot;faces&quot;: [[0, 1, 2], [0, 3, 1], [0, 4, 3], [0, 5, 4], [0, 2, 5], [2, 1, 6, 7], [1, 3, 8, 6], [3, 4, 9, 8], [4, 5, 10, 9], [5, 2, 7, 10], [7, 6, 11], [6, 8, 11], [8, 9, 11], [9, 10, 11], [10, 7, 11]], &quot;color&quot;: &quot;#0000ff&quot;, &quot;opacity&quot;: 1.0}, {&quot;vertices&quot;: [{&quot;x&quot;: 1.0, &quot;y&quot;: 0.0, &quot;z&quot;: 6.123233995736767e-17}, {&quot;x&quot;: 0.8200000000000001, &quot;y&quot;: 0.018541019662496848, &quot;z&quot;: -0.05706339097770916}, {&quot;x&quot;: 0.8200000000000001, &quot;y&quot;: 0.06, &quot;z&quot;: 5.021051876504149e-17}, {&quot;x&quot;: 0.8200000000000001, &quot;y&quot;: -0.04854101966249684, &quot;z&quot;: -0.03526711513754834}, {&quot;x&quot;: 0.8200000000000001, &quot;y&quot;: -0.04854101966249685, &quot;z&quot;: 0.035267115137548426}, {&quot;x&quot;: 0.8200000000000001, &quot;y&quot;: 0.018541019662496834, &quot;z&quot;: 0.057063390977709266}, {&quot;x&quot;: 0.8200000000000001, &quot;y&quot;: 0.0, &quot;z&quot;: 5.021051876504149e-17}], &quot;faces&quot;: [[0, 1, 2], [0, 3, 1], [0, 4, 3], [0, 5, 4], [0, 2, 5], [2, 1, 6], [1, 3, 6], [3, 4, 6], [4, 5, 6], [5, 2, 6]], &quot;color&quot;: &quot;#0000ff&quot;, &quot;opacity&quot;: 1.0}, {&quot;vertices&quot;: [{&quot;x&quot;: 0.0, &quot;y&quot;: 0.8200000000000001, &quot;z&quot;: 5.021051876504149e-17}, {&quot;x&quot;: 0.019021130325903073, &quot;y&quot;: 0.8200000000000001, &quot;z&quot;: -0.006180339887498899}, {&quot;x&quot;: 0.0, &quot;y&quot;: 0.8200000000000001, &quot;z&quot;: -0.019999999999999952}, {&quot;x&quot;: 0.011755705045849465, &quot;y&quot;: 0.8200000000000001, &quot;z&quot;: 0.016180339887498996}, {&quot;x&quot;: -0.011755705045849461, &quot;y&quot;: 0.8200000000000001, &quot;z&quot;: 0.016180339887498996}, {&quot;x&quot;: -0.019021130325903073, &quot;y&quot;: 0.8200000000000001, &quot;z&quot;: -0.006180339887498895}, {&quot;x&quot;: 0.019021130325903073, &quot;y&quot;: 3.7843667304341507e-19, &quot;z&quot;: -0.006180339887498949}, {&quot;x&quot;: 0.0, &quot;y&quot;: 1.2246467991473532e-18, &quot;z&quot;: -0.02}, {&quot;x&quot;: 0.011755705045849465, &quot;y&quot;: -9.907600726170915e-19, &quot;z&quot;: 0.016180339887498948}, {&quot;x&quot;: -0.011755705045849461, &quot;y&quot;: -9.907600726170915e-19, &quot;z&quot;: 0.016180339887498948}, {&quot;x&quot;: -0.019021130325903073, &quot;y&quot;: 3.784366730434148e-19, &quot;z&quot;: -0.006180339887498945}, {&quot;x&quot;: 0.0, &quot;y&quot;: 0.0, &quot;z&quot;: 0.0}], &quot;faces&quot;: [[0, 1, 2], [0, 3, 1], [0, 4, 3], [0, 5, 4], [0, 2, 5], [2, 1, 6, 7], [1, 3, 8, 6], [3, 4, 9, 8], [4, 5, 10, 9], [5, 2, 7, 10], [7, 6, 11], [6, 8, 11], [8, 9, 11], [9, 10, 11], [10, 7, 11]], &quot;color&quot;: &quot;#0000ff&quot;, &quot;opacity&quot;: 1.0}, {&quot;vertices&quot;: [{&quot;x&quot;: 0.0, &quot;y&quot;: 1.0, &quot;z&quot;: 6.123233995736767e-17}, {&quot;x&quot;: 0.05706339097770921, &quot;y&quot;: 0.8200000000000001, &quot;z&quot;: -0.0185410196624968}, {&quot;x&quot;: 0.0, &quot;y&quot;: 0.8200000000000001, &quot;z&quot;: -0.05999999999999995}, {&quot;x&quot;: 0.03526711513754839, &quot;y&quot;: 0.8200000000000001, &quot;z&quot;: 0.04854101966249689}, {&quot;x&quot;: -0.03526711513754838, &quot;y&quot;: 0.8200000000000001, &quot;z&quot;: 0.048541019662496895}, {&quot;x&quot;: -0.05706339097770922, &quot;y&quot;: 0.8200000000000001, &quot;z&quot;: -0.018541019662496785}, {&quot;x&quot;: 0.0, &quot;y&quot;: 0.8200000000000001, &quot;z&quot;: 5.021051876504149e-17}], &quot;faces&quot;: [[0, 1, 2], [0, 3, 1], [0, 4, 3], [0, 5, 4], [0, 2, 5], [2, 1, 6], [1, 3, 6], [3, 4, 6], [4, 5, 6], [5, 2, 6]], &quot;color&quot;: &quot;#0000ff&quot;, &quot;opacity&quot;: 1.0}, {&quot;vertices&quot;: [{&quot;x&quot;: 0.0, &quot;y&quot;: 10.0, &quot;z&quot;: 0.0}, {&quot;x&quot;: 0.0, &quot;y&quot;: 0.0, &quot;z&quot;: 0.0}, {&quot;x&quot;: -10.0, &quot;y&quot;: 0.0, &quot;z&quot;: 10.0}, {&quot;x&quot;: -10.0, &quot;y&quot;: 10.0, &quot;z&quot;: 10.0}], &quot;faces&quot;: [[3, 0, 1, 2]], &quot;color&quot;: &quot;#ff0000&quot;, &quot;opacity&quot;: 0.4}, {&quot;vertices&quot;: [{&quot;x&quot;: 10.0, &quot;y&quot;: 0.0, &quot;z&quot;: 0.0}, {&quot;x&quot;: 0.0, &quot;y&quot;: 0.0, &quot;z&quot;: 0.0}, {&quot;x&quot;: -10.0, &quot;y&quot;: 0.0, &quot;z&quot;: 10.0}, {&quot;x&quot;: 10.0, &quot;y&quot;: 0.0, &quot;z&quot;: 10.0}], &quot;faces&quot;: [[2, 1, 0, 3]], &quot;color&quot;: &quot;#00ff00&quot;, &quot;opacity&quot;: 0.4}, {&quot;vertices&quot;: [{&quot;x&quot;: 10.0, &quot;y&quot;: 0.0, &quot;z&quot;: 0.0}, {&quot;x&quot;: 0.0, &quot;y&quot;: 0.0, &quot;z&quot;: 0.0}, {&quot;x&quot;: 0.0, &quot;y&quot;: 10.0, &quot;z&quot;: 0.0}, {&quot;x&quot;: 10.0, &quot;y&quot;: 10.0, &quot;z&quot;: 0.0}], &quot;faces&quot;: [[3, 0, 1, 2]], &quot;color&quot;: &quot;#0000ff&quot;, &quot;opacity&quot;: 0.4}];\n",
       "    for ( var i=0 ; i < surfaces.length ; i++ ) addSurface( surfaces[i] );\n",
       "\n",
       "    function addSurface( json ) {\n",
       "\n",
       "        var useFaceColors = 'faceColors' in json ? true : false;\n",
       "\n",
       "        var geometry = new THREE.Geometry();\n",
       "        for ( var i=0 ; i < json.vertices.length ; i++ ) {\n",
       "            var v = json.vertices[i];\n",
       "            geometry.vertices.push( new THREE.Vector3( a[0]*v.x, a[1]*v.y, a[2]*v.z ) );\n",
       "        }\n",
       "        for ( var i=0 ; i < json.faces.length ; i++ ) {\n",
       "            var f = json.faces[i];\n",
       "            for ( var j=0 ; j < f.length - 2 ; j++ ) {\n",
       "                var face = new THREE.Face3( f[0], f[j+1], f[j+2] );\n",
       "                if ( useFaceColors ) face.color.set( json.faceColors[i] );\n",
       "                geometry.faces.push( face );\n",
       "            }\n",
       "        }\n",
       "        geometry.computeVertexNormals();\n",
       "\n",
       "        var side = json.singleSide ? THREE.FrontSide : THREE.DoubleSide;\n",
       "        var transparent = json.opacity < 1 ? true : false;\n",
       "        var depthWrite = 'depthWrite' in json ? json.depthWrite : !transparent;\n",
       "        var flatShading = json.useFlatShading ? json.useFlatShading : false;\n",
       "\n",
       "        var material = new THREE.MeshPhongMaterial( { side: side,\n",
       "                                     color: useFaceColors ? 'white' : json.color,\n",
       "                                     vertexColors: useFaceColors ? THREE.FaceColors : THREE.NoColors,\n",
       "                                     transparent: transparent, opacity: json.opacity,\n",
       "                                     shininess: 20, flatShading: flatShading,\n",
       "                                     depthWrite: depthWrite } );\n",
       "\n",
       "        var c = new THREE.Vector3();\n",
       "        geometry.computeBoundingBox();\n",
       "        geometry.boundingBox.getCenter( c );\n",
       "        geometry.translate( -c.x, -c.y, -c.z );\n",
       "\n",
       "        var mesh = new THREE.Mesh( geometry, material );\n",
       "        mesh.position.set( c.x, c.y, c.z );\n",
       "        if ( transparent && json.renderOrder ) mesh.renderOrder = json.renderOrder;\n",
       "        mesh.userData = json;\n",
       "        scene.add( mesh );\n",
       "\n",
       "        if ( json.showMeshGrid ) addSurfaceMeshGrid( json );\n",
       "\n",
       "    }\n",
       "\n",
       "    function addSurfaceMeshGrid( json ) {\n",
       "\n",
       "        var geometry = new THREE.Geometry();\n",
       "\n",
       "        for ( var i=0 ; i < json.faces.length ; i++ ) {\n",
       "            var f = json.faces[i];\n",
       "            for ( var j=0 ; j < f.length ; j++ ) {\n",
       "                var k = j === f.length-1 ? 0 : j+1;\n",
       "                var v1 = json.vertices[f[j]];\n",
       "                var v2 = json.vertices[f[k]];\n",
       "                // vertices in opposite directions on neighboring faces\n",
       "                var nudge = f[j] < f[k] ? .0005*zRange : -.0005*zRange;\n",
       "                geometry.vertices.push( new THREE.Vector3( a[0]*v1.x, a[1]*v1.y, a[2]*(v1.z+nudge) ) );\n",
       "                geometry.vertices.push( new THREE.Vector3( a[0]*v2.x, a[1]*v2.y, a[2]*(v2.z+nudge) ) );\n",
       "            }\n",
       "        }\n",
       "\n",
       "        var c = new THREE.Vector3();\n",
       "        geometry.computeBoundingBox();\n",
       "        geometry.boundingBox.getCenter( c );\n",
       "        geometry.translate( -c.x, -c.y, -c.z );\n",
       "\n",
       "        var gridColor = options.theme === 'dark' ? 'white' : 'black';\n",
       "        var linewidth = json.linewidth || 1;\n",
       "        var materialOptions = { color: gridColor, linewidth: linewidth };\n",
       "\n",
       "        var mesh;\n",
       "        if ( linewidth > 1 && window.createFatLineSegments ) {\n",
       "            mesh = createFatLineSegments( geometry, materialOptions );\n",
       "        } else {\n",
       "            var material = new THREE.LineBasicMaterial( materialOptions );\n",
       "            mesh = new THREE.LineSegments( geometry, material );\n",
       "        }\n",
       "\n",
       "        mesh.position.set( c.x, c.y, c.z );\n",
       "        mesh.userData = json;\n",
       "        scene.add( mesh );\n",
       "\n",
       "    }\n",
       "\n",
       "    function render() {\n",
       "\n",
       "        if ( window.updateAnimation ) animate = updateAnimation();\n",
       "        if ( animate ) requestAnimationFrame( render );\n",
       "\n",
       "        renderer.render( scene, camera );\n",
       "\n",
       "    }\n",
       "\n",
       "    render();\n",
       "    controls.update();\n",
       "    if ( !animate ) render();\n",
       "\n",
       "\n",
       "    // menu functions\n",
       "\n",
       "    function toggleMenu() {\n",
       "\n",
       "        var m = document.getElementById( 'menu-content' );\n",
       "        if ( m.style.display === 'block' ) m.style.display = 'none'\n",
       "        else m.style.display = 'block';\n",
       "\n",
       "    }\n",
       "\n",
       "\n",
       "    function saveAsPNG() {\n",
       "\n",
       "        var a = document.body.appendChild( document.createElement( 'a' ) );\n",
       "        a.href = renderer.domElement.toDataURL( 'image/png' );\n",
       "        a.download = 'screenshot';\n",
       "        a.click();\n",
       "\n",
       "    }\n",
       "\n",
       "    function saveAsHTML() {\n",
       "\n",
       "        toggleMenu(); // otherwise visible in output\n",
       "        event.stopPropagation();\n",
       "\n",
       "        var blob = new Blob( [ '<!DOCTYPE html>\\n' + document.documentElement.outerHTML ] );\n",
       "        var a = document.body.appendChild( document.createElement( 'a' ) );\n",
       "        a.href = window.URL.createObjectURL( blob );\n",
       "        a.download = suggestFilename();\n",
       "        a.click();\n",
       "\n",
       "        function suggestFilename() {\n",
       "            if ( !document.title ) {\n",
       "                return 'graphic.html';\n",
       "            } else if ( /\\.html?$/i.test( document.title ) ) {\n",
       "                return document.title; // already ends in .htm or .html\n",
       "            } else {\n",
       "                return document.title + '.html';\n",
       "            }\n",
       "        }\n",
       "\n",
       "    }\n",
       "\n",
       "    function getViewpoint() {\n",
       "\n",
       "        function roundTo( x, n ) { return +x.toFixed(n); }\n",
       "\n",
       "        var v = camera.quaternion.inverse();\n",
       "        var r = Math.sqrt( v.x*v.x + v.y*v.y + v.z*v.z );\n",
       "        var axis = [ roundTo( v.x / r, 4 ), roundTo( v.y / r, 4 ), roundTo( v.z / r, 4 ) ];\n",
       "        var angle = roundTo( 2 * Math.atan2( r, v.w ) * 180 / Math.PI, 2 );\n",
       "\n",
       "        var textArea = document.createElement( 'textarea' );\n",
       "        textArea.textContent = JSON.stringify( axis ) + ',' + angle;\n",
       "        textArea.style.csstext = 'position: absolute; top: -100%';\n",
       "        document.body.append( textArea );\n",
       "        textArea.select();\n",
       "        document.execCommand( 'copy' );\n",
       "\n",
       "        var m = document.getElementById( 'menu-message' );\n",
       "        m.innerHTML = 'Viewpoint copied to clipboard';\n",
       "        m.style.display = 'block';\n",
       "        setTimeout( function() { m.style.display = 'none'; }, 2000 );\n",
       "\n",
       "    }\n",
       "\n",
       "    function getCamera() {\n",
       "\n",
       "        function roundTo( x, n ) { return +x.toFixed(n); }\n",
       "\n",
       "        var pos = camera.position;\n",
       "        var pos_r = [ roundTo( pos.x, 4 ), roundTo( pos.y, 4 ), roundTo( pos.z, 4 ) ];\n",
       "   //     var up = camera.up; // up is always (0,0,1)\n",
       "        var textArea = document.createElement('textarea');\n",
       "        var cam_position = JSON.stringify(pos_r);\n",
       "        textArea.textContent = ',camera_position=' + cam_position;\n",
       "        textArea.style.csstext = 'position: absolute; top: -100%';\n",
       "        document.body.append( textArea );\n",
       "        textArea.select();\n",
       "        document.execCommand( 'copy' );\n",
       "\n",
       "        var m = document.getElementById( 'menu-message' );\n",
       "        m.innerHTML = 'Camera position '+ cam_position+' copied to clipboard';\n",
       "        m.style.display = 'block';\n",
       "        setTimeout( function() { m.style.display = 'none'; }, 2000 );\n",
       "\n",
       "    }\n",
       "\n",
       "</script>\n",
       "\n",
       "<div id=&quot;menu-container&quot; onclick=&quot;toggleMenu()&quot;>&#x24d8;\n",
       "<div id=&quot;menu-message&quot;></div>\n",
       "<div id=&quot;menu-content&quot;>\n",
       "<div onclick=&quot;saveAsPNG()&quot;>Save as PNG</div>\n",
       "<div onclick=&quot;saveAsHTML()&quot;>Save as HTML</div>\n",
       "<div onclick=&quot;getCamera()&quot;>Get camera</div>\n",
       "<div onclick=&quot;getViewpoint()&quot;>Get viewpoint</div>\n",
       "<div>Close Menu</div>\n",
       "</div></div>\n",
       "\n",
       "\n",
       "</body>\n",
       "</html>\n",
       "\"\n",
       "        width=\"100%\"\n",
       "        height=\"400\"\n",
       "        style=\"border: 0;\">\n",
       "</iframe>\n"
      ],
      "text/plain": [
       "Graphics3d Object"
      ]
     },
     "execution_count": 8,
     "metadata": {},
     "output_type": "execute_result"
    }
   ],
   "source": [
    "get_fibered_cone_plot(sig)"
   ]
  },
  {
   "cell_type": "markdown",
   "id": "332f4bb3",
   "metadata": {},
   "source": [
    "Recall the formula for the Thurston norm:\n",
    "$$ \\| \\alpha \\| = 2g(\\alpha) + \\sigma(\\alpha) - 2 $$\n",
    "giving that\n",
    "$$ g(\\alpha) = \\frac{1}{2}\\left(\\color{red}{\\| \\alpha \\|} \\color{blue}{- \\sigma(\\alpha)} \\color{green}{+ 2}\\right) $$\n",
    "where $\\sigma(\\alpha)$ is the total number of punctures on the minimal surface representative for $\\alpha$ and $g(\\alpha)$ is the genus of the minimal surface representative for $\\alpha$, and $\\|\\cdot\\|$ is the Thurston norm.\n",
    "Our goal is, in part, to find classes of every genus; the formula above tells us that having the formula for the Thurston norm is the first step to determining the genus of a class."
   ]
  },
  {
   "cell_type": "code",
   "execution_count": 9,
   "id": "b81950f0",
   "metadata": {},
   "outputs": [
    {
     "data": {
      "text/plain": [
       "a0 + a1 + 2*a2"
      ]
     },
     "execution_count": 9,
     "metadata": {},
     "output_type": "execute_result"
    }
   ],
   "source": [
    "get_Thurston_norm(sig)"
   ]
  },
  {
   "cell_type": "markdown",
   "id": "f7dfe8fe",
   "metadata": {},
   "source": [
    "In order to count the number of punctures $\\sigma(\\alpha)$, we need the boundary maps $\\partial_i$:"
   ]
  },
  {
   "cell_type": "code",
   "execution_count": 6,
   "id": "ae4bcc77",
   "metadata": {},
   "outputs": [
    {
     "data": {
      "text/plain": [
       "[\n",
       "[-1 -1 -1]  [-1  0  0]  [ 0  1 -1]\n",
       "[ 0  0  1], [ 0 -1  0], [ 1  0  1]\n",
       "]"
      ]
     },
     "execution_count": 6,
     "metadata": {},
     "output_type": "execute_result"
    }
   ],
   "source": [
    "maps = get_LES_boundary_matrices(sig)\n",
    "maps"
   ]
  },
  {
   "cell_type": "markdown",
   "id": "a352e0f4",
   "metadata": {},
   "source": [
    "## 0, 2 mod 3 case"
   ]
  },
  {
   "cell_type": "markdown",
   "id": "0eb22de4",
   "metadata": {},
   "source": [
    "Consider the case when $g \\equiv 0, 2 \\pmod{3}$ and $g \\geq 3$. Let $\\alpha$ be the class $(1,2,g)$.\n",
    "Clearly, $\\alpha$ is primitive.\n",
    "Moreover, it is in the interior of the fibered cone as we can write it as a positive linear combination of all $3$ Hilbert basis vectors:\n",
    "$$ (1,2,g) = g\\cdot(-1,0,1) + (g+1)\\cdot(1,0,0) + 2\\cdot(0,1,0). $$"
   ]
  },
  {
   "cell_type": "code",
   "execution_count": 163,
   "id": "0b39c7f9",
   "metadata": {},
   "outputs": [],
   "source": [
    "v = vector([1,2,var('g')])"
   ]
  },
  {
   "cell_type": "code",
   "execution_count": 164,
   "id": "a0f56ddb",
   "metadata": {},
   "outputs": [
    {
     "data": {
      "text/plain": [
       "((-g - 3, g), (-1, -2), (-g + 2, g + 1))"
      ]
     },
     "execution_count": 164,
     "metadata": {},
     "output_type": "execute_result"
    }
   ],
   "source": [
    "maps[0]*v, maps[1]*v, maps[2]*v"
   ]
  },
  {
   "cell_type": "markdown",
   "id": "2e2530dd",
   "metadata": {},
   "source": [
    "Using the above information,\n",
    "$$ \\| (1,2,g) \\| = 1 + 2 + 2g = 3 + 2g. $$\n",
    "Also,\n",
    "$$ \\sigma(1,2,g) = \\sigma_0(1,2,g) + \\sigma_1(1,2,g) + \\sigma_2(1,2,g)$$\n",
    "and by the previous block, we have\n",
    "$$ \\sigma_0(1,2,g) = \\gcd(-g-3, g) = \\gcd(3,g) = \\begin{cases} 3 & \\text{if } g \\equiv 0 \\pmod{3} \\\\ 1 & \\text{else (i.e., } g \\equiv 2 \\pmod{3}) \\end{cases} $$\n",
    "$$ \\sigma_1(1,2,g) = \\gcd(-1,-2) = 1 $$\n",
    "and\n",
    "$$ \\sigma_2(1,2,g) = \\gcd(-g+2, g+1) = \\gcd(3,g+1) = \\begin{cases} 3 & \\text{if } g \\equiv 2 \\pmod{3} \\\\ 1 & \\text{else (i.e., } g \\equiv 0 \\pmod{3}). \\end{cases}$$\n",
    "\n",
    "Thus when $g \\equiv 0 \\pmod{3}$ or $g \\equiv 2 \\pmod{3}$,\n",
    "\\begin{align*}\n",
    "g(1,2,g) &= \\frac{1}{2}\\left( \\color{red}{\\| (1,2,g) \\|} \\color{blue}{- \\sigma(1,2,g)} \\color{green}{+ 2}\\right) \\\\\n",
    "&= \\frac{1}{2}\\left(\\color{red}{3+2g} \\color{blue}{- 5} \\color{green}{+ 2}\\right) \\\\\n",
    "&= g\n",
    "\\end{align*}"
   ]
  },
  {
   "cell_type": "markdown",
   "id": "55264273",
   "metadata": {},
   "source": [
    "What is more, since $\\partial_1(1,2,g) = (-1,-2)$, we see that $(1,2,g) \\in \\mathcal{S}_1(1/2)$ for all $g$.\n",
    "\n",
    "To see that these classes actually represent pseudo-Anosov monodromies after Dehn filling, we should observe that they have no one-prongs. To do this, we will use a version of the VeeringGeneralFunction `get_num_prongs(sig, point)`, but we have to be careful because this function won't let us use the variable $g$ that we have been using. So we work through that function piece by piece being careful with the variable."
   ]
  },
  {
   "cell_type": "code",
   "execution_count": 168,
   "id": "12a37bdb",
   "metadata": {},
   "outputs": [
    {
     "data": {
      "text/plain": [
       "(-r481 - r482 + r486 + r487 + r488, r481 + r482 - r487 - 1, g - r481 - r482 - r483 + r487 + 1, r481, r482, r482 - r486 - r487 - r488 + 2, -g - r482 + r484 + r485 + r486 + r487 + r488, r483, 2*g - r483 - r484 - r485 - r486 - r488 + 1, -g + r483 + r485 + r486 + r488 - 1, r488, r487, r486, r485, r484, 2*g - r484 - r485 - r486 - r487 - r488 + 1, -r487 - r488 + 2, g - r485 - r486 + 1)"
      ]
     },
     "execution_count": 168,
     "metadata": {},
     "output_type": "execute_result"
    }
   ],
   "source": [
    "point = v\n",
    "substitution_dict = {get_hom_vars(sig)[i]:point[i] for i in range(len(point))} # substitute the given point for our variable place holders.\n",
    "two_chain_with_free_vars = get_2_chain_from_point_in_homology(sig).subs(substitution_dict)\n",
    "two_chain_with_free_vars"
   ]
  },
  {
   "cell_type": "code",
   "execution_count": 169,
   "id": "68afdf25",
   "metadata": {},
   "outputs": [
    {
     "data": {
      "text/plain": [
       "(0, -1, g + 1, 0, 0, 2, -g, 0, 2*g + 1, -g - 1, 0, 0, 0, 0, 0, 2*g + 1, 2, g + 1)"
      ]
     },
     "execution_count": 169,
     "metadata": {},
     "output_type": "execute_result"
    }
   ],
   "source": [
    "no_free_vars = [] # two_chain_with_vars still contains the free variables. We want to set those all to 0. But NOT g!\n",
    "for term in two_chain_with_free_vars:\n",
    "    no_free_vars.append(term.subs({v:0 for v in term.variables() if v != var('g')})) # don't replace the variable g with 0 here!\n",
    "\n",
    "no_free_vars = vector(no_free_vars)\n",
    "no_free_vars"
   ]
  },
  {
   "cell_type": "code",
   "execution_count": 170,
   "id": "9a4693d5",
   "metadata": {},
   "outputs": [
    {
     "data": {
      "text/plain": [
       "(3*g + 3, 2, g + 1)"
      ]
     },
     "execution_count": 170,
     "metadata": {},
     "output_type": "execute_result"
    }
   ],
   "source": [
    "total_prongs_each_boundary_comp = get_prongs_matrix(sig)*no_free_vars\n",
    "total_prongs_each_boundary_comp"
   ]
  },
  {
   "cell_type": "markdown",
   "id": "7f3639ed",
   "metadata": {},
   "source": [
    "The above says that each of the $\\gcd(3,g)$ punctures coming from the zeroth boundary component share $3g$ prongs and therefore each puncture has $\\frac{3g}{\\gcd(3,g)} \\neq 1$ prongs; the $1$ puncture coming from the first boundary component has $2$ prongs; and the $\\gcd(3,g+1)$ punctures coming from the second boundary component share $g+1$ prongs and therefore each puncture has $\\frac{g+1}{\\gcd(3,g+1)} \\neq 1$ (for $g \\neq 2$) prongs.\n",
    "\n",
    "We therefore have primitive integral fillable classes in the interior of the cone lying in the subspace $\\mathcal{S}_1(1/2)$ for each genus $g$ such that $g \\equiv 0,2 \\pmod{3}$."
   ]
  },
  {
   "cell_type": "markdown",
   "id": "1fea5c66",
   "metadata": {},
   "source": [
    "## 1 mod 3 case"
   ]
  },
  {
   "cell_type": "markdown",
   "id": "a05ae1b1",
   "metadata": {},
   "source": [
    "To address the $g \\equiv 1 \\pmod{3}$ case, consider the classes $(3,6,g-3)$. These classes are primitive as\n",
    "$$ g \\equiv 1 \\pmod{3} \\implies \\gcd(3,g) = 1 \\implies \\gcd(3,6,g-3) = 1. $$\n",
    "Moreover, these classes are in the interior of the fibered cone when $g \\geq 4$ as we can express such classes as a positive linear combination of the $3$ Hilbert basis vectors:\n",
    "$$ (3,6,g-3) = (g-3)\\cdot(-1,0,1) + (g+6)\\cdot(1,0,0) + 6\\cdot(0,1,0) $$"
   ]
  },
  {
   "cell_type": "code",
   "execution_count": 173,
   "id": "5aa5e381",
   "metadata": {},
   "outputs": [],
   "source": [
    "v = vector([3,6,var('g')-3])"
   ]
  },
  {
   "cell_type": "code",
   "execution_count": 174,
   "id": "0f682b3c",
   "metadata": {},
   "outputs": [
    {
     "data": {
      "text/plain": [
       "((-g - 6, g - 3), (-3, -6), (-g + 9, g))"
      ]
     },
     "execution_count": 174,
     "metadata": {},
     "output_type": "execute_result"
    }
   ],
   "source": [
    "maps[0]*v, maps[1]*v, maps[2]*v"
   ]
  },
  {
   "cell_type": "markdown",
   "id": "ab676504",
   "metadata": {},
   "source": [
    "Using the above information,\n",
    "$$ \\| (3,6,g-3) \\| = 3 + 6 + 2(g-3) = 3 + 2g. $$\n",
    "Also, using the previous code block,\n",
    "$$ \\sigma_0(3,6,g-3) = \\gcd(-g-6, g-3) = \\gcd(9,g) = 1 $$\n",
    "as $g \\equiv 1 \\pmod{3} \\implies 3 \\nmid g \\implies \\gcd(9,g) = 1$.\n",
    "Also,\n",
    "$$ \\sigma_1(3,6,g-3) = \\gcd(-3,-6) = 3 $$\n",
    "and\n",
    "$$ \\sigma_2(3,6,g-3) = \\gcd(-g+9, g) = \\gcd(9,g) = 1.$$\n",
    "\n",
    "Thus when $g \\equiv 1 \\pmod{3}$,\n",
    "\\begin{align*}\n",
    "g(3,6,g-3) &= \\frac{1}{2}\\left( \\color{red}{\\| (3,6,g-3) \\|} \\color{blue}{- \\sigma(3,6,g-3)} \\color{green}{+ 2}\\right) \\\\\n",
    "&= \\frac{1}{2}\\left(\\color{red}{3+2g} \\color{blue}{- 5} \\color{green}{+ 2}\\right) \\\\\n",
    "&= g\n",
    "\\end{align*}"
   ]
  },
  {
   "cell_type": "markdown",
   "id": "6f612fe0",
   "metadata": {},
   "source": [
    "What is more, since $\\partial_1(3,6,g-3) = (-3,-6)$, we see that $(3,6,g-3) \\in \\mathcal{S}_1(1/2)$ for all $g$.\n",
    "\n",
    "As before, it remains to see that these classes have no $1$-prongs."
   ]
  },
  {
   "cell_type": "code",
   "execution_count": 175,
   "id": "41628fd1",
   "metadata": {},
   "outputs": [
    {
     "data": {
      "text/plain": [
       "(-r489 - r490 + r494 + r495 + r496, r489 + r490 - r495 - 3, g - r489 - r490 - r491 + r495, r489, r490, r490 - r494 - r495 - r496 + 6, -g - r490 + r492 + r493 + r494 + r495 + r496 + 3, r491, 2*g - r491 - r492 - r493 - r494 - r496 - 3, -g + r491 + r493 + r494 + r496, r496, r495, r494, r493, r492, 2*g - r492 - r493 - r494 - r495 - r496 - 3, -r495 - r496 + 6, g - r493 - r494)"
      ]
     },
     "execution_count": 175,
     "metadata": {},
     "output_type": "execute_result"
    }
   ],
   "source": [
    "point = v\n",
    "substitution_dict = {get_hom_vars(sig)[i]:point[i] for i in range(len(point))} # substitute the given point for our variable place holders.\n",
    "two_chain_with_free_vars = get_2_chain_from_point_in_homology(sig).subs(substitution_dict)\n",
    "two_chain_with_free_vars"
   ]
  },
  {
   "cell_type": "code",
   "execution_count": 176,
   "id": "af6548ac",
   "metadata": {},
   "outputs": [
    {
     "data": {
      "text/plain": [
       "(0, -3, g, 0, 0, 6, -g + 3, 0, 2*g - 3, -g, 0, 0, 0, 0, 0, 2*g - 3, 6, g)"
      ]
     },
     "execution_count": 176,
     "metadata": {},
     "output_type": "execute_result"
    }
   ],
   "source": [
    "no_free_vars = [] # two_chain_with_vars still contains the free variables. We want to set those all to 0. But NOT g!\n",
    "for term in two_chain_with_free_vars:\n",
    "    no_free_vars.append(term.subs({v:0 for v in term.variables() if v != var('g')})) # don't replace the variable g with 0 here!\n",
    "\n",
    "no_free_vars = vector(no_free_vars)\n",
    "no_free_vars"
   ]
  },
  {
   "cell_type": "code",
   "execution_count": 177,
   "id": "17317518",
   "metadata": {},
   "outputs": [
    {
     "data": {
      "text/plain": [
       "(3*g, 6, g)"
      ]
     },
     "execution_count": 177,
     "metadata": {},
     "output_type": "execute_result"
    }
   ],
   "source": [
    "total_prongs_each_boundary_comp = get_prongs_matrix(sig)*no_free_vars\n",
    "total_prongs_each_boundary_comp"
   ]
  },
  {
   "cell_type": "markdown",
   "id": "677a57ae",
   "metadata": {},
   "source": [
    "The above says that each of the $\\gcd(9,g)$ punctures coming from the zeroth boundary component share $3g$ prongs and therefore each puncture has $\\frac{3g}{\\gcd(9,g)} \\neq 1$ prongs; the $3$ punctures coming from the first boundary component share $6$ prongs and therefore each puncture has $6/3 = 2$ prongs; and the $\\gcd(9,g)$ punctures coming from the second boundary component share $g$ prongs and therefore each puncture has $\\frac{g}{\\gcd(9,g)} \\neq 1$ (for $g \\neq 1, 3, 9$) prongs.\n",
    "\n",
    "We therefore have primitive integral fillable classes in the interior of the cone lying in the subspace $\\mathcal{S}_1(1/2)$ for each genus $g$ such that $g \\equiv 1 \\pmod{3}$.\n",
    "Combining this with the previous section, we obtain all (sufficiently large; $g \\geq 4$) genera."
   ]
  },
  {
   "cell_type": "markdown",
   "id": "5f18048f",
   "metadata": {},
   "source": [
    "## Checking filled minimizer"
   ]
  },
  {
   "cell_type": "markdown",
   "id": "63d3f312",
   "metadata": {},
   "source": [
    "Finally we observe that filling the first boundary component with slope $1/2$ yields a minimal normalized dilatation which is strictly smaller than the minimal normalized dilatation for the unfilled manifold which is:"
   ]
  },
  {
   "cell_type": "code",
   "execution_count": 10,
   "id": "c28676ce",
   "metadata": {},
   "outputs": [
    {
     "data": {
      "text/plain": [
       "3.950874660266435"
      ]
     },
     "execution_count": 10,
     "metadata": {},
     "output_type": "execute_result"
    }
   ],
   "source": [
    "get_min_norm_dila_log_mathematica_approx(sig)"
   ]
  },
  {
   "cell_type": "markdown",
   "id": "9d295cb0",
   "metadata": {},
   "source": [
    "To do so, we simply exhibit a class in this filling which has a smaller normalized dilatation. Take the class $(1,2,3)$. Notice that this class is of the form $(1,2,g)$ for $g \\equiv 0 \\pmod{3}$ as previously discussed. Thus by our previous computations, we can see that the class $(1,2,3)$ has one puncture in the orbit corresponding to the first boundary component. Hence, to get the normalized dilatation of the class $(1,2,3)$ after filling the first boundary component, we multiply the *adjusted* Thurston norm (the old Thurston norm minus $1$ since we have one fewer puncture) by the log of the dilatation, which remains unchanged:"
   ]
  },
  {
   "cell_type": "code",
   "execution_count": 178,
   "id": "ffef7a41",
   "metadata": {},
   "outputs": [
    {
     "data": {
      "text/plain": [
       "3.671274431829636"
      ]
     },
     "execution_count": 178,
     "metadata": {},
     "output_type": "execute_result"
    }
   ],
   "source": [
    "(1 + 2 + 2*3 - 1)*math.log(get_dila_mathematica(sig, (1,2,3))) # minus one to account for one less puncture"
   ]
  },
  {
   "cell_type": "markdown",
   "id": "13ba6bae",
   "metadata": {},
   "source": [
    "This being strictly smaller than the minimizer for the unfilled manifold, the example is complete."
   ]
  },
  {
   "cell_type": "code",
   "execution_count": null,
   "id": "2bc5810f",
   "metadata": {},
   "outputs": [],
   "source": []
  }
 ],
 "metadata": {
  "kernelspec": {
   "display_name": "SageMath 10.1",
   "language": "sage",
   "name": "sagemath-10.1"
  },
  "language_info": {
   "codemirror_mode": {
    "name": "ipython",
    "version": 3
   },
   "file_extension": ".py",
   "mimetype": "text/x-python",
   "name": "python",
   "nbconvert_exporter": "python",
   "pygments_lexer": "ipython3",
   "version": "3.11.1"
  }
 },
 "nbformat": 4,
 "nbformat_minor": 5
}
