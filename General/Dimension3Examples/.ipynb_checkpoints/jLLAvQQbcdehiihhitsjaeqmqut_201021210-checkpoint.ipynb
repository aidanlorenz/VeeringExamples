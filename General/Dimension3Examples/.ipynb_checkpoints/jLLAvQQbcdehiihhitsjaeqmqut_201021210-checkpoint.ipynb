{
 "cells": [
  {
   "cell_type": "code",
   "execution_count": 2,
   "id": "9c0c8178",
   "metadata": {},
   "outputs": [],
   "source": [
    "load('../VeeringGeneralFunctions.sage')\n",
    "sig = 'jLLAvQQbcdehiihhitsjaeqmqut_201021210'"
   ]
  },
  {
   "cell_type": "code",
   "execution_count": 4,
   "id": "3251fe33",
   "metadata": {},
   "outputs": [
    {
     "data": {
      "text/plain": [
       "N(0, 1,  0),\n",
       "N(0, 3, -1),\n",
       "N(1, 0,  0),\n",
       "N(3, 3, -2),\n",
       "N(1, 2, -1)\n",
       "in 3-d lattice N"
      ]
     },
     "execution_count": 4,
     "metadata": {},
     "output_type": "execute_result"
    }
   ],
   "source": [
    "cone = get_fibered_cone(sig)\n",
    "cone.Hilbert_basis()"
   ]
  },
  {
   "cell_type": "code",
   "execution_count": 2,
   "id": "409fa10d",
   "metadata": {},
   "outputs": [
    {
     "data": {
      "text/plain": [
       "a0 + 2*a1 + 2*a2"
      ]
     },
     "execution_count": 2,
     "metadata": {},
     "output_type": "execute_result"
    }
   ],
   "source": [
    "get_Thurston_norm(sig)"
   ]
  },
  {
   "cell_type": "code",
   "execution_count": 3,
   "id": "d81c9199",
   "metadata": {},
   "outputs": [
    {
     "data": {
      "text/plain": [
       "4.340862900748859"
      ]
     },
     "execution_count": 3,
     "metadata": {},
     "output_type": "execute_result"
    }
   ],
   "source": [
    "get_min_norm_dila_log_mathematica_approx(sig)"
   ]
  },
  {
   "cell_type": "code",
   "execution_count": 4,
   "id": "ec530fb5",
   "metadata": {},
   "outputs": [
    {
     "data": {
      "text/plain": [
       "[\n",
       "[-1  2  2]  [-1 -1 -1]  [-2  0 -3]\n",
       "[ 0  1  0], [ 0 -1 -3], [-1  0  0]\n",
       "]"
      ]
     },
     "execution_count": 4,
     "metadata": {},
     "output_type": "execute_result"
    }
   ],
   "source": [
    "maps = get_LES_boundary_matrices(sig)\n",
    "maps"
   ]
  },
  {
   "cell_type": "code",
   "execution_count": 7,
   "id": "808331f4",
   "metadata": {},
   "outputs": [
    {
     "data": {
      "text/plain": [
       "N(0, 1,  0),\n",
       "N(0, 3, -1),\n",
       "N(1, 0,  0),\n",
       "N(3, 3, -2),\n",
       "N(1, 2, -1)\n",
       "in 3-d lattice N"
      ]
     },
     "execution_count": 7,
     "metadata": {},
     "output_type": "execute_result"
    }
   ],
   "source": [
    "cone = get_fibered_cone(sig)\n",
    "cone.Hilbert_basis()"
   ]
  },
  {
   "cell_type": "code",
   "execution_count": 14,
   "id": "f43a8ee3",
   "metadata": {},
   "outputs": [
    {
     "name": "stdout",
     "output_type": "stream",
     "text": [
      "False\n",
      "False\n",
      "False\n",
      "False\n",
      "False\n",
      "False\n",
      "False\n",
      "False\n",
      "False\n",
      "False\n",
      "False\n",
      "False\n",
      "False\n",
      "False\n",
      "False\n",
      "False\n",
      "False\n",
      "False\n",
      "False\n",
      "False\n",
      "False\n",
      "False\n",
      "False\n",
      "False\n",
      "False\n",
      "False\n",
      "False\n",
      "False\n",
      "False\n",
      "False\n",
      "False\n",
      "False\n",
      "False\n",
      "False\n",
      "False\n",
      "False\n",
      "False\n",
      "False\n",
      "False\n",
      "False\n",
      "False\n",
      "False\n",
      "False\n",
      "False\n",
      "False\n",
      "False\n",
      "False\n",
      "False\n",
      "False\n",
      "False\n",
      "False\n",
      "False\n",
      "False\n",
      "False\n",
      "False\n",
      "False\n",
      "False\n",
      "False\n",
      "False\n",
      "False\n",
      "False\n",
      "False\n",
      "False\n",
      "False\n",
      "False\n",
      "False\n",
      "False\n",
      "False\n",
      "False\n",
      "False\n",
      "False\n",
      "False\n",
      "False\n",
      "False\n",
      "False\n",
      "False\n",
      "False\n",
      "False\n",
      "False\n",
      "False\n",
      "False\n",
      "False\n",
      "False\n",
      "False\n",
      "False\n",
      "False\n",
      "False\n",
      "False\n",
      "False\n",
      "False\n",
      "False\n",
      "False\n",
      "False\n",
      "False\n",
      "False\n",
      "False\n",
      "False\n",
      "False\n",
      "False\n",
      "False\n"
     ]
    }
   ],
   "source": []
  },
  {
   "cell_type": "code",
   "execution_count": null,
   "id": "7b9166ab",
   "metadata": {},
   "outputs": [],
   "source": []
  }
 ],
 "metadata": {
  "kernelspec": {
   "display_name": "SageMath 9.6",
   "language": "sage",
   "name": "sagemath-9.6"
  },
  "language_info": {
   "codemirror_mode": {
    "name": "ipython",
    "version": 3
   },
   "file_extension": ".py",
   "mimetype": "text/x-python",
   "name": "python",
   "nbconvert_exporter": "python",
   "pygments_lexer": "ipython3",
   "version": "3.10.3"
  }
 },
 "nbformat": 4,
 "nbformat_minor": 5
}
