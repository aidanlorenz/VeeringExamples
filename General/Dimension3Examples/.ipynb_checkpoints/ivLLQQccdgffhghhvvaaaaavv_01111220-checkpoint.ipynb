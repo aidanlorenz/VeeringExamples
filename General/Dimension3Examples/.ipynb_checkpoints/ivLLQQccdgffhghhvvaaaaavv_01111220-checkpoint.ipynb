{
 "cells": [
  {
   "cell_type": "code",
   "execution_count": 2,
   "id": "30909230",
   "metadata": {},
   "outputs": [],
   "source": [
    "load('../VeeringGeneralFunctions.sage')\n",
    "sig = 'ivLLQQccdgffhghhvvaaaaavv_01111220'"
   ]
  },
  {
   "cell_type": "markdown",
   "id": "e72a7d06",
   "metadata": {},
   "source": [
    "Recall the formula for the Thurston norm:\n",
    "$$ \\| \\alpha \\|_T = 2\\text{genus}(\\alpha) + \\#\\text{punctures}(\\alpha) - 2 $$\n",
    "giving that\n",
    "$$ \\text{genus}(\\alpha) = \\frac{1}{2}\\left(\\| \\alpha \\|_T - \\#\\text{punctures}(\\alpha) + 2\\right) $$"
   ]
  },
  {
   "cell_type": "code",
   "execution_count": 3,
   "id": "f323b641",
   "metadata": {},
   "outputs": [
    {
     "data": {
      "text/plain": [
       "N(0, 0,  1),\n",
       "N(1, 0, -1),\n",
       "N(1, 1,  2),\n",
       "N(2, 1,  0)\n",
       "in 3-d lattice N"
      ]
     },
     "execution_count": 3,
     "metadata": {},
     "output_type": "execute_result"
    }
   ],
   "source": [
    "cone = get_fibered_cone(sig)\n",
    "cone.Hilbert_basis()"
   ]
  },
  {
   "cell_type": "code",
   "execution_count": 2,
   "id": "2a9dbd68",
   "metadata": {},
   "outputs": [
    {
     "data": {
      "text/plain": [
       "2*a0 - 2*a1 + a2"
      ]
     },
     "execution_count": 2,
     "metadata": {},
     "output_type": "execute_result"
    }
   ],
   "source": [
    "get_Thurston_norm(sig)"
   ]
  },
  {
   "cell_type": "code",
   "execution_count": 3,
   "id": "2402fc54",
   "metadata": {},
   "outputs": [
    {
     "data": {
      "text/plain": [
       "3.6538111277006253"
      ]
     },
     "execution_count": 3,
     "metadata": {},
     "output_type": "execute_result"
    }
   ],
   "source": [
    "get_min_norm_dila_log_mathematica_approx(sig)"
   ]
  },
  {
   "cell_type": "code",
   "execution_count": 4,
   "id": "71a280e1",
   "metadata": {},
   "outputs": [
    {
     "data": {
      "text/plain": [
       "[\n",
       "[-3  6 -2]  [-1  3  0]  [ 0  0 -1]\n",
       "[ 0  1  0], [ 1  0  0], [ 0 -2  0]\n",
       "]"
      ]
     },
     "execution_count": 4,
     "metadata": {},
     "output_type": "execute_result"
    }
   ],
   "source": [
    "maps = get_LES_boundary_matrices(sig)\n",
    "maps"
   ]
  },
  {
   "cell_type": "code",
   "execution_count": 5,
   "id": "b1ce723b",
   "metadata": {},
   "outputs": [
    {
     "data": {
      "text/plain": [
       "((-4*g + 2, 1), (1, 2), (-2*g + 1, -2))"
      ]
     },
     "execution_count": 5,
     "metadata": {},
     "output_type": "execute_result"
    }
   ],
   "source": [
    "maps[0]*vector([2,1,2*var('g')-1]), maps[1]*vector([2,1,2*var('g')-1]), maps[2]*vector([2,1,2*var('g')-1])"
   ]
  },
  {
   "cell_type": "markdown",
   "id": "2cac16bc",
   "metadata": {},
   "source": [
    "Consider the classes $(2,1,2g-1)$ for $g$ ranging from $1$ to infinity. Using the above information,\n",
    "$$ \\| (2,1,2g-1) \\|_T = 2*2 - 2*1 + 2g-1 = 2g+1 $$\n",
    "and by the previous block, we have\n",
    "$$\\#\\text{punctures}(2,1,2g-1) = \\gcd(-4g + 2, 1) + \\gcd(1, 2) + \\gcd(-2g + 1, -2) = 2 + \\gcd(-2g + 1, -2) = 3$$\n",
    "where $\\gcd(-2g+1, -2) = 1$ because the first term is always odd.\n",
    "\n",
    "Thus\n",
    "\\begin{align*}\n",
    "\\text{genus}(2,1,2g-1) &= \\frac{1}{2}\\left( \\color{red}{\\| (2,1,2g-1) \\|_T} \\color{blue}{- \\#\\text{punctures}(2,1,2g-1)} \\color{green}{+ 2}\\right) \\\\\n",
    "&= \\frac{1}{2}\\left(\\color{red}{2g+1} \\color{blue}{- 3} \\color{green}{+ 2}\\right) \\\\\n",
    "&= g\n",
    "\\end{align*}"
   ]
  },
  {
   "cell_type": "markdown",
   "id": "b547518b",
   "metadata": {},
   "source": [
    "What is more, one can see again by the previous code block that for all $g$, the slope on the first (using zero-indexing) boundary component is $2/1$; in other words, it doesn't depend on $g$ so they all lie on the same slope of the first boundary component. That is, all these classes lie in the Dehn filling of the first boundary component by slope $2/1$."
   ]
  },
  {
   "cell_type": "markdown",
   "id": "798d1c7e",
   "metadata": {},
   "source": [
    "To see that these classes actually represent pseudo-Anosov monodromies after Dehn filling, we should observe that they have no one-prongs. To do this, we will use a version of the VeeringGeneralFunction get_num_prongs(sig, point), but we have to be careful because this function won't let us use the variable $g$ that we have been using. So we work through that function piece by piece being careful with the variable."
   ]
  },
  {
   "cell_type": "code",
   "execution_count": 6,
   "id": "7e88e5d4",
   "metadata": {},
   "outputs": [],
   "source": [
    "point = (2,1,2*var('g') - 1)\n",
    "substitution_dict = {get_hom_vars(sig)[i]:point[i] for i in range(len(point))} # substitute the given point for our variable place holders.\n",
    "two_chain_with_free_vars = get_2_chain_from_point_in_homology(sig).subs(substitution_dict)"
   ]
  },
  {
   "cell_type": "code",
   "execution_count": 7,
   "id": "73d5d97d",
   "metadata": {},
   "outputs": [
    {
     "data": {
      "text/plain": [
       "(r46, 2*g - r44 - r45 - r48 - r49 - 1, r45, -2*g + r45 + r49 + 2, r44, 2*g - r45 - r46 - r47 - r49, r49, -r44 - r48 - r49 + 1, -r43 + r44 + r49 + 1, -2*g + r44 + r45 + r46 + r47 + r48 + r49, r48, r47, -r43 + r44 + r45 + r46 + r49 - 1, 2*g - r44 - r45 - r46 - r49, 2*g + r43 - r44 - r45 - r46 - r47 - r49, r43)"
      ]
     },
     "execution_count": 7,
     "metadata": {},
     "output_type": "execute_result"
    }
   ],
   "source": [
    "two_chain_with_free_vars"
   ]
  },
  {
   "cell_type": "code",
   "execution_count": 8,
   "id": "d4a34319",
   "metadata": {},
   "outputs": [],
   "source": [
    "no_free_vars = [] # two_chain_with_vars still contains the free variables. We want to set those all to 0. But NOT g!\n",
    "for term in two_chain_with_free_vars:\n",
    "    no_free_vars.append(term.subs({v:0 for v in term.variables() if v != var('g')})) # don't replace the variable g with 0 here!"
   ]
  },
  {
   "cell_type": "code",
   "execution_count": 9,
   "id": "93ccfd39",
   "metadata": {},
   "outputs": [
    {
     "data": {
      "text/plain": [
       "[0, 2*g - 1, 0, -2*g + 2, 0, 2*g, 0, 1, 1, -2*g, 0, 0, -1, 2*g, 2*g, 0]"
      ]
     },
     "execution_count": 9,
     "metadata": {},
     "output_type": "execute_result"
    }
   ],
   "source": [
    "no_free_vars"
   ]
  },
  {
   "cell_type": "code",
   "execution_count": 10,
   "id": "c38f477a",
   "metadata": {},
   "outputs": [],
   "source": [
    "no_free_vars = vector(no_free_vars)"
   ]
  },
  {
   "cell_type": "code",
   "execution_count": 11,
   "id": "68e20270",
   "metadata": {},
   "outputs": [],
   "source": [
    "total_prongs_each_boundary_comp = get_prongs_matrix(sig)*no_free_vars"
   ]
  },
  {
   "cell_type": "code",
   "execution_count": 12,
   "id": "23431f2c",
   "metadata": {},
   "outputs": [
    {
     "data": {
      "text/plain": [
       "(4*g - 2, 2, 2)"
      ]
     },
     "execution_count": 12,
     "metadata": {},
     "output_type": "execute_result"
    }
   ],
   "source": [
    "total_prongs_each_boundary_comp"
   ]
  },
  {
   "cell_type": "markdown",
   "id": "740f359b",
   "metadata": {},
   "source": [
    "The above tells us that all punctures coming from the zeroth boundary component split $4g-2$ prongs, while those coming from the first and second boundary components split $2$ prongs respectively. As every boundary component contributes only one puncture (seen above), there are never any punctures with $1$-prongs."
   ]
  },
  {
   "cell_type": "markdown",
   "id": "f8f72df3",
   "metadata": {},
   "source": [
    "The last thing to observe is that if we Dehn fill the first boundary component along the slope $2/1$, we get a minimizer which is smaller than the minimizer of the unfilled manifold: $3.6538111277006253$.\n",
    "For this, notice that the point (2,1,2) lies on this slope and the Thurston norm of the Dehn filling of this point is the same as the Thurston norm of the unfilled point, but after filling there is one less puncture (since the first boundary component contributes one puncture)."
   ]
  },
  {
   "cell_type": "code",
   "execution_count": 13,
   "id": "3f62289a",
   "metadata": {},
   "outputs": [
    {
     "data": {
      "text/plain": [
       "2.887270950357621"
      ]
     },
     "execution_count": 13,
     "metadata": {},
     "output_type": "execute_result"
    }
   ],
   "source": [
    "(2*2 - 2*1 + 2 - 1)*math.log(get_dila_mathematica(sig, (2,1,2))) # minus one to account for one less puncture"
   ]
  },
  {
   "cell_type": "markdown",
   "id": "5659f827",
   "metadata": {},
   "source": [
    "As this is smaller than the normalized dilatation of the unfilled manifold and necessarily larger than the minimimum normalized dilatation of the Dehn filled manifold, we conclude that the Dehn filled manifold's minimizer is strictly smaller than the unfilled minimizer."
   ]
  },
  {
   "cell_type": "markdown",
   "id": "86ed5e86",
   "metadata": {},
   "source": [
    "Does this allow us to conclude that the smallest dilatation examples are on finitely many slopes? Isn't it possible to have a class with the same genus and a larger normalized dilatation, but a smaller dilatation? According to KKT page 3583 (proof of Theorem 1.4(1)) I think this is all we need."
   ]
  },
  {
   "cell_type": "markdown",
   "id": "7f06625c",
   "metadata": {},
   "source": [
    "Also should observe that these classes are actually in the interior of the fibered cone!"
   ]
  }
 ],
 "metadata": {
  "kernelspec": {
   "display_name": "SageMath 9.6",
   "language": "sage",
   "name": "sagemath-9.6"
  },
  "language_info": {
   "codemirror_mode": {
    "name": "ipython",
    "version": 3
   },
   "file_extension": ".py",
   "mimetype": "text/x-python",
   "name": "python",
   "nbconvert_exporter": "python",
   "pygments_lexer": "ipython3",
   "version": "3.10.3"
  }
 },
 "nbformat": 4,
 "nbformat_minor": 5
}
