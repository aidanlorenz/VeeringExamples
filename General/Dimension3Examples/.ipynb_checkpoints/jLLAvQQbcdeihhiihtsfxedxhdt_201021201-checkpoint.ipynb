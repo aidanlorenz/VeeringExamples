{
 "cells": [
  {
   "cell_type": "code",
   "execution_count": null,
   "id": "513ca6ee",
   "metadata": {},
   "outputs": [],
   "source": [
    "jLLAvQQbcdeihhiihtsfxedxhdt_201021201"
   ]
  },
  {
   "cell_type": "code",
   "execution_count": 1,
   "id": "37a446ff",
   "metadata": {},
   "outputs": [],
   "source": [
    "load('VeeringGeneralFunctions.sage')"
   ]
  },
  {
   "cell_type": "code",
   "execution_count": 2,
   "id": "3a2032ee",
   "metadata": {},
   "outputs": [],
   "source": [
    "sig = 'jLLAvQQbcdeihhiihtsfxedxhdt_201021201'"
   ]
  },
  {
   "cell_type": "code",
   "execution_count": 3,
   "id": "3f35752a",
   "metadata": {},
   "outputs": [
    {
     "data": {
      "text/plain": [
       "N(0, 0, 1),\n",
       "N(0, 1, 1),\n",
       "N(1, 0, 1),\n",
       "N(1, 1, 0)\n",
       "in 3-d lattice N"
      ]
     },
     "execution_count": 3,
     "metadata": {},
     "output_type": "execute_result"
    }
   ],
   "source": [
    "cone = get_fibered_cone(sig)\n",
    "cone.Hilbert_basis()"
   ]
  },
  {
   "cell_type": "code",
   "execution_count": 4,
   "id": "3ee1c143",
   "metadata": {},
   "outputs": [
    {
     "data": {
      "text/plain": [
       "a0 + 2*a2"
      ]
     },
     "execution_count": 4,
     "metadata": {},
     "output_type": "execute_result"
    }
   ],
   "source": [
    "get_Thurston_norm(sig)"
   ]
  },
  {
   "cell_type": "code",
   "execution_count": 5,
   "id": "1abb8076",
   "metadata": {},
   "outputs": [
    {
     "data": {
      "text/plain": [
       "[(2*a0 - a1 + 2*a2, a0 - a1), (-3*a0 + 2*a1, -a2), (a0 + a1 - a2, -a0)]"
      ]
     },
     "execution_count": 5,
     "metadata": {},
     "output_type": "execute_result"
    }
   ],
   "source": [
    "get_LES_boundary_maps(sig)"
   ]
  },
  {
   "cell_type": "code",
   "execution_count": 6,
   "id": "3a67c812",
   "metadata": {},
   "outputs": [
    {
     "data": {
      "text/plain": [
       "a >= 0 && ((Inequality[0, LessEqual, b, Less, a] && c >= a - b) || \n",
       "  (b == a && c >= 0) || (b > a && c >= -a + b))"
      ]
     },
     "execution_count": 6,
     "metadata": {},
     "output_type": "execute_result"
    }
   ],
   "source": [
    "m('cone = ConicHullRegion[{{0, 0, 0}}, {{0, 0, 1}, {0, 1, 1}, {1, 0, 1}, {1, 1, 0}}]')\n",
    "m('Reduce[{a, b, c} \\[Element] cone, {a, b, c}]')"
   ]
  },
  {
   "cell_type": "code",
   "execution_count": 7,
   "id": "178b819c",
   "metadata": {},
   "outputs": [
    {
     "data": {
      "text/plain": [
       "n >= 0 && ((Inequality[0, LessEqual, a, Less, n/3] && b == (-a + n)/2 && \n",
       "   c >= -a + b) || (a == n/3 && b == (-a + n)/2 && c >= 0) || \n",
       "  (Inequality[n/3, Less, a, LessEqual, n] && b == (-a + n)/2 && c >= a - b))"
      ]
     },
     "execution_count": 7,
     "metadata": {},
     "output_type": "execute_result"
    }
   ],
   "source": [
    "m('Reduce[a + 2*b == n && {a, b, c} \\[Element] cone && n \\[Element] Reals, {a, b, c}]')"
   ]
  }
 ],
 "metadata": {
  "kernelspec": {
   "display_name": "SageMath 9.6",
   "language": "sage",
   "name": "sagemath-9.6"
  },
  "language_info": {
   "codemirror_mode": {
    "name": "ipython",
    "version": 3
   },
   "file_extension": ".py",
   "mimetype": "text/x-python",
   "name": "python",
   "nbconvert_exporter": "python",
   "pygments_lexer": "ipython3",
   "version": "3.10.3"
  }
 },
 "nbformat": 4,
 "nbformat_minor": 5
}
