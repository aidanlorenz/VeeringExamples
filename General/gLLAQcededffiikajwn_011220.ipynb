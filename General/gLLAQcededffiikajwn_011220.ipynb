{
 "cells": [
  {
   "cell_type": "code",
   "execution_count": 4,
   "id": "f0cef751",
   "metadata": {},
   "outputs": [],
   "source": [
    "load('VeeringGeneralFunctions.sage')\n",
    "from veering import taut_polytope"
   ]
  },
  {
   "cell_type": "code",
   "execution_count": 5,
   "id": "ccdb3f6f",
   "metadata": {},
   "outputs": [],
   "source": [
    "sig = 'gLLAQcededffiikajwn_011220'\n",
    "tri, angle = taut.isosig_to_tri_angle(sig)"
   ]
  },
  {
   "cell_type": "code",
   "execution_count": 6,
   "id": "dea981a1",
   "metadata": {},
   "outputs": [
    {
     "data": {
      "text/plain": [
       "False"
      ]
     },
     "execution_count": 6,
     "metadata": {},
     "output_type": "execute_result"
    }
   ],
   "source": [
    "taut_polytope.is_layered(sig)"
   ]
  },
  {
   "cell_type": "code",
   "execution_count": null,
   "id": "1b52c0be",
   "metadata": {},
   "outputs": [],
   "source": []
  }
 ],
 "metadata": {
  "kernelspec": {
   "display_name": "SageMath 9.6",
   "language": "sage",
   "name": "sagemath-9.6"
  },
  "language_info": {
   "codemirror_mode": {
    "name": "ipython",
    "version": 3
   },
   "file_extension": ".py",
   "mimetype": "text/x-python",
   "name": "python",
   "nbconvert_exporter": "python",
   "pygments_lexer": "ipython3",
   "version": "3.10.3"
  }
 },
 "nbformat": 4,
 "nbformat_minor": 5
}
