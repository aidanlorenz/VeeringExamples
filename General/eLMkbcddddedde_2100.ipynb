{
 "cells": [
  {
   "cell_type": "code",
   "execution_count": 5,
   "id": "445fe93b",
   "metadata": {},
   "outputs": [],
   "source": [
    "load('VeeringGeneralFunctions.sage')"
   ]
  },
  {
   "cell_type": "code",
   "execution_count": 6,
   "id": "62bdeb7b",
   "metadata": {},
   "outputs": [],
   "source": [
    "sig = 'eLMkbcddddedde_2100'"
   ]
  },
  {
   "cell_type": "code",
   "execution_count": 7,
   "id": "4b2b2907",
   "metadata": {},
   "outputs": [
    {
     "data": {
      "text/plain": [
       "N(1, -1),\n",
       "N(1,  1),\n",
       "N(1,  0)\n",
       "in 2-d lattice N"
      ]
     },
     "execution_count": 7,
     "metadata": {},
     "output_type": "execute_result"
    }
   ],
   "source": [
    "cone = get_fibered_cone(sig)\n",
    "cone.Hilbert_basis()"
   ]
  },
  {
   "cell_type": "code",
   "execution_count": 8,
   "id": "bd7c6330",
   "metadata": {},
   "outputs": [
    {
     "data": {
      "text/plain": [
       "(0.9624236501192069, 0)"
      ]
     },
     "execution_count": 8,
     "metadata": {},
     "output_type": "execute_result"
    }
   ],
   "source": [
    "min_dir = get_minimal_direction(sig)\n",
    "min_dir"
   ]
  },
  {
   "cell_type": "code",
   "execution_count": 9,
   "id": "6c4c0bca",
   "metadata": {},
   "outputs": [
    {
     "data": {
      "image/png": "[encoded data removed]",
      "text/plain": [
       "Graphics object consisting of 11 graphics primitives"
      ]
     },
     "execution_count": 9,
     "metadata": {},
     "output_type": "execute_result"
    }
   ],
   "source": [
    "get_fibered_cone_and_levset_plot(sig) + arrow((0, 0), (min_dir[0]*5, min_dir[1]*5), color='cyan')"
   ]
  },
  {
   "cell_type": "code",
   "execution_count": 10,
   "id": "9b4d0a9c",
   "metadata": {},
   "outputs": [
    {
     "data": {
      "text/plain": [
       "1.9248473002384134"
      ]
     },
     "execution_count": 10,
     "metadata": {},
     "output_type": "execute_result"
    }
   ],
   "source": [
    "minimum = get_min_norm_dila_log_mathematica_approx(sig)\n",
    "minimum"
   ]
  },
  {
   "cell_type": "code",
   "execution_count": 11,
   "id": "b85bf7c1",
   "metadata": {},
   "outputs": [
    {
     "data": {
      "text/plain": [
       "2*a0"
      ]
     },
     "execution_count": 11,
     "metadata": {},
     "output_type": "execute_result"
    }
   ],
   "source": [
    "get_Thurston_norm(sig)"
   ]
  },
  {
   "cell_type": "code",
   "execution_count": 12,
   "id": "fc631e8b",
   "metadata": {},
   "outputs": [
    {
     "data": {
      "text/plain": [
       "[(-3*a1, -a0), (-3*a0, -a1)]"
      ]
     },
     "execution_count": 12,
     "metadata": {},
     "output_type": "execute_result"
    }
   ],
   "source": [
    "get_LES_boundary_maps(sig)"
   ]
  },
  {
   "cell_type": "markdown",
   "id": "59a91856",
   "metadata": {},
   "source": [
    "From the above we can see that the number of singularities for a primitive class $(a_0,a_1)$ is:\n",
    "$$\\begin{align*}\n",
    "    &\\gcd(-3a_1,-a_0) + \\gcd(-3a_0,-a_1) \\\\\n",
    "    &= \\gcd(3,a_0) + \\gcd(3,a_1) \\\\\n",
    "    &\\in \\{2,4\\}\n",
    "\\end{align*}$$\n",
    "\n",
    "Since there are only finitely many options for the number of singularities, this tells us that each genus is realized on only finitely many level sets of the Thurston norm."
   ]
  },
  {
   "cell_type": "code",
   "execution_count": 13,
   "id": "c0802754",
   "metadata": {},
   "outputs": [
    {
     "data": {
      "text/plain": [
       "(a == 0 && b == 0) || (a > 0 && Inequality[-a, LessEqual, b, LessEqual, a])"
      ]
     },
     "execution_count": 13,
     "metadata": {},
     "output_type": "execute_result"
    }
   ],
   "source": [
    "m('cone = ConicHullRegion[{{0, 0}}, {{1, -1}, {1, 1}, {1,0}}]')\n",
    "m('Reduce[{a, b} \\[Element] cone, {a, b}]')"
   ]
  },
  {
   "cell_type": "code",
   "execution_count": 14,
   "id": "0cda64a3",
   "metadata": {},
   "outputs": [
    {
     "data": {
      "text/plain": [
       "(n == 0 && a == 0 && b == 0) || (n > 0 && a == n/2 && \n",
       "  Inequality[-a, LessEqual, b, LessEqual, a])"
      ]
     },
     "execution_count": 14,
     "metadata": {},
     "output_type": "execute_result"
    }
   ],
   "source": [
    "m('Reduce[2*a == n && {a, b} \\[Element] cone && n \\[Element] Reals, {a, b}]')"
   ]
  },
  {
   "cell_type": "code",
   "execution_count": 15,
   "id": "1acd44b8",
   "metadata": {},
   "outputs": [
    {
     "name": "stdout",
     "output_type": "stream",
     "text": [
      "Thurston norm 0\n",
      "Thurston norm 1\n",
      "Thurston norm 2\n",
      "\t(1, 0) has genus 0\n",
      "Thurston norm 3\n",
      "Thurston norm 4\n",
      "\t(2, -1) has genus 2\n",
      "\t(2, 1) has genus 2\n",
      "Thurston norm 5\n",
      "Thurston norm 6\n",
      "\t(3, -2) has genus 2\n",
      "\t(3, -1) has genus 2\n",
      "\t(3, 1) has genus 2\n",
      "\t(3, 2) has genus 2\n",
      "Thurston norm 7\n",
      "Thurston norm 8\n",
      "\t(4, -3) has genus 3\n",
      "\t(4, -1) has genus 4\n",
      "\t(4, 1) has genus 4\n",
      "\t(4, 3) has genus 3\n",
      "Thurston norm 9\n",
      "Thurston norm 10\n",
      "\t(5, -4) has genus 5\n",
      "\t(5, -3) has genus 4\n",
      "\t(5, -2) has genus 5\n",
      "\t(5, -1) has genus 5\n",
      "\t(5, 1) has genus 5\n",
      "\t(5, 2) has genus 5\n",
      "\t(5, 3) has genus 4\n",
      "\t(5, 4) has genus 5\n",
      "Thurston norm 11\n",
      "Thurston norm 12\n",
      "\t(6, -5) has genus 5\n",
      "\t(6, -1) has genus 5\n",
      "\t(6, 1) has genus 5\n",
      "\t(6, 5) has genus 5\n",
      "Thurston norm 13\n",
      "Thurston norm 14\n",
      "\t(7, -6) has genus 6\n",
      "\t(7, -5) has genus 7\n",
      "\t(7, -4) has genus 7\n",
      "\t(7, -3) has genus 6\n",
      "\t(7, -2) has genus 7\n",
      "\t(7, -1) has genus 7\n",
      "\t(7, 1) has genus 7\n",
      "\t(7, 2) has genus 7\n",
      "\t(7, 3) has genus 6\n",
      "\t(7, 4) has genus 7\n",
      "\t(7, 5) has genus 7\n",
      "\t(7, 6) has genus 6\n",
      "Thurston norm 15\n",
      "Thurston norm 16\n",
      "\t(8, -7) has genus 8\n",
      "\t(8, -5) has genus 8\n",
      "\t(8, -3) has genus 7\n",
      "\t(8, -1) has genus 8\n",
      "\t(8, 1) has genus 8\n",
      "\t(8, 3) has genus 7\n",
      "\t(8, 5) has genus 8\n",
      "\t(8, 7) has genus 8\n",
      "Thurston norm 17\n",
      "Thurston norm 18\n",
      "\t(9, -8) has genus 8\n",
      "\t(9, -7) has genus 8\n",
      "\t(9, -5) has genus 8\n",
      "\t(9, -4) has genus 8\n",
      "\t(9, -2) has genus 8\n",
      "\t(9, -1) has genus 8\n",
      "\t(9, 1) has genus 8\n",
      "\t(9, 2) has genus 8\n",
      "\t(9, 4) has genus 8\n",
      "\t(9, 5) has genus 8\n",
      "\t(9, 7) has genus 8\n",
      "\t(9, 8) has genus 8\n",
      "Thurston norm 19\n",
      "Thurston norm 20\n",
      "\t(10, -9) has genus 9\n",
      "\t(10, -7) has genus 10\n",
      "\t(10, -3) has genus 9\n",
      "\t(10, -1) has genus 10\n",
      "\t(10, 1) has genus 10\n",
      "\t(10, 3) has genus 9\n",
      "\t(10, 7) has genus 10\n",
      "\t(10, 9) has genus 9\n",
      "Thurston norm 21\n",
      "Thurston norm 22\n",
      "\t(11, -10) has genus 11\n",
      "\t(11, -9) has genus 10\n",
      "\t(11, -8) has genus 11\n",
      "\t(11, -7) has genus 11\n",
      "\t(11, -6) has genus 10\n",
      "\t(11, -5) has genus 11\n",
      "\t(11, -4) has genus 11\n",
      "\t(11, -3) has genus 10\n",
      "\t(11, -2) has genus 11\n",
      "\t(11, -1) has genus 11\n",
      "\t(11, 1) has genus 11\n",
      "\t(11, 2) has genus 11\n",
      "\t(11, 3) has genus 10\n",
      "\t(11, 4) has genus 11\n",
      "\t(11, 5) has genus 11\n",
      "\t(11, 6) has genus 10\n",
      "\t(11, 7) has genus 11\n",
      "\t(11, 8) has genus 11\n",
      "\t(11, 9) has genus 10\n",
      "\t(11, 10) has genus 11\n",
      "Thurston norm 23\n",
      "Thurston norm 24\n",
      "\t(12, -11) has genus 11\n",
      "\t(12, -7) has genus 11\n",
      "\t(12, -5) has genus 11\n",
      "\t(12, -1) has genus 11\n",
      "\t(12, 1) has genus 11\n",
      "\t(12, 5) has genus 11\n",
      "\t(12, 7) has genus 11\n",
      "\t(12, 11) has genus 11\n",
      "Thurston norm 25\n",
      "Thurston norm 26\n",
      "\t(13, -12) has genus 12\n",
      "\t(13, -11) has genus 13\n",
      "\t(13, -10) has genus 13\n",
      "\t(13, -9) has genus 12\n",
      "\t(13, -8) has genus 13\n",
      "\t(13, -7) has genus 13\n",
      "\t(13, -6) has genus 12\n",
      "\t(13, -5) has genus 13\n",
      "\t(13, -4) has genus 13\n",
      "\t(13, -3) has genus 12\n",
      "\t(13, -2) has genus 13\n",
      "\t(13, -1) has genus 13\n",
      "\t(13, 1) has genus 13\n",
      "\t(13, 2) has genus 13\n",
      "\t(13, 3) has genus 12\n",
      "\t(13, 4) has genus 13\n"
     ]
    },
    {
     "ename": "KeyboardInterrupt",
     "evalue": "",
     "output_type": "error",
     "traceback": [
      "\u001b[0;31m---------------------------------------------------------------------------\u001b[0m",
      "\u001b[0;31mKeyboardInterrupt\u001b[0m                         Traceback (most recent call last)",
      "\u001b[0;32m/var/folders/d6/3chw8fvj2_lgppc79rk52_6w0000gn/T/ipykernel_63082/1545476106.py\u001b[0m in \u001b[0;36m<module>\u001b[0;34m\u001b[0m\n\u001b[1;32m      5\u001b[0m         \u001b[0;32mfor\u001b[0m \u001b[0mb\u001b[0m \u001b[0;32min\u001b[0m \u001b[0mrange\u001b[0m\u001b[0;34m(\u001b[0m\u001b[0;34m-\u001b[0m\u001b[0ma\u001b[0m\u001b[0;34m,\u001b[0m\u001b[0ma\u001b[0m\u001b[0;34m)\u001b[0m\u001b[0;34m:\u001b[0m\u001b[0;34m\u001b[0m\u001b[0;34m\u001b[0m\u001b[0m\n\u001b[1;32m      6\u001b[0m             \u001b[0;32mif\u001b[0m \u001b[0mcone\u001b[0m\u001b[0;34m.\u001b[0m\u001b[0minterior_contains\u001b[0m\u001b[0;34m(\u001b[0m\u001b[0ma\u001b[0m\u001b[0;34m,\u001b[0m\u001b[0mb\u001b[0m\u001b[0;34m)\u001b[0m \u001b[0;32mand\u001b[0m \u001b[0;34m(\u001b[0m\u001b[0mgcd\u001b[0m\u001b[0;34m(\u001b[0m\u001b[0ma\u001b[0m\u001b[0;34m,\u001b[0m\u001b[0mb\u001b[0m\u001b[0;34m)\u001b[0m \u001b[0;34m==\u001b[0m \u001b[0mInteger\u001b[0m\u001b[0;34m(\u001b[0m\u001b[0;36m1\u001b[0m\u001b[0;34m)\u001b[0m\u001b[0;34m)\u001b[0m\u001b[0;34m:\u001b[0m\u001b[0;34m\u001b[0m\u001b[0;34m\u001b[0m\u001b[0m\n\u001b[0;32m----> 7\u001b[0;31m                 \u001b[0mprint\u001b[0m\u001b[0;34m(\u001b[0m\u001b[0;34m'\\t'\u001b[0m \u001b[0;34m+\u001b[0m \u001b[0mstr\u001b[0m\u001b[0;34m(\u001b[0m\u001b[0;34m(\u001b[0m\u001b[0ma\u001b[0m\u001b[0;34m,\u001b[0m\u001b[0mb\u001b[0m\u001b[0;34m)\u001b[0m\u001b[0;34m)\u001b[0m \u001b[0;34m+\u001b[0m \u001b[0;34m' has genus '\u001b[0m \u001b[0;34m+\u001b[0m \u001b[0mstr\u001b[0m\u001b[0;34m(\u001b[0m\u001b[0mget_genus\u001b[0m\u001b[0;34m(\u001b[0m\u001b[0msig\u001b[0m\u001b[0;34m,\u001b[0m\u001b[0;34m(\u001b[0m\u001b[0ma\u001b[0m\u001b[0;34m,\u001b[0m\u001b[0mb\u001b[0m\u001b[0;34m)\u001b[0m\u001b[0;34m)\u001b[0m\u001b[0;34m)\u001b[0m\u001b[0;34m)\u001b[0m\u001b[0;34m\u001b[0m\u001b[0;34m\u001b[0m\u001b[0m\n\u001b[0m",
      "\u001b[0;32m<string>\u001b[0m in \u001b[0;36mget_genus\u001b[0;34m(sig, point)\u001b[0m\n",
      "\u001b[0;32m<string>\u001b[0m in \u001b[0;36mget_num_punctures\u001b[0;34m(sig, point)\u001b[0m\n",
      "\u001b[0;32m<string>\u001b[0m in \u001b[0;36mget_LES_boundary_maps\u001b[0;34m(sig)\u001b[0m\n",
      "\u001b[0;32m<string>\u001b[0m in \u001b[0;36mget_C2M_to_C1dM\u001b[0;34m(sig)\u001b[0m\n",
      "\u001b[0;32msrc/cysignals/signals.pyx\u001b[0m in \u001b[0;36mcysignals.signals.python_check_interrupt\u001b[0;34m()\u001b[0m\n",
      "\u001b[0;31mKeyboardInterrupt\u001b[0m: "
     ]
    }
   ],
   "source": [
    "for n in range(50):\n",
    "    print('Thurston norm ' + str(n))\n",
    "    if n % 2 == 0:\n",
    "        a = n/2\n",
    "        for b in range(-a,a):\n",
    "            if cone.interior_contains(a,b) and (gcd(a,b) == 1):\n",
    "                print('\\t' + str((a,b)) + ' has genus ' + str(get_genus(sig,(a,b))))"
   ]
  },
  {
   "cell_type": "code",
   "execution_count": 53,
   "id": "4f20ede7",
   "metadata": {},
   "outputs": [
    {
     "data": {
      "text/plain": [
       "1.083766848275167"
      ]
     },
     "execution_count": 53,
     "metadata": {},
     "output_type": "execute_result"
    }
   ],
   "source": [
    "get_dila_mathematica(sig, (12,-1))"
   ]
  },
  {
   "cell_type": "code",
   "execution_count": 54,
   "id": "576b1b1a",
   "metadata": {},
   "outputs": [
    {
     "data": {
      "text/plain": [
       "[[4, 4, 4], [36]]"
      ]
     },
     "execution_count": 54,
     "metadata": {},
     "output_type": "execute_result"
    }
   ],
   "source": [
    "get_num_prongs(sig, (12,-1))"
   ]
  },
  {
   "cell_type": "code",
   "execution_count": null,
   "id": "2bddb56e",
   "metadata": {},
   "outputs": [],
   "source": []
  }
 ],
 "metadata": {
  "kernelspec": {
   "display_name": "SageMath 9.6",
   "language": "sage",
   "name": "sagemath-9.6"
  },
  "language_info": {
   "codemirror_mode": {
    "name": "ipython",
    "version": 3
   },
   "file_extension": ".py",
   "mimetype": "text/x-python",
   "name": "python",
   "nbconvert_exporter": "python",
   "pygments_lexer": "ipython3",
   "version": "3.10.3"
  }
 },
 "nbformat": 4,
 "nbformat_minor": 5
}
